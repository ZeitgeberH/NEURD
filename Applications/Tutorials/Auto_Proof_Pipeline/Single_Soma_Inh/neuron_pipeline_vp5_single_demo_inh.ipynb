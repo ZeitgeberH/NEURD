{
 "cells": [
  {
   "cell_type": "code",
   "execution_count": 1,
   "id": "077350ae",
   "metadata": {},
   "outputs": [],
   "source": [
    "%load_ext autoreload\n",
    "%autoreload 2"
   ]
  },
  {
   "cell_type": "code",
   "execution_count": 2,
   "id": "c0765d62",
   "metadata": {
    "scrolled": true
   },
   "outputs": [
    {
     "name": "stdout",
     "output_type": "stream",
     "text": [
      "Jupyter environment detected. Enabling Open3D WebVisualizer.\n",
      "[Open3D INFO] WebRTC GUI backend enabled.\n",
      "[Open3D INFO] WebRTCWindowSystem: HTTP handshake server disabled.\n"
     ]
    }
   ],
   "source": [
    "import neurd"
   ]
  },
  {
   "cell_type": "code",
   "execution_count": 3,
   "id": "f59f25d5",
   "metadata": {
    "scrolled": true
   },
   "outputs": [],
   "source": [
    "from mesh_tools import trimesh_utils as tu\n",
    "from datasci_tools import ipyvolume_utils as ipvu\n",
    "from neurd import neuron_visualizations as nviz\n",
    "from pathlib import Path"
   ]
  },
  {
   "cell_type": "code",
   "execution_count": 4,
   "id": "c0b1bf59",
   "metadata": {},
   "outputs": [],
   "source": [
    "segment_id = 864691135567721964\n",
    "cell_type = \"MC\""
   ]
  },
  {
   "cell_type": "markdown",
   "id": "8c857d7b",
   "metadata": {},
   "source": [
    "# Load the appropriate volume data inferface object"
   ]
  },
  {
   "cell_type": "code",
   "execution_count": 5,
   "id": "863967b7",
   "metadata": {},
   "outputs": [],
   "source": [
    "from neurd.vdi_microns import volume_data_interface as vdi\n",
    "vdi.set_parameters_for_directory_modules()"
   ]
  },
  {
   "cell_type": "code",
   "execution_count": 6,
   "id": "f548b5a1",
   "metadata": {},
   "outputs": [
    {
     "data": {
      "text/plain": [
       "'/neurd_packages/NEURD/Applications/Tutorials/Auto_Proof_Pipeline/Single_Soma_Inh/864691135567721964_synapses.csv'"
      ]
     },
     "execution_count": 6,
     "metadata": {},
     "output_type": "execute_result"
    }
   ],
   "source": [
    "synapse_filepath = str(Path(f'./{segment_id}_synapses.csv').absolute())\n",
    "synapse_filepath"
   ]
  },
  {
   "cell_type": "code",
   "execution_count": 7,
   "id": "3b2dc190",
   "metadata": {},
   "outputs": [
    {
     "data": {
      "text/html": [
       "<div>\n",
       "<style scoped>\n",
       "    .dataframe tbody tr th:only-of-type {\n",
       "        vertical-align: middle;\n",
       "    }\n",
       "\n",
       "    .dataframe tbody tr th {\n",
       "        vertical-align: top;\n",
       "    }\n",
       "\n",
       "    .dataframe thead th {\n",
       "        text-align: right;\n",
       "    }\n",
       "</style>\n",
       "<table border=\"1\" class=\"dataframe\">\n",
       "  <thead>\n",
       "    <tr style=\"text-align: right;\">\n",
       "      <th></th>\n",
       "      <th>segment_id</th>\n",
       "      <th>segment_id_secondary</th>\n",
       "      <th>synapse_id</th>\n",
       "      <th>prepost</th>\n",
       "      <th>synapse_x</th>\n",
       "      <th>synapse_y</th>\n",
       "      <th>synapse_z</th>\n",
       "      <th>synapse_size</th>\n",
       "    </tr>\n",
       "  </thead>\n",
       "  <tbody>\n",
       "    <tr>\n",
       "      <th>0</th>\n",
       "      <td>864691135567721964</td>\n",
       "      <td>864691131808917685</td>\n",
       "      <td>126350506</td>\n",
       "      <td>postsyn</td>\n",
       "      <td>159015</td>\n",
       "      <td>163866</td>\n",
       "      <td>21373</td>\n",
       "      <td>4248</td>\n",
       "    </tr>\n",
       "    <tr>\n",
       "      <th>1</th>\n",
       "      <td>864691135567721964</td>\n",
       "      <td>864691131817266592</td>\n",
       "      <td>133926944</td>\n",
       "      <td>postsyn</td>\n",
       "      <td>162210</td>\n",
       "      <td>185292</td>\n",
       "      <td>22676</td>\n",
       "      <td>3708</td>\n",
       "    </tr>\n",
       "    <tr>\n",
       "      <th>2</th>\n",
       "      <td>864691135567721964</td>\n",
       "      <td>864691132002312394</td>\n",
       "      <td>133375145</td>\n",
       "      <td>postsyn</td>\n",
       "      <td>161962</td>\n",
       "      <td>212462</td>\n",
       "      <td>22829</td>\n",
       "      <td>7716</td>\n",
       "    </tr>\n",
       "    <tr>\n",
       "      <th>3</th>\n",
       "      <td>864691135567721964</td>\n",
       "      <td>864691132049643177</td>\n",
       "      <td>73532781</td>\n",
       "      <td>postsyn</td>\n",
       "      <td>128892</td>\n",
       "      <td>207884</td>\n",
       "      <td>23301</td>\n",
       "      <td>11496</td>\n",
       "    </tr>\n",
       "    <tr>\n",
       "      <th>4</th>\n",
       "      <td>864691135567721964</td>\n",
       "      <td>864691132146704984</td>\n",
       "      <td>167829877</td>\n",
       "      <td>postsyn</td>\n",
       "      <td>180030</td>\n",
       "      <td>206188</td>\n",
       "      <td>22035</td>\n",
       "      <td>5436</td>\n",
       "    </tr>\n",
       "    <tr>\n",
       "      <th>...</th>\n",
       "      <td>...</td>\n",
       "      <td>...</td>\n",
       "      <td>...</td>\n",
       "      <td>...</td>\n",
       "      <td>...</td>\n",
       "      <td>...</td>\n",
       "      <td>...</td>\n",
       "      <td>...</td>\n",
       "    </tr>\n",
       "    <tr>\n",
       "      <th>6348</th>\n",
       "      <td>864691135567721964</td>\n",
       "      <td>864691137197144897</td>\n",
       "      <td>82142719</td>\n",
       "      <td>presyn</td>\n",
       "      <td>121331</td>\n",
       "      <td>188683</td>\n",
       "      <td>24233</td>\n",
       "      <td>1504</td>\n",
       "    </tr>\n",
       "    <tr>\n",
       "      <th>6349</th>\n",
       "      <td>864691135567721964</td>\n",
       "      <td>864691137197151297</td>\n",
       "      <td>104203877</td>\n",
       "      <td>presyn</td>\n",
       "      <td>142890</td>\n",
       "      <td>172428</td>\n",
       "      <td>24107</td>\n",
       "      <td>4528</td>\n",
       "    </tr>\n",
       "    <tr>\n",
       "      <th>6350</th>\n",
       "      <td>864691135567721964</td>\n",
       "      <td>864691137197151297</td>\n",
       "      <td>104205943</td>\n",
       "      <td>presyn</td>\n",
       "      <td>144197</td>\n",
       "      <td>172298</td>\n",
       "      <td>24104</td>\n",
       "      <td>4228</td>\n",
       "    </tr>\n",
       "    <tr>\n",
       "      <th>6351</th>\n",
       "      <td>864691135567721964</td>\n",
       "      <td>864691137197153345</td>\n",
       "      <td>147748365</td>\n",
       "      <td>postsyn</td>\n",
       "      <td>170630</td>\n",
       "      <td>207400</td>\n",
       "      <td>22377</td>\n",
       "      <td>7020</td>\n",
       "    </tr>\n",
       "    <tr>\n",
       "      <th>6352</th>\n",
       "      <td>864691135567721964</td>\n",
       "      <td>864691137197161537</td>\n",
       "      <td>181540088</td>\n",
       "      <td>postsyn</td>\n",
       "      <td>189248</td>\n",
       "      <td>178354</td>\n",
       "      <td>22824</td>\n",
       "      <td>21220</td>\n",
       "    </tr>\n",
       "  </tbody>\n",
       "</table>\n",
       "<p>6353 rows × 8 columns</p>\n",
       "</div>"
      ],
      "text/plain": [
       "              segment_id  segment_id_secondary  synapse_id  prepost  \\\n",
       "0     864691135567721964    864691131808917685   126350506  postsyn   \n",
       "1     864691135567721964    864691131817266592   133926944  postsyn   \n",
       "2     864691135567721964    864691132002312394   133375145  postsyn   \n",
       "3     864691135567721964    864691132049643177    73532781  postsyn   \n",
       "4     864691135567721964    864691132146704984   167829877  postsyn   \n",
       "...                  ...                   ...         ...      ...   \n",
       "6348  864691135567721964    864691137197144897    82142719   presyn   \n",
       "6349  864691135567721964    864691137197151297   104203877   presyn   \n",
       "6350  864691135567721964    864691137197151297   104205943   presyn   \n",
       "6351  864691135567721964    864691137197153345   147748365  postsyn   \n",
       "6352  864691135567721964    864691137197161537   181540088  postsyn   \n",
       "\n",
       "      synapse_x  synapse_y  synapse_z  synapse_size  \n",
       "0        159015     163866      21373          4248  \n",
       "1        162210     185292      22676          3708  \n",
       "2        161962     212462      22829          7716  \n",
       "3        128892     207884      23301         11496  \n",
       "4        180030     206188      22035          5436  \n",
       "...         ...        ...        ...           ...  \n",
       "6348     121331     188683      24233          1504  \n",
       "6349     142890     172428      24107          4528  \n",
       "6350     144197     172298      24104          4228  \n",
       "6351     170630     207400      22377          7020  \n",
       "6352     189248     178354      22824         21220  \n",
       "\n",
       "[6353 rows x 8 columns]"
      ]
     },
     "execution_count": 7,
     "metadata": {},
     "output_type": "execute_result"
    }
   ],
   "source": [
    "from datasci_tools import pandas_utils as pu\n",
    "df = pu.csv_to_df(synapse_filepath)\n",
    "df"
   ]
  },
  {
   "cell_type": "code",
   "execution_count": 8,
   "id": "6f7782f2",
   "metadata": {},
   "outputs": [],
   "source": [
    "vdi.set_synapse_filepath(\n",
    "    synapse_filepath\n",
    ")"
   ]
  },
  {
   "cell_type": "markdown",
   "id": "6f9b75c9",
   "metadata": {},
   "source": [
    "# Data Prep: Loading mesh"
   ]
  },
  {
   "cell_type": "code",
   "execution_count": 9,
   "id": "3c95c75b",
   "metadata": {},
   "outputs": [
    {
     "name": "stderr",
     "output_type": "stream",
     "text": [
      "/usr/local/lib/python3.8/dist-packages/traittypes/traittypes.py:97: UserWarning: Given trait value dtype \"float64\" does not match required type \"float64\". A coerced copy has been created.\n",
      "  warnings.warn(\n"
     ]
    },
    {
     "data": {
      "application/vnd.jupyter.widget-view+json": {
       "model_id": "b4a77d137ec441bdbfb1be450f5df148",
       "version_major": 2,
       "version_minor": 0
      },
      "text/plain": [
       "Container(figure=Figure(box_center=[0.5, 0.5, 0.5], box_size=[1.0, 1.0, 1.0], camera=PerspectiveCamera(fov=45.…"
      ]
     },
     "metadata": {},
     "output_type": "display_data"
    },
    {
     "data": {
      "text/plain": [
       "<trimesh.Trimesh(vertices.shape=(451453, 3), faces.shape=(899885, 3))>"
      ]
     },
     "execution_count": 9,
     "metadata": {},
     "output_type": "execute_result"
    }
   ],
   "source": [
    "mesh = vdi.fetch_segment_id_mesh(\n",
    "    segment_id,\n",
    "    plot = True\n",
    ")\n",
    "mesh"
   ]
  },
  {
   "cell_type": "code",
   "execution_count": 10,
   "id": "0cfc1789",
   "metadata": {},
   "outputs": [
    {
     "data": {
      "text/plain": [
       "<datasci_tools.pipeline.PipelineProducts at 0x7f57efe6e670>"
      ]
     },
     "execution_count": 10,
     "metadata": {},
     "output_type": "execute_result"
    }
   ],
   "source": [
    "from datasci_tools import pipeline\n",
    "\n",
    "products = pipeline.PipelineProducts()\n",
    "products"
   ]
  },
  {
   "cell_type": "markdown",
   "id": "7a30c933",
   "metadata": {},
   "source": [
    "# Step 1: Decimation"
   ]
  },
  {
   "cell_type": "code",
   "execution_count": 11,
   "id": "29e0844f",
   "metadata": {},
   "outputs": [
    {
     "data": {
      "text/plain": [
       "\"\\nNOTE: an already decimated mesh is used for the example\\nin order to speed up time, that's why the mesh_dec\\nobject will be overwritten with original mesh object\\n\""
      ]
     },
     "execution_count": 11,
     "metadata": {},
     "output_type": "execute_result"
    }
   ],
   "source": [
    "\"\"\"\n",
    "NOTE: an already decimated mesh is used for the example\n",
    "in order to speed up time, that's why the mesh_dec\n",
    "object will be overwritten with original mesh object\n",
    "\"\"\""
   ]
  },
  {
   "cell_type": "code",
   "execution_count": 12,
   "id": "cdbb6e70",
   "metadata": {},
   "outputs": [],
   "source": [
    "decimation_parameters = dict(\n",
    "    decimation_ratio =0.25,\n",
    ")"
   ]
  },
  {
   "cell_type": "code",
   "execution_count": 13,
   "id": "b3973f2c",
   "metadata": {},
   "outputs": [
    {
     "name": "stdout",
     "output_type": "stream",
     "text": [
      "xvfb-run -n 3512 -s \"-screen 0 800x600x24\" meshlabserver $@  -i /neurd_packages/NEURD/Applications/Tutorials/Auto_Proof_Pipeline/Single_Soma_Inh/temp/neuron_22836.off -o /neurd_packages/NEURD/Applications/Tutorials/Auto_Proof_Pipeline/Single_Soma_Inh/temp/neuron_22836_decimated.off -s /neurd_packages/NEURD/Applications/Tutorials/Auto_Proof_Pipeline/Single_Soma_Inh/temp/decimation_meshlab_25709018.mls\n"
     ]
    }
   ],
   "source": [
    "mesh_decimated = tu.decimate(\n",
    "    mesh,\n",
    "    **decimation_parameters\n",
    ")"
   ]
  },
  {
   "cell_type": "code",
   "execution_count": 14,
   "id": "bbf7c8d0",
   "metadata": {},
   "outputs": [
    {
     "name": "stdout",
     "output_type": "stream",
     "text": [
      "{\n",
      "  'decimation':\n",
      "  {\n",
      "    'decimation_parameters':\n",
      "    {\n",
      "      'decimation_ratio':0.25,\n",
      "    },\n",
      "    'segment_id':864691135567721964,\n",
      "  },\n",
      "}\n",
      "\n"
     ]
    }
   ],
   "source": [
    "# saving any parameters used or output products for later use\n",
    "products.set_stage_attrs(\n",
    "    stage = \"decimation\",\n",
    "    attr_dict = dict(\n",
    "        decimation_parameters = decimation_parameters,\n",
    "        segment_id = segment_id,\n",
    "    ),\n",
    "    \n",
    ")\n",
    "\n",
    "print(products)"
   ]
  },
  {
   "cell_type": "markdown",
   "id": "bc57fd52",
   "metadata": {},
   "source": [
    "# Step 2: Soma Identification"
   ]
  },
  {
   "cell_type": "code",
   "execution_count": 15,
   "id": "8866641c",
   "metadata": {},
   "outputs": [],
   "source": [
    "from neurd import soma_extraction_utils as sm\n",
    "soma_extraction_parameters = dict()"
   ]
  },
  {
   "cell_type": "code",
   "execution_count": 16,
   "id": "b65f18a1",
   "metadata": {},
   "outputs": [
    {
     "data": {
      "text/plain": [
       "{'glia_volume_threshold_in_um_global': 2500,\n",
       " 'glia_n_faces_threshold_global': 400000,\n",
       " 'glia_n_faces_min_global': 100000}"
      ]
     },
     "execution_count": 16,
     "metadata": {},
     "output_type": "execute_result"
    }
   ],
   "source": [
    "# could inspect the parameters of a certain category\n",
    "from neurd import parameter_utils as paru\n",
    "paru.category_param_from_module(\n",
    "        module = sm,\n",
    "        category = \"glia\",\n",
    ")"
   ]
  },
  {
   "cell_type": "code",
   "execution_count": 17,
   "id": "24667352",
   "metadata": {},
   "outputs": [],
   "source": [
    "# overwritting decimated mesh because original was already decimated\n",
    "mesh_decimated = mesh"
   ]
  },
  {
   "cell_type": "code",
   "execution_count": 18,
   "id": "b6ff9777",
   "metadata": {
    "scrolled": true
   },
   "outputs": [
    {
     "name": "stdout",
     "output_type": "stream",
     "text": [
      "Current Arguments Using (adjusted for decimation):\n",
      " large_mesh_threshold= 5000.0 \n",
      "large_mesh_threshold_inner = 3250.0 \n",
      "soma_size_threshold = 562.5 \n",
      "soma_size_threshold_max = 75000.0\n",
      "outer_decimation_ratio = 0.25\n",
      "inner_decimation_ratio = 0.25\n",
      "max_mesh_sized_filtered_away = 22500.0\n",
      "xvfb-run -n 5198 -s \"-screen 0 800x600x24\" meshlabserver $@  -i /neurd_packages/NEURD/Applications/Tutorials/Auto_Proof_Pipeline/Single_Soma_Inh/temp/neuron_29464.off -o /neurd_packages/NEURD/Applications/Tutorials/Auto_Proof_Pipeline/Single_Soma_Inh/temp/neuron_29464_remove_interior.off -s /neurd_packages/NEURD/Applications/Tutorials/Auto_Proof_Pipeline/Single_Soma_Inh/temp/remove_interior_389298.mls\n",
      "removed temporary input file: /neurd_packages/NEURD/Applications/Tutorials/Auto_Proof_Pipeline/Single_Soma_Inh/temp/neuron_29464.off\n",
      "removed temporary output file: /neurd_packages/NEURD/Applications/Tutorials/Auto_Proof_Pipeline/Single_Soma_Inh/temp/neuron_29464_remove_interior.off\n",
      "/neurd_packages/NEURD/Applications/Tutorials/Auto_Proof_Pipeline/Single_Soma_Inh/temp/remove_interior_389298.mls is being deleted....\n",
      "There were 1 total interior meshes\n",
      "Pieces satisfying glia requirements (volume) (x >= 2500000000000): 0\n",
      "Pieces satisfying nuclie requirements: n_faces (700 <= x) and volume (x < 2500000000000) : 1\n",
      "inside remove_mesh_interior and using precomputed inside_pieces\n",
      "Removing the following inside neurons: [<trimesh.Trimesh(vertices.shape=(526, 3), faces.shape=(1166, 3))>]\n",
      "\n",
      "\n",
      "Original Mesh size: 899885, Final mesh size: 898719\n",
      "Total time = 43.37516641616821\n",
      "xvfb-run -n 1383 -s \"-screen 0 800x600x24\" meshlabserver $@  -i /neurd_packages/NEURD/Applications/Tutorials/Auto_Proof_Pipeline/Single_Soma_Inh/12345/neuron_12345.off -o /neurd_packages/NEURD/Applications/Tutorials/Auto_Proof_Pipeline/Single_Soma_Inh/12345/neuron_12345_decimated.off -s /neurd_packages/NEURD/Applications/Tutorials/Auto_Proof_Pipeline/Single_Soma_Inh/12345/decimation_meshlab_25401500.mls\n",
      "Total found significant pieces before Poisson = [<trimesh.Trimesh(vertices.shape=(112605, 3), faces.shape=(223187, 3))>]\n",
      "----- working on large mesh #0: <trimesh.Trimesh(vertices.shape=(112605, 3), faces.shape=(223187, 3))>\n",
      "remove_inside_pieces requested \n",
      "xvfb-run -n 7077 -s \"-screen 0 800x600x24\" meshlabserver $@  -i /neurd_packages/NEURD/Applications/Tutorials/Auto_Proof_Pipeline/Single_Soma_Inh/temp/neuron_87998.off -o /neurd_packages/NEURD/Applications/Tutorials/Auto_Proof_Pipeline/Single_Soma_Inh/temp/neuron_87998_remove_interior.off -s /neurd_packages/NEURD/Applications/Tutorials/Auto_Proof_Pipeline/Single_Soma_Inh/temp/remove_interior_122559.mls\n",
      "removed temporary input file: /neurd_packages/NEURD/Applications/Tutorials/Auto_Proof_Pipeline/Single_Soma_Inh/temp/neuron_87998.off\n",
      "removed temporary output file: /neurd_packages/NEURD/Applications/Tutorials/Auto_Proof_Pipeline/Single_Soma_Inh/temp/neuron_87998_remove_interior.off\n",
      "/neurd_packages/NEURD/Applications/Tutorials/Auto_Proof_Pipeline/Single_Soma_Inh/temp/remove_interior_122559.mls is being deleted....\n",
      "No significant (1000) interior meshes present\n",
      "largest is 7\n",
      "pre_largest_mesh_path = /neurd_packages/NEURD/Applications/Tutorials/Auto_Proof_Pipeline/Single_Soma_Inh/12345/neuron_12345_decimated_largest_piece.off\n",
      "xvfb-run -n 6793 -s \"-screen 0 800x600x24\" meshlabserver $@  -i /neurd_packages/NEURD/Applications/Tutorials/Auto_Proof_Pipeline/Single_Soma_Inh/12345/neuron_12345_decimated_largest_piece.off -o /neurd_packages/NEURD/Applications/Tutorials/Auto_Proof_Pipeline/Single_Soma_Inh/12345/neuron_12345_decimated_largest_piece_poisson.off -s /neurd_packages/NEURD/Applications/Tutorials/Auto_Proof_Pipeline/Single_Soma_Inh/12345/poisson_366996.mls\n",
      "Total found significant pieces AFTER Poisson = [<trimesh.Trimesh(vertices.shape=(29338, 3), faces.shape=(58672, 3))>, <trimesh.Trimesh(vertices.shape=(2849, 3), faces.shape=(5694, 3))>, <trimesh.Trimesh(vertices.shape=(2045, 3), faces.shape=(4086, 3))>, <trimesh.Trimesh(vertices.shape=(1777, 3), faces.shape=(3550, 3))>, <trimesh.Trimesh(vertices.shape=(1773, 3), faces.shape=(3542, 3))>]\n",
      "----- working on mesh after poisson #0: <trimesh.Trimesh(vertices.shape=(29338, 3), faces.shape=(58672, 3))>\n",
      "xvfb-run -n 1574 -s \"-screen 0 800x600x24\" meshlabserver $@  -i /neurd_packages/NEURD/Applications/Tutorials/Auto_Proof_Pipeline/Single_Soma_Inh/12345/neuron_12345_decimated_largest_piece_poisson_largest_inner.off -o /neurd_packages/NEURD/Applications/Tutorials/Auto_Proof_Pipeline/Single_Soma_Inh/12345/neuron_12345_decimated_largest_piece_poisson_largest_inner_decimated.off -s /neurd_packages/NEURD/Applications/Tutorials/Auto_Proof_Pipeline/Single_Soma_Inh/12345/decimation_meshlab_25888949.mls\n",
      "\n",
      "-------Splits after inner decimation len = 1--------\n",
      "\n",
      "done exporting decimated mesh: neuron_12345_decimated_largest_piece_poisson_largest_inner.off\n",
      "\n",
      "    --- On segmentation loop 0 --\n",
      "largest_mesh_path_inner_decimated_clean = <trimesh.Trimesh(vertices.shape=(7335, 3), faces.shape=(14666, 3))>\n",
      "\n",
      "largest_mesh_path_inner_decimated_clean = <trimesh.Trimesh(vertices.shape=(7335, 3), faces.shape=(14666, 3))>\n",
      "soma_size_threshold = 562.5\n",
      "soma_size_threshold_max = 75000.0\n",
      "soma_width_threshold = 0.32\n",
      "\n",
      "Number of segments: 9\n",
      "\n"
     ]
    },
    {
     "data": {
      "application/vnd.jupyter.widget-view+json": {
       "model_id": "cda2b9d99eb943798a9176d6ebe049b3",
       "version_major": 2,
       "version_minor": 0
      },
      "text/plain": [
       "  0%|          | 0/9 [00:00<?, ?it/s]"
      ]
     },
     "metadata": {},
     "output_type": "display_data"
    },
    {
     "name": "stdout",
     "output_type": "stream",
     "text": [
      "      ------ Found 1 viable somas: [0.846587]\n",
      "Using Poisson Surface Reconstruction for watertightness in soma_volume_ratio\n",
      "xvfb-run -n 6173 -s \"-screen 0 800x600x24\" meshlabserver $@  -i /neurd_packages/NEURD/Applications/Tutorials/Auto_Proof_Pipeline/Single_Soma_Inh/Poisson_temp/neuron_613484.off -o /neurd_packages/NEURD/Applications/Tutorials/Auto_Proof_Pipeline/Single_Soma_Inh/Poisson_temp/neuron_613484_poisson.off -s /neurd_packages/NEURD/Applications/Tutorials/Auto_Proof_Pipeline/Single_Soma_Inh/Poisson_temp/poisson_878212.mls\n",
      "removed temporary input file: /neurd_packages/NEURD/Applications/Tutorials/Auto_Proof_Pipeline/Single_Soma_Inh/Poisson_temp/neuron_613484.off\n",
      "removed temporary output file: /neurd_packages/NEURD/Applications/Tutorials/Auto_Proof_Pipeline/Single_Soma_Inh/Poisson_temp/neuron_613484_poisson.off\n",
      "mesh.is_watertight = True\n",
      "/neurd_packages/NEURD/Applications/Tutorials/Auto_Proof_Pipeline/Single_Soma_Inh/Poisson_temp/poisson_878212.mls is being deleted....\n",
      "Inside sphere validater: ratio_val = 2.382242620807811\n",
      "----- working on mesh after poisson #1: <trimesh.Trimesh(vertices.shape=(2849, 3), faces.shape=(5694, 3))>\n",
      "xvfb-run -n 9082 -s \"-screen 0 800x600x24\" meshlabserver $@  -i /neurd_packages/NEURD/Applications/Tutorials/Auto_Proof_Pipeline/Single_Soma_Inh/12345/neuron_12345_decimated_largest_piece_poisson_largest_inner.off -o /neurd_packages/NEURD/Applications/Tutorials/Auto_Proof_Pipeline/Single_Soma_Inh/12345/neuron_12345_decimated_largest_piece_poisson_largest_inner_decimated.off -s /neurd_packages/NEURD/Applications/Tutorials/Auto_Proof_Pipeline/Single_Soma_Inh/12345/decimation_meshlab_25888949.mls\n",
      "\n",
      "-------Splits after inner decimation len = 1--------\n",
      "\n",
      "done exporting decimated mesh: neuron_12345_decimated_largest_piece_poisson_largest_inner.off\n",
      "\n",
      "    --- On segmentation loop 0 --\n",
      "largest_mesh_path_inner_decimated_clean = <trimesh.Trimesh(vertices.shape=(713, 3), faces.shape=(1422, 3))>\n",
      "\n",
      "largest_mesh_path_inner_decimated_clean = <trimesh.Trimesh(vertices.shape=(713, 3), faces.shape=(1422, 3))>\n",
      "soma_size_threshold = 562.5\n",
      "soma_size_threshold_max = 75000.0\n",
      "soma_width_threshold = 0.32\n",
      "\n",
      "Number of segments: 3\n",
      "\n"
     ]
    },
    {
     "data": {
      "application/vnd.jupyter.widget-view+json": {
       "model_id": "7007cc67b6b5417db5a22d8e26482363",
       "version_major": 2,
       "version_minor": 0
      },
      "text/plain": [
       "  0%|          | 0/3 [00:00<?, ?it/s]"
      ]
     },
     "metadata": {},
     "output_type": "display_data"
    },
    {
     "name": "stdout",
     "output_type": "stream",
     "text": [
      "\n",
      "    --- On segmentation loop 1 --\n",
      "largest_mesh_path_inner_decimated_clean = <trimesh.Trimesh(vertices.shape=(278, 3), faces.shape=(550, 3))>\n",
      "\n",
      "largest_mesh_path_inner_decimated_clean = <trimesh.Trimesh(vertices.shape=(278, 3), faces.shape=(550, 3))>\n",
      "soma_size_threshold = 562.5\n",
      "soma_size_threshold_max = 75000.0\n",
      "soma_width_threshold = 0.32\n",
      "\n",
      "Number of segments: 2\n",
      "\n"
     ]
    },
    {
     "data": {
      "application/vnd.jupyter.widget-view+json": {
       "model_id": "0e47e4c70972476789cd0ceb4f535ed7",
       "version_major": 2,
       "version_minor": 0
      },
      "text/plain": [
       "  0%|          | 0/2 [00:00<?, ?it/s]"
      ]
     },
     "metadata": {},
     "output_type": "display_data"
    },
    {
     "name": "stdout",
     "output_type": "stream",
     "text": [
      "\n",
      "    --- On segmentation loop 2 --\n",
      "largest_mesh_path_inner_decimated_clean = <trimesh.Trimesh(vertices.shape=(234, 3), faces.shape=(462, 3))>\n",
      "\n",
      "largest_mesh_path_inner_decimated_clean = <trimesh.Trimesh(vertices.shape=(234, 3), faces.shape=(462, 3))>\n",
      "soma_size_threshold = 562.5\n",
      "soma_size_threshold_max = 75000.0\n",
      "soma_width_threshold = 0.32\n",
      "\n",
      "Number of segments: 1\n",
      "\n"
     ]
    },
    {
     "data": {
      "application/vnd.jupyter.widget-view+json": {
       "model_id": "c93f80aee7eb401392b503b574495156",
       "version_major": 2,
       "version_minor": 0
      },
      "text/plain": [
       "  0%|          | 0/1 [00:00<?, ?it/s]"
      ]
     },
     "metadata": {},
     "output_type": "display_data"
    },
    {
     "name": "stdout",
     "output_type": "stream",
     "text": [
      "----- working on mesh after poisson #2: <trimesh.Trimesh(vertices.shape=(2045, 3), faces.shape=(4086, 3))>\n",
      "xvfb-run -n 9943 -s \"-screen 0 800x600x24\" meshlabserver $@  -i /neurd_packages/NEURD/Applications/Tutorials/Auto_Proof_Pipeline/Single_Soma_Inh/12345/neuron_12345_decimated_largest_piece_poisson_largest_inner.off -o /neurd_packages/NEURD/Applications/Tutorials/Auto_Proof_Pipeline/Single_Soma_Inh/12345/neuron_12345_decimated_largest_piece_poisson_largest_inner_decimated.off -s /neurd_packages/NEURD/Applications/Tutorials/Auto_Proof_Pipeline/Single_Soma_Inh/12345/decimation_meshlab_25888949.mls\n",
      "\n",
      "-------Splits after inner decimation len = 1--------\n",
      "\n",
      "done exporting decimated mesh: neuron_12345_decimated_largest_piece_poisson_largest_inner.off\n",
      "\n",
      "    --- On segmentation loop 0 --\n",
      "largest_mesh_path_inner_decimated_clean = <trimesh.Trimesh(vertices.shape=(512, 3), faces.shape=(1020, 3))>\n",
      "\n",
      "largest_mesh_path_inner_decimated_clean = <trimesh.Trimesh(vertices.shape=(512, 3), faces.shape=(1020, 3))>\n",
      "soma_size_threshold = 562.5\n",
      "soma_size_threshold_max = 75000.0\n",
      "soma_width_threshold = 0.32\n",
      "\n",
      "Number of segments: 4\n",
      "\n"
     ]
    },
    {
     "data": {
      "application/vnd.jupyter.widget-view+json": {
       "model_id": "47bab8f6699e436b97940a4d814ee43a",
       "version_major": 2,
       "version_minor": 0
      },
      "text/plain": [
       "  0%|          | 0/4 [00:00<?, ?it/s]"
      ]
     },
     "metadata": {},
     "output_type": "display_data"
    },
    {
     "name": "stdout",
     "output_type": "stream",
     "text": [
      "\n",
      "    --- On segmentation loop 1 --\n",
      "largest_mesh_path_inner_decimated_clean = <trimesh.Trimesh(vertices.shape=(244, 3), faces.shape=(481, 3))>\n",
      "\n",
      "largest_mesh_path_inner_decimated_clean = <trimesh.Trimesh(vertices.shape=(244, 3), faces.shape=(481, 3))>\n",
      "soma_size_threshold = 562.5\n",
      "soma_size_threshold_max = 75000.0\n",
      "soma_width_threshold = 0.32\n",
      "\n",
      "Number of segments: 1\n",
      "\n"
     ]
    },
    {
     "data": {
      "application/vnd.jupyter.widget-view+json": {
       "model_id": "ef9f266e7bc14a10bc8d8df70a929a1b",
       "version_major": 2,
       "version_minor": 0
      },
      "text/plain": [
       "  0%|          | 0/1 [00:00<?, ?it/s]"
      ]
     },
     "metadata": {},
     "output_type": "display_data"
    },
    {
     "name": "stdout",
     "output_type": "stream",
     "text": [
      "\n",
      "    --- On segmentation loop 2 --\n",
      "largest_mesh_path_inner_decimated_clean = <trimesh.Trimesh(vertices.shape=(244, 3), faces.shape=(481, 3))>\n",
      "\n",
      "largest_mesh_path_inner_decimated_clean = <trimesh.Trimesh(vertices.shape=(244, 3), faces.shape=(481, 3))>\n",
      "soma_size_threshold = 562.5\n",
      "soma_size_threshold_max = 75000.0\n",
      "soma_width_threshold = 0.32\n",
      "\n",
      "Number of segments: 1\n",
      "\n"
     ]
    },
    {
     "data": {
      "application/vnd.jupyter.widget-view+json": {
       "model_id": "6ca414d07a7846a2859662921e13099e",
       "version_major": 2,
       "version_minor": 0
      },
      "text/plain": [
       "  0%|          | 0/1 [00:00<?, ?it/s]"
      ]
     },
     "metadata": {},
     "output_type": "display_data"
    },
    {
     "name": "stdout",
     "output_type": "stream",
     "text": [
      "----- working on mesh after poisson #3: <trimesh.Trimesh(vertices.shape=(1777, 3), faces.shape=(3550, 3))>\n",
      "xvfb-run -n 5511 -s \"-screen 0 800x600x24\" meshlabserver $@  -i /neurd_packages/NEURD/Applications/Tutorials/Auto_Proof_Pipeline/Single_Soma_Inh/12345/neuron_12345_decimated_largest_piece_poisson_largest_inner.off -o /neurd_packages/NEURD/Applications/Tutorials/Auto_Proof_Pipeline/Single_Soma_Inh/12345/neuron_12345_decimated_largest_piece_poisson_largest_inner_decimated.off -s /neurd_packages/NEURD/Applications/Tutorials/Auto_Proof_Pipeline/Single_Soma_Inh/12345/decimation_meshlab_25888949.mls\n",
      "\n",
      "-------Splits after inner decimation len = 1--------\n",
      "\n",
      "done exporting decimated mesh: neuron_12345_decimated_largest_piece_poisson_largest_inner.off\n",
      "\n",
      "    --- On segmentation loop 0 --\n",
      "largest_mesh_path_inner_decimated_clean = <trimesh.Trimesh(vertices.shape=(445, 3), faces.shape=(886, 3))>\n",
      "\n",
      "largest_mesh_path_inner_decimated_clean = <trimesh.Trimesh(vertices.shape=(445, 3), faces.shape=(886, 3))>\n",
      "soma_size_threshold = 562.5\n",
      "soma_size_threshold_max = 75000.0\n",
      "soma_width_threshold = 0.32\n",
      "\n",
      "Number of segments: 6\n",
      "\n"
     ]
    },
    {
     "data": {
      "application/vnd.jupyter.widget-view+json": {
       "model_id": "1ca90721dd10485eaad26d81dcb947c6",
       "version_major": 2,
       "version_minor": 0
      },
      "text/plain": [
       "  0%|          | 0/6 [00:00<?, ?it/s]"
      ]
     },
     "metadata": {},
     "output_type": "display_data"
    },
    {
     "name": "stdout",
     "output_type": "stream",
     "text": [
      "\n",
      "    --- On segmentation loop 1 --\n",
      "largest_mesh_path_inner_decimated_clean = <trimesh.Trimesh(vertices.shape=(127, 3), faces.shape=(248, 3))>\n",
      "\n",
      "largest_mesh_path_inner_decimated_clean = <trimesh.Trimesh(vertices.shape=(127, 3), faces.shape=(248, 3))>\n",
      "soma_size_threshold = 562.5\n",
      "soma_size_threshold_max = 75000.0\n",
      "soma_width_threshold = 0.32\n",
      "\n",
      "Number of segments: 1\n",
      "\n"
     ]
    },
    {
     "data": {
      "application/vnd.jupyter.widget-view+json": {
       "model_id": "92e0aae0ba974587b269ce610443601e",
       "version_major": 2,
       "version_minor": 0
      },
      "text/plain": [
       "  0%|          | 0/1 [00:00<?, ?it/s]"
      ]
     },
     "metadata": {},
     "output_type": "display_data"
    },
    {
     "name": "stdout",
     "output_type": "stream",
     "text": [
      "\n",
      "    --- On segmentation loop 2 --\n",
      "largest_mesh_path_inner_decimated_clean = <trimesh.Trimesh(vertices.shape=(127, 3), faces.shape=(248, 3))>\n",
      "\n",
      "largest_mesh_path_inner_decimated_clean = <trimesh.Trimesh(vertices.shape=(127, 3), faces.shape=(248, 3))>\n",
      "soma_size_threshold = 562.5\n",
      "soma_size_threshold_max = 75000.0\n",
      "soma_width_threshold = 0.32\n",
      "\n",
      "Number of segments: 1\n",
      "\n"
     ]
    },
    {
     "data": {
      "application/vnd.jupyter.widget-view+json": {
       "model_id": "cc902410c9b34cebbd71ffc8dd96e7bb",
       "version_major": 2,
       "version_minor": 0
      },
      "text/plain": [
       "  0%|          | 0/1 [00:00<?, ?it/s]"
      ]
     },
     "metadata": {},
     "output_type": "display_data"
    },
    {
     "name": "stdout",
     "output_type": "stream",
     "text": [
      "----- working on mesh after poisson #4: <trimesh.Trimesh(vertices.shape=(1773, 3), faces.shape=(3542, 3))>\n",
      "xvfb-run -n 1105 -s \"-screen 0 800x600x24\" meshlabserver $@  -i /neurd_packages/NEURD/Applications/Tutorials/Auto_Proof_Pipeline/Single_Soma_Inh/12345/neuron_12345_decimated_largest_piece_poisson_largest_inner.off -o /neurd_packages/NEURD/Applications/Tutorials/Auto_Proof_Pipeline/Single_Soma_Inh/12345/neuron_12345_decimated_largest_piece_poisson_largest_inner_decimated.off -s /neurd_packages/NEURD/Applications/Tutorials/Auto_Proof_Pipeline/Single_Soma_Inh/12345/decimation_meshlab_25888949.mls\n",
      "\n",
      "-------Splits after inner decimation len = 1--------\n",
      "\n",
      "done exporting decimated mesh: neuron_12345_decimated_largest_piece_poisson_largest_inner.off\n",
      "\n",
      "    --- On segmentation loop 0 --\n",
      "largest_mesh_path_inner_decimated_clean = <trimesh.Trimesh(vertices.shape=(444, 3), faces.shape=(884, 3))>\n",
      "\n",
      "largest_mesh_path_inner_decimated_clean = <trimesh.Trimesh(vertices.shape=(444, 3), faces.shape=(884, 3))>\n",
      "soma_size_threshold = 562.5\n",
      "soma_size_threshold_max = 75000.0\n",
      "soma_width_threshold = 0.32\n",
      "\n",
      "Number of segments: 3\n",
      "\n"
     ]
    },
    {
     "data": {
      "application/vnd.jupyter.widget-view+json": {
       "model_id": "94622e8e4fe54f16a22fbcab2b5c14d4",
       "version_major": 2,
       "version_minor": 0
      },
      "text/plain": [
       "  0%|          | 0/3 [00:00<?, ?it/s]"
      ]
     },
     "metadata": {},
     "output_type": "display_data"
    },
    {
     "name": "stdout",
     "output_type": "stream",
     "text": [
      "      ------ Found 1 viable somas: [0.587199]\n",
      "mesh.is_watertight = True\n",
      "/neurd_packages/NEURD/Applications/Tutorials/Auto_Proof_Pipeline/Single_Soma_Inh/Poisson_temp/poisson_559000.mls is being deleted....\n",
      "Inside sphere validater: ratio_val = 108.49296057185164\n",
      "->Attempting retry of soma because failed first checks: soma_mesh = <trimesh.Trimesh(vertices.shape=(356, 3), faces.shape=(706, 3))>, curr_side_len_check = True, curr_volume_check = False\n",
      "perc_0_faces = 0.0\n",
      "Going to run cgal segmentation with:\n",
      "File: /neurd_packages/NEURD/Applications/Tutorials/Auto_Proof_Pipeline/Single_Soma_Inh/909_mesh \n",
      "clusters:3 \n",
      "smoothness:0.2\n",
      "\n",
      "Number of segments: 4\n",
      "\n"
     ]
    },
    {
     "data": {
      "application/vnd.jupyter.widget-view+json": {
       "model_id": "eb1db5d2345c45c6b97bf9069633ce0a",
       "version_major": 2,
       "version_minor": 0
      },
      "text/plain": [
       "  0%|          | 0/4 [00:00<?, ?it/s]"
      ]
     },
     "metadata": {},
     "output_type": "display_data"
    },
    {
     "name": "stdout",
     "output_type": "stream",
     "text": [
      "Could not find valid soma mesh in retry\n",
      "\n",
      "\n",
      "\n",
      " Total time for run = 148.59165406227112\n",
      "Before Filtering the number of somas found = 1\n",
      "\n",
      "---Performing Soma Mesh Backtracking to original mesh for poisson soma 0\n",
      "backtrack_soma_size_threshold = 8000\n",
      "xvfb-run -n 4461 -s \"-screen 0 800x600x24\" meshlabserver $@  -i /neurd_packages/NEURD/Applications/Tutorials/Auto_Proof_Pipeline/Single_Soma_Inh/temp/neuron_89168.off -o /neurd_packages/NEURD/Applications/Tutorials/Auto_Proof_Pipeline/Single_Soma_Inh/temp/neuron_89168_fill_holes.off -s /neurd_packages/NEURD/Applications/Tutorials/Auto_Proof_Pipeline/Single_Soma_Inh/temp/fill_holes_57822.mls\n",
      "removed temporary input file: /neurd_packages/NEURD/Applications/Tutorials/Auto_Proof_Pipeline/Single_Soma_Inh/temp/neuron_89168.off\n",
      "removed temporary output file: /neurd_packages/NEURD/Applications/Tutorials/Auto_Proof_Pipeline/Single_Soma_Inh/temp/neuron_89168_fill_holes.off\n",
      "/neurd_packages/NEURD/Applications/Tutorials/Auto_Proof_Pipeline/Single_Soma_Inh/temp/fill_holes_57822.mls is being deleted....\n",
      "xvfb-run -n 2491 -s \"-screen 0 800x600x24\" meshlabserver $@  -i /neurd_packages/NEURD/Applications/Tutorials/Auto_Proof_Pipeline/Single_Soma_Inh/temp/neuron_11382.off -o /neurd_packages/NEURD/Applications/Tutorials/Auto_Proof_Pipeline/Single_Soma_Inh/temp/neuron_11382_remove_interior.off -s /neurd_packages/NEURD/Applications/Tutorials/Auto_Proof_Pipeline/Single_Soma_Inh/temp/remove_interior_720393.mls\n",
      "removed temporary input file: /neurd_packages/NEURD/Applications/Tutorials/Auto_Proof_Pipeline/Single_Soma_Inh/temp/neuron_11382.off\n",
      "removed temporary output file: /neurd_packages/NEURD/Applications/Tutorials/Auto_Proof_Pipeline/Single_Soma_Inh/temp/neuron_11382_remove_interior.off\n",
      "/neurd_packages/NEURD/Applications/Tutorials/Auto_Proof_Pipeline/Single_Soma_Inh/temp/remove_interior_720393.mls is being deleted....\n",
      "No significant (300) interior meshes present\n",
      "largest is 76\n",
      "split_meshes_after_backtrack = [<trimesh.Trimesh(vertices.shape=(19286, 3), faces.shape=(38352, 3))>]\n",
      "soma_size_threshold = 8000\n",
      "After backtrack the found 1 possible somas: [<trimesh.Trimesh(vertices.shape=(19286, 3), faces.shape=(38352, 3))>] \n",
      "\n",
      "--- working on backtrack soma 0: <trimesh.Trimesh(vertices.shape=(19286, 3), faces.shape=(38352, 3))>\n",
      "poisson_backtrack_distance_threshold = None\n",
      "Using Poisson Surface Reconstruction for watertightness in soma_volume_ratio\n",
      "xvfb-run -n 7522 -s \"-screen 0 800x600x24\" meshlabserver $@  -i /neurd_packages/NEURD/Applications/Tutorials/Auto_Proof_Pipeline/Single_Soma_Inh/Poisson_temp/neuron_548817.off -o /neurd_packages/NEURD/Applications/Tutorials/Auto_Proof_Pipeline/Single_Soma_Inh/Poisson_temp/neuron_548817_poisson.off -s /neurd_packages/NEURD/Applications/Tutorials/Auto_Proof_Pipeline/Single_Soma_Inh/Poisson_temp/poisson_686635.mls\n",
      "removed temporary input file: /neurd_packages/NEURD/Applications/Tutorials/Auto_Proof_Pipeline/Single_Soma_Inh/Poisson_temp/neuron_548817.off\n",
      "removed temporary output file: /neurd_packages/NEURD/Applications/Tutorials/Auto_Proof_Pipeline/Single_Soma_Inh/Poisson_temp/neuron_548817_poisson.off\n",
      "mesh.is_watertight = True\n",
      "/neurd_packages/NEURD/Applications/Tutorials/Auto_Proof_Pipeline/Single_Soma_Inh/Poisson_temp/poisson_686635.mls is being deleted....\n",
      "Inside sphere validater: ratio_val = 3.5396961279611485\n",
      "Skipping the segmentatio filter at end\n",
      "removing mesh interior before segmentation\n",
      "xvfb-run -n 6604 -s \"-screen 0 800x600x24\" meshlabserver $@  -i /neurd_packages/NEURD/Applications/Tutorials/Auto_Proof_Pipeline/Single_Soma_Inh/temp/neuron_46138.off -o /neurd_packages/NEURD/Applications/Tutorials/Auto_Proof_Pipeline/Single_Soma_Inh/temp/neuron_46138_fill_holes.off -s /neurd_packages/NEURD/Applications/Tutorials/Auto_Proof_Pipeline/Single_Soma_Inh/temp/fill_holes_452515.mls\n",
      "removed temporary input file: /neurd_packages/NEURD/Applications/Tutorials/Auto_Proof_Pipeline/Single_Soma_Inh/temp/neuron_46138.off\n",
      "removed temporary output file: /neurd_packages/NEURD/Applications/Tutorials/Auto_Proof_Pipeline/Single_Soma_Inh/temp/neuron_46138_fill_holes.off\n",
      "/neurd_packages/NEURD/Applications/Tutorials/Auto_Proof_Pipeline/Single_Soma_Inh/temp/fill_holes_452515.mls is being deleted....\n",
      "xvfb-run -n 4268 -s \"-screen 0 800x600x24\" meshlabserver $@  -i /neurd_packages/NEURD/Applications/Tutorials/Auto_Proof_Pipeline/Single_Soma_Inh/temp/neuron_72382.off -o /neurd_packages/NEURD/Applications/Tutorials/Auto_Proof_Pipeline/Single_Soma_Inh/temp/neuron_72382_remove_interior.off -s /neurd_packages/NEURD/Applications/Tutorials/Auto_Proof_Pipeline/Single_Soma_Inh/temp/remove_interior_968744.mls\n",
      "removed temporary input file: /neurd_packages/NEURD/Applications/Tutorials/Auto_Proof_Pipeline/Single_Soma_Inh/temp/neuron_72382.off\n",
      "removed temporary output file: /neurd_packages/NEURD/Applications/Tutorials/Auto_Proof_Pipeline/Single_Soma_Inh/temp/neuron_72382_remove_interior.off\n",
      "/neurd_packages/NEURD/Applications/Tutorials/Auto_Proof_Pipeline/Single_Soma_Inh/temp/remove_interior_968744.mls is being deleted....\n",
      "No significant (1000) interior meshes present\n",
      "largest is 25\n",
      "Doing the soma segmentation filter at end\n",
      "\n",
      "Number of segments: 12\n",
      "\n"
     ]
    },
    {
     "data": {
      "application/vnd.jupyter.widget-view+json": {
       "model_id": "8957c0eb03fb4b128f54b55e26d1c287",
       "version_major": 2,
       "version_minor": 0
      },
      "text/plain": [
       "  0%|          | 0/12 [00:00<?, ?it/s]"
      ]
     },
     "metadata": {},
     "output_type": "display_data"
    },
    {
     "name": "stdout",
     "output_type": "stream",
     "text": [
      "Largest hole before segmentation = 60920.9840611568, after = 330805.80253342,\n",
      "\n",
      "ratio = 5.430079760388205, difference = 269884.81847226317\n",
      "filtered_soma_list_components = [<trimesh.Trimesh(vertices.shape=(19286, 3), faces.shape=(38352, 3))>]\n",
      "Not need to do a second pass because already found a soma\n"
     ]
    }
   ],
   "source": [
    "from neurd import neuron_visualizations as nviz\n",
    "\n",
    "verbose = True\n",
    "\n",
    "soma_products = sm.soma_indentification(\n",
    "    mesh_decimated,\n",
    "    verbose=verbose,\n",
    "    **soma_extraction_parameters\n",
    ")"
   ]
  },
  {
   "cell_type": "code",
   "execution_count": 19,
   "id": "6a79d754",
   "metadata": {},
   "outputs": [
    {
     "name": "stdout",
     "output_type": "stream",
     "text": [
      "# of somas = 1\n",
      "# of glia = 0\n",
      "# of nuclei = 1\n"
     ]
    },
    {
     "data": {
      "application/vnd.jupyter.widget-view+json": {
       "model_id": "8077c84efc08483293cb7c03c2a3a0b0",
       "version_major": 2,
       "version_minor": 0
      },
      "text/plain": [
       "Container(figure=Figure(box_center=[0.5, 0.5, 0.5], box_size=[1.0, 1.0, 1.0], camera=PerspectiveCamera(fov=45.…"
      ]
     },
     "metadata": {},
     "output_type": "display_data"
    }
   ],
   "source": [
    "sm.plot_soma_products(\n",
    "    mesh_decimated,\n",
    "    soma_products = soma_products,\n",
    "    verbose = True\n",
    ")"
   ]
  },
  {
   "cell_type": "code",
   "execution_count": 20,
   "id": "e43e9f14",
   "metadata": {},
   "outputs": [
    {
     "data": {
      "text/plain": [
       "<datasci_tools.pipeline.StageProducts at 0x7f5803f71a90>"
      ]
     },
     "execution_count": 20,
     "metadata": {},
     "output_type": "execute_result"
    }
   ],
   "source": [
    "soma_products.soma_extraction_parameters = soma_extraction_parameters\n",
    "soma_products"
   ]
  },
  {
   "cell_type": "code",
   "execution_count": 21,
   "id": "a5056278",
   "metadata": {
    "scrolled": true
   },
   "outputs": [
    {
     "name": "stdout",
     "output_type": "stream",
     "text": [
      "{\n",
      "  'decimation':\n",
      "  {\n",
      "    'decimation_parameters':\n",
      "    {\n",
      "      'decimation_ratio':0.25,\n",
      "    },\n",
      "    'segment_id':864691135567721964,\n",
      "  },\n",
      "  'soma_identification':\n",
      "  {\n",
      "    'glia_meshes':[],\n",
      "    'nuclei_meshes':[<trimesh.Trimesh(vertices.shape=(526, 3), faces.shape=(1166, 3))>],\n",
      "    'soma_extraction_parameters':\n",
      "    {\n",
      "    },\n",
      "    'soma_meshes':[<trimesh.Trimesh(vertices.shape=(19286, 3), faces.shape=(38352, 3))>],\n",
      "    'soma_run_time':148.59164786338806,\n",
      "    'soma_sdfs':array([0.846587]),\n",
      "  },\n",
      "}\n",
      "\n"
     ]
    }
   ],
   "source": [
    "products.set_stage_attrs(\n",
    "    stage = \"soma_identification\",\n",
    "    attr_dict = soma_products,\n",
    ")\n",
    "\n",
    "print(products)"
   ]
  },
  {
   "cell_type": "markdown",
   "id": "da45be47",
   "metadata": {},
   "source": [
    "# Step 2b: Saving off pipeline products"
   ]
  },
  {
   "cell_type": "code",
   "execution_count": 22,
   "id": "c99ef858",
   "metadata": {},
   "outputs": [
    {
     "name": "stdout",
     "output_type": "stream",
     "text": [
      "Saved object at /neurd_packages/NEURD/Applications/Tutorials/Auto_Proof_Pipeline/Single_Soma_Inh/products_up_to_soma_stage.pkl\n",
      "File size is 16.487003 MB\n",
      "Cleared mesh: <trimesh.Trimesh(vertices.shape=(526, 3), faces.shape=(1166, 3))>:140015615792704\n",
      "Cleared mesh: <trimesh.Trimesh(vertices.shape=(19286, 3), faces.shape=(38352, 3))>:140015253849184\n"
     ]
    }
   ],
   "source": [
    "from datasci_tools import system_utils as su\n",
    "su.save_object(\n",
    "    products,\"products_up_to_soma_stage\"\n",
    ")"
   ]
  },
  {
   "cell_type": "markdown",
   "id": "bfdbcc82",
   "metadata": {},
   "source": [
    "# Step 3: Decomposition"
   ]
  },
  {
   "cell_type": "code",
   "execution_count": 23,
   "id": "84193a27",
   "metadata": {
    "scrolled": true
   },
   "outputs": [
    {
     "name": "stdout",
     "output_type": "stream",
     "text": [
      "--- 0) Having to preprocess the Neuron becuase no preprocessed data\n",
      "Please wait this could take a while.....\n",
      "Skipping the hole filling\n",
      "limb_remove_mesh_interior_face_threshold = 0\n",
      "use_meshafterparty = True\n",
      "Using pre-computed somas: soma_mesh_list = [<trimesh.Trimesh(vertices.shape=(19286, 3), faces.shape=(38352, 3))>]\n",
      "Soma List = [<trimesh.Trimesh(vertices.shape=(19286, 3), faces.shape=(38352, 3))>]\n",
      "soma_mesh_list_centers = [array([607290.85387328, 771034.57102043, 909995.31979156])]\n",
      "Getting Glia and Nuclei Pieces Subtracted Away 0.3177196979522705\n",
      " Splitting mesh after soma cancellation 1.199852705001831\n",
      "# of split_meshes = 4\n",
      " Containing Mesh Indices 0.057614803314208984\n",
      "containing_mesh_indices = {0: 0}\n",
      " non_soma_touching_meshes 0.00010442733764648438\n",
      "There were 3 pieces found after size threshold\n",
      " Finding inside pieces and non_soma_touching meshes 0.8970420360565186\n",
      "soma_containing_meshes = {0: [0]}\n",
      "\n",
      "-----Before combining multiple mesh pieces-----\n",
      "soma_containing_meshes = {0: [0]}\n",
      "\n",
      "-----After combining multiple mesh pieces-----\n",
      "soma_containing_meshes = {0: [0]}\n",
      "\n",
      "\n",
      "----Working on soma-containing mesh piece 0----\n",
      "Total time for Subtract Soma and Original_mesh_faces_map for somas= 0.8326833248138428\n",
      "new_floating_pieces = []\n",
      "Total time for sig_non_soma_pieces= 3.7491862773895264\n",
      "Not applying expansions\n",
      "Total time for split= 5.245208740234375e-06\n",
      "Total time for mesh_pieces_connectivity= 2.285508394241333\n",
      "# of insignificant_limbs = 4 with trimesh : [<trimesh.Trimesh(vertices.shape=(18, 3), faces.shape=(25, 3))>, <trimesh.Trimesh(vertices.shape=(12, 3), faces.shape=(13, 3))>, <trimesh.Trimesh(vertices.shape=(10, 3), faces.shape=(11, 3))>, <trimesh.Trimesh(vertices.shape=(5, 3), faces.shape=(3, 3))>]\n",
      "# of not_processed_soma_containing_meshes = 0 with trimesh : []\n",
      "\n",
      "\n",
      "----- Working on Proper Limb # 0 ---------\n",
      "meshparty_segment_size = 100\n",
      "invalidation_d = 12000\n",
      "use_adaptive_invalidation_d= False\n",
      "axon_width_preprocess_limb_max = 200\n",
      "filter_end_node_length= 4000\n",
      "filter_end_node_length_meshparty = 4000\n",
      "invalidation_d = 12000\n",
      "root_curr = [606217.5 761733.  911841. ]\n",
      "Time for preparing soma vertices and root: 0.0003161430358886719\n",
      "invalidation_d = 12000\n",
      "smooth_neighborhood = 1\n",
      "cc_vertex_thresh = 10\n"
     ]
    },
    {
     "name": "stderr",
     "output_type": "stream",
     "text": [
      "  0%|                                                                                                                                                                                                                          | 0/1 [00:00<?, ?it/s]"
     ]
    },
    {
     "data": {
      "application/vnd.jupyter.widget-view+json": {
       "model_id": "ec956553c1524ad1864e71ea6f69ee8f",
       "version_major": 2,
       "version_minor": 0
      },
      "text/plain": [
       "  0%|          | 0/166759 [00:00<?, ?it/s]"
      ]
     },
     "metadata": {},
     "output_type": "display_data"
    },
    {
     "name": "stderr",
     "output_type": "stream",
     "text": [
      "100%|██████████████████████████████████████████████████████████████████████████████████████████████████████████████████████████████████████████████████████████████████████████████████████████████████████████████████| 1/1 [00:13<00:00, 13.15s/it]\n"
     ]
    },
    {
     "name": "stdout",
     "output_type": "stream",
     "text": [
      "meshparty_segment_size = 100\n",
      "Time for 1st pass MP skeletonization: 14.968456506729126\n",
      "branches_touching_root = [7]\n",
      "combining close nodes\n",
      "combine_threshold = 700\n",
      "length of Graph = 36933\n",
      "After combining close endpoints max(kept_branches_idx) = 136, len(kept_branches_idx) = 134\n",
      "empty_indices % = 0.0\n",
      " conflict_indices % = 0.009613302211420458\n"
     ]
    },
    {
     "data": {
      "application/vnd.jupyter.widget-view+json": {
       "model_id": "9e23641b666b4b7eadce65eea8bb19d4",
       "version_major": 2,
       "version_minor": 0
      },
      "text/plain": [
       "  0%|          | 0/63 [00:00<?, ?it/s]"
      ]
     },
     "metadata": {},
     "output_type": "display_data"
    },
    {
     "data": {
      "application/vnd.jupyter.widget-view+json": {
       "model_id": "b5f6fe89337041d8a0d0020505d307c5",
       "version_major": 2,
       "version_minor": 0
      },
      "text/plain": [
       "  0%|          | 0/134 [00:00<?, ?it/s]"
      ]
     },
     "metadata": {},
     "output_type": "display_data"
    },
    {
     "name": "stdout",
     "output_type": "stream",
     "text": [
      "Decomposing first pass: 26.328296661376953\n",
      "Attempting to use MeshAfterParty Skeletonization and Mesh Correspondence\n",
      "Another print\n",
      "Found len(mesh_large_idx) MAP candidates: [149]\n",
      "mesh_large_connectivity: 0.00019669532775878906\n",
      "Finding MAP candidates connected components: 8.130073547363281e-05\n",
      "Divinding into MP and MAP pieces: 1.430511474609375e-06\n",
      "Total time for MAP sublimb processing 2.1457672119140625e-06\n",
      "---- Working on MP Decomposition #0 ----\n",
      "Using Quicker soma_to_piece_touching_vertices because no MAP and only one sublimb_mesh piece \n",
      "MP filtering soma verts: 2.4557113647460938e-05\n",
      "Fixing Possible Soma Extension Branch for Sublimb 0\n",
      "Total time for mesh KDTree = 0.03992724418640137\n",
      "sbv[0].reshape(-1,3) = [[606217.5 761733.  911841. ]]\n",
      "closest_sk_pt_coord BEFORE = [606963.3196656  761263.13124606 911832.19073545]\n",
      "current_skeleton.shape = (318, 2, 3)\n",
      "node_for_stitch = 318: [606963.3196656  761263.13124606 911832.19073545]\n",
      "node_for_stitch AFTER = 318: [606963.3196656  761263.13124606 911832.19073545]\n",
      "possible_node_loc = [ 13 318]\n",
      "possible_node_loc AFTER = [ 13 318]\n",
      "curr_shortest_path = [318]\n",
      "Current stitch point was a branch or endpoint\n",
      "change_status for create soma extending pieces = False\n",
      "closest_sk_pt_coord AFTER = [606963.3196656  761263.13124606 911832.19073545]\n",
      "skipping soma 0 because closest skeleton node was already end node\n",
      "endpoints_must_keep = {0: array([[606963.3196656 , 761263.13124606, 911832.19073545]])}\n",
      "match_sk_branches = [7]\n",
      "The new branch info was none so skipping \n",
      "\n",
      "No soma extending branch was added for this sublimb even though it had a soma border (means they already existed)\n",
      "MP (because soma touching verts) soma extension add: 3.4039034843444824\n",
      "There were not both MAP and MP pieces so skipping the stitch resolving phase\n",
      "Time for decomp of Limb = 46.04486608505249\n",
      "Number of matching vertices = 19\n",
      "Only one endpoint after filtering away the endpoints that are not on the skeleton\n",
      "Removed 0 skeletal branches\n"
     ]
    },
    {
     "data": {
      "application/vnd.jupyter.widget-view+json": {
       "model_id": "5438f2110ba143d9a9de0cc1a3135d3c",
       "version_major": 2,
       "version_minor": 0
      },
      "text/plain": [
       "  0%|          | 0/134 [00:00<?, ?it/s]"
      ]
     },
     "metadata": {},
     "output_type": "display_data"
    },
    {
     "name": "stdout",
     "output_type": "stream",
     "text": [
      "332471 332472\n",
      "For marked faces: None\n",
      "empty_indices % = 0.0\n",
      " conflict_indices % = 0.0\n"
     ]
    },
    {
     "data": {
      "application/vnd.jupyter.widget-view+json": {
       "model_id": "5006d3368ed842578bceeb937a3cc9e3",
       "version_major": 2,
       "version_minor": 0
      },
      "text/plain": [
       "0it [00:00, ?it/s]"
      ]
     },
     "metadata": {},
     "output_type": "display_data"
    },
    {
     "data": {
      "application/vnd.jupyter.widget-view+json": {
       "model_id": "ba38ebd72b7c480f94aee06276d85d5b",
       "version_major": 2,
       "version_minor": 0
      },
      "text/plain": [
       "  0%|          | 0/134 [00:00<?, ?it/s]"
      ]
     },
     "metadata": {},
     "output_type": "display_data"
    },
    {
     "name": "stdout",
     "output_type": "stream",
     "text": [
      "Successful Limb Decomposition\n",
      "\n",
      "\n",
      "----- Working on Proper Limb # 1 ---------\n",
      "meshparty_segment_size = 100\n",
      "invalidation_d = 12000\n",
      "use_adaptive_invalidation_d= False\n",
      "axon_width_preprocess_limb_max = 200\n",
      "filter_end_node_length= 4000\n",
      "filter_end_node_length_meshparty = 4000\n",
      "invalidation_d = 12000\n",
      "root_curr = [610836.9 779075.4 906316.1]\n",
      "Time for preparing soma vertices and root: 0.00026106834411621094\n",
      "invalidation_d = 12000\n",
      "smooth_neighborhood = 1\n",
      "cc_vertex_thresh = 10\n"
     ]
    },
    {
     "name": "stderr",
     "output_type": "stream",
     "text": [
      "  0%|                                                                                                                                                                                                                          | 0/1 [00:00<?, ?it/s]"
     ]
    },
    {
     "data": {
      "application/vnd.jupyter.widget-view+json": {
       "model_id": "bd057db65d914239ab36a8daf5ddfd72",
       "version_major": 2,
       "version_minor": 0
      },
      "text/plain": [
       "  0%|          | 0/71107 [00:00<?, ?it/s]"
      ]
     },
     "metadata": {},
     "output_type": "display_data"
    },
    {
     "name": "stderr",
     "output_type": "stream",
     "text": [
      "100%|██████████████████████████████████████████████████████████████████████████████████████████████████████████████████████████████████████████████████████████████████████████████████████████████████████████████████| 1/1 [00:00<00:00,  1.32it/s]\n"
     ]
    },
    {
     "name": "stdout",
     "output_type": "stream",
     "text": [
      "meshparty_segment_size = 100\n",
      "Time for 1st pass MP skeletonization: 1.435201644897461\n",
      "connecting at the root\n",
      "branches_touching_root = [12]\n",
      "combining close nodes\n",
      "combine_threshold = 700\n",
      "length of Graph = 8858\n",
      "After combining close endpoints max(kept_branches_idx) = 12, len(kept_branches_idx) = 13\n",
      "empty_indices % = 0.0\n",
      " conflict_indices % = 0.0034268549791638754\n"
     ]
    },
    {
     "data": {
      "application/vnd.jupyter.widget-view+json": {
       "model_id": "96b2d3b62f66458d96cbdda14c3fdae7",
       "version_major": 2,
       "version_minor": 0
      },
      "text/plain": [
       "  0%|          | 0/7 [00:00<?, ?it/s]"
      ]
     },
     "metadata": {},
     "output_type": "display_data"
    },
    {
     "data": {
      "application/vnd.jupyter.widget-view+json": {
       "model_id": "e317785f33c1466fbd2bf81590d3f8b9",
       "version_major": 2,
       "version_minor": 0
      },
      "text/plain": [
       "  0%|          | 0/13 [00:00<?, ?it/s]"
      ]
     },
     "metadata": {},
     "output_type": "display_data"
    },
    {
     "name": "stdout",
     "output_type": "stream",
     "text": [
      "Decomposing first pass: 10.198742151260376\n",
      "Attempting to use MeshAfterParty Skeletonization and Mesh Correspondence\n",
      "Another print\n",
      "Found len(mesh_large_idx) MAP candidates: [6892, 5362, 1962, 9759, 5273]\n",
      "mesh_large_connectivity: 0.027561187744140625\n",
      "Finding MAP candidates connected components: 0.00011157989501953125\n",
      "len(filtered_pieces) = 1\n",
      "skeleton_connectivity_MP : 0.4198286533355713\n",
      "Grouping MP Sublimbs by Graph: 0.06201434135437012\n",
      "Divinding into MP and MAP pieces: 1.1920928955078125e-06\n",
      "--- Working on MAP piece 0---\n",
      "MAP Filtering Soma Pieces: 0.0035431385040283203\n",
      "inside skeletonize_connected_branch and use_surface_after_CGAL=True, surface_reconstruction_size=1000\n",
      "keep_idx = [0]\n",
      "     Starting Screened Poisson\n",
      "xvfb-run -n 802 -s \"-screen 0 800x600x24\" meshlabserver $@  -i /neurd_packages/NEURD/Applications/Tutorials/Auto_Proof_Pipeline/Single_Soma_Inh/temp/None.off -o /neurd_packages/NEURD/Applications/Tutorials/Auto_Proof_Pipeline/Single_Soma_Inh/temp/None_poisson.off -s /neurd_packages/NEURD/Applications/Tutorials/Auto_Proof_Pipeline/Single_Soma_Inh/temp/poisson_834398.mls\n",
      "removed temporary input file: /neurd_packages/NEURD/Applications/Tutorials/Auto_Proof_Pipeline/Single_Soma_Inh/temp/None.off\n",
      "removed temporary output file: /neurd_packages/NEURD/Applications/Tutorials/Auto_Proof_Pipeline/Single_Soma_Inh/temp/None_poisson.off\n",
      "Using the close holes feature\n",
      "xvfb-run -n 1541 -s \"-screen 0 800x600x24\" meshlabserver $@  -i /neurd_packages/NEURD/Applications/Tutorials/Auto_Proof_Pipeline/Single_Soma_Inh/temp/neuron_26185.off -o /neurd_packages/NEURD/Applications/Tutorials/Auto_Proof_Pipeline/Single_Soma_Inh/temp/neuron_26185_fill_holes.off -s /neurd_packages/NEURD/Applications/Tutorials/Auto_Proof_Pipeline/Single_Soma_Inh/temp/fill_holes_822833.mls\n",
      "removed temporary input file: /neurd_packages/NEURD/Applications/Tutorials/Auto_Proof_Pipeline/Single_Soma_Inh/temp/neuron_26185.off\n",
      "removed temporary output file: /neurd_packages/NEURD/Applications/Tutorials/Auto_Proof_Pipeline/Single_Soma_Inh/temp/neuron_26185_fill_holes.off\n",
      "/neurd_packages/NEURD/Applications/Tutorials/Auto_Proof_Pipeline/Single_Soma_Inh/temp/fill_holes_822833.mls is being deleted....\n",
      "-----Time for Screened Poisson= 14.014485359191895\n",
      "mesh_pieces = [<trimesh.Trimesh(vertices.shape=(32674, 3), faces.shape=(65344, 3))>]\n",
      "     Starting Calcification (Changed back where stitches large poissons)\n",
      "Manifold status before skeletonization = True\n",
      "Watertight status before skeletonization = True\n",
      "min_edge_length = 75\n",
      "Before mesh subtraction number of skeleton edges = 1067\n"
     ]
    },
    {
     "data": {
      "application/vnd.jupyter.widget-view+json": {
       "model_id": "599d43af64a64c02a4c5c8293271ccd9",
       "version_major": 2,
       "version_minor": 0
      },
      "text/plain": [
       "0it [00:00, ?it/s]"
      ]
     },
     "metadata": {},
     "output_type": "display_data"
    },
    {
     "name": "stdout",
     "output_type": "stream",
     "text": [
      "len(leftover_meshes_sig) = []\n"
     ]
    },
    {
     "data": {
      "application/vnd.jupyter.widget-view+json": {
       "model_id": "2294eb4f9a10420ab58b04272e55cd5f",
       "version_major": 2,
       "version_minor": 0
      },
      "text/plain": [
       "0it [00:00, ?it/s]"
      ]
     },
     "metadata": {},
     "output_type": "display_data"
    },
    {
     "name": "stdout",
     "output_type": "stream",
     "text": [
      "No skeletons to stack so returning empty list\n",
      "STacking the leftover and significant poisson skeleton\n",
      "max_stitch_distance = 5000\n",
      "len_subgraphs AT BEGINNING of the loop\n"
     ]
    },
    {
     "data": {
      "application/vnd.jupyter.widget-view+json": {
       "model_id": "32e0dd06c571445aab50a6a7eab570f9",
       "version_major": 2,
       "version_minor": 0
      },
      "text/plain": [
       "  0%|          | 0/1 [00:00<?, ?it/s]"
      ]
     },
     "metadata": {},
     "output_type": "display_data"
    },
    {
     "name": "stdout",
     "output_type": "stream",
     "text": [
      "all graph is one component!\n",
      "Total time for skeleton stitching = 0.051297664642333984\n",
      "The process was using a temp folder\n",
      "Checking connected components after skeletonize_connected_branch\n",
      "    Total time for skeletonizing branch: 19.24018096923828\n",
      "Checking connected components after removing cycles\n",
      "Total time for mesh KDTree = 0.18512988090515137\n",
      "sbv[0].reshape(-1,3) = [[610836.9 779075.4 906316.1]]\n",
      "closest_sk_pt_coord BEFORE = [609974. 779345. 906973.]\n",
      "current_skeleton.shape = (1066, 2, 3)\n",
      "node_for_stitch = 142: [609974. 779345. 906973.]\n",
      "node_for_stitch AFTER = 142: [609974. 779345. 906973.]\n",
      "possible_node_loc = [   0  143  182  221  517  590  627  638  838 1028 1066]\n",
      "possible_node_loc AFTER = [   0  143  182  221  517  590  627  638  838 1028 1066]\n",
      "curr_shortest_path = [142, 143.0]\n",
      "Current stitch point was not a branch or endpoint, shortest_path_length to one = 50.89204259999789\n",
      "Changing the stitch point becasue the distance to end or branch node was 50.89204259999789\n",
      "New stitch point has degree 1\n",
      "change_status for create soma extending pieces = True\n",
      "closest_sk_pt_coord AFTER = [610019. 779339. 906950.]\n",
      "skipping soma 0 because closest skeleton node was already end node\n",
      "endpoints_must_keep = {0: array([[610019., 779339., 906950.]])}\n",
      "    Total time for Fixing Skeleton Soma Endpoint Extension : 0.45754551887512207\n",
      "filter_end_node_length = 4000\n"
     ]
    },
    {
     "data": {
      "application/vnd.jupyter.widget-view+json": {
       "model_id": "475c9ee2be7f4a41bf42858d9c2c23d3",
       "version_major": 2,
       "version_minor": 0
      },
      "text/plain": [
       "  0%|          | 0/7 [00:00<?, ?it/s]"
      ]
     },
     "metadata": {},
     "output_type": "display_data"
    },
    {
     "name": "stdout",
     "output_type": "stream",
     "text": [
      "Checking connected components after clean_skeleton\n",
      "after DISTANCE cleaning limb size of skeleton = (1040, 2, 3)\n",
      "********COMBINING CLOSE SKELETON NODES WITHIN 700 DISTANCE**********\n",
      "combine_threshold = 700\n",
      "Found 0 valid paths to replace\n",
      "valid_paths = []\n",
      "valid_path_lengths = []\n",
      "No valid paths found so just returning the original\n",
      "skeletonize_and_clean_connected_branch_CGAL: 22.03097629547119\n",
      "Working on limb correspondence for #0 MAP piece\n",
      "xvfb-run -n 4647 -s \"-screen 0 800x600x24\" meshlabserver $@  -i /neurd_packages/NEURD/Applications/Tutorials/Auto_Proof_Pipeline/Single_Soma_Inh/temp/neuron_46924.off -o /neurd_packages/NEURD/Applications/Tutorials/Auto_Proof_Pipeline/Single_Soma_Inh/temp/neuron_46924_remove_interior.off -s /neurd_packages/NEURD/Applications/Tutorials/Auto_Proof_Pipeline/Single_Soma_Inh/temp/remove_interior_990855.mls\n",
      "removed temporary input file: /neurd_packages/NEURD/Applications/Tutorials/Auto_Proof_Pipeline/Single_Soma_Inh/temp/neuron_46924.off\n",
      "removed temporary output file: /neurd_packages/NEURD/Applications/Tutorials/Auto_Proof_Pipeline/Single_Soma_Inh/temp/neuron_46924_remove_interior.off\n",
      "/neurd_packages/NEURD/Applications/Tutorials/Auto_Proof_Pipeline/Single_Soma_Inh/temp/remove_interior_990855.mls is being deleted....\n",
      "No significant (100) interior meshes present\n",
      "largest is 35\n"
     ]
    },
    {
     "data": {
      "application/vnd.jupyter.widget-view+json": {
       "model_id": "82818e2a04ba40d89b527577ac165ecd",
       "version_major": 2,
       "version_minor": 0
      },
      "text/plain": [
       "0it [00:00, ?it/s]"
      ]
     },
     "metadata": {},
     "output_type": "display_data"
    },
    {
     "name": "stdout",
     "output_type": "stream",
     "text": [
      "Total time for decomposition = 4.435867071151733\n",
      "mesh_correspondence_first_pass: 4.435915470123291\n",
      "Limb decomposed into 5 branches\n",
      "divided_skeleton_graph_recovered = (1040, 2, 3) and \n",
      "current_mesh_data[0]['branch_skeletons_cleaned'].shape = (1040, 2, 3)\n",
      "\n",
      "Number of connected components in deocmposed recovered graph = 1\n",
      "Number of connected components in cleaned skeleton graph= 1\n",
      "The downsampled branches number of connected components = 1\n",
      "Empty submeshes = []\n",
      "\n",
      "\n",
      "--- Working on 1-to-1 correspondence-----\n",
      "max(original_labels),len(original_labels) = (4, 5)\n",
      "empty_indices % = 0.041712253829321665\n",
      " conflict_indices % = 0.016137855579868708\n"
     ]
    },
    {
     "data": {
      "application/vnd.jupyter.widget-view+json": {
       "model_id": "7b73e9cb4a50423a8c68573d56ff0e4e",
       "version_major": 2,
       "version_minor": 0
      },
      "text/plain": [
       "  0%|          | 0/39 [00:00<?, ?it/s]"
      ]
     },
     "metadata": {},
     "output_type": "display_data"
    },
    {
     "name": "stdout",
     "output_type": "stream",
     "text": [
      "Took 1 iterations to expand the label back\n",
      "empty_indices % = 0.0\n",
      " conflict_indices % = 0.001299234135667396\n"
     ]
    },
    {
     "data": {
      "application/vnd.jupyter.widget-view+json": {
       "model_id": "8f45ec76dc4446dda75ce27ccbb9fe70",
       "version_major": 2,
       "version_minor": 0
      },
      "text/plain": [
       "  0%|          | 0/1 [00:00<?, ?it/s]"
      ]
     },
     "metadata": {},
     "output_type": "display_data"
    },
    {
     "data": {
      "application/vnd.jupyter.widget-view+json": {
       "model_id": "81de8606fc944764996e9ec5fe1725be",
       "version_major": 2,
       "version_minor": 0
      },
      "text/plain": [
       "  0%|          | 0/5 [00:00<?, ?it/s]"
      ]
     },
     "metadata": {},
     "output_type": "display_data"
    },
    {
     "name": "stdout",
     "output_type": "stream",
     "text": [
      "Total time for MAP sublimb #0 mesh processing = 28.878663778305054\n",
      "correspondence_1_to_1: 2.407926082611084\n",
      "Total time for MAP sublimb processing 28.878730058670044\n",
      "---- Working on MP Decomposition #0 ----\n",
      "Computing the current soma touching verts dict manually\n",
      "MP filtering soma verts: 0.017541170120239258\n",
      "Do Not Need to Fix MP Decomposition 0 so just continuing\n",
      "---- Working on MP Decomposition #1 ----\n",
      "Computing the current soma touching verts dict manually\n",
      "MP filtering soma verts: 0.00991201400756836\n",
      "Do Not Need to Fix MP Decomposition 1 so just continuing\n",
      "---- Working on MP Decomposition #2 ----\n",
      "Computing the current soma touching verts dict manually\n",
      "MP filtering soma verts: 0.010040283203125\n",
      "Do Not Need to Fix MP Decomposition 2 so just continuing\n",
      "---- Working on MP Decomposition #3 ----\n",
      "Computing the current soma touching verts dict manually\n",
      "MP filtering soma verts: 0.00800466537475586\n",
      "Do Not Need to Fix MP Decomposition 3 so just continuing\n",
      "Successful mesh connectivity with type edges\n",
      "\n",
      "---- Working on (0, 0) connection-----\n",
      "sk_conn = [1, 2]\n",
      "conn = [1, 2]\n",
      "winning_vertex = [645783.15263062 826055.70541385 905531.33123349]\n",
      "MP_branches_with_stitch_point = [1, 2]\n",
      "MAP_branches_with_stitch_point = [4]\n",
      "MAP_stitch_point_on_end_or_branch = True\n"
     ]
    },
    {
     "data": {
      "application/vnd.jupyter.widget-view+json": {
       "model_id": "f06fe38b65de43b4862e7ea4815d8e9d",
       "version_major": 2,
       "version_minor": 0
      },
      "text/plain": [
       "0it [00:00, ?it/s]"
      ]
     },
     "metadata": {},
     "output_type": "display_data"
    },
    {
     "name": "stdout",
     "output_type": "stream",
     "text": [
      "\n",
      "\n",
      "--- Working on 1-to-1 correspondence-----\n",
      "max(original_labels),len(original_labels) = (2, 3)\n",
      "empty_indices % = 0.08658529003378028\n",
      " conflict_indices % = 0.0057198516154435995\n"
     ]
    },
    {
     "data": {
      "application/vnd.jupyter.widget-view+json": {
       "model_id": "6d205326673249e9a4e1ef42e03d3c42",
       "version_major": 2,
       "version_minor": 0
      },
      "text/plain": [
       "  0%|          | 0/76 [00:00<?, ?it/s]"
      ]
     },
     "metadata": {},
     "output_type": "display_data"
    },
    {
     "data": {
      "application/vnd.jupyter.widget-view+json": {
       "model_id": "4994003e50a343c2a0f37f7f22392e8b",
       "version_major": 2,
       "version_minor": 0
      },
      "text/plain": [
       "  0%|          | 0/3 [00:00<?, ?it/s]"
      ]
     },
     "metadata": {},
     "output_type": "display_data"
    },
    {
     "name": "stdout",
     "output_type": "stream",
     "text": [
      "MP_branches_with_stitch_point= [1, 2]\n",
      "MP_branches_for_correspondence = [1 2]\n",
      "MP_leftover = [], MP_leftover_idx = []\n",
      " Finished with (0, 0) \n",
      "\n",
      "\n",
      "\n",
      "\n",
      "---- Working on (1, 0) connection-----\n",
      "sk_conn = [0]\n",
      "conn = [0]\n",
      "winning_vertex = [636853.01257571 785085.62792771 883118.75733574]\n",
      "MP_branches_with_stitch_point = [0]\n",
      "MAP_branches_with_stitch_point = [3]\n",
      "MAP_stitch_point_on_end_or_branch = False\n"
     ]
    },
    {
     "data": {
      "application/vnd.jupyter.widget-view+json": {
       "model_id": "69f3f9d21f414735a72b5632492636c3",
       "version_major": 2,
       "version_minor": 0
      },
      "text/plain": [
       "0it [00:00, ?it/s]"
      ]
     },
     "metadata": {},
     "output_type": "display_data"
    },
    {
     "name": "stdout",
     "output_type": "stream",
     "text": [
      "\n",
      "\n",
      "--- Working on 1-to-1 correspondence-----\n",
      "max(original_labels),len(original_labels) = (1, 2)\n",
      "empty_indices % = 0.02859952470703925\n",
      " conflict_indices % = 0.005326559042858314\n"
     ]
    },
    {
     "data": {
      "application/vnd.jupyter.widget-view+json": {
       "model_id": "0f8f8b9bcd2c4abba384a70d5e3fa91d",
       "version_major": 2,
       "version_minor": 0
      },
      "text/plain": [
       "  0%|          | 0/14 [00:00<?, ?it/s]"
      ]
     },
     "metadata": {},
     "output_type": "display_data"
    },
    {
     "data": {
      "application/vnd.jupyter.widget-view+json": {
       "model_id": "ecb3ecf34a6149cf8e1489bec8621b16",
       "version_major": 2,
       "version_minor": 0
      },
      "text/plain": [
       "  0%|          | 0/2 [00:00<?, ?it/s]"
      ]
     },
     "metadata": {},
     "output_type": "display_data"
    },
    {
     "data": {
      "application/vnd.jupyter.widget-view+json": {
       "model_id": "423f42fcbd7d4934a7eba272f8158565",
       "version_major": 2,
       "version_minor": 0
      },
      "text/plain": [
       "0it [00:00, ?it/s]"
      ]
     },
     "metadata": {},
     "output_type": "display_data"
    },
    {
     "name": "stdout",
     "output_type": "stream",
     "text": [
      "\n",
      "\n",
      "--- Working on 1-to-1 correspondence-----\n",
      "max(original_labels),len(original_labels) = (2, 3)\n",
      "empty_indices % = 0.0673532777505313\n",
      " conflict_indices % = 0.005721759032205329\n"
     ]
    },
    {
     "data": {
      "application/vnd.jupyter.widget-view+json": {
       "model_id": "01b621725ccc4753af735cc687565aa2",
       "version_major": 2,
       "version_minor": 0
      },
      "text/plain": [
       "  0%|          | 0/45 [00:00<?, ?it/s]"
      ]
     },
     "metadata": {},
     "output_type": "display_data"
    },
    {
     "data": {
      "application/vnd.jupyter.widget-view+json": {
       "model_id": "5fd4bd10499b46d69cc06c03e0245828",
       "version_major": 2,
       "version_minor": 0
      },
      "text/plain": [
       "  0%|          | 0/3 [00:00<?, ?it/s]"
      ]
     },
     "metadata": {},
     "output_type": "display_data"
    },
    {
     "name": "stdout",
     "output_type": "stream",
     "text": [
      "Deleting branches from dictionary\n",
      "MP_branches_with_stitch_point= [0]\n",
      "MP_branches_for_correspondence = [0]\n",
      "MP_leftover = [], MP_leftover_idx = []\n",
      " Finished with (1, 0) \n",
      "\n",
      "\n",
      "\n",
      "\n",
      "---- Working on (2, 0) connection-----\n",
      "sk_conn = [0, 1]\n",
      "conn = [0, 1]\n",
      "winning_vertex = [601813.99441567 798147.85467095 910184.83951148]\n",
      "MP_branches_with_stitch_point = [0, 1]\n",
      "MAP_branches_with_stitch_point = [0]\n",
      "MAP_stitch_point_on_end_or_branch = True\n"
     ]
    },
    {
     "data": {
      "application/vnd.jupyter.widget-view+json": {
       "model_id": "f2f304d654b94d9383e865bc0e4338e5",
       "version_major": 2,
       "version_minor": 0
      },
      "text/plain": [
       "0it [00:00, ?it/s]"
      ]
     },
     "metadata": {},
     "output_type": "display_data"
    },
    {
     "name": "stdout",
     "output_type": "stream",
     "text": [
      "\n",
      "\n",
      "--- Working on 1-to-1 correspondence-----\n",
      "max(original_labels),len(original_labels) = (2, 3)\n",
      "empty_indices % = 0.05072991302348749\n",
      " conflict_indices % = 0.006551975171462508\n"
     ]
    },
    {
     "data": {
      "application/vnd.jupyter.widget-view+json": {
       "model_id": "858c71d6c168494da8fe1f7b8157a130",
       "version_major": 2,
       "version_minor": 0
      },
      "text/plain": [
       "  0%|          | 0/35 [00:00<?, ?it/s]"
      ]
     },
     "metadata": {},
     "output_type": "display_data"
    },
    {
     "data": {
      "application/vnd.jupyter.widget-view+json": {
       "model_id": "d8a25737a7bd40faba17f6e68f63bfa4",
       "version_major": 2,
       "version_minor": 0
      },
      "text/plain": [
       "  0%|          | 0/3 [00:00<?, ?it/s]"
      ]
     },
     "metadata": {},
     "output_type": "display_data"
    },
    {
     "name": "stdout",
     "output_type": "stream",
     "text": [
      "MP_branches_with_stitch_point= [0, 1]\n",
      "MP_branches_for_correspondence = [0 1]\n",
      "MP_leftover = [], MP_leftover_idx = []\n",
      " Finished with (2, 0) \n",
      "\n",
      "\n",
      "\n",
      "\n",
      "---- Working on (3, 0) connection-----\n",
      "sk_conn = [0]\n",
      "conn = [0]\n",
      "winning_vertex = [613686.55938768 782177.87252093 905912.75140531]\n",
      "MP_branches_with_stitch_point = [0]\n",
      "MAP_branches_with_stitch_point = [2]\n",
      "MAP_stitch_point_on_end_or_branch = False\n"
     ]
    },
    {
     "data": {
      "application/vnd.jupyter.widget-view+json": {
       "model_id": "331a28840e4d4e0d829585b4af63787d",
       "version_major": 2,
       "version_minor": 0
      },
      "text/plain": [
       "0it [00:00, ?it/s]"
      ]
     },
     "metadata": {},
     "output_type": "display_data"
    },
    {
     "name": "stdout",
     "output_type": "stream",
     "text": [
      "\n",
      "\n",
      "--- Working on 1-to-1 correspondence-----\n",
      "max(original_labels),len(original_labels) = (1, 2)\n",
      "empty_indices % = 0.08049921996879875\n",
      " conflict_indices % = 0.0171606864274571\n"
     ]
    },
    {
     "data": {
      "application/vnd.jupyter.widget-view+json": {
       "model_id": "a892c576a1d34e409efc94a8e4e3a665",
       "version_major": 2,
       "version_minor": 0
      },
      "text/plain": [
       "  0%|          | 0/13 [00:00<?, ?it/s]"
      ]
     },
     "metadata": {},
     "output_type": "display_data"
    },
    {
     "data": {
      "application/vnd.jupyter.widget-view+json": {
       "model_id": "b903f6faf5d94fb3bf2bce4b274b0382",
       "version_major": 2,
       "version_minor": 0
      },
      "text/plain": [
       "  0%|          | 0/2 [00:00<?, ?it/s]"
      ]
     },
     "metadata": {},
     "output_type": "display_data"
    },
    {
     "data": {
      "application/vnd.jupyter.widget-view+json": {
       "model_id": "f33e17c597a4406b8b1e0e729c8b6678",
       "version_major": 2,
       "version_minor": 0
      },
      "text/plain": [
       "0it [00:00, ?it/s]"
      ]
     },
     "metadata": {},
     "output_type": "display_data"
    },
    {
     "name": "stdout",
     "output_type": "stream",
     "text": [
      "\n",
      "\n",
      "--- Working on 1-to-1 correspondence-----\n",
      "max(original_labels),len(original_labels) = (2, 3)\n",
      "empty_indices % = 0.0981169474727453\n",
      " conflict_indices % = 0.01313181367690783\n"
     ]
    },
    {
     "data": {
      "application/vnd.jupyter.widget-view+json": {
       "model_id": "df8e6c4ffd5348b2a3b188ee70a67eb8",
       "version_major": 2,
       "version_minor": 0
      },
      "text/plain": [
       "  0%|          | 0/38 [00:00<?, ?it/s]"
      ]
     },
     "metadata": {},
     "output_type": "display_data"
    },
    {
     "data": {
      "application/vnd.jupyter.widget-view+json": {
       "model_id": "1f92d4de34a04f01a4a1b531795e33cf",
       "version_major": 2,
       "version_minor": 0
      },
      "text/plain": [
       "  0%|          | 0/3 [00:00<?, ?it/s]"
      ]
     },
     "metadata": {},
     "output_type": "display_data"
    },
    {
     "name": "stdout",
     "output_type": "stream",
     "text": [
      "Deleting branches from dictionary\n",
      "MP_branches_with_stitch_point= [0]\n",
      "MP_branches_for_correspondence = [0]\n",
      "MP_leftover = [], MP_leftover_idx = []\n",
      " Finished with (3, 0) \n",
      "\n",
      "\n",
      "\n",
      "Time for decomp of Limb = 78.8093581199646\n",
      "Number of matching vertices = 52\n",
      "Only one endpoint after filtering away the endpoints that are not on the skeleton\n",
      "Removed 0 skeletal branches\n"
     ]
    },
    {
     "data": {
      "application/vnd.jupyter.widget-view+json": {
       "model_id": "19e4c37ccaa34bc3b7afbeada1b6c9ac",
       "version_major": 2,
       "version_minor": 0
      },
      "text/plain": [
       "  0%|          | 0/15 [00:00<?, ?it/s]"
      ]
     },
     "metadata": {},
     "output_type": "display_data"
    },
    {
     "name": "stdout",
     "output_type": "stream",
     "text": [
      "141820 141821\n",
      "For marked faces: None\n",
      "empty_indices % = 0.0\n",
      " conflict_indices % = 0.0\n"
     ]
    },
    {
     "data": {
      "application/vnd.jupyter.widget-view+json": {
       "model_id": "3a3f50b7c6f84fc59d22bf6d68da7eaa",
       "version_major": 2,
       "version_minor": 0
      },
      "text/plain": [
       "0it [00:00, ?it/s]"
      ]
     },
     "metadata": {},
     "output_type": "display_data"
    },
    {
     "data": {
      "application/vnd.jupyter.widget-view+json": {
       "model_id": "63da3f1644b84c5da35a47b4997216f2",
       "version_major": 2,
       "version_minor": 0
      },
      "text/plain": [
       "  0%|          | 0/15 [00:00<?, ?it/s]"
      ]
     },
     "metadata": {},
     "output_type": "display_data"
    },
    {
     "name": "stdout",
     "output_type": "stream",
     "text": [
      "Successful Limb Decomposition\n",
      "\n",
      "\n",
      "----- Working on Proper Limb # 2 ---------\n",
      "meshparty_segment_size = 100\n",
      "invalidation_d = 12000\n",
      "use_adaptive_invalidation_d= False\n",
      "axon_width_preprocess_limb_max = 200\n",
      "filter_end_node_length= 4000\n",
      "filter_end_node_length_meshparty = 4000\n",
      "invalidation_d = 12000\n",
      "root_curr = [607542.6 762831.9 914440.2]\n",
      "Time for preparing soma vertices and root: 0.0002200603485107422\n",
      "invalidation_d = 12000\n",
      "smooth_neighborhood = 1\n",
      "cc_vertex_thresh = 10\n"
     ]
    },
    {
     "name": "stderr",
     "output_type": "stream",
     "text": [
      "  0%|                                                                                                                                                                                                                          | 0/1 [00:00<?, ?it/s]"
     ]
    },
    {
     "data": {
      "application/vnd.jupyter.widget-view+json": {
       "model_id": "4ded922ef23449fdb7282ff4cee16344",
       "version_major": 2,
       "version_minor": 0
      },
      "text/plain": [
       "  0%|          | 0/62628 [00:00<?, ?it/s]"
      ]
     },
     "metadata": {},
     "output_type": "display_data"
    },
    {
     "name": "stderr",
     "output_type": "stream",
     "text": [
      "100%|██████████████████████████████████████████████████████████████████████████████████████████████████████████████████████████████████████████████████████████████████████████████████████████████████████████████████| 1/1 [00:00<00:00,  1.79it/s]\n"
     ]
    },
    {
     "name": "stdout",
     "output_type": "stream",
     "text": [
      "meshparty_segment_size = 100\n",
      "Time for 1st pass MP skeletonization: 1.1473045349121094\n",
      "connecting at the root\n",
      "branches_touching_root = [10]\n",
      "combining close nodes\n",
      "combine_threshold = 700\n",
      "length of Graph = 7808\n",
      "After combining close endpoints max(kept_branches_idx) = 10, len(kept_branches_idx) = 11\n",
      "empty_indices % = 0.0\n",
      " conflict_indices % = 0.003281260003841475\n"
     ]
    },
    {
     "data": {
      "application/vnd.jupyter.widget-view+json": {
       "model_id": "08db6136ebff4f5f954032a51f343376",
       "version_major": 2,
       "version_minor": 0
      },
      "text/plain": [
       "  0%|          | 0/5 [00:00<?, ?it/s]"
      ]
     },
     "metadata": {},
     "output_type": "display_data"
    },
    {
     "data": {
      "application/vnd.jupyter.widget-view+json": {
       "model_id": "44964204d9af41f098dc13d8ff205faf",
       "version_major": 2,
       "version_minor": 0
      },
      "text/plain": [
       "  0%|          | 0/11 [00:00<?, ?it/s]"
      ]
     },
     "metadata": {},
     "output_type": "display_data"
    },
    {
     "name": "stdout",
     "output_type": "stream",
     "text": [
      "Decomposing first pass: 8.63387155532837\n",
      "Attempting to use MeshAfterParty Skeletonization and Mesh Correspondence\n",
      "Another print\n",
      "Found len(mesh_large_idx) MAP candidates: [4232, 2486, 12102, 20209, 18378]\n",
      "mesh_large_connectivity: 0.05425763130187988\n",
      "Finding MAP candidates connected components: 0.00015878677368164062\n",
      "len(filtered_pieces) = 1\n",
      "skeleton_connectivity_MP : 0.26957035064697266\n",
      "Grouping MP Sublimbs by Graph: 0.057768821716308594\n",
      "Divinding into MP and MAP pieces: 1.6689300537109375e-06\n",
      "--- Working on MAP piece 0---\n",
      "MAP Filtering Soma Pieces: 0.02492976188659668\n",
      "inside skeletonize_connected_branch and use_surface_after_CGAL=True, surface_reconstruction_size=1000\n",
      "keep_idx = [0]\n",
      "     Starting Screened Poisson\n",
      "xvfb-run -n 4296 -s \"-screen 0 800x600x24\" meshlabserver $@  -i /neurd_packages/NEURD/Applications/Tutorials/Auto_Proof_Pipeline/Single_Soma_Inh/temp/None.off -o /neurd_packages/NEURD/Applications/Tutorials/Auto_Proof_Pipeline/Single_Soma_Inh/temp/None_poisson.off -s /neurd_packages/NEURD/Applications/Tutorials/Auto_Proof_Pipeline/Single_Soma_Inh/temp/poisson_122287.mls\n",
      "removed temporary input file: /neurd_packages/NEURD/Applications/Tutorials/Auto_Proof_Pipeline/Single_Soma_Inh/temp/None.off\n",
      "removed temporary output file: /neurd_packages/NEURD/Applications/Tutorials/Auto_Proof_Pipeline/Single_Soma_Inh/temp/None_poisson.off\n",
      "Using the close holes feature\n",
      "xvfb-run -n 7489 -s \"-screen 0 800x600x24\" meshlabserver $@  -i /neurd_packages/NEURD/Applications/Tutorials/Auto_Proof_Pipeline/Single_Soma_Inh/temp/neuron_65821.off -o /neurd_packages/NEURD/Applications/Tutorials/Auto_Proof_Pipeline/Single_Soma_Inh/temp/neuron_65821_fill_holes.off -s /neurd_packages/NEURD/Applications/Tutorials/Auto_Proof_Pipeline/Single_Soma_Inh/temp/fill_holes_761590.mls\n",
      "removed temporary input file: /neurd_packages/NEURD/Applications/Tutorials/Auto_Proof_Pipeline/Single_Soma_Inh/temp/neuron_65821.off\n",
      "removed temporary output file: /neurd_packages/NEURD/Applications/Tutorials/Auto_Proof_Pipeline/Single_Soma_Inh/temp/neuron_65821_fill_holes.off\n",
      "/neurd_packages/NEURD/Applications/Tutorials/Auto_Proof_Pipeline/Single_Soma_Inh/temp/fill_holes_761590.mls is being deleted....\n",
      "-----Time for Screened Poisson= 25.42940926551819\n",
      "mesh_pieces = [<trimesh.Trimesh(vertices.shape=(75651, 3), faces.shape=(151298, 3))>]\n",
      "     Starting Calcification (Changed back where stitches large poissons)\n",
      "Manifold status before skeletonization = True\n",
      "Watertight status before skeletonization = True\n",
      "min_edge_length = 75\n",
      "Before mesh subtraction number of skeleton edges = 2636\n"
     ]
    },
    {
     "data": {
      "application/vnd.jupyter.widget-view+json": {
       "model_id": "44a7d13eef284c7a9aa48c4abd459580",
       "version_major": 2,
       "version_minor": 0
      },
      "text/plain": [
       "0it [00:00, ?it/s]"
      ]
     },
     "metadata": {},
     "output_type": "display_data"
    },
    {
     "name": "stdout",
     "output_type": "stream",
     "text": [
      "len(leftover_meshes_sig) = []\n"
     ]
    },
    {
     "data": {
      "application/vnd.jupyter.widget-view+json": {
       "model_id": "1460bd5d6e5142bb82bdb38479d0cba8",
       "version_major": 2,
       "version_minor": 0
      },
      "text/plain": [
       "0it [00:00, ?it/s]"
      ]
     },
     "metadata": {},
     "output_type": "display_data"
    },
    {
     "name": "stdout",
     "output_type": "stream",
     "text": [
      "No skeletons to stack so returning empty list\n",
      "STacking the leftover and significant poisson skeleton\n",
      "max_stitch_distance = 5000\n",
      "len_subgraphs AT BEGINNING of the loop\n"
     ]
    },
    {
     "data": {
      "application/vnd.jupyter.widget-view+json": {
       "model_id": "7201147b195a413a99284dee9aad37eb",
       "version_major": 2,
       "version_minor": 0
      },
      "text/plain": [
       "  0%|          | 0/1 [00:00<?, ?it/s]"
      ]
     },
     "metadata": {},
     "output_type": "display_data"
    },
    {
     "name": "stdout",
     "output_type": "stream",
     "text": [
      "all graph is one component!\n",
      "Total time for skeleton stitching = 0.11164522171020508\n",
      "The process was using a temp folder\n",
      "Checking connected components after skeletonize_connected_branch\n",
      "    Total time for skeletonizing branch: 40.497764110565186\n",
      "Checking connected components after removing cycles\n",
      "Total time for mesh KDTree = 0.3707754611968994\n",
      "sbv[0].reshape(-1,3) = [[607542.6 762831.9 914440.2]]\n",
      "closest_sk_pt_coord BEFORE = [608035. 762744. 915041.]\n",
      "current_skeleton.shape = (2635, 2, 3)\n",
      "node_for_stitch = 912: [608035. 762744. 915041.]\n",
      "node_for_stitch AFTER = 912: [608035. 762744. 915041.]\n",
      "possible_node_loc = [  68  120  125  203  257  332  456  484  507  520  533  572  842  912\n",
      " 1270 1315 1570 1651 1819 1841 1870 2112 2271 2492 2493 2523 2580 2635]\n",
      "possible_node_loc AFTER = [  68  120  125  203  257  332  456  484  507  520  533  572  842  912\n",
      " 1270 1315 1570 1651 1819 1841 1870 2112 2271 2492 2493 2523 2580 2635]\n",
      "curr_shortest_path = [912]\n",
      "Current stitch point was a branch or endpoint\n",
      "change_status for create soma extending pieces = False\n",
      "closest_sk_pt_coord AFTER = [608035. 762744. 915041.]\n",
      "skipping soma 0 because closest skeleton node was already end node\n",
      "endpoints_must_keep = {0: array([[608035., 762744., 915041.]])}\n",
      "    Total time for Fixing Skeleton Soma Endpoint Extension : 1.4677259922027588\n",
      "filter_end_node_length = 4000\n"
     ]
    },
    {
     "data": {
      "application/vnd.jupyter.widget-view+json": {
       "model_id": "db55d8337bc848dc9c5f1a645ad6f157",
       "version_major": 2,
       "version_minor": 0
      },
      "text/plain": [
       "  0%|          | 0/24 [00:00<?, ?it/s]"
      ]
     },
     "metadata": {},
     "output_type": "display_data"
    },
    {
     "name": "stdout",
     "output_type": "stream",
     "text": [
      "Checking connected components after clean_skeleton\n",
      "after DISTANCE cleaning limb size of skeleton = (2498, 2, 3)\n",
      "********COMBINING CLOSE SKELETON NODES WITHIN 700 DISTANCE**********\n",
      "combine_threshold = 700\n",
      "Found 0 valid paths to replace\n",
      "valid_paths = []\n",
      "valid_path_lengths = []\n",
      "No valid paths found so just returning the original\n",
      "skeletonize_and_clean_connected_branch_CGAL: 48.52035617828369\n",
      "Working on limb correspondence for #0 MAP piece\n",
      "xvfb-run -n 2449 -s \"-screen 0 800x600x24\" meshlabserver $@  -i /neurd_packages/NEURD/Applications/Tutorials/Auto_Proof_Pipeline/Single_Soma_Inh/temp/neuron_1143.off -o /neurd_packages/NEURD/Applications/Tutorials/Auto_Proof_Pipeline/Single_Soma_Inh/temp/neuron_1143_remove_interior.off -s /neurd_packages/NEURD/Applications/Tutorials/Auto_Proof_Pipeline/Single_Soma_Inh/temp/remove_interior_615081.mls\n",
      "removed temporary input file: /neurd_packages/NEURD/Applications/Tutorials/Auto_Proof_Pipeline/Single_Soma_Inh/temp/neuron_1143.off\n",
      "removed temporary output file: /neurd_packages/NEURD/Applications/Tutorials/Auto_Proof_Pipeline/Single_Soma_Inh/temp/neuron_1143_remove_interior.off\n",
      "/neurd_packages/NEURD/Applications/Tutorials/Auto_Proof_Pipeline/Single_Soma_Inh/temp/remove_interior_615081.mls is being deleted....\n",
      "No significant (100) interior meshes present\n",
      "largest is 31\n"
     ]
    },
    {
     "data": {
      "application/vnd.jupyter.widget-view+json": {
       "model_id": "bd93a058de89455aae9eebc302dd4757",
       "version_major": 2,
       "version_minor": 0
      },
      "text/plain": [
       "0it [00:00, ?it/s]"
      ]
     },
     "metadata": {},
     "output_type": "display_data"
    },
    {
     "name": "stdout",
     "output_type": "stream",
     "text": [
      "Total time for decomposition = 10.916837692260742\n",
      "mesh_correspondence_first_pass: 10.916897773742676\n",
      "Limb decomposed into 9 branches\n",
      "divided_skeleton_graph_recovered = (2498, 2, 3) and \n",
      "current_mesh_data[0]['branch_skeletons_cleaned'].shape = (2498, 2, 3)\n",
      "\n",
      "Number of connected components in deocmposed recovered graph = 1\n",
      "Number of connected components in cleaned skeleton graph= 1\n",
      "The downsampled branches number of connected components = 1\n",
      "Empty submeshes = []\n",
      "\n",
      "\n",
      "--- Working on 1-to-1 correspondence-----\n",
      "max(original_labels),len(original_labels) = (8, 9)\n",
      "empty_indices % = 0.059853327991359936\n",
      " conflict_indices % = 0.01783754594387444\n"
     ]
    },
    {
     "data": {
      "application/vnd.jupyter.widget-view+json": {
       "model_id": "ff620af863024fb08eed955505745663",
       "version_major": 2,
       "version_minor": 0
      },
      "text/plain": [
       "  0%|          | 0/75 [00:00<?, ?it/s]"
      ]
     },
     "metadata": {},
     "output_type": "display_data"
    },
    {
     "name": "stdout",
     "output_type": "stream",
     "text": [
      "Took 0 iterations to expand the label back\n",
      "empty_indices % = 0.0\n",
      " conflict_indices % = 0.0\n"
     ]
    },
    {
     "data": {
      "application/vnd.jupyter.widget-view+json": {
       "model_id": "cd57f9fb86a842e485326144a3ab96a4",
       "version_major": 2,
       "version_minor": 0
      },
      "text/plain": [
       "0it [00:00, ?it/s]"
      ]
     },
     "metadata": {},
     "output_type": "display_data"
    },
    {
     "data": {
      "application/vnd.jupyter.widget-view+json": {
       "model_id": "25daef0ba23649c7b5e0ef6404ed1ced",
       "version_major": 2,
       "version_minor": 0
      },
      "text/plain": [
       "  0%|          | 0/9 [00:00<?, ?it/s]"
      ]
     },
     "metadata": {},
     "output_type": "display_data"
    },
    {
     "name": "stdout",
     "output_type": "stream",
     "text": [
      "Total time for MAP sublimb #0 mesh processing = 64.23091197013855\n",
      "correspondence_1_to_1: 4.768654823303223\n",
      "Total time for MAP sublimb processing 64.2309889793396\n",
      "---- Working on MP Decomposition #0 ----\n",
      "Computing the current soma touching verts dict manually\n",
      "MP filtering soma verts: 0.017803668975830078\n",
      "Do Not Need to Fix MP Decomposition 0 so just continuing\n",
      "---- Working on MP Decomposition #1 ----\n",
      "Computing the current soma touching verts dict manually\n",
      "MP filtering soma verts: 0.023463726043701172\n",
      "Do Not Need to Fix MP Decomposition 1 so just continuing\n",
      "---- Working on MP Decomposition #2 ----\n",
      "Computing the current soma touching verts dict manually\n",
      "MP filtering soma verts: 0.023978471755981445\n",
      "Do Not Need to Fix MP Decomposition 2 so just continuing\n",
      "Successful mesh connectivity with type edges\n",
      "\n",
      "---- Working on (0, 0) connection-----\n",
      "sk_conn = [0, 1]\n",
      "conn = [0, 1]\n",
      "winning_vertex = [638960.43191541 756081.88315311 949436.48435953]\n",
      "MP_branches_with_stitch_point = [0, 1]\n",
      "MAP_branches_with_stitch_point = [8]\n",
      "MAP_stitch_point_on_end_or_branch = True\n"
     ]
    },
    {
     "data": {
      "application/vnd.jupyter.widget-view+json": {
       "model_id": "71ada83ffbf347faa8681b8d72abffd8",
       "version_major": 2,
       "version_minor": 0
      },
      "text/plain": [
       "0it [00:00, ?it/s]"
      ]
     },
     "metadata": {},
     "output_type": "display_data"
    },
    {
     "name": "stdout",
     "output_type": "stream",
     "text": [
      "\n",
      "\n",
      "--- Working on 1-to-1 correspondence-----\n",
      "max(original_labels),len(original_labels) = (2, 3)\n",
      "empty_indices % = 0.06662979194145428\n",
      " conflict_indices % = 0.006190699059694507\n"
     ]
    },
    {
     "data": {
      "application/vnd.jupyter.widget-view+json": {
       "model_id": "be639388d2b24294b4adee1b3d92ab2b",
       "version_major": 2,
       "version_minor": 0
      },
      "text/plain": [
       "  0%|          | 0/67 [00:00<?, ?it/s]"
      ]
     },
     "metadata": {},
     "output_type": "display_data"
    },
    {
     "data": {
      "application/vnd.jupyter.widget-view+json": {
       "model_id": "7b575240894046bd8c1203cc91239f28",
       "version_major": 2,
       "version_minor": 0
      },
      "text/plain": [
       "  0%|          | 0/3 [00:00<?, ?it/s]"
      ]
     },
     "metadata": {},
     "output_type": "display_data"
    },
    {
     "name": "stdout",
     "output_type": "stream",
     "text": [
      "MP_branches_with_stitch_point= [0, 1]\n",
      "MP_branches_for_correspondence = [0 1]\n",
      "MP_leftover = [], MP_leftover_idx = []\n",
      " Finished with (0, 0) \n",
      "\n",
      "\n",
      "\n",
      "\n",
      "---- Working on (1, 0) connection-----\n",
      "sk_conn = [0, 1]\n",
      "conn = [0, 1]\n",
      "winning_vertex = [613101.64672925 779430.00572369 978255.72967205]\n",
      "MP_branches_with_stitch_point = [0, 1]\n",
      "MAP_branches_with_stitch_point = [6]\n",
      "MAP_stitch_point_on_end_or_branch = True\n"
     ]
    },
    {
     "data": {
      "application/vnd.jupyter.widget-view+json": {
       "model_id": "2655865fd0704338bf4a1ff01140e106",
       "version_major": 2,
       "version_minor": 0
      },
      "text/plain": [
       "0it [00:00, ?it/s]"
      ]
     },
     "metadata": {},
     "output_type": "display_data"
    },
    {
     "name": "stdout",
     "output_type": "stream",
     "text": [
      "\n",
      "\n",
      "--- Working on 1-to-1 correspondence-----\n",
      "max(original_labels),len(original_labels) = (2, 3)\n",
      "empty_indices % = 0.07104678891538525\n",
      " conflict_indices % = 0.007441822218567552\n"
     ]
    },
    {
     "data": {
      "application/vnd.jupyter.widget-view+json": {
       "model_id": "c1c1c05c04af4da59b6343dda0802788",
       "version_major": 2,
       "version_minor": 0
      },
      "text/plain": [
       "  0%|          | 0/24 [00:00<?, ?it/s]"
      ]
     },
     "metadata": {},
     "output_type": "display_data"
    },
    {
     "data": {
      "application/vnd.jupyter.widget-view+json": {
       "model_id": "63892efa6e904162be2355644a47ccbd",
       "version_major": 2,
       "version_minor": 0
      },
      "text/plain": [
       "  0%|          | 0/3 [00:00<?, ?it/s]"
      ]
     },
     "metadata": {},
     "output_type": "display_data"
    },
    {
     "name": "stdout",
     "output_type": "stream",
     "text": [
      "MP_branches_with_stitch_point= [0, 1]\n",
      "MP_branches_for_correspondence = [0 1]\n",
      "MP_leftover = [], MP_leftover_idx = []\n",
      " Finished with (1, 0) \n",
      "\n",
      "\n",
      "\n",
      "\n",
      "---- Working on (2, 0) connection-----\n",
      "sk_conn = [0, 1]\n",
      "conn = [0, 1]\n",
      "winning_vertex = [619621.55666018 680458.4761976  936121.64033632]\n",
      "MP_branches_with_stitch_point = [0, 1]\n",
      "MAP_branches_with_stitch_point = [3]\n",
      "MAP_stitch_point_on_end_or_branch = True\n"
     ]
    },
    {
     "data": {
      "application/vnd.jupyter.widget-view+json": {
       "model_id": "d8b92ad2f737404c9f647d37614c41c6",
       "version_major": 2,
       "version_minor": 0
      },
      "text/plain": [
       "0it [00:00, ?it/s]"
      ]
     },
     "metadata": {},
     "output_type": "display_data"
    },
    {
     "name": "stdout",
     "output_type": "stream",
     "text": [
      "\n",
      "\n",
      "--- Working on 1-to-1 correspondence-----\n",
      "max(original_labels),len(original_labels) = (2, 3)\n",
      "empty_indices % = 0.09228290886775084\n",
      " conflict_indices % = 0.006788892298250997\n"
     ]
    },
    {
     "data": {
      "application/vnd.jupyter.widget-view+json": {
       "model_id": "976b869845d5403999dd119a30045e6c",
       "version_major": 2,
       "version_minor": 0
      },
      "text/plain": [
       "  0%|          | 0/28 [00:00<?, ?it/s]"
      ]
     },
     "metadata": {},
     "output_type": "display_data"
    },
    {
     "data": {
      "application/vnd.jupyter.widget-view+json": {
       "model_id": "3d219c9c98b8429495fa6478045153e7",
       "version_major": 2,
       "version_minor": 0
      },
      "text/plain": [
       "  0%|          | 0/3 [00:00<?, ?it/s]"
      ]
     },
     "metadata": {},
     "output_type": "display_data"
    },
    {
     "name": "stdout",
     "output_type": "stream",
     "text": [
      "MP_branches_with_stitch_point= [0, 1]\n",
      "MP_branches_for_correspondence = [0 1]\n",
      "MP_leftover = [], MP_leftover_idx = []\n",
      " Finished with (2, 0) \n",
      "\n",
      "\n",
      "\n",
      "Time for decomp of Limb = 100.32318878173828\n",
      "Number of matching vertices = 27\n",
      "Only one endpoint after filtering away the endpoints that are not on the skeleton\n",
      "Removed 0 skeletal branches\n"
     ]
    },
    {
     "data": {
      "application/vnd.jupyter.widget-view+json": {
       "model_id": "3e5d3189133f4eb092ea3c404290fbf4",
       "version_major": 2,
       "version_minor": 0
      },
      "text/plain": [
       "  0%|          | 0/15 [00:00<?, ?it/s]"
      ]
     },
     "metadata": {},
     "output_type": "display_data"
    },
    {
     "name": "stdout",
     "output_type": "stream",
     "text": [
      "124951 124952\n",
      "For marked faces: None\n",
      "empty_indices % = 0.0\n",
      " conflict_indices % = 0.0\n"
     ]
    },
    {
     "data": {
      "application/vnd.jupyter.widget-view+json": {
       "model_id": "22e7256b59ed4c8585ce8d159c8fb74c",
       "version_major": 2,
       "version_minor": 0
      },
      "text/plain": [
       "0it [00:00, ?it/s]"
      ]
     },
     "metadata": {},
     "output_type": "display_data"
    },
    {
     "data": {
      "application/vnd.jupyter.widget-view+json": {
       "model_id": "784e4f0a598744f68d717d0b66472c60",
       "version_major": 2,
       "version_minor": 0
      },
      "text/plain": [
       "  0%|          | 0/15 [00:00<?, ?it/s]"
      ]
     },
     "metadata": {},
     "output_type": "display_data"
    },
    {
     "name": "stdout",
     "output_type": "stream",
     "text": [
      "Successful Limb Decomposition\n",
      "\n",
      "\n",
      "----- Working on Proper Limb # 3 ---------\n",
      "meshparty_segment_size = 100\n",
      "invalidation_d = 12000\n",
      "use_adaptive_invalidation_d= False\n",
      "axon_width_preprocess_limb_max = 200\n",
      "filter_end_node_length= 4000\n",
      "filter_end_node_length_meshparty = 4000\n",
      "invalidation_d = 12000\n",
      "root_curr = [612977.6 770342.8 904385.2]\n",
      "Time for preparing soma vertices and root: 0.00032782554626464844\n",
      "invalidation_d = 12000\n",
      "smooth_neighborhood = 1\n",
      "cc_vertex_thresh = 10\n"
     ]
    },
    {
     "name": "stderr",
     "output_type": "stream",
     "text": [
      "  0%|                                                                                                                                                                                                                          | 0/1 [00:00<?, ?it/s]"
     ]
    },
    {
     "data": {
      "application/vnd.jupyter.widget-view+json": {
       "model_id": "0acdd7f2ced944b39d9b00f60d73c960",
       "version_major": 2,
       "version_minor": 0
      },
      "text/plain": [
       "  0%|          | 0/50407 [00:00<?, ?it/s]"
      ]
     },
     "metadata": {},
     "output_type": "display_data"
    },
    {
     "name": "stderr",
     "output_type": "stream",
     "text": [
      "100%|██████████████████████████████████████████████████████████████████████████████████████████████████████████████████████████████████████████████████████████████████████████████████████████████████████████████████| 1/1 [00:00<00:00,  1.43it/s]\n"
     ]
    },
    {
     "name": "stdout",
     "output_type": "stream",
     "text": [
      "meshparty_segment_size = 100\n",
      "Time for 1st pass MP skeletonization: 1.498582363128662\n",
      "connecting at the root\n",
      "branches_touching_root = [18]\n",
      "combining close nodes\n",
      "combine_threshold = 700\n",
      "length of Graph = 7941\n",
      "After combining close endpoints max(kept_branches_idx) = 18, len(kept_branches_idx) = 19\n",
      "empty_indices % = 0.0\n",
      " conflict_indices % = 0.0052689134108758326\n"
     ]
    },
    {
     "data": {
      "application/vnd.jupyter.widget-view+json": {
       "model_id": "6f7866ec0e364234bce6498d0b61c2c5",
       "version_major": 2,
       "version_minor": 0
      },
      "text/plain": [
       "  0%|          | 0/9 [00:00<?, ?it/s]"
      ]
     },
     "metadata": {},
     "output_type": "display_data"
    },
    {
     "data": {
      "application/vnd.jupyter.widget-view+json": {
       "model_id": "4630cef2b88b4f67be230b45b2bffcad",
       "version_major": 2,
       "version_minor": 0
      },
      "text/plain": [
       "  0%|          | 0/19 [00:00<?, ?it/s]"
      ]
     },
     "metadata": {},
     "output_type": "display_data"
    },
    {
     "name": "stdout",
     "output_type": "stream",
     "text": [
      "Decomposing first pass: 9.911651134490967\n",
      "Attempting to use MeshAfterParty Skeletonization and Mesh Correspondence\n",
      "Another print\n",
      "Found len(mesh_large_idx) MAP candidates: [13210, 377, 1465, 1118, 9471, 6179]\n",
      "mesh_large_connectivity: 0.037935733795166016\n",
      "Finding MAP candidates connected components: 0.00019741058349609375\n",
      "len(filtered_pieces) = 1\n",
      "skeleton_connectivity_MP : 0.33424997329711914\n",
      "Grouping MP Sublimbs by Graph: 0.045172691345214844\n",
      "Divinding into MP and MAP pieces: 1.1920928955078125e-06\n",
      "--- Working on MAP piece 0---\n",
      "MAP Filtering Soma Pieces: 0.005701303482055664\n",
      "inside skeletonize_connected_branch and use_surface_after_CGAL=True, surface_reconstruction_size=1000\n",
      "keep_idx = [0]\n",
      "     Starting Screened Poisson\n",
      "xvfb-run -n 5317 -s \"-screen 0 800x600x24\" meshlabserver $@  -i /neurd_packages/NEURD/Applications/Tutorials/Auto_Proof_Pipeline/Single_Soma_Inh/temp/None.off -o /neurd_packages/NEURD/Applications/Tutorials/Auto_Proof_Pipeline/Single_Soma_Inh/temp/None_poisson.off -s /neurd_packages/NEURD/Applications/Tutorials/Auto_Proof_Pipeline/Single_Soma_Inh/temp/poisson_276494.mls\n",
      "removed temporary input file: /neurd_packages/NEURD/Applications/Tutorials/Auto_Proof_Pipeline/Single_Soma_Inh/temp/None.off\n",
      "removed temporary output file: /neurd_packages/NEURD/Applications/Tutorials/Auto_Proof_Pipeline/Single_Soma_Inh/temp/None_poisson.off\n",
      "Using the close holes feature\n",
      "xvfb-run -n 4634 -s \"-screen 0 800x600x24\" meshlabserver $@  -i /neurd_packages/NEURD/Applications/Tutorials/Auto_Proof_Pipeline/Single_Soma_Inh/temp/neuron_234.off -o /neurd_packages/NEURD/Applications/Tutorials/Auto_Proof_Pipeline/Single_Soma_Inh/temp/neuron_234_fill_holes.off -s /neurd_packages/NEURD/Applications/Tutorials/Auto_Proof_Pipeline/Single_Soma_Inh/temp/fill_holes_810234.mls\n",
      "removed temporary input file: /neurd_packages/NEURD/Applications/Tutorials/Auto_Proof_Pipeline/Single_Soma_Inh/temp/neuron_234.off\n",
      "removed temporary output file: /neurd_packages/NEURD/Applications/Tutorials/Auto_Proof_Pipeline/Single_Soma_Inh/temp/neuron_234_fill_holes.off\n",
      "/neurd_packages/NEURD/Applications/Tutorials/Auto_Proof_Pipeline/Single_Soma_Inh/temp/fill_holes_810234.mls is being deleted....\n",
      "-----Time for Screened Poisson= 15.47779107093811\n",
      "mesh_pieces = [<trimesh.Trimesh(vertices.shape=(47149, 3), faces.shape=(94294, 3))>]\n",
      "     Starting Calcification (Changed back where stitches large poissons)\n",
      "Manifold status before skeletonization = True\n",
      "Watertight status before skeletonization = True\n",
      "min_edge_length = 75\n",
      "Before mesh subtraction number of skeleton edges = 1300\n"
     ]
    },
    {
     "data": {
      "application/vnd.jupyter.widget-view+json": {
       "model_id": "d0d64ea15c8640c38807b09ab7a0430c",
       "version_major": 2,
       "version_minor": 0
      },
      "text/plain": [
       "0it [00:00, ?it/s]"
      ]
     },
     "metadata": {},
     "output_type": "display_data"
    },
    {
     "name": "stdout",
     "output_type": "stream",
     "text": [
      "len(leftover_meshes_sig) = []\n"
     ]
    },
    {
     "data": {
      "application/vnd.jupyter.widget-view+json": {
       "model_id": "09ff1ca3096a479d8874451a6e21ae9b",
       "version_major": 2,
       "version_minor": 0
      },
      "text/plain": [
       "0it [00:00, ?it/s]"
      ]
     },
     "metadata": {},
     "output_type": "display_data"
    },
    {
     "name": "stdout",
     "output_type": "stream",
     "text": [
      "No skeletons to stack so returning empty list\n",
      "STacking the leftover and significant poisson skeleton\n",
      "max_stitch_distance = 5000\n",
      "len_subgraphs AT BEGINNING of the loop\n"
     ]
    },
    {
     "data": {
      "application/vnd.jupyter.widget-view+json": {
       "model_id": "838469aef2a6411196dd9f6486e06e14",
       "version_major": 2,
       "version_minor": 0
      },
      "text/plain": [
       "  0%|          | 0/1 [00:00<?, ?it/s]"
      ]
     },
     "metadata": {},
     "output_type": "display_data"
    },
    {
     "name": "stdout",
     "output_type": "stream",
     "text": [
      "all graph is one component!\n",
      "Total time for skeleton stitching = 0.08307504653930664\n",
      "The process was using a temp folder\n",
      "Checking connected components after skeletonize_connected_branch\n",
      "    Total time for skeletonizing branch: 25.769775867462158\n",
      "Checking connected components after removing cycles\n",
      "Total time for mesh KDTree = 0.2654728889465332\n",
      "sbv[0].reshape(-1,3) = [[612977.6 770342.8 904385.2]]\n",
      "closest_sk_pt_coord BEFORE = [612746. 769999. 904054.]\n",
      "current_skeleton.shape = (1299, 2, 3)\n",
      "node_for_stitch = 0: [612746. 769999. 904054.]\n",
      "node_for_stitch AFTER = 0: [612746. 769999. 904054.]\n",
      "possible_node_loc = [   0   30   97  217  348  424  450  718 1073 1118 1150 1212 1238 1299]\n",
      "possible_node_loc AFTER = [   0   30   97  217  348  424  450  718 1073 1118 1150 1212 1238 1299]\n",
      "curr_shortest_path = [0]\n",
      "Current stitch point was a branch or endpoint\n",
      "change_status for create soma extending pieces = False\n",
      "closest_sk_pt_coord AFTER = [612746. 769999. 904054.]\n",
      "skipping soma 0 because closest skeleton node was already end node\n",
      "endpoints_must_keep = {0: array([[612746., 769999., 904054.]])}\n",
      "    Total time for Fixing Skeleton Soma Endpoint Extension : 0.5991480350494385\n",
      "filter_end_node_length = 4000\n"
     ]
    },
    {
     "data": {
      "application/vnd.jupyter.widget-view+json": {
       "model_id": "334e8b736f59469897d1a589da482879",
       "version_major": 2,
       "version_minor": 0
      },
      "text/plain": [
       "  0%|          | 0/10 [00:00<?, ?it/s]"
      ]
     },
     "metadata": {},
     "output_type": "display_data"
    },
    {
     "name": "stdout",
     "output_type": "stream",
     "text": [
      "Checking connected components after clean_skeleton\n",
      "after DISTANCE cleaning limb size of skeleton = (1217, 2, 3)\n",
      "********COMBINING CLOSE SKELETON NODES WITHIN 700 DISTANCE**********\n",
      "combine_threshold = 700\n",
      "Found 0 valid paths to replace\n",
      "valid_paths = []\n",
      "valid_path_lengths = []\n",
      "No valid paths found so just returning the original\n",
      "skeletonize_and_clean_connected_branch_CGAL: 28.069538354873657\n",
      "Working on limb correspondence for #0 MAP piece\n",
      "xvfb-run -n 5336 -s \"-screen 0 800x600x24\" meshlabserver $@  -i /neurd_packages/NEURD/Applications/Tutorials/Auto_Proof_Pipeline/Single_Soma_Inh/temp/neuron_29824.off -o /neurd_packages/NEURD/Applications/Tutorials/Auto_Proof_Pipeline/Single_Soma_Inh/temp/neuron_29824_remove_interior.off -s /neurd_packages/NEURD/Applications/Tutorials/Auto_Proof_Pipeline/Single_Soma_Inh/temp/remove_interior_465252.mls\n",
      "removed temporary input file: /neurd_packages/NEURD/Applications/Tutorials/Auto_Proof_Pipeline/Single_Soma_Inh/temp/neuron_29824.off\n",
      "removed temporary output file: /neurd_packages/NEURD/Applications/Tutorials/Auto_Proof_Pipeline/Single_Soma_Inh/temp/neuron_29824_remove_interior.off\n",
      "/neurd_packages/NEURD/Applications/Tutorials/Auto_Proof_Pipeline/Single_Soma_Inh/temp/remove_interior_465252.mls is being deleted....\n",
      "No significant (100) interior meshes present\n",
      "largest is 38\n"
     ]
    },
    {
     "data": {
      "application/vnd.jupyter.widget-view+json": {
       "model_id": "ad14ce7089f0445b860f18755f081ca0",
       "version_major": 2,
       "version_minor": 0
      },
      "text/plain": [
       "0it [00:00, ?it/s]"
      ]
     },
     "metadata": {},
     "output_type": "display_data"
    },
    {
     "name": "stdout",
     "output_type": "stream",
     "text": [
      "Total time for decomposition = 6.134060621261597\n",
      "mesh_correspondence_first_pass: 6.134106874465942\n",
      "Limb decomposed into 5 branches\n",
      "divided_skeleton_graph_recovered = (1217, 2, 3) and \n",
      "current_mesh_data[0]['branch_skeletons_cleaned'].shape = (1217, 2, 3)\n",
      "\n",
      "Number of connected components in deocmposed recovered graph = 1\n",
      "Number of connected components in cleaned skeleton graph= 1\n",
      "The downsampled branches number of connected components = 1\n",
      "Empty submeshes = []\n",
      "\n",
      "\n",
      "--- Working on 1-to-1 correspondence-----\n",
      "max(original_labels),len(original_labels) = (4, 5)\n",
      "empty_indices % = 0.06112507856693903\n",
      " conflict_indices % = 0.023035826524198617\n"
     ]
    },
    {
     "data": {
      "application/vnd.jupyter.widget-view+json": {
       "model_id": "a5dae85afb834bc0b3d5f74436fb6101",
       "version_major": 2,
       "version_minor": 0
      },
      "text/plain": [
       "  0%|          | 0/39 [00:00<?, ?it/s]"
      ]
     },
     "metadata": {},
     "output_type": "display_data"
    },
    {
     "name": "stdout",
     "output_type": "stream",
     "text": [
      "Took 0 iterations to expand the label back\n",
      "empty_indices % = 0.0\n",
      " conflict_indices % = 0.0\n"
     ]
    },
    {
     "data": {
      "application/vnd.jupyter.widget-view+json": {
       "model_id": "aa1696cb49ec4d2aac4034ab87c7d449",
       "version_major": 2,
       "version_minor": 0
      },
      "text/plain": [
       "0it [00:00, ?it/s]"
      ]
     },
     "metadata": {},
     "output_type": "display_data"
    },
    {
     "data": {
      "application/vnd.jupyter.widget-view+json": {
       "model_id": "f68c83e5e369480f8a4defa83165f66c",
       "version_major": 2,
       "version_minor": 0
      },
      "text/plain": [
       "  0%|          | 0/5 [00:00<?, ?it/s]"
      ]
     },
     "metadata": {},
     "output_type": "display_data"
    },
    {
     "name": "stdout",
     "output_type": "stream",
     "text": [
      "Total time for MAP sublimb #0 mesh processing = 36.17569041252136\n",
      "correspondence_1_to_1: 1.9662752151489258\n",
      "Total time for MAP sublimb processing 36.17575716972351\n",
      "---- Working on MP Decomposition #0 ----\n",
      "Computing the current soma touching verts dict manually\n",
      "MP filtering soma verts: 0.016042232513427734\n",
      "Do Not Need to Fix MP Decomposition 0 so just continuing\n",
      "---- Working on MP Decomposition #1 ----\n",
      "Computing the current soma touching verts dict manually\n",
      "MP filtering soma verts: 0.022028207778930664\n",
      "Do Not Need to Fix MP Decomposition 1 so just continuing\n",
      "Successful mesh connectivity with type edges\n",
      "\n",
      "---- Working on (0, 0) connection-----\n",
      "sk_conn = [0, 1]\n",
      "conn = [0, 1]\n",
      "winning_vertex = [627667.0685465  752448.21024514 890230.26052172]\n",
      "MP_branches_with_stitch_point = [0, 1]\n",
      "MAP_branches_with_stitch_point = [3]\n",
      "MAP_stitch_point_on_end_or_branch = True\n"
     ]
    },
    {
     "data": {
      "application/vnd.jupyter.widget-view+json": {
       "model_id": "4702a5d9cdbb46d7baae462905a2a3e7",
       "version_major": 2,
       "version_minor": 0
      },
      "text/plain": [
       "0it [00:00, ?it/s]"
      ]
     },
     "metadata": {},
     "output_type": "display_data"
    },
    {
     "name": "stdout",
     "output_type": "stream",
     "text": [
      "\n",
      "\n",
      "--- Working on 1-to-1 correspondence-----\n",
      "max(original_labels),len(original_labels) = (2, 3)\n",
      "empty_indices % = 0.0550491786394768\n",
      " conflict_indices % = 0.009475256192388898\n"
     ]
    },
    {
     "data": {
      "application/vnd.jupyter.widget-view+json": {
       "model_id": "8dddc953388644e78e97b723187f7849",
       "version_major": 2,
       "version_minor": 0
      },
      "text/plain": [
       "  0%|          | 0/30 [00:00<?, ?it/s]"
      ]
     },
     "metadata": {},
     "output_type": "display_data"
    },
    {
     "data": {
      "application/vnd.jupyter.widget-view+json": {
       "model_id": "69c127bd67dc4fe799f03e6efd8d5e13",
       "version_major": 2,
       "version_minor": 0
      },
      "text/plain": [
       "  0%|          | 0/3 [00:00<?, ?it/s]"
      ]
     },
     "metadata": {},
     "output_type": "display_data"
    },
    {
     "name": "stdout",
     "output_type": "stream",
     "text": [
      "MP_branches_with_stitch_point= [0, 1]\n",
      "MP_branches_for_correspondence = [0 1]\n",
      "MP_leftover = [], MP_leftover_idx = []\n",
      " Finished with (0, 0) \n",
      "\n",
      "\n",
      "\n",
      "\n",
      "---- Working on (1, 0) connection-----\n",
      "sk_conn = [4]\n",
      "conn = [4]\n",
      "winning_vertex = [629663.72297337 762149.95797074 895035.22026077]\n",
      "MP_branches_with_stitch_point = [4]\n",
      "MAP_branches_with_stitch_point = [4]\n",
      "MAP_stitch_point_on_end_or_branch = False\n"
     ]
    },
    {
     "data": {
      "application/vnd.jupyter.widget-view+json": {
       "model_id": "302bd8bc3f5a4fe8bbba85e518c4d775",
       "version_major": 2,
       "version_minor": 0
      },
      "text/plain": [
       "0it [00:00, ?it/s]"
      ]
     },
     "metadata": {},
     "output_type": "display_data"
    },
    {
     "name": "stdout",
     "output_type": "stream",
     "text": [
      "\n",
      "\n",
      "--- Working on 1-to-1 correspondence-----\n",
      "max(original_labels),len(original_labels) = (1, 2)\n",
      "empty_indices % = 0.10659413364698964\n",
      " conflict_indices % = 0.0026464750422700873\n"
     ]
    },
    {
     "data": {
      "application/vnd.jupyter.widget-view+json": {
       "model_id": "7c408382eb784ecdb462d560bb2fb823",
       "version_major": 2,
       "version_minor": 0
      },
      "text/plain": [
       "  0%|          | 0/17 [00:00<?, ?it/s]"
      ]
     },
     "metadata": {},
     "output_type": "display_data"
    },
    {
     "data": {
      "application/vnd.jupyter.widget-view+json": {
       "model_id": "2f2889f7d56046198eead28092d6b760",
       "version_major": 2,
       "version_minor": 0
      },
      "text/plain": [
       "  0%|          | 0/2 [00:00<?, ?it/s]"
      ]
     },
     "metadata": {},
     "output_type": "display_data"
    },
    {
     "data": {
      "application/vnd.jupyter.widget-view+json": {
       "model_id": "759be435884446d09d80210cbba78e17",
       "version_major": 2,
       "version_minor": 0
      },
      "text/plain": [
       "0it [00:00, ?it/s]"
      ]
     },
     "metadata": {},
     "output_type": "display_data"
    },
    {
     "name": "stdout",
     "output_type": "stream",
     "text": [
      "\n",
      "\n",
      "--- Working on 1-to-1 correspondence-----\n",
      "max(original_labels),len(original_labels) = (2, 3)\n",
      "empty_indices % = 0.09878003236648823\n",
      " conflict_indices % = 0.013569027760487988\n"
     ]
    },
    {
     "data": {
      "application/vnd.jupyter.widget-view+json": {
       "model_id": "3dc6013a928a4d7abc6a72f184d5fd2d",
       "version_major": 2,
       "version_minor": 0
      },
      "text/plain": [
       "  0%|          | 0/6 [00:00<?, ?it/s]"
      ]
     },
     "metadata": {},
     "output_type": "display_data"
    },
    {
     "data": {
      "application/vnd.jupyter.widget-view+json": {
       "model_id": "cba30f4f88314d9a8cc23098ca71038b",
       "version_major": 2,
       "version_minor": 0
      },
      "text/plain": [
       "  0%|          | 0/3 [00:00<?, ?it/s]"
      ]
     },
     "metadata": {},
     "output_type": "display_data"
    },
    {
     "name": "stdout",
     "output_type": "stream",
     "text": [
      "Deleting branches from dictionary\n",
      "MP_branches_with_stitch_point= [4]\n",
      "MP_branches_for_correspondence = [4]\n",
      "MP_leftover = [], MP_leftover_idx = []\n",
      " Finished with (1, 0) \n",
      "\n",
      "\n",
      "\n",
      "Time for decomp of Limb = 63.593914270401\n",
      "Number of matching vertices = 28\n",
      "Only one endpoint after filtering away the endpoints that are not on the skeleton\n",
      "Removed 0 skeletal branches\n"
     ]
    },
    {
     "data": {
      "application/vnd.jupyter.widget-view+json": {
       "model_id": "93471887ed0e496895da25a67922f0f6",
       "version_major": 2,
       "version_minor": 0
      },
      "text/plain": [
       "  0%|          | 0/19 [00:00<?, ?it/s]"
      ]
     },
     "metadata": {},
     "output_type": "display_data"
    },
    {
     "name": "stdout",
     "output_type": "stream",
     "text": [
      "100589 100590\n",
      "For marked faces: None\n",
      "empty_indices % = 0.0\n",
      " conflict_indices % = 0.0\n"
     ]
    },
    {
     "data": {
      "application/vnd.jupyter.widget-view+json": {
       "model_id": "61c108e5c3574bdf8ca5da59d28dbe9a",
       "version_major": 2,
       "version_minor": 0
      },
      "text/plain": [
       "0it [00:00, ?it/s]"
      ]
     },
     "metadata": {},
     "output_type": "display_data"
    },
    {
     "data": {
      "application/vnd.jupyter.widget-view+json": {
       "model_id": "75decffe76c649038b3c511a215a387f",
       "version_major": 2,
       "version_minor": 0
      },
      "text/plain": [
       "  0%|          | 0/19 [00:00<?, ?it/s]"
      ]
     },
     "metadata": {},
     "output_type": "display_data"
    },
    {
     "name": "stdout",
     "output_type": "stream",
     "text": [
      "Successful Limb Decomposition\n",
      "\n",
      "\n",
      "----- Working on Proper Limb # 4 ---------\n",
      "meshparty_segment_size = 100\n",
      "invalidation_d = 12000\n",
      "use_adaptive_invalidation_d= False\n",
      "axon_width_preprocess_limb_max = 200\n",
      "filter_end_node_length= 4000\n",
      "filter_end_node_length_meshparty = 4000\n",
      "invalidation_d = 12000\n",
      "root_curr = [600586.1 766173.1 909408.5]\n",
      "Time for preparing soma vertices and root: 0.0002148151397705078\n",
      "invalidation_d = 12000\n",
      "smooth_neighborhood = 1\n",
      "cc_vertex_thresh = 10\n"
     ]
    },
    {
     "name": "stderr",
     "output_type": "stream",
     "text": [
      "  0%|                                                                                                                                                                                                                          | 0/1 [00:00<?, ?it/s]"
     ]
    },
    {
     "data": {
      "application/vnd.jupyter.widget-view+json": {
       "model_id": "58084510588c4d04bc24a4f8afec8c17",
       "version_major": 2,
       "version_minor": 0
      },
      "text/plain": [
       "  0%|          | 0/37990 [00:00<?, ?it/s]"
      ]
     },
     "metadata": {},
     "output_type": "display_data"
    },
    {
     "name": "stderr",
     "output_type": "stream",
     "text": [
      "100%|██████████████████████████████████████████████████████████████████████████████████████████████████████████████████████████████████████████████████████████████████████████████████████████████████████████████████| 1/1 [00:00<00:00,  3.19it/s]\n"
     ]
    },
    {
     "name": "stdout",
     "output_type": "stream",
     "text": [
      "meshparty_segment_size = 100\n",
      "Time for 1st pass MP skeletonization: 0.7010893821716309\n",
      "branches_touching_root = [3]\n",
      "combining close nodes\n",
      "combine_threshold = 700\n",
      "length of Graph = 5157\n",
      "After combining close endpoints max(kept_branches_idx) = 10, len(kept_branches_idx) = 11\n",
      "empty_indices % = 0.0\n",
      " conflict_indices % = 0.005621387664616928\n"
     ]
    },
    {
     "data": {
      "application/vnd.jupyter.widget-view+json": {
       "model_id": "eb697660293e4a61bd6458b1f199a324",
       "version_major": 2,
       "version_minor": 0
      },
      "text/plain": [
       "  0%|          | 0/5 [00:00<?, ?it/s]"
      ]
     },
     "metadata": {},
     "output_type": "display_data"
    },
    {
     "data": {
      "application/vnd.jupyter.widget-view+json": {
       "model_id": "59ca9a45b8214b56b9d9d0ef008a67f5",
       "version_major": 2,
       "version_minor": 0
      },
      "text/plain": [
       "  0%|          | 0/11 [00:00<?, ?it/s]"
      ]
     },
     "metadata": {},
     "output_type": "display_data"
    },
    {
     "name": "stdout",
     "output_type": "stream",
     "text": [
      "Decomposing first pass: 5.857569694519043\n",
      "Attempting to use MeshAfterParty Skeletonization and Mesh Correspondence\n",
      "Another print\n",
      "Found len(mesh_large_idx) MAP candidates: [2983, 1364, 4759]\n",
      "mesh_large_connectivity: 0.0058095455169677734\n",
      "Finding MAP candidates connected components: 0.0001289844512939453\n",
      "len(filtered_pieces) = 1\n",
      "skeleton_connectivity_MP : 0.22163128852844238\n",
      "Grouping MP Sublimbs by Graph: 0.04949808120727539\n",
      "Divinding into MP and MAP pieces: 1.1920928955078125e-06\n",
      "--- Working on MAP piece 0---\n",
      "MAP Filtering Soma Pieces: 0.012938737869262695\n",
      "inside skeletonize_connected_branch and use_surface_after_CGAL=True, surface_reconstruction_size=1000\n",
      "keep_idx = [0]\n",
      "     Starting Screened Poisson\n",
      "xvfb-run -n 7852 -s \"-screen 0 800x600x24\" meshlabserver $@  -i /neurd_packages/NEURD/Applications/Tutorials/Auto_Proof_Pipeline/Single_Soma_Inh/temp/None.off -o /neurd_packages/NEURD/Applications/Tutorials/Auto_Proof_Pipeline/Single_Soma_Inh/temp/None_poisson.off -s /neurd_packages/NEURD/Applications/Tutorials/Auto_Proof_Pipeline/Single_Soma_Inh/temp/poisson_92490.mls\n",
      "removed temporary input file: /neurd_packages/NEURD/Applications/Tutorials/Auto_Proof_Pipeline/Single_Soma_Inh/temp/None.off\n",
      "removed temporary output file: /neurd_packages/NEURD/Applications/Tutorials/Auto_Proof_Pipeline/Single_Soma_Inh/temp/None_poisson.off\n",
      "Using the close holes feature\n",
      "xvfb-run -n 3691 -s \"-screen 0 800x600x24\" meshlabserver $@  -i /neurd_packages/NEURD/Applications/Tutorials/Auto_Proof_Pipeline/Single_Soma_Inh/temp/neuron_71395.off -o /neurd_packages/NEURD/Applications/Tutorials/Auto_Proof_Pipeline/Single_Soma_Inh/temp/neuron_71395_fill_holes.off -s /neurd_packages/NEURD/Applications/Tutorials/Auto_Proof_Pipeline/Single_Soma_Inh/temp/fill_holes_692102.mls\n",
      "removed temporary input file: /neurd_packages/NEURD/Applications/Tutorials/Auto_Proof_Pipeline/Single_Soma_Inh/temp/neuron_71395.off\n",
      "removed temporary output file: /neurd_packages/NEURD/Applications/Tutorials/Auto_Proof_Pipeline/Single_Soma_Inh/temp/neuron_71395_fill_holes.off\n",
      "/neurd_packages/NEURD/Applications/Tutorials/Auto_Proof_Pipeline/Single_Soma_Inh/temp/fill_holes_692102.mls is being deleted....\n",
      "-----Time for Screened Poisson= 10.863131284713745\n",
      "mesh_pieces = [<trimesh.Trimesh(vertices.shape=(13731, 3), faces.shape=(27458, 3))>]\n",
      "     Starting Calcification (Changed back where stitches large poissons)\n",
      "Manifold status before skeletonization = True\n",
      "Watertight status before skeletonization = True\n",
      "min_edge_length = 75\n",
      "Before mesh subtraction number of skeleton edges = 354\n"
     ]
    },
    {
     "data": {
      "application/vnd.jupyter.widget-view+json": {
       "model_id": "496193a064634aafad9ebf117ac1575f",
       "version_major": 2,
       "version_minor": 0
      },
      "text/plain": [
       "0it [00:00, ?it/s]"
      ]
     },
     "metadata": {},
     "output_type": "display_data"
    },
    {
     "name": "stdout",
     "output_type": "stream",
     "text": [
      "len(leftover_meshes_sig) = []\n"
     ]
    },
    {
     "data": {
      "application/vnd.jupyter.widget-view+json": {
       "model_id": "842e3861d5fd4754b450467d353813fa",
       "version_major": 2,
       "version_minor": 0
      },
      "text/plain": [
       "0it [00:00, ?it/s]"
      ]
     },
     "metadata": {},
     "output_type": "display_data"
    },
    {
     "name": "stdout",
     "output_type": "stream",
     "text": [
      "No skeletons to stack so returning empty list\n",
      "STacking the leftover and significant poisson skeleton\n",
      "max_stitch_distance = 5000\n",
      "len_subgraphs AT BEGINNING of the loop\n"
     ]
    },
    {
     "data": {
      "application/vnd.jupyter.widget-view+json": {
       "model_id": "90303d511e8546f4932ec72e0e3a08e1",
       "version_major": 2,
       "version_minor": 0
      },
      "text/plain": [
       "  0%|          | 0/1 [00:00<?, ?it/s]"
      ]
     },
     "metadata": {},
     "output_type": "display_data"
    },
    {
     "name": "stdout",
     "output_type": "stream",
     "text": [
      "all graph is one component!\n",
      "Total time for skeleton stitching = 0.023981809616088867\n",
      "The process was using a temp folder\n",
      "Checking connected components after skeletonize_connected_branch\n",
      "    Total time for skeletonizing branch: 12.678542613983154\n",
      "Checking connected components after removing cycles\n",
      "Total time for mesh KDTree = 0.10213494300842285\n",
      "sbv[0].reshape(-1,3) = [[600586.1 766173.1 909408.5]]\n",
      "closest_sk_pt_coord BEFORE = [600191. 766341. 909643.]\n",
      "current_skeleton.shape = (353, 2, 3)\n",
      "node_for_stitch = 353: [600191. 766341. 909643.]\n",
      "node_for_stitch AFTER = 353: [600191. 766341. 909643.]\n",
      "possible_node_loc = [  0 353]\n",
      "possible_node_loc AFTER = [  0 353]\n",
      "curr_shortest_path = [353]\n",
      "Current stitch point was a branch or endpoint\n",
      "change_status for create soma extending pieces = False\n",
      "closest_sk_pt_coord AFTER = [600191. 766341. 909643.]\n",
      "skipping soma 0 because closest skeleton node was already end node\n",
      "endpoints_must_keep = {0: array([[600191., 766341., 909643.]])}\n",
      "    Total time for Fixing Skeleton Soma Endpoint Extension : 0.2677919864654541\n",
      "filter_end_node_length = 4000\n",
      "Checking connected components after clean_skeleton\n",
      "after DISTANCE cleaning limb size of skeleton = (353, 2, 3)\n",
      "********COMBINING CLOSE SKELETON NODES WITHIN 700 DISTANCE**********\n",
      "combine_threshold = 700\n",
      "Found 0 valid paths to replace\n",
      "valid_paths = []\n",
      "valid_path_lengths = []\n",
      "No valid paths found so just returning the original\n",
      "skeletonize_and_clean_connected_branch_CGAL: 13.350675582885742\n",
      "Working on limb correspondence for #0 MAP piece\n",
      "xvfb-run -n 4360 -s \"-screen 0 800x600x24\" meshlabserver $@  -i /neurd_packages/NEURD/Applications/Tutorials/Auto_Proof_Pipeline/Single_Soma_Inh/temp/neuron_32549.off -o /neurd_packages/NEURD/Applications/Tutorials/Auto_Proof_Pipeline/Single_Soma_Inh/temp/neuron_32549_remove_interior.off -s /neurd_packages/NEURD/Applications/Tutorials/Auto_Proof_Pipeline/Single_Soma_Inh/temp/remove_interior_424130.mls\n",
      "removed temporary input file: /neurd_packages/NEURD/Applications/Tutorials/Auto_Proof_Pipeline/Single_Soma_Inh/temp/neuron_32549.off\n",
      "removed temporary output file: /neurd_packages/NEURD/Applications/Tutorials/Auto_Proof_Pipeline/Single_Soma_Inh/temp/neuron_32549_remove_interior.off\n",
      "/neurd_packages/NEURD/Applications/Tutorials/Auto_Proof_Pipeline/Single_Soma_Inh/temp/remove_interior_424130.mls is being deleted....\n",
      "No significant (100) interior meshes present\n",
      "largest is 5\n"
     ]
    },
    {
     "data": {
      "application/vnd.jupyter.widget-view+json": {
       "model_id": "cee64a35821e4819b933720c77d8b41a",
       "version_major": 2,
       "version_minor": 0
      },
      "text/plain": [
       "0it [00:00, ?it/s]"
      ]
     },
     "metadata": {},
     "output_type": "display_data"
    },
    {
     "name": "stdout",
     "output_type": "stream",
     "text": [
      "Total time for decomposition = 1.8599300384521484\n",
      "mesh_correspondence_first_pass: 1.860107183456421\n",
      "Limb decomposed into 1 branches\n",
      "divided_skeleton_graph_recovered = (353, 2, 3) and \n",
      "current_mesh_data[0]['branch_skeletons_cleaned'].shape = (353, 2, 3)\n",
      "\n",
      "Number of connected components in deocmposed recovered graph = 1\n",
      "Number of connected components in cleaned skeleton graph= 1\n",
      "The downsampled branches number of connected components = 1\n",
      "Empty submeshes = []\n",
      "\n",
      "\n",
      "--- Working on 1-to-1 correspondence-----\n",
      "max(original_labels),len(original_labels) = (0, 1)\n",
      "empty_indices % = 0.024928618493301122\n",
      " conflict_indices % = 0.0\n"
     ]
    },
    {
     "data": {
      "application/vnd.jupyter.widget-view+json": {
       "model_id": "fefb5af0cd58473fa5d57342660a0871",
       "version_major": 2,
       "version_minor": 0
      },
      "text/plain": [
       "  0%|          | 0/14 [00:00<?, ?it/s]"
      ]
     },
     "metadata": {},
     "output_type": "display_data"
    },
    {
     "name": "stdout",
     "output_type": "stream",
     "text": [
      "Took 0 iterations to expand the label back\n",
      "empty_indices % = 0.0\n",
      " conflict_indices % = 0.0\n"
     ]
    },
    {
     "data": {
      "application/vnd.jupyter.widget-view+json": {
       "model_id": "3b31da75f45e4d769dbf8f9fa207e786",
       "version_major": 2,
       "version_minor": 0
      },
      "text/plain": [
       "0it [00:00, ?it/s]"
      ]
     },
     "metadata": {},
     "output_type": "display_data"
    },
    {
     "data": {
      "application/vnd.jupyter.widget-view+json": {
       "model_id": "3d82473cb1264c3b9b42c51294e440fe",
       "version_major": 2,
       "version_minor": 0
      },
      "text/plain": [
       "  0%|          | 0/1 [00:00<?, ?it/s]"
      ]
     },
     "metadata": {},
     "output_type": "display_data"
    },
    {
     "name": "stdout",
     "output_type": "stream",
     "text": [
      "Total time for MAP sublimb #0 mesh processing = 16.12039279937744\n",
      "correspondence_1_to_1: 0.8968143463134766\n",
      "Total time for MAP sublimb processing 16.12063694000244\n",
      "---- Working on MP Decomposition #0 ----\n",
      "Computing the current soma touching verts dict manually\n",
      "MP filtering soma verts: 0.02067112922668457\n",
      "Do Not Need to Fix MP Decomposition 0 so just continuing\n",
      "---- Working on MP Decomposition #1 ----\n",
      "Computing the current soma touching verts dict manually\n",
      "MP filtering soma verts: 0.05160784721374512\n",
      "Do Not Need to Fix MP Decomposition 1 so just continuing\n",
      "---- Working on MP Decomposition #2 ----\n",
      "Computing the current soma touching verts dict manually\n",
      "MP filtering soma verts: 0.07212114334106445\n",
      "Do Not Need to Fix MP Decomposition 2 so just continuing\n",
      "Successful mesh connectivity with type edges\n",
      "\n",
      "---- Working on (0, 0) connection-----\n",
      "sk_conn = [2]\n",
      "conn = [2]\n",
      "winning_vertex = [588932.63554664 766332.0624331  905632.93879231]\n",
      "MP_branches_with_stitch_point = [2]\n",
      "MAP_branches_with_stitch_point = [0]\n",
      "MAP_stitch_point_on_end_or_branch = False\n"
     ]
    },
    {
     "data": {
      "application/vnd.jupyter.widget-view+json": {
       "model_id": "3aedb28e6f5d4c88817717d91a369bb0",
       "version_major": 2,
       "version_minor": 0
      },
      "text/plain": [
       "0it [00:00, ?it/s]"
      ]
     },
     "metadata": {},
     "output_type": "display_data"
    },
    {
     "name": "stdout",
     "output_type": "stream",
     "text": [
      "\n",
      "\n",
      "--- Working on 1-to-1 correspondence-----\n",
      "max(original_labels),len(original_labels) = (1, 2)\n",
      "empty_indices % = 0.03733801888864485\n",
      " conflict_indices % = 0.0016472655392049198\n"
     ]
    },
    {
     "data": {
      "application/vnd.jupyter.widget-view+json": {
       "model_id": "1ddd2b494bd743fd907df7df1244a9df",
       "version_major": 2,
       "version_minor": 0
      },
      "text/plain": [
       "  0%|          | 0/12 [00:00<?, ?it/s]"
      ]
     },
     "metadata": {},
     "output_type": "display_data"
    },
    {
     "data": {
      "application/vnd.jupyter.widget-view+json": {
       "model_id": "963d89e2c06d408aa0b133ece298ebdd",
       "version_major": 2,
       "version_minor": 0
      },
      "text/plain": [
       "  0%|          | 0/2 [00:00<?, ?it/s]"
      ]
     },
     "metadata": {},
     "output_type": "display_data"
    },
    {
     "data": {
      "application/vnd.jupyter.widget-view+json": {
       "model_id": "26447c0089b5454b9f99a91a63d7bc26",
       "version_major": 2,
       "version_minor": 0
      },
      "text/plain": [
       "0it [00:00, ?it/s]"
      ]
     },
     "metadata": {},
     "output_type": "display_data"
    },
    {
     "name": "stdout",
     "output_type": "stream",
     "text": [
      "\n",
      "\n",
      "--- Working on 1-to-1 correspondence-----\n",
      "max(original_labels),len(original_labels) = (2, 3)\n",
      "empty_indices % = 0.06246861504469218\n",
      " conflict_indices % = 0.0018077734257306419\n"
     ]
    },
    {
     "data": {
      "application/vnd.jupyter.widget-view+json": {
       "model_id": "918e41f0db3a4baaa3d42d8644548b00",
       "version_major": 2,
       "version_minor": 0
      },
      "text/plain": [
       "  0%|          | 0/6 [00:00<?, ?it/s]"
      ]
     },
     "metadata": {},
     "output_type": "display_data"
    },
    {
     "data": {
      "application/vnd.jupyter.widget-view+json": {
       "model_id": "9659eec639014c039e2ad9a28a8bfb16",
       "version_major": 2,
       "version_minor": 0
      },
      "text/plain": [
       "  0%|          | 0/3 [00:00<?, ?it/s]"
      ]
     },
     "metadata": {},
     "output_type": "display_data"
    },
    {
     "name": "stdout",
     "output_type": "stream",
     "text": [
      "Deleting branches from dictionary\n",
      "MP_branches_with_stitch_point= [2]\n",
      "MP_branches_for_correspondence = [2]\n",
      "MP_leftover = [], MP_leftover_idx = []\n",
      " Finished with (0, 0) \n",
      "\n",
      "\n",
      "\n",
      "\n",
      "---- Working on (1, 0) connection-----\n",
      "sk_conn = [0]\n",
      "conn = [0]\n",
      "winning_vertex = [585324.42156918 761913.547466   900224.52736136]\n",
      "MP_branches_with_stitch_point = [0]\n",
      "MAP_branches_with_stitch_point = [0]\n",
      "MAP_stitch_point_on_end_or_branch = False\n"
     ]
    },
    {
     "data": {
      "application/vnd.jupyter.widget-view+json": {
       "model_id": "462bac4daf364878b115cab3c3fa010e",
       "version_major": 2,
       "version_minor": 0
      },
      "text/plain": [
       "0it [00:00, ?it/s]"
      ]
     },
     "metadata": {},
     "output_type": "display_data"
    },
    {
     "name": "stdout",
     "output_type": "stream",
     "text": [
      "\n",
      "\n",
      "--- Working on 1-to-1 correspondence-----\n",
      "max(original_labels),len(original_labels) = (1, 2)\n",
      "empty_indices % = 0.04123386842933585\n",
      " conflict_indices % = 0.004091910607491344\n"
     ]
    },
    {
     "data": {
      "application/vnd.jupyter.widget-view+json": {
       "model_id": "0704e74d92e64d95a9f6c9e183f95476",
       "version_major": 2,
       "version_minor": 0
      },
      "text/plain": [
       "  0%|          | 0/14 [00:00<?, ?it/s]"
      ]
     },
     "metadata": {},
     "output_type": "display_data"
    },
    {
     "data": {
      "application/vnd.jupyter.widget-view+json": {
       "model_id": "40483b9e33f445519036109b4145e413",
       "version_major": 2,
       "version_minor": 0
      },
      "text/plain": [
       "  0%|          | 0/2 [00:00<?, ?it/s]"
      ]
     },
     "metadata": {},
     "output_type": "display_data"
    },
    {
     "data": {
      "application/vnd.jupyter.widget-view+json": {
       "model_id": "cd4a7a30f0ae4adb9e6eeb222b488276",
       "version_major": 2,
       "version_minor": 0
      },
      "text/plain": [
       "0it [00:00, ?it/s]"
      ]
     },
     "metadata": {},
     "output_type": "display_data"
    },
    {
     "name": "stdout",
     "output_type": "stream",
     "text": [
      "\n",
      "\n",
      "--- Working on 1-to-1 correspondence-----\n",
      "max(original_labels),len(original_labels) = (2, 3)\n",
      "empty_indices % = 0.060183968462549274\n",
      " conflict_indices % = 0.012943495400788436\n"
     ]
    },
    {
     "data": {
      "application/vnd.jupyter.widget-view+json": {
       "model_id": "5bed183e82e9430c91387cde4caf2c84",
       "version_major": 2,
       "version_minor": 0
      },
      "text/plain": [
       "  0%|          | 0/13 [00:00<?, ?it/s]"
      ]
     },
     "metadata": {},
     "output_type": "display_data"
    },
    {
     "data": {
      "application/vnd.jupyter.widget-view+json": {
       "model_id": "9dbbea9c79304f3e8fb0f57e5ccc99a6",
       "version_major": 2,
       "version_minor": 0
      },
      "text/plain": [
       "  0%|          | 0/3 [00:00<?, ?it/s]"
      ]
     },
     "metadata": {},
     "output_type": "display_data"
    },
    {
     "name": "stdout",
     "output_type": "stream",
     "text": [
      "Deleting branches from dictionary\n",
      "MP_branches_with_stitch_point= [0]\n",
      "MP_branches_for_correspondence = [0]\n",
      "MP_leftover = [], MP_leftover_idx = []\n",
      " Finished with (1, 0) \n",
      "\n",
      "\n",
      "\n",
      "\n",
      "---- Working on (2, 0) connection-----\n",
      "sk_conn = [0, 1]\n",
      "conn = [0, 1]\n",
      "winning_vertex = [575389.03340603 737674.04893041 895030.74819376]\n",
      "MP_branches_with_stitch_point = [0, 1]\n",
      "MAP_branches_with_stitch_point = [0]\n",
      "MAP_stitch_point_on_end_or_branch = True\n"
     ]
    },
    {
     "data": {
      "application/vnd.jupyter.widget-view+json": {
       "model_id": "92d48cd9ebd34e5e8a67708af5493607",
       "version_major": 2,
       "version_minor": 0
      },
      "text/plain": [
       "0it [00:00, ?it/s]"
      ]
     },
     "metadata": {},
     "output_type": "display_data"
    },
    {
     "name": "stdout",
     "output_type": "stream",
     "text": [
      "\n",
      "\n",
      "--- Working on 1-to-1 correspondence-----\n",
      "max(original_labels),len(original_labels) = (2, 3)\n",
      "empty_indices % = 0.06982519512352447\n",
      " conflict_indices % = 0.009611043023930852\n"
     ]
    },
    {
     "data": {
      "application/vnd.jupyter.widget-view+json": {
       "model_id": "40fcaccda8d04f209a03929f8174b7ce",
       "version_major": 2,
       "version_minor": 0
      },
      "text/plain": [
       "  0%|          | 0/46 [00:00<?, ?it/s]"
      ]
     },
     "metadata": {},
     "output_type": "display_data"
    },
    {
     "data": {
      "application/vnd.jupyter.widget-view+json": {
       "model_id": "4b50b13ad0284433a9357f9ed88f4621",
       "version_major": 2,
       "version_minor": 0
      },
      "text/plain": [
       "  0%|          | 0/3 [00:00<?, ?it/s]"
      ]
     },
     "metadata": {},
     "output_type": "display_data"
    },
    {
     "name": "stdout",
     "output_type": "stream",
     "text": [
      "MP_branches_with_stitch_point= [0, 1]\n",
      "MP_branches_for_correspondence = [0 1]\n",
      "MP_leftover = [], MP_leftover_idx = []\n",
      " Finished with (2, 0) \n",
      "\n",
      "\n",
      "\n",
      "Time for decomp of Limb = 43.33977723121643\n",
      "Number of matching vertices = 21\n",
      "Only one endpoint after filtering away the endpoints that are not on the skeleton\n",
      "Removed 0 skeletal branches\n"
     ]
    },
    {
     "data": {
      "application/vnd.jupyter.widget-view+json": {
       "model_id": "e1bc1f78fe1245c992e14fda51ab108f",
       "version_major": 2,
       "version_minor": 0
      },
      "text/plain": [
       "  0%|          | 0/11 [00:00<?, ?it/s]"
      ]
     },
     "metadata": {},
     "output_type": "display_data"
    },
    {
     "name": "stdout",
     "output_type": "stream",
     "text": [
      "75781 75782\n",
      "For marked faces: None\n",
      "empty_indices % = 0.0\n",
      " conflict_indices % = 0.0\n"
     ]
    },
    {
     "data": {
      "application/vnd.jupyter.widget-view+json": {
       "model_id": "cc58989cb32646e0bbae06755efa1bf1",
       "version_major": 2,
       "version_minor": 0
      },
      "text/plain": [
       "0it [00:00, ?it/s]"
      ]
     },
     "metadata": {},
     "output_type": "display_data"
    },
    {
     "data": {
      "application/vnd.jupyter.widget-view+json": {
       "model_id": "918be90941db42ecb61634f993edea35",
       "version_major": 2,
       "version_minor": 0
      },
      "text/plain": [
       "  0%|          | 0/11 [00:00<?, ?it/s]"
      ]
     },
     "metadata": {},
     "output_type": "display_data"
    },
    {
     "name": "stdout",
     "output_type": "stream",
     "text": [
      "Successful Limb Decomposition\n",
      "\n",
      "\n",
      "----- Working on Proper Limb # 5 ---------\n",
      "meshparty_segment_size = 100\n",
      "invalidation_d = 12000\n",
      "use_adaptive_invalidation_d= False\n",
      "axon_width_preprocess_limb_max = 200\n",
      "filter_end_node_length= 4000\n",
      "filter_end_node_length_meshparty = 4000\n",
      "invalidation_d = 12000\n",
      "root_curr = [610476.4 763192.8 908818.7]\n",
      "Time for preparing soma vertices and root: 0.0002923011779785156\n",
      "invalidation_d = 12000\n",
      "smooth_neighborhood = 1\n",
      "cc_vertex_thresh = 10\n"
     ]
    },
    {
     "name": "stderr",
     "output_type": "stream",
     "text": [
      "  0%|                                                                                                                                                                                                                          | 0/1 [00:00<?, ?it/s]"
     ]
    },
    {
     "data": {
      "application/vnd.jupyter.widget-view+json": {
       "model_id": "f8f1fae142a14da19dba50bcf46dd09f",
       "version_major": 2,
       "version_minor": 0
      },
      "text/plain": [
       "  0%|          | 0/27114 [00:00<?, ?it/s]"
      ]
     },
     "metadata": {},
     "output_type": "display_data"
    },
    {
     "name": "stderr",
     "output_type": "stream",
     "text": [
      "100%|██████████████████████████████████████████████████████████████████████████████████████████████████████████████████████████████████████████████████████████████████████████████████████████████████████████████████| 1/1 [00:00<00:00,  7.35it/s]\n"
     ]
    },
    {
     "name": "stdout",
     "output_type": "stream",
     "text": [
      "meshparty_segment_size = 100\n",
      "Time for 1st pass MP skeletonization: 0.49308276176452637\n",
      "branches_touching_root = [2]\n",
      "combining close nodes\n",
      "combine_threshold = 700\n",
      "length of Graph = 3511\n",
      "After combining close endpoints max(kept_branches_idx) = 4, len(kept_branches_idx) = 5\n",
      "empty_indices % = 0.0\n",
      " conflict_indices % = 0.003035182203468251\n"
     ]
    },
    {
     "data": {
      "application/vnd.jupyter.widget-view+json": {
       "model_id": "c3d118db49a74b8ebee769b2466bc621",
       "version_major": 2,
       "version_minor": 0
      },
      "text/plain": [
       "  0%|          | 0/2 [00:00<?, ?it/s]"
      ]
     },
     "metadata": {},
     "output_type": "display_data"
    },
    {
     "data": {
      "application/vnd.jupyter.widget-view+json": {
       "model_id": "7c5246d6a8f54e63b611ca00cfb31422",
       "version_major": 2,
       "version_minor": 0
      },
      "text/plain": [
       "  0%|          | 0/5 [00:00<?, ?it/s]"
      ]
     },
     "metadata": {},
     "output_type": "display_data"
    },
    {
     "name": "stdout",
     "output_type": "stream",
     "text": [
      "Decomposing first pass: 4.3801960945129395\n",
      "Attempting to use MeshAfterParty Skeletonization and Mesh Correspondence\n",
      "Another print\n",
      "Found len(mesh_large_idx) MAP candidates: [980, 2839]\n",
      "mesh_large_connectivity: 0.0021724700927734375\n",
      "Finding MAP candidates connected components: 9.036064147949219e-05\n",
      "len(filtered_pieces) = 1\n",
      "skeleton_connectivity_MP : 0.16906499862670898\n",
      "Grouping MP Sublimbs by Graph: 0.03143787384033203\n",
      "Divinding into MP and MAP pieces: 9.5367431640625e-07\n",
      "--- Working on MAP piece 0---\n",
      "MAP Filtering Soma Pieces: 0.015913009643554688\n",
      "inside skeletonize_connected_branch and use_surface_after_CGAL=True, surface_reconstruction_size=1000\n",
      "keep_idx = [0]\n",
      "     Starting Screened Poisson\n",
      "xvfb-run -n 4206 -s \"-screen 0 800x600x24\" meshlabserver $@  -i /neurd_packages/NEURD/Applications/Tutorials/Auto_Proof_Pipeline/Single_Soma_Inh/temp/None.off -o /neurd_packages/NEURD/Applications/Tutorials/Auto_Proof_Pipeline/Single_Soma_Inh/temp/None_poisson.off -s /neurd_packages/NEURD/Applications/Tutorials/Auto_Proof_Pipeline/Single_Soma_Inh/temp/poisson_148007.mls\n",
      "removed temporary input file: /neurd_packages/NEURD/Applications/Tutorials/Auto_Proof_Pipeline/Single_Soma_Inh/temp/None.off\n",
      "removed temporary output file: /neurd_packages/NEURD/Applications/Tutorials/Auto_Proof_Pipeline/Single_Soma_Inh/temp/None_poisson.off\n",
      "Using the close holes feature\n",
      "xvfb-run -n 3828 -s \"-screen 0 800x600x24\" meshlabserver $@  -i /neurd_packages/NEURD/Applications/Tutorials/Auto_Proof_Pipeline/Single_Soma_Inh/temp/neuron_39510.off -o /neurd_packages/NEURD/Applications/Tutorials/Auto_Proof_Pipeline/Single_Soma_Inh/temp/neuron_39510_fill_holes.off -s /neurd_packages/NEURD/Applications/Tutorials/Auto_Proof_Pipeline/Single_Soma_Inh/temp/fill_holes_703726.mls\n",
      "removed temporary input file: /neurd_packages/NEURD/Applications/Tutorials/Auto_Proof_Pipeline/Single_Soma_Inh/temp/neuron_39510.off\n",
      "removed temporary output file: /neurd_packages/NEURD/Applications/Tutorials/Auto_Proof_Pipeline/Single_Soma_Inh/temp/neuron_39510_fill_holes.off\n",
      "/neurd_packages/NEURD/Applications/Tutorials/Auto_Proof_Pipeline/Single_Soma_Inh/temp/fill_holes_703726.mls is being deleted....\n",
      "-----Time for Screened Poisson= 7.634308099746704\n",
      "mesh_pieces = [<trimesh.Trimesh(vertices.shape=(5363, 3), faces.shape=(10722, 3))>]\n",
      "     Starting Calcification (Changed back where stitches large poissons)\n",
      "Manifold status before skeletonization = True\n",
      "Watertight status before skeletonization = True\n",
      "min_edge_length = 75\n",
      "Before mesh subtraction number of skeleton edges = 135\n"
     ]
    },
    {
     "data": {
      "application/vnd.jupyter.widget-view+json": {
       "model_id": "0ec3ab9f64f64a6396a91f0fbda4a2be",
       "version_major": 2,
       "version_minor": 0
      },
      "text/plain": [
       "0it [00:00, ?it/s]"
      ]
     },
     "metadata": {},
     "output_type": "display_data"
    },
    {
     "name": "stdout",
     "output_type": "stream",
     "text": [
      "len(leftover_meshes_sig) = []\n"
     ]
    },
    {
     "data": {
      "application/vnd.jupyter.widget-view+json": {
       "model_id": "7a0096047fb64c069268800784f541f7",
       "version_major": 2,
       "version_minor": 0
      },
      "text/plain": [
       "0it [00:00, ?it/s]"
      ]
     },
     "metadata": {},
     "output_type": "display_data"
    },
    {
     "name": "stdout",
     "output_type": "stream",
     "text": [
      "No skeletons to stack so returning empty list\n",
      "STacking the leftover and significant poisson skeleton\n",
      "max_stitch_distance = 5000\n",
      "len_subgraphs AT BEGINNING of the loop\n"
     ]
    },
    {
     "data": {
      "application/vnd.jupyter.widget-view+json": {
       "model_id": "69857544773b42a1a4ffc1e53f7cb2a5",
       "version_major": 2,
       "version_minor": 0
      },
      "text/plain": [
       "  0%|          | 0/1 [00:00<?, ?it/s]"
      ]
     },
     "metadata": {},
     "output_type": "display_data"
    },
    {
     "name": "stdout",
     "output_type": "stream",
     "text": [
      "all graph is one component!\n",
      "Total time for skeleton stitching = 0.019631624221801758\n",
      "The process was using a temp folder\n",
      "Checking connected components after skeletonize_connected_branch\n",
      "    Total time for skeletonizing branch: 8.374894857406616\n",
      "Checking connected components after removing cycles\n",
      "Total time for mesh KDTree = 0.0604093074798584\n",
      "sbv[0].reshape(-1,3) = [[610476.4 763192.8 908818.7]]\n",
      "closest_sk_pt_coord BEFORE = [610937. 763008. 909075.]\n",
      "current_skeleton.shape = (134, 2, 3)\n",
      "node_for_stitch = 0: [610937. 763008. 909075.]\n",
      "node_for_stitch AFTER = 0: [610937. 763008. 909075.]\n",
      "possible_node_loc = [  0 134]\n",
      "possible_node_loc AFTER = [  0 134]\n",
      "curr_shortest_path = [0]\n",
      "Current stitch point was a branch or endpoint\n",
      "change_status for create soma extending pieces = False\n",
      "closest_sk_pt_coord AFTER = [610937. 763008. 909075.]\n",
      "skipping soma 0 because closest skeleton node was already end node\n",
      "endpoints_must_keep = {0: array([[610937., 763008., 909075.]])}\n",
      "    Total time for Fixing Skeleton Soma Endpoint Extension : 0.19582676887512207\n",
      "filter_end_node_length = 4000\n",
      "Checking connected components after clean_skeleton\n",
      "after DISTANCE cleaning limb size of skeleton = (134, 2, 3)\n",
      "********COMBINING CLOSE SKELETON NODES WITHIN 700 DISTANCE**********\n",
      "combine_threshold = 700\n",
      "Found 0 valid paths to replace\n",
      "valid_paths = []\n",
      "valid_path_lengths = []\n",
      "No valid paths found so just returning the original\n",
      "skeletonize_and_clean_connected_branch_CGAL: 8.711474180221558\n",
      "Working on limb correspondence for #0 MAP piece\n",
      "xvfb-run -n 2896 -s \"-screen 0 800x600x24\" meshlabserver $@  -i /neurd_packages/NEURD/Applications/Tutorials/Auto_Proof_Pipeline/Single_Soma_Inh/temp/neuron_27160.off -o /neurd_packages/NEURD/Applications/Tutorials/Auto_Proof_Pipeline/Single_Soma_Inh/temp/neuron_27160_remove_interior.off -s /neurd_packages/NEURD/Applications/Tutorials/Auto_Proof_Pipeline/Single_Soma_Inh/temp/remove_interior_910970.mls\n",
      "removed temporary input file: /neurd_packages/NEURD/Applications/Tutorials/Auto_Proof_Pipeline/Single_Soma_Inh/temp/neuron_27160.off\n",
      "removed temporary output file: /neurd_packages/NEURD/Applications/Tutorials/Auto_Proof_Pipeline/Single_Soma_Inh/temp/neuron_27160_remove_interior.off\n",
      "/neurd_packages/NEURD/Applications/Tutorials/Auto_Proof_Pipeline/Single_Soma_Inh/temp/remove_interior_910970.mls is being deleted....\n",
      "No significant (100) interior meshes present\n",
      "largest is 4\n"
     ]
    },
    {
     "data": {
      "application/vnd.jupyter.widget-view+json": {
       "model_id": "2d400b5b9fc44576adc2de561106abd8",
       "version_major": 2,
       "version_minor": 0
      },
      "text/plain": [
       "0it [00:00, ?it/s]"
      ]
     },
     "metadata": {},
     "output_type": "display_data"
    },
    {
     "name": "stdout",
     "output_type": "stream",
     "text": [
      "Total time for decomposition = 1.123971939086914\n",
      "mesh_correspondence_first_pass: 1.1239986419677734\n",
      "Limb decomposed into 1 branches\n",
      "divided_skeleton_graph_recovered = (134, 2, 3) and \n",
      "current_mesh_data[0]['branch_skeletons_cleaned'].shape = (134, 2, 3)\n",
      "\n",
      "Number of connected components in deocmposed recovered graph = 1\n",
      "Number of connected components in cleaned skeleton graph= 1\n",
      "The downsampled branches number of connected components = 1\n",
      "Empty submeshes = []\n",
      "\n",
      "\n",
      "--- Working on 1-to-1 correspondence-----\n",
      "max(original_labels),len(original_labels) = (0, 1)\n",
      "empty_indices % = 0.025399319193506152\n",
      " conflict_indices % = 0.0\n"
     ]
    },
    {
     "data": {
      "application/vnd.jupyter.widget-view+json": {
       "model_id": "0fd83a42b74f4eb592fb9929d8cb699a",
       "version_major": 2,
       "version_minor": 0
      },
      "text/plain": [
       "  0%|          | 0/5 [00:00<?, ?it/s]"
      ]
     },
     "metadata": {},
     "output_type": "display_data"
    },
    {
     "name": "stdout",
     "output_type": "stream",
     "text": [
      "Took 0 iterations to expand the label back\n",
      "empty_indices % = 0.0\n",
      " conflict_indices % = 0.0\n"
     ]
    },
    {
     "data": {
      "application/vnd.jupyter.widget-view+json": {
       "model_id": "1167d73c077749da828caa507300a087",
       "version_major": 2,
       "version_minor": 0
      },
      "text/plain": [
       "0it [00:00, ?it/s]"
      ]
     },
     "metadata": {},
     "output_type": "display_data"
    },
    {
     "data": {
      "application/vnd.jupyter.widget-view+json": {
       "model_id": "6070e9eb9c8f4ee3a77bbc4bd6deb706",
       "version_major": 2,
       "version_minor": 0
      },
      "text/plain": [
       "  0%|          | 0/1 [00:00<?, ?it/s]"
      ]
     },
     "metadata": {},
     "output_type": "display_data"
    },
    {
     "name": "stdout",
     "output_type": "stream",
     "text": [
      "Total time for MAP sublimb #0 mesh processing = 10.13083553314209\n",
      "correspondence_1_to_1: 0.27946043014526367\n",
      "Total time for MAP sublimb processing 10.130947589874268\n",
      "---- Working on MP Decomposition #0 ----\n",
      "Computing the current soma touching verts dict manually\n",
      "MP filtering soma verts: 0.019797801971435547\n",
      "Do Not Need to Fix MP Decomposition 0 so just continuing\n",
      "---- Working on MP Decomposition #1 ----\n",
      "Computing the current soma touching verts dict manually\n",
      "MP filtering soma verts: 0.016881465911865234\n",
      "Do Not Need to Fix MP Decomposition 1 so just continuing\n",
      "Successful mesh connectivity with type edges\n",
      "\n",
      "---- Working on (0, 0) connection-----\n",
      "sk_conn = [0, 1]\n",
      "conn = [0, 1]\n",
      "winning_vertex = [625541.26641918 751740.4911113  912025.85771601]\n",
      "MP_branches_with_stitch_point = [0, 1]\n",
      "MAP_branches_with_stitch_point = [0]\n",
      "MAP_stitch_point_on_end_or_branch = True\n"
     ]
    },
    {
     "data": {
      "application/vnd.jupyter.widget-view+json": {
       "model_id": "bd329b76402f4f0b8e8b226dfbc30fa5",
       "version_major": 2,
       "version_minor": 0
      },
      "text/plain": [
       "0it [00:00, ?it/s]"
      ]
     },
     "metadata": {},
     "output_type": "display_data"
    },
    {
     "name": "stdout",
     "output_type": "stream",
     "text": [
      "\n",
      "\n",
      "--- Working on 1-to-1 correspondence-----\n",
      "max(original_labels),len(original_labels) = (2, 3)\n",
      "empty_indices % = 0.08039975843057802\n",
      " conflict_indices % = 0.005318423564707487\n"
     ]
    },
    {
     "data": {
      "application/vnd.jupyter.widget-view+json": {
       "model_id": "4c82b7e64434412c81a56ff590241b81",
       "version_major": 2,
       "version_minor": 0
      },
      "text/plain": [
       "  0%|          | 0/84 [00:00<?, ?it/s]"
      ]
     },
     "metadata": {},
     "output_type": "display_data"
    },
    {
     "data": {
      "application/vnd.jupyter.widget-view+json": {
       "model_id": "4c9d7fd534fc42348111d200b2472d2e",
       "version_major": 2,
       "version_minor": 0
      },
      "text/plain": [
       "  0%|          | 0/3 [00:00<?, ?it/s]"
      ]
     },
     "metadata": {},
     "output_type": "display_data"
    },
    {
     "name": "stdout",
     "output_type": "stream",
     "text": [
      "MP_branches_with_stitch_point= [0, 1]\n",
      "MP_branches_for_correspondence = [0 1]\n",
      "MP_leftover = [], MP_leftover_idx = []\n",
      " Finished with (0, 0) \n",
      "\n",
      "\n",
      "\n",
      "\n",
      "---- Working on (1, 0) connection-----\n",
      "sk_conn = [0]\n",
      "conn = [0]\n",
      "winning_vertex = [620994.00848407 753206.95466875 910936.33342788]\n",
      "MP_branches_with_stitch_point = [0]\n",
      "MAP_branches_with_stitch_point = [0]\n",
      "MAP_stitch_point_on_end_or_branch = False\n"
     ]
    },
    {
     "data": {
      "application/vnd.jupyter.widget-view+json": {
       "model_id": "f8c0dc72653444b8a372293982c60fc8",
       "version_major": 2,
       "version_minor": 0
      },
      "text/plain": [
       "0it [00:00, ?it/s]"
      ]
     },
     "metadata": {},
     "output_type": "display_data"
    },
    {
     "name": "stdout",
     "output_type": "stream",
     "text": [
      "\n",
      "\n",
      "--- Working on 1-to-1 correspondence-----\n",
      "max(original_labels),len(original_labels) = (1, 2)\n",
      "empty_indices % = 0.05466564963132469\n",
      " conflict_indices % = 0.013221459445715738\n"
     ]
    },
    {
     "data": {
      "application/vnd.jupyter.widget-view+json": {
       "model_id": "59a9d058b0854ae7b1756d37939253ab",
       "version_major": 2,
       "version_minor": 0
      },
      "text/plain": [
       "  0%|          | 0/6 [00:00<?, ?it/s]"
      ]
     },
     "metadata": {},
     "output_type": "display_data"
    },
    {
     "data": {
      "application/vnd.jupyter.widget-view+json": {
       "model_id": "8732f75b2a114b748415cd7e29610842",
       "version_major": 2,
       "version_minor": 0
      },
      "text/plain": [
       "  0%|          | 0/2 [00:00<?, ?it/s]"
      ]
     },
     "metadata": {},
     "output_type": "display_data"
    },
    {
     "data": {
      "application/vnd.jupyter.widget-view+json": {
       "model_id": "6fb39543b7844b69aeb35f67db8cfbda",
       "version_major": 2,
       "version_minor": 0
      },
      "text/plain": [
       "0it [00:00, ?it/s]"
      ]
     },
     "metadata": {},
     "output_type": "display_data"
    },
    {
     "name": "stdout",
     "output_type": "stream",
     "text": [
      "\n",
      "\n",
      "--- Working on 1-to-1 correspondence-----\n",
      "max(original_labels),len(original_labels) = (2, 3)\n",
      "empty_indices % = 0.05817633760361718\n",
      " conflict_indices % = 0.01492087415222306\n"
     ]
    },
    {
     "data": {
      "application/vnd.jupyter.widget-view+json": {
       "model_id": "600ecf9c094e4520812fb6b096e34b0b",
       "version_major": 2,
       "version_minor": 0
      },
      "text/plain": [
       "  0%|          | 0/10 [00:00<?, ?it/s]"
      ]
     },
     "metadata": {},
     "output_type": "display_data"
    },
    {
     "data": {
      "application/vnd.jupyter.widget-view+json": {
       "model_id": "0ad1bb3904ed4c469566105804135a41",
       "version_major": 2,
       "version_minor": 0
      },
      "text/plain": [
       "  0%|          | 0/3 [00:00<?, ?it/s]"
      ]
     },
     "metadata": {},
     "output_type": "display_data"
    },
    {
     "name": "stdout",
     "output_type": "stream",
     "text": [
      "Deleting branches from dictionary\n",
      "MP_branches_with_stitch_point= [0]\n",
      "MP_branches_for_correspondence = [0]\n",
      "MP_leftover = [], MP_leftover_idx = []\n",
      " Finished with (1, 0) \n",
      "\n",
      "\n",
      "\n",
      "Time for decomp of Limb = 31.346587419509888\n",
      "Number of matching vertices = 24\n",
      "Only one endpoint after filtering away the endpoints that are not on the skeleton\n",
      "Removed 0 skeletal branches\n"
     ]
    },
    {
     "data": {
      "application/vnd.jupyter.widget-view+json": {
       "model_id": "d196eba12ffb46648228a670b1ec4c77",
       "version_major": 2,
       "version_minor": 0
      },
      "text/plain": [
       "  0%|          | 0/5 [00:00<?, ?it/s]"
      ]
     },
     "metadata": {},
     "output_type": "display_data"
    },
    {
     "name": "stdout",
     "output_type": "stream",
     "text": [
      "54032 54033\n",
      "For marked faces: None\n",
      "empty_indices % = 0.0\n",
      " conflict_indices % = 0.0\n"
     ]
    },
    {
     "data": {
      "application/vnd.jupyter.widget-view+json": {
       "model_id": "e59c4cd5701f42a9ac06c7f246c07f6a",
       "version_major": 2,
       "version_minor": 0
      },
      "text/plain": [
       "0it [00:00, ?it/s]"
      ]
     },
     "metadata": {},
     "output_type": "display_data"
    },
    {
     "data": {
      "application/vnd.jupyter.widget-view+json": {
       "model_id": "c8c44dc4c7674d2d9ab601d667479d21",
       "version_major": 2,
       "version_minor": 0
      },
      "text/plain": [
       "  0%|          | 0/5 [00:00<?, ?it/s]"
      ]
     },
     "metadata": {},
     "output_type": "display_data"
    },
    {
     "name": "stdout",
     "output_type": "stream",
     "text": [
      "Successful Limb Decomposition\n",
      "\n",
      "\n",
      "----- Working on Proper Limb # 6 ---------\n",
      "meshparty_segment_size = 100\n",
      "invalidation_d = 12000\n",
      "use_adaptive_invalidation_d= False\n",
      "axon_width_preprocess_limb_max = 200\n",
      "filter_end_node_length= 4000\n",
      "filter_end_node_length_meshparty = 4000\n",
      "invalidation_d = 12000\n",
      "root_curr = [602191.8 777465.4 910208.8]\n",
      "Time for preparing soma vertices and root: 0.00031256675720214844\n",
      "invalidation_d = 12000\n",
      "smooth_neighborhood = 1\n",
      "cc_vertex_thresh = 10\n"
     ]
    },
    {
     "name": "stderr",
     "output_type": "stream",
     "text": [
      "  0%|                                                                                                                                                                                                                          | 0/1 [00:00<?, ?it/s]"
     ]
    },
    {
     "data": {
      "application/vnd.jupyter.widget-view+json": {
       "model_id": "ba51fe4576484701bf0a0cc86f02e1f4",
       "version_major": 2,
       "version_minor": 0
      },
      "text/plain": [
       "  0%|          | 0/14121 [00:00<?, ?it/s]"
      ]
     },
     "metadata": {},
     "output_type": "display_data"
    },
    {
     "name": "stderr",
     "output_type": "stream",
     "text": [
      "100%|██████████████████████████████████████████████████████████████████████████████████████████████████████████████████████████████████████████████████████████████████████████████████████████████████████████████████| 1/1 [00:00<00:00, 14.79it/s]\n"
     ]
    },
    {
     "name": "stdout",
     "output_type": "stream",
     "text": [
      "meshparty_segment_size = 100\n",
      "Time for 1st pass MP skeletonization: 0.40317440032958984\n",
      "branches_touching_root = [0]\n",
      "combining close nodes\n",
      "combine_threshold = 700\n",
      "length of Graph = 1591\n",
      "After combining close endpoints max(kept_branches_idx) = 0, len(kept_branches_idx) = 1\n",
      "empty_indices % = 0.0\n",
      " conflict_indices % = 0.0\n"
     ]
    },
    {
     "data": {
      "application/vnd.jupyter.widget-view+json": {
       "model_id": "568751af4a0941e487b061aa87ec503c",
       "version_major": 2,
       "version_minor": 0
      },
      "text/plain": [
       "0it [00:00, ?it/s]"
      ]
     },
     "metadata": {},
     "output_type": "display_data"
    },
    {
     "data": {
      "application/vnd.jupyter.widget-view+json": {
       "model_id": "4f365e5ab3654473adbb3979dae7cc94",
       "version_major": 2,
       "version_minor": 0
      },
      "text/plain": [
       "  0%|          | 0/1 [00:00<?, ?it/s]"
      ]
     },
     "metadata": {},
     "output_type": "display_data"
    },
    {
     "name": "stdout",
     "output_type": "stream",
     "text": [
      "Decomposing first pass: 1.469841480255127\n",
      "Attempting to use MeshAfterParty Skeletonization and Mesh Correspondence\n",
      "Another print\n",
      "Found len(mesh_large_idx) MAP candidates: [28180]\n",
      "mesh_large_connectivity: 0.00015544891357421875\n",
      "Finding MAP candidates connected components: 6.985664367675781e-05\n",
      "len(filtered_pieces) = 1\n",
      "skeleton_connectivity_MP : 0.007994651794433594\n",
      "Grouping MP Sublimbs by Graph: 2.8371810913085938e-05\n",
      "Divinding into MP and MAP pieces: 7.152557373046875e-07\n",
      "--- Working on MAP piece 0---\n",
      "MAP Filtering Soma Pieces: 0.007380962371826172\n",
      "inside skeletonize_connected_branch and use_surface_after_CGAL=True, surface_reconstruction_size=1000\n",
      "keep_idx = [0]\n",
      "     Starting Screened Poisson\n",
      "xvfb-run -n 2520 -s \"-screen 0 800x600x24\" meshlabserver $@  -i /neurd_packages/NEURD/Applications/Tutorials/Auto_Proof_Pipeline/Single_Soma_Inh/temp/None.off -o /neurd_packages/NEURD/Applications/Tutorials/Auto_Proof_Pipeline/Single_Soma_Inh/temp/None_poisson.off -s /neurd_packages/NEURD/Applications/Tutorials/Auto_Proof_Pipeline/Single_Soma_Inh/temp/poisson_109781.mls\n",
      "removed temporary input file: /neurd_packages/NEURD/Applications/Tutorials/Auto_Proof_Pipeline/Single_Soma_Inh/temp/None.off\n",
      "removed temporary output file: /neurd_packages/NEURD/Applications/Tutorials/Auto_Proof_Pipeline/Single_Soma_Inh/temp/None_poisson.off\n",
      "Using the close holes feature\n",
      "xvfb-run -n 800 -s \"-screen 0 800x600x24\" meshlabserver $@  -i /neurd_packages/NEURD/Applications/Tutorials/Auto_Proof_Pipeline/Single_Soma_Inh/temp/neuron_80829.off -o /neurd_packages/NEURD/Applications/Tutorials/Auto_Proof_Pipeline/Single_Soma_Inh/temp/neuron_80829_fill_holes.off -s /neurd_packages/NEURD/Applications/Tutorials/Auto_Proof_Pipeline/Single_Soma_Inh/temp/fill_holes_405930.mls\n",
      "removed temporary input file: /neurd_packages/NEURD/Applications/Tutorials/Auto_Proof_Pipeline/Single_Soma_Inh/temp/neuron_80829.off\n",
      "removed temporary output file: /neurd_packages/NEURD/Applications/Tutorials/Auto_Proof_Pipeline/Single_Soma_Inh/temp/neuron_80829_fill_holes.off\n",
      "/neurd_packages/NEURD/Applications/Tutorials/Auto_Proof_Pipeline/Single_Soma_Inh/temp/fill_holes_405930.mls is being deleted....\n",
      "-----Time for Screened Poisson= 15.022469758987427\n",
      "mesh_pieces = [<trimesh.Trimesh(vertices.shape=(31965, 3), faces.shape=(63934, 3))>]\n",
      "     Starting Calcification (Changed back where stitches large poissons)\n",
      "Manifold status before skeletonization = True\n",
      "Watertight status before skeletonization = True\n",
      "min_edge_length = 75\n",
      "MAX ITERATIONS initially 500\n",
      "AREA VARIATION initially 0.0001\n",
      "medial centered initially 1\n",
      "medially_centered_speed_tradeoff initially 0.2\n",
      "quality_speed_tradeoff initially 0.1\n",
      "max_triangle_angle initially 1.91986\n",
      "min_edge_length initially 199.501\n",
      "setting the edge length by absolute length\n",
      "min_edge_length AFTER = 75\n",
      "max_triangle_angle AFTER = 1.91986\n",
      "quality_speed_tradeoff AFTER = 0.2\n",
      "set_medially_centered_speed_tradeoff AFTER = 0.2\n",
      "medial centered AFTER 1\n",
      "AREA VARIATION AFTER 0.0001\n",
      "MAX ITERATIONS AFTER 500\n",
      "medial centered END 1\n",
      "set_medially_centered_speed_tradeoff END = 0.2\n",
      "quality_speed_tradeoff END = 0.2\n",
      "Max iterations END = 500\n",
      "AREA VARIATION END 0.0001\n",
      "Number of vertices of the skeleton: 1067\n",
      "Number of edges of the skeleton: 1066\n",
      "MAX ITERATIONS initially 500\n",
      "AREA VARIATION initially 0.0001\n",
      "medial centered initially 1\n",
      "medially_centered_speed_tradeoff initially 0.2\n",
      "quality_speed_tradeoff initially 0.1\n",
      "max_triangle_angle initially 1.91986\n",
      "min_edge_length initially 319.934\n",
      "setting the edge length by absolute length\n",
      "min_edge_length AFTER = 75\n",
      "max_triangle_angle AFTER = 1.91986\n",
      "quality_speed_tradeoff AFTER = 0.2\n",
      "set_medially_centered_speed_tradeoff AFTER = 0.2\n",
      "medial centered AFTER 1\n",
      "AREA VARIATION AFTER 0.0001\n",
      "MAX ITERATIONS AFTER 500\n",
      "medial centered END 1\n",
      "set_medially_centered_speed_tradeoff END = 0.2\n",
      "quality_speed_tradeoff END = 0.2\n",
      "Max iterations END = 500\n",
      "AREA VARIATION END 0.0001\n",
      "Number of vertices of the skeleton: 2636\n",
      "Number of edges of the skeleton: 2635\n",
      "MAX ITERATIONS initially 500\n",
      "AREA VARIATION initially 0.0001\n",
      "medial centered initially 1\n",
      "medially_centered_speed_tradeoff initially 0.2\n",
      "quality_speed_tradeoff initially 0.1\n",
      "max_triangle_angle initially 1.91986\n",
      "min_edge_length initially 233.261\n",
      "setting the edge length by absolute length\n",
      "min_edge_length AFTER = 75\n",
      "max_triangle_angle AFTER = 1.91986\n",
      "quality_speed_tradeoff AFTER = 0.2\n",
      "set_medially_centered_speed_tradeoff AFTER = 0.2\n",
      "medial centered AFTER 1\n",
      "AREA VARIATION AFTER 0.0001\n",
      "MAX ITERATIONS AFTER 500\n",
      "medial centered END 1\n",
      "set_medially_centered_speed_tradeoff END = 0.2\n",
      "quality_speed_tradeoff END = 0.2\n",
      "Max iterations END = 500\n",
      "AREA VARIATION END 0.0001\n",
      "Number of vertices of the skeleton: 1300\n",
      "Number of edges of the skeleton: 1299\n",
      "MAX ITERATIONS initially 500\n",
      "AREA VARIATION initially 0.0001\n",
      "medial centered initially 1\n",
      "medially_centered_speed_tradeoff initially 0.2\n",
      "quality_speed_tradeoff initially 0.1\n",
      "max_triangle_angle initially 1.91986\n",
      "min_edge_length initially 85.2591\n",
      "setting the edge length by absolute length\n",
      "min_edge_length AFTER = 75\n",
      "max_triangle_angle AFTER = 1.91986\n",
      "quality_speed_tradeoff AFTER = 0.2\n",
      "set_medially_centered_speed_tradeoff AFTER = 0.2\n",
      "medial centered AFTER 1\n",
      "AREA VARIATION AFTER 0.0001\n",
      "MAX ITERATIONS AFTER 500\n",
      "medial centered END 1\n",
      "set_medially_centered_speed_tradeoff END = 0.2\n",
      "quality_speed_tradeoff END = 0.2\n",
      "Max iterations END = 500\n",
      "AREA VARIATION END 0.0001\n",
      "Number of vertices of the skeleton: 354\n",
      "Number of edges of the skeleton: 353\n",
      "MAX ITERATIONS initially 500\n",
      "AREA VARIATION initially 0.0001\n",
      "medial centered initially 1\n",
      "medially_centered_speed_tradeoff initially 0.2\n",
      "quality_speed_tradeoff initially 0.1\n",
      "max_triangle_angle initially 1.91986\n",
      "min_edge_length initially 40.2972\n",
      "setting the edge length by absolute length\n",
      "min_edge_length AFTER = 75\n",
      "max_triangle_angle AFTER = 1.91986\n",
      "quality_speed_tradeoff AFTER = 0.2\n",
      "set_medially_centered_speed_tradeoff AFTER = 0.2\n",
      "medial centered AFTER 1\n",
      "AREA VARIATION AFTER 0.0001\n",
      "MAX ITERATIONS AFTER 500\n",
      "medial centered END 1\n",
      "set_medially_centered_speed_tradeoff END = 0.2\n",
      "quality_speed_tradeoff END = 0.2\n",
      "Max iterations END = 500\n",
      "AREA VARIATION END 0.0001\n",
      "Number of vertices of the skeleton: 135\n",
      "Number of edges of the skeleton: 134\n",
      "MAX ITERATIONS initially 500\n",
      "AREA VARIATION initially 0.0001\n",
      "medial centered initially 1\n",
      "medially_centered_speed_tradeoff initially 0.2\n",
      "quality_speed_tradeoff initially 0.1\n",
      "max_triangle_angle initially 1.91986\n",
      "min_edge_length initially 268.691\n",
      "setting the edge length by absolute length\n",
      "min_edge_length AFTER = 75\n",
      "max_triangle_angle AFTER = 1.91986\n",
      "quality_speed_tradeoff AFTER = 0.2\n",
      "set_menode_degrees = [3 2 2 3 2 2 2 2 2]\n",
      "node_degrees = [2 3 2]\n",
      "Before mesh subtraction number of skeleton edges = 1266\n"
     ]
    },
    {
     "data": {
      "application/vnd.jupyter.widget-view+json": {
       "model_id": "b0ffb767b40a4ffa8aa8dbf7dcf2052a",
       "version_major": 2,
       "version_minor": 0
      },
      "text/plain": [
       "0it [00:00, ?it/s]"
      ]
     },
     "metadata": {},
     "output_type": "display_data"
    },
    {
     "name": "stdout",
     "output_type": "stream",
     "text": [
      "len(leftover_meshes_sig) = []\n"
     ]
    },
    {
     "data": {
      "application/vnd.jupyter.widget-view+json": {
       "model_id": "5168642cd8e847be89cbba9197dccd91",
       "version_major": 2,
       "version_minor": 0
      },
      "text/plain": [
       "0it [00:00, ?it/s]"
      ]
     },
     "metadata": {},
     "output_type": "display_data"
    },
    {
     "name": "stdout",
     "output_type": "stream",
     "text": [
      "No skeletons to stack so returning empty list\n",
      "STacking the leftover and significant poisson skeleton\n",
      "max_stitch_distance = 5000\n",
      "len_subgraphs AT BEGINNING of the loop\n"
     ]
    },
    {
     "data": {
      "application/vnd.jupyter.widget-view+json": {
       "model_id": "126cf7a1ad154ec0940f4542f37b5f23",
       "version_major": 2,
       "version_minor": 0
      },
      "text/plain": [
       "  0%|          | 0/1 [00:00<?, ?it/s]"
      ]
     },
     "metadata": {},
     "output_type": "display_data"
    },
    {
     "name": "stdout",
     "output_type": "stream",
     "text": [
      "all graph is one component!\n",
      "Total time for skeleton stitching = 0.05109548568725586\n",
      "The process was using a temp folder\n",
      "Checking connected components after skeletonize_connected_branch\n",
      "    Total time for skeletonizing branch: 21.47956418991089\n",
      "Checking connected components after removing cycles\n",
      "Total time for mesh KDTree = 0.1898820400238037\n",
      "sbv[0].reshape(-1,3) = [[602191.8 777465.4 910208.8]]\n",
      "closest_sk_pt_coord BEFORE = [601939. 777371. 910126.]\n",
      "current_skeleton.shape = (1265, 2, 3)\n",
      "node_for_stitch = 1265: [601939. 777371. 910126.]\n",
      "node_for_stitch AFTER = 1265: [601939. 777371. 910126.]\n",
      "possible_node_loc = [   0   59   77  121  135  170  177  179  247  278  300  360  396  429\n",
      "  467  484  565  616  722  937 1094 1097 1265]\n",
      "possible_node_loc AFTER = [   0   59   77  121  135  170  177  179  247  278  300  360  396  429\n",
      "  467  484  565  616  722  937 1094 1097 1265]\n",
      "curr_shortest_path = [1265]\n",
      "Current stitch point was a branch or endpoint\n",
      "change_status for create soma extending pieces = False\n",
      "closest_sk_pt_coord AFTER = [601939. 777371. 910126.]\n",
      "skipping soma 0 because closest skeleton node was already end node\n",
      "endpoints_must_keep = {0: array([[601939., 777371., 910126.]])}\n",
      "    Total time for Fixing Skeleton Soma Endpoint Extension : 0.5389103889465332\n",
      "filter_end_node_length = 4000\n"
     ]
    },
    {
     "data": {
      "application/vnd.jupyter.widget-view+json": {
       "model_id": "6fb1443c9f204130bace5f0e175d90b3",
       "version_major": 2,
       "version_minor": 0
      },
      "text/plain": [
       "  0%|          | 0/21 [00:00<?, ?it/s]"
      ]
     },
     "metadata": {},
     "output_type": "display_data"
    },
    {
     "name": "stdout",
     "output_type": "stream",
     "text": [
      "Checking connected components after clean_skeleton\n",
      "after DISTANCE cleaning limb size of skeleton = (1159, 2, 3)\n",
      "********COMBINING CLOSE SKELETON NODES WITHIN 700 DISTANCE**********\n",
      "combine_threshold = 700\n",
      "Found 0 valid paths to replace\n",
      "valid_paths = []\n",
      "valid_path_lengths = []\n",
      "No valid paths found so just returning the original\n",
      "skeletonize_and_clean_connected_branch_CGAL: 25.136008977890015\n",
      "Working on limb correspondence for #0 MAP piece\n",
      "xvfb-run -n 887 -s \"-screen 0 800x600x24\" meshlabserver $@  -i /neurd_packages/NEURD/Applications/Tutorials/Auto_Proof_Pipeline/Single_Soma_Inh/temp/neuron_14774.off -o /neurd_packages/NEURD/Applications/Tutorials/Auto_Proof_Pipeline/Single_Soma_Inh/temp/neuron_14774_remove_interior.off -s /neurd_packages/NEURD/Applications/Tutorials/Auto_Proof_Pipeline/Single_Soma_Inh/temp/remove_interior_772322.mls\n",
      "removed temporary input file: /neurd_packages/NEURD/Applications/Tutorials/Auto_Proof_Pipeline/Single_Soma_Inh/temp/neuron_14774.off\n",
      "removed temporary output file: /neurd_packages/NEURD/Applications/Tutorials/Auto_Proof_Pipeline/Single_Soma_Inh/temp/neuron_14774_remove_interior.off\n",
      "/neurd_packages/NEURD/Applications/Tutorials/Auto_Proof_Pipeline/Single_Soma_Inh/temp/remove_interior_772322.mls is being deleted....\n",
      "No significant (100) interior meshes present\n",
      "largest is 26\n"
     ]
    },
    {
     "data": {
      "application/vnd.jupyter.widget-view+json": {
       "model_id": "6ccbc910d0ed4676a0ef8c013aff55ce",
       "version_major": 2,
       "version_minor": 0
      },
      "text/plain": [
       "0it [00:00, ?it/s]"
      ]
     },
     "metadata": {},
     "output_type": "display_data"
    },
    {
     "name": "stdout",
     "output_type": "stream",
     "text": [
      "Total time for decomposition = 5.110105991363525\n",
      "mesh_correspondence_first_pass: 5.11014199256897\n",
      "Limb decomposed into 1 branches\n",
      "divided_skeleton_graph_recovered = (1159, 2, 3) and \n",
      "current_mesh_data[0]['branch_skeletons_cleaned'].shape = (1159, 2, 3)\n",
      "\n",
      "Number of connected components in deocmposed recovered graph = 1\n",
      "Number of connected components in cleaned skeleton graph= 1\n",
      "The downsampled branches number of connected components = 1\n",
      "Empty submeshes = []\n",
      "\n",
      "\n",
      "--- Working on 1-to-1 correspondence-----\n",
      "max(original_labels),len(original_labels) = (0, 1)\n",
      "empty_indices % = 0.04730305180979418\n",
      " conflict_indices % = 0.0\n"
     ]
    },
    {
     "data": {
      "application/vnd.jupyter.widget-view+json": {
       "model_id": "fdeac9be0b2542b29f25165aab9bfc1b",
       "version_major": 2,
       "version_minor": 0
      },
      "text/plain": [
       "  0%|          | 0/33 [00:00<?, ?it/s]"
      ]
     },
     "metadata": {},
     "output_type": "display_data"
    },
    {
     "name": "stdout",
     "output_type": "stream",
     "text": [
      "Took 0 iterations to expand the label back\n",
      "empty_indices % = 0.0\n",
      " conflict_indices % = 0.0\n"
     ]
    },
    {
     "data": {
      "application/vnd.jupyter.widget-view+json": {
       "model_id": "d2a7c0a86fd246739aca898562cf271c",
       "version_major": 2,
       "version_minor": 0
      },
      "text/plain": [
       "0it [00:00, ?it/s]"
      ]
     },
     "metadata": {},
     "output_type": "display_data"
    },
    {
     "data": {
      "application/vnd.jupyter.widget-view+json": {
       "model_id": "d5c494bbaeef4e8289ac71bce5cdb682",
       "version_major": 2,
       "version_minor": 0
      },
      "text/plain": [
       "  0%|          | 0/1 [00:00<?, ?it/s]"
      ]
     },
     "metadata": {},
     "output_type": "display_data"
    },
    {
     "name": "stdout",
     "output_type": "stream",
     "text": [
      "Total time for MAP sublimb #0 mesh processing = 33.2651686668396\n",
      "correspondence_1_to_1: 3.0113108158111572\n",
      "Total time for MAP sublimb processing 33.26526737213135\n",
      "There were not both MAP and MP pieces so skipping the stitch resolving phase\n",
      "Time for decomp of Limb = 35.23141956329346\n",
      "Number of matching vertices = 14\n",
      "Only one endpoint after filtering away the endpoints that are not on the skeleton\n",
      "Removed 0 skeletal branches\n"
     ]
    },
    {
     "data": {
      "application/vnd.jupyter.widget-view+json": {
       "model_id": "8a39b4f388b94e3a9214479023f0fa51",
       "version_major": 2,
       "version_minor": 0
      },
      "text/plain": [
       "  0%|          | 0/1 [00:00<?, ?it/s]"
      ]
     },
     "metadata": {},
     "output_type": "display_data"
    },
    {
     "name": "stdout",
     "output_type": "stream",
     "text": [
      "28179 28180\n",
      "For marked faces: None\n",
      "empty_indices % = 0.0\n",
      " conflict_indices % = 0.0\n"
     ]
    },
    {
     "data": {
      "application/vnd.jupyter.widget-view+json": {
       "model_id": "b7f08e11bd4548cda0afc6eaf817e3b5",
       "version_major": 2,
       "version_minor": 0
      },
      "text/plain": [
       "0it [00:00, ?it/s]"
      ]
     },
     "metadata": {},
     "output_type": "display_data"
    },
    {
     "data": {
      "application/vnd.jupyter.widget-view+json": {
       "model_id": "6164d16fbd9241c5b981cf9276751403",
       "version_major": 2,
       "version_minor": 0
      },
      "text/plain": [
       "  0%|          | 0/1 [00:00<?, ?it/s]"
      ]
     },
     "metadata": {},
     "output_type": "display_data"
    },
    {
     "name": "stdout",
     "output_type": "stream",
     "text": [
      "Successful Limb Decomposition\n",
      "Total time for Skeletonization and Mesh Correspondence = 473.354204416275\n",
      "\n",
      "\n",
      " ----- Working on Stitching ----------\n",
      "Starting the floating pieces preprocessing\n",
      "Floating 0: <trimesh.Trimesh(vertices.shape=(400, 3), faces.shape=(796, 3))>\n",
      "invalidation_d = 12000\n",
      "use_adaptive_invalidation_d= True\n",
      "axon_width_preprocess_limb_max = 200\n",
      "filter_end_node_length= 4000\n",
      "filter_end_node_length_meshparty = 1000\n",
      "invalidation_d = 12000\n",
      "root_curr = None\n",
      "Time for preparing soma vertices and root: 7.152557373046875e-06\n",
      "invalidation_d = 12000\n",
      "smooth_neighborhood = 1\n",
      "cc_vertex_thresh = 10\n"
     ]
    },
    {
     "name": "stderr",
     "output_type": "stream",
     "text": [
      "  0%|                                                                                                                                                                                                                          | 0/1 [00:00<?, ?it/s]"
     ]
    },
    {
     "data": {
      "application/vnd.jupyter.widget-view+json": {
       "model_id": "45722de81ced45cdbc2cb3ea15bec218",
       "version_major": 2,
       "version_minor": 0
      },
      "text/plain": [
       "  0%|          | 0/399 [00:00<?, ?it/s]"
      ]
     },
     "metadata": {},
     "output_type": "display_data"
    },
    {
     "name": "stderr",
     "output_type": "stream",
     "text": [
      "100%|██████████████████████████████████████████████████████████████████████████████████████████████████████████████████████████████████████████████████████████████████████████████████████████████████████████████████| 1/1 [00:00<00:00, 71.61it/s]"
     ]
    },
    {
     "name": "stdout",
     "output_type": "stream",
     "text": [
      "meshparty_segment_size = 100\n",
      "Time for 1st pass MP skeletonization: 0.03349614143371582\n",
      "branches_touching_root = [0]\n",
      "combining close nodes\n",
      "combine_threshold = 700\n",
      "length of Graph = 126\n",
      "After combining close endpoints max(kept_branches_idx) = 0, len(kept_branches_idx) = 1\n",
      "empty_indices % = 0.0\n",
      " conflict_indices % = 0.0\n"
     ]
    },
    {
     "name": "stderr",
     "output_type": "stream",
     "text": [
      "\n"
     ]
    },
    {
     "data": {
      "application/vnd.jupyter.widget-view+json": {
       "model_id": "cf19401c931742afba0abc83983d7a77",
       "version_major": 2,
       "version_minor": 0
      },
      "text/plain": [
       "0it [00:00, ?it/s]"
      ]
     },
     "metadata": {},
     "output_type": "display_data"
    },
    {
     "data": {
      "application/vnd.jupyter.widget-view+json": {
       "model_id": "379d6e202f96495cbe3d822c0247f89c",
       "version_major": 2,
       "version_minor": 0
      },
      "text/plain": [
       "  0%|          | 0/1 [00:00<?, ?it/s]"
      ]
     },
     "metadata": {},
     "output_type": "display_data"
    },
    {
     "name": "stdout",
     "output_type": "stream",
     "text": [
      "widths = [137.60832097]\n",
      "width_median= 137.608320973874\n",
      "segment_widths_median = [137.60832097]\n",
      "Using the axon parameters\n",
      "invalidation_d = 1500\n",
      "smooth_neighborhood = 0\n",
      "cc_vertex_thresh = 10\n"
     ]
    },
    {
     "name": "stderr",
     "output_type": "stream",
     "text": [
      "  0%|                                                                                                                                                                                                                          | 0/1 [00:00<?, ?it/s]"
     ]
    },
    {
     "data": {
      "application/vnd.jupyter.widget-view+json": {
       "model_id": "94d30fd36b64441e97daa0fe585ac704",
       "version_major": 2,
       "version_minor": 0
      },
      "text/plain": [
       "  0%|          | 0/399 [00:00<?, ?it/s]"
      ]
     },
     "metadata": {},
     "output_type": "display_data"
    },
    {
     "name": "stderr",
     "output_type": "stream",
     "text": [
      "100%|██████████████████████████████████████████████████████████████████████████████████████████████████████████████████████████████████████████████████████████████████████████████████████████████████████████████████| 1/1 [00:00<00:00, 45.61it/s]"
     ]
    },
    {
     "name": "stdout",
     "output_type": "stream",
     "text": [
      "meshparty_segment_size = 100\n",
      "Time for 1st pass MP skeletonization: 0.12454032897949219\n",
      "branches_touching_root = [1]\n",
      "combining close nodes\n",
      "combine_threshold = 1300\n"
     ]
    },
    {
     "name": "stderr",
     "output_type": "stream",
     "text": [
      "\n"
     ]
    },
    {
     "name": "stdout",
     "output_type": "stream",
     "text": [
      "length of Graph = 168\n",
      "After combining close endpoints max(kept_branches_idx) = 2, len(kept_branches_idx) = 3\n",
      "empty_indices % = 0.0\n",
      " conflict_indices % = 0.03391959798994975\n"
     ]
    },
    {
     "data": {
      "application/vnd.jupyter.widget-view+json": {
       "model_id": "2ee5776c56a5482dac08394f19a244cd",
       "version_major": 2,
       "version_minor": 0
      },
      "text/plain": [
       "  0%|          | 0/1 [00:00<?, ?it/s]"
      ]
     },
     "metadata": {},
     "output_type": "display_data"
    },
    {
     "data": {
      "application/vnd.jupyter.widget-view+json": {
       "model_id": "64b8a3926e7d4dbea7d84af25876e6ca",
       "version_major": 2,
       "version_minor": 0
      },
      "text/plain": [
       "  0%|          | 0/3 [00:00<?, ?it/s]"
      ]
     },
     "metadata": {},
     "output_type": "display_data"
    },
    {
     "name": "stdout",
     "output_type": "stream",
     "text": [
      "widths = [141.07705943 136.46396301 214.44395318]\n",
      "width_median= 148.41445093001497\n",
      "segment_widths_median = [141.07705943 136.46396301 214.44395318]\n",
      "Using the axon parameters\n",
      "Decomposing first pass: 0.14211177825927734\n",
      "Attempting to use MeshAfterParty Skeletonization and Mesh Correspondence\n",
      "Another print\n",
      "Divinding into MP and MAP pieces: 6.532669067382812e-05\n",
      "Total time for MAP sublimb processing 2.86102294921875e-06\n",
      "---- Working on MP Decomposition #0 ----\n",
      "Using Quicker soma_to_piece_touching_vertices because no MAP and only one sublimb_mesh piece \n",
      "MP filtering soma verts: 3.0994415283203125e-05\n",
      "Do Not Need to Fix MP Decomposition 0 so just continuing\n",
      "There were not both MAP and MP pieces so skipping the stitch resolving phase\n",
      "Time for decomp of Limb = 0.3098733425140381\n",
      "Removed 0 skeletal branches\n"
     ]
    },
    {
     "data": {
      "application/vnd.jupyter.widget-view+json": {
       "model_id": "54bec889e0394bdebb9750bc23f68538",
       "version_major": 2,
       "version_minor": 0
      },
      "text/plain": [
       "  0%|          | 0/3 [00:00<?, ?it/s]"
      ]
     },
     "metadata": {},
     "output_type": "display_data"
    },
    {
     "name": "stdout",
     "output_type": "stream",
     "text": [
      "795 796\n",
      "For marked faces: None\n",
      "empty_indices % = 0.0\n",
      " conflict_indices % = 0.0\n"
     ]
    },
    {
     "data": {
      "application/vnd.jupyter.widget-view+json": {
       "model_id": "336e5132d12b408494f876d19f80df4e",
       "version_major": 2,
       "version_minor": 0
      },
      "text/plain": [
       "0it [00:00, ?it/s]"
      ]
     },
     "metadata": {},
     "output_type": "display_data"
    },
    {
     "data": {
      "application/vnd.jupyter.widget-view+json": {
       "model_id": "c7982480a4f4449a81a9d4e312614df0",
       "version_major": 2,
       "version_minor": 0
      },
      "text/plain": [
       "  0%|          | 0/3 [00:00<?, ?it/s]"
      ]
     },
     "metadata": {},
     "output_type": "display_data"
    },
    {
     "data": {
      "application/vnd.jupyter.widget-view+json": {
       "model_id": "0b258bf28277414395b0c5c817d97233",
       "version_major": 2,
       "version_minor": 0
      },
      "text/plain": [
       "Container(figure=Figure(box_center=[0.5, 0.5, 0.5], box_size=[1.0, 1.0, 1.0], camera=PerspectiveCamera(fov=45.…"
      ]
     },
     "metadata": {},
     "output_type": "display_data"
    },
    {
     "name": "stdout",
     "output_type": "stream",
     "text": [
      "--> time = 0.5969996452331543\n",
      "Floating 1: <trimesh.Trimesh(vertices.shape=(63, 3), faces.shape=(120, 3))>\n",
      "invalidation_d = 12000\n",
      "use_adaptive_invalidation_d= True\n",
      "axon_width_preprocess_limb_max = 200\n",
      "filter_end_node_length= 4000\n",
      "filter_end_node_length_meshparty = 1000\n",
      "invalidation_d = 12000\n",
      "root_curr = None\n",
      "Time for preparing soma vertices and root: 5.4836273193359375e-06\n",
      "invalidation_d = 12000\n",
      "smooth_neighborhood = 1\n",
      "cc_vertex_thresh = 10\n"
     ]
    },
    {
     "name": "stderr",
     "output_type": "stream",
     "text": [
      "  0%|                                                                                                                                                                                                                          | 0/1 [00:00<?, ?it/s]"
     ]
    },
    {
     "data": {
      "application/vnd.jupyter.widget-view+json": {
       "model_id": "6406ccb5b6ec4b34a776879695d96ed6",
       "version_major": 2,
       "version_minor": 0
      },
      "text/plain": [
       "  0%|          | 0/62 [00:00<?, ?it/s]"
      ]
     },
     "metadata": {},
     "output_type": "display_data"
    },
    {
     "name": "stderr",
     "output_type": "stream",
     "text": [
      "100%|██████████████████████████████████████████████████████████████████████████████████████████████████████████████████████████████████████████████████████████████████████████████████████████████████████████████████| 1/1 [00:00<00:00, 50.76it/s]"
     ]
    },
    {
     "name": "stdout",
     "output_type": "stream",
     "text": [
      "meshparty_segment_size = 100\n",
      "Time for 1st pass MP skeletonization: 0.04310345649719238\n",
      "branches_touching_root = [0]\n",
      "combining close nodes\n",
      "combine_threshold = 700\n",
      "length of Graph = 11\n",
      "After combining close endpoints max(kept_branches_idx) = 0, len(kept_branches_idx) = 1\n",
      "empty_indices % = 0.0\n",
      " conflict_indices % = 0.0\n"
     ]
    },
    {
     "name": "stderr",
     "output_type": "stream",
     "text": [
      "\n"
     ]
    },
    {
     "data": {
      "application/vnd.jupyter.widget-view+json": {
       "model_id": "9daa65d23ed04e4b9abd0ceb383c8963",
       "version_major": 2,
       "version_minor": 0
      },
      "text/plain": [
       "0it [00:00, ?it/s]"
      ]
     },
     "metadata": {},
     "output_type": "display_data"
    },
    {
     "data": {
      "application/vnd.jupyter.widget-view+json": {
       "model_id": "86b9cc229088470b87158b1572213bfa",
       "version_major": 2,
       "version_minor": 0
      },
      "text/plain": [
       "  0%|          | 0/1 [00:00<?, ?it/s]"
      ]
     },
     "metadata": {},
     "output_type": "display_data"
    },
    {
     "name": "stdout",
     "output_type": "stream",
     "text": [
      "widths = [151.67460568]\n",
      "width_median= 151.67460567958517\n",
      "segment_widths_median = [151.67460568]\n",
      "Using the axon parameters\n",
      "invalidation_d = 1500\n",
      "smooth_neighborhood = 0\n",
      "cc_vertex_thresh = 10\n"
     ]
    },
    {
     "name": "stderr",
     "output_type": "stream",
     "text": [
      "  0%|                                                                                                                                                                                                                          | 0/1 [00:00<?, ?it/s]"
     ]
    },
    {
     "data": {
      "application/vnd.jupyter.widget-view+json": {
       "model_id": "034544bd52e545a5871c09c35cd3fb89",
       "version_major": 2,
       "version_minor": 0
      },
      "text/plain": [
       "  0%|          | 0/62 [00:00<?, ?it/s]"
      ]
     },
     "metadata": {},
     "output_type": "display_data"
    },
    {
     "name": "stderr",
     "output_type": "stream",
     "text": [
      "100%|██████████████████████████████████████████████████████████████████████████████████████████████████████████████████████████████████████████████████████████████████████████████████████████████████████████████████| 1/1 [00:00<00:00, 58.79it/s]"
     ]
    },
    {
     "name": "stdout",
     "output_type": "stream",
     "text": [
      "meshparty_segment_size = 100\n",
      "Time for 1st pass MP skeletonization: 0.07604742050170898\n",
      "branches_touching_root = [0]\n",
      "combining close nodes\n",
      "combine_threshold = 1300\n",
      "length of Graph = 21\n",
      "After combining close endpoints max(kept_branches_idx) = 0, len(kept_branches_idx) = 1\n",
      "empty_indices % = 0.0\n",
      " conflict_indices % = 0.0\n"
     ]
    },
    {
     "name": "stderr",
     "output_type": "stream",
     "text": [
      "\n"
     ]
    },
    {
     "data": {
      "application/vnd.jupyter.widget-view+json": {
       "model_id": "b7cb3f70dea2480cb18e27cb3bba1487",
       "version_major": 2,
       "version_minor": 0
      },
      "text/plain": [
       "0it [00:00, ?it/s]"
      ]
     },
     "metadata": {},
     "output_type": "display_data"
    },
    {
     "data": {
      "application/vnd.jupyter.widget-view+json": {
       "model_id": "a1d483d1991944179f9dec0b71daa5f2",
       "version_major": 2,
       "version_minor": 0
      },
      "text/plain": [
       "  0%|          | 0/1 [00:00<?, ?it/s]"
      ]
     },
     "metadata": {},
     "output_type": "display_data"
    },
    {
     "name": "stdout",
     "output_type": "stream",
     "text": [
      "widths = [151.67371775]\n",
      "width_median= 151.67371774934747\n",
      "segment_widths_median = [151.67371775]\n",
      "Using the axon parameters\n",
      "Decomposing first pass: 0.04191398620605469\n",
      "Attempting to use MeshAfterParty Skeletonization and Mesh Correspondence\n",
      "Another print\n",
      "Divinding into MP and MAP pieces: 4.076957702636719e-05\n",
      "Total time for MAP sublimb processing 3.814697265625e-06\n",
      "---- Working on MP Decomposition #0 ----\n",
      "Using Quicker soma_to_piece_touching_vertices because no MAP and only one sublimb_mesh piece \n",
      "MP filtering soma verts: 3.6716461181640625e-05\n",
      "Do Not Need to Fix MP Decomposition 0 so just continuing\n",
      "There were not both MAP and MP pieces so skipping the stitch resolving phase\n",
      "Time for decomp of Limb = 0.16353964805603027\n",
      "Removed 0 skeletal branches\n"
     ]
    },
    {
     "data": {
      "application/vnd.jupyter.widget-view+json": {
       "model_id": "eb242fb1f8b943bca9d0ca524f0d502c",
       "version_major": 2,
       "version_minor": 0
      },
      "text/plain": [
       "  0%|          | 0/1 [00:00<?, ?it/s]"
      ]
     },
     "metadata": {},
     "output_type": "display_data"
    },
    {
     "name": "stdout",
     "output_type": "stream",
     "text": [
      "119 120\n",
      "For marked faces: None\n",
      "empty_indices % = 0.0\n",
      " conflict_indices % = 0.0\n"
     ]
    },
    {
     "data": {
      "application/vnd.jupyter.widget-view+json": {
       "model_id": "aefb5a4c2caf4fcabc31e4edb8920a72",
       "version_major": 2,
       "version_minor": 0
      },
      "text/plain": [
       "0it [00:00, ?it/s]"
      ]
     },
     "metadata": {},
     "output_type": "display_data"
    },
    {
     "data": {
      "application/vnd.jupyter.widget-view+json": {
       "model_id": "58c9b4d3cf464be584b4f3d05ba23fb8",
       "version_major": 2,
       "version_minor": 0
      },
      "text/plain": [
       "  0%|          | 0/1 [00:00<?, ?it/s]"
      ]
     },
     "metadata": {},
     "output_type": "display_data"
    },
    {
     "data": {
      "application/vnd.jupyter.widget-view+json": {
       "model_id": "5eb349bdc9de4f40a1ea44767694e293",
       "version_major": 2,
       "version_minor": 0
      },
      "text/plain": [
       "Container(figure=Figure(box_center=[0.5, 0.5, 0.5], box_size=[1.0, 1.0, 1.0], camera=PerspectiveCamera(fov=45.…"
      ]
     },
     "metadata": {},
     "output_type": "display_data"
    },
    {
     "name": "stdout",
     "output_type": "stream",
     "text": [
      "--> time = 0.2699556350708008\n",
      "Floating 2: <trimesh.Trimesh(vertices.shape=(60, 3), faces.shape=(115, 3))>\n",
      "invalidation_d = 12000\n",
      "use_adaptive_invalidation_d= True\n",
      "axon_width_preprocess_limb_max = 200\n",
      "filter_end_node_length= 4000\n",
      "filter_end_node_length_meshparty = 1000\n",
      "invalidation_d = 12000\n",
      "root_curr = None\n",
      "Time for preparing soma vertices and root: 5.7220458984375e-06\n",
      "invalidation_d = 12000\n",
      "smooth_neighborhood = 1\n",
      "cc_vertex_thresh = 10\n"
     ]
    },
    {
     "name": "stderr",
     "output_type": "stream",
     "text": [
      "  0%|                                                                                                                                                                                                                          | 0/1 [00:00<?, ?it/s]"
     ]
    },
    {
     "data": {
      "application/vnd.jupyter.widget-view+json": {
       "model_id": "9c9ce8f0ca8c41bf94ad3d74fb5b3e2a",
       "version_major": 2,
       "version_minor": 0
      },
      "text/plain": [
       "  0%|          | 0/59 [00:00<?, ?it/s]"
      ]
     },
     "metadata": {},
     "output_type": "display_data"
    },
    {
     "name": "stderr",
     "output_type": "stream",
     "text": [
      "100%|██████████████████████████████████████████████████████████████████████████████████████████████████████████████████████████████████████████████████████████████████████████████████████████████████████████████████| 1/1 [00:00<00:00, 96.14it/s]\n"
     ]
    },
    {
     "name": "stdout",
     "output_type": "stream",
     "text": [
      "meshparty_segment_size = 100\n",
      "Time for 1st pass MP skeletonization: 0.021724700927734375\n",
      "branches_touching_root = [0]\n",
      "combining close nodes\n",
      "combine_threshold = 700\n",
      "length of Graph = 6\n",
      "After combining close endpoints max(kept_branches_idx) = 0, len(kept_branches_idx) = 1\n",
      "empty_indices % = 0.0\n",
      " conflict_indices % = 0.0\n"
     ]
    },
    {
     "data": {
      "application/vnd.jupyter.widget-view+json": {
       "model_id": "c37d10b59619462ab59567f55ecfcb6e",
       "version_major": 2,
       "version_minor": 0
      },
      "text/plain": [
       "0it [00:00, ?it/s]"
      ]
     },
     "metadata": {},
     "output_type": "display_data"
    },
    {
     "data": {
      "application/vnd.jupyter.widget-view+json": {
       "model_id": "5269c10e36c443a99896a5dee957eb1f",
       "version_major": 2,
       "version_minor": 0
      },
      "text/plain": [
       "  0%|          | 0/1 [00:00<?, ?it/s]"
      ]
     },
     "metadata": {},
     "output_type": "display_data"
    },
    {
     "name": "stdout",
     "output_type": "stream",
     "text": [
      "widths = [316.70087961]\n",
      "width_median= 316.70087960511967\n",
      "segment_widths_median = [316.70087961]\n",
      "Decomposing first pass: 0.03431534767150879\n",
      "Attempting to use MeshAfterParty Skeletonization and Mesh Correspondence\n",
      "Another print\n",
      "Divinding into MP and MAP pieces: 2.4080276489257812e-05\n",
      "Total time for MAP sublimb processing 1.9073486328125e-06\n",
      "---- Working on MP Decomposition #0 ----\n",
      "Using Quicker soma_to_piece_touching_vertices because no MAP and only one sublimb_mesh piece \n",
      "MP filtering soma verts: 2.0742416381835938e-05\n",
      "Do Not Need to Fix MP Decomposition 0 so just continuing\n",
      "There were not both MAP and MP pieces so skipping the stitch resolving phase\n",
      "Time for decomp of Limb = 0.056920766830444336\n"
     ]
    },
    {
     "data": {
      "application/vnd.jupyter.widget-view+json": {
       "model_id": "81982c6d00934844a2d6436fccc8ed24",
       "version_major": 2,
       "version_minor": 0
      },
      "text/plain": [
       "  0%|          | 0/2 [00:00<?, ?it/s]"
      ]
     },
     "metadata": {},
     "output_type": "display_data"
    },
    {
     "name": "stdout",
     "output_type": "stream",
     "text": [
      "Removed 2 skeletal branches\n",
      "There were no branches after cleaning limb correspondence\n"
     ]
    },
    {
     "data": {
      "application/vnd.jupyter.widget-view+json": {
       "model_id": "219e4da99a5f4b84a46b7fe1671bb13b",
       "version_major": 2,
       "version_minor": 0
      },
      "text/plain": [
       "Container(figure=Figure(box_center=[0.5, 0.5, 0.5], box_size=[1.0, 1.0, 1.0], camera=PerspectiveCamera(fov=45.…"
      ]
     },
     "metadata": {},
     "output_type": "display_data"
    },
    {
     "name": "stdout",
     "output_type": "stream",
     "text": [
      "--> time = 0.09976911544799805\n"
     ]
    },
    {
     "data": {
      "application/vnd.jupyter.widget-view+json": {
       "model_id": "0f919f9971024b3485337a074a2b01fe",
       "version_major": 2,
       "version_minor": 0
      },
      "text/plain": [
       "0it [00:00, ?it/s]"
      ]
     },
     "metadata": {},
     "output_type": "display_data"
    },
    {
     "name": "stdout",
     "output_type": "stream",
     "text": [
      "\n",
      "\n",
      "--- Working on 1-to-1 correspondence-----\n",
      "max(original_labels),len(original_labels) = (1, 2)\n",
      "empty_indices % = 0.04441018865154518\n",
      " conflict_indices % = 0.0033032371724289805\n"
     ]
    },
    {
     "data": {
      "application/vnd.jupyter.widget-view+json": {
       "model_id": "17da1db7fca54e12b97ba2e0e6842f8d",
       "version_major": 2,
       "version_minor": 0
      },
      "text/plain": [
       "  0%|          | 0/13 [00:00<?, ?it/s]"
      ]
     },
     "metadata": {},
     "output_type": "display_data"
    },
    {
     "data": {
      "application/vnd.jupyter.widget-view+json": {
       "model_id": "4ca8130f7a964fdc8fba593618156fc6",
       "version_major": 2,
       "version_minor": 0
      },
      "text/plain": [
       "  0%|          | 0/2 [00:00<?, ?it/s]"
      ]
     },
     "metadata": {},
     "output_type": "display_data"
    },
    {
     "name": "stdout",
     "output_type": "stream",
     "text": [
      "main_branch = 4\n",
      "Total time for stitching floating pieces = 12.13948106765747\n",
      "Total time for Concept Networks = 17.022706031799316\n",
      "Total time for all mesh and skeletonization decomp = 514.8841361999512\n",
      "No soma volume ratios so computing them now\n",
      "Using Poisson Surface Reconstruction for watertightness in soma_volume_ratio\n",
      "xvfb-run -n 7682 -s \"-screen 0 800x600x24\" meshlabserver $@  -i /neurd_packages/NEURD/Applications/Tutorials/Auto_Proof_Pipeline/Single_Soma_Inh/Poisson_temp/neuron_958176.off -o /neurd_packages/NEURD/Applications/Tutorials/Auto_Proof_Pipeline/Single_Soma_Inh/Poisson_temp/neuron_958176_poisson.off -s /neurd_packages/NEURD/Applications/Tutorials/Auto_Proof_Pipeline/Single_Soma_Inh/Poisson_temp/poisson_877289.mls\n",
      "removed temporary input file: /neurd_packages/NEURD/Applications/Tutorials/Auto_Proof_Pipeline/Single_Soma_Inh/Poisson_temp/neuron_958176.off\n",
      "removed temporary output file: /neurd_packages/NEURD/Applications/Tutorials/Auto_Proof_Pipeline/Single_Soma_Inh/Poisson_temp/neuron_958176_poisson.off\n",
      "mesh.is_watertight = True\n",
      "/neurd_packages/NEURD/Applications/Tutorials/Auto_Proof_Pipeline/Single_Soma_Inh/Poisson_temp/poisson_877289.mls is being deleted....\n",
      "--- 1) Finished unpacking preprocessed materials: 538.4281497001648\n",
      "total_edges = [['S0', 'L0'], ['S0', 'L1'], ['S0', 'L2'], ['S0', 'L3'], ['S0', 'L4'], ['S0', 'L5'], ['S0', 'L6']]\n",
      "--- 2) Finished creating neuron connectivity graph: 0.00022530555725097656\n",
      "Having to generate soma_meshes_face_idx because none in preprocessed data\n",
      "--- 3a) Finshed generating soma_meshes_face_idx: 0.1369175910949707\n",
      "Using precomputed volume ratio\n",
      "--- 3b) Finished soma creation: 0.09676218032836914\n",
      "--- 3) Finshed generating soma objects and adding them to concept graph: 6.771087646484375e-05\n",
      "--- 4a) Finshed generating curr_limb_meshes_face_idx: 1.0812718868255615\n",
      "curr_limb_concept_networks= {0: [<datasci_tools.networkx_utils.GraphOrderedEdges object at 0x7f5628bc2e50>]}\n",
      "curr_limb_concept_networks= {0: [<datasci_tools.networkx_utils.GraphOrderedEdges object at 0x7f5803f44910>]}\n",
      "curr_limb_concept_networks= {0: [<datasci_tools.networkx_utils.GraphOrderedEdges object at 0x7f5631336850>]}\n",
      "curr_limb_concept_networks= {0: [<datasci_tools.networkx_utils.GraphOrderedEdges object at 0x7f563c85d400>]}\n",
      "curr_limb_concept_networks= {0: [<datasci_tools.networkx_utils.GraphOrderedEdges object at 0x7f563bf65b80>]}\n",
      "curr_limb_concept_networks= {0: [<datasci_tools.networkx_utils.GraphOrderedEdges object at 0x7f563bf65e20>]}\n",
      "curr_limb_concept_networks= {0: [<datasci_tools.networkx_utils.GraphOrderedEdges object at 0x7f5803f44700>]}\n",
      "--- 4) Finshed generating Limb objects and adding them to concept graph: 17.479600429534912\n",
      "--- 5) SKIPPING Doing the adaptive mesh correspondence on the meshparty preprocessing ---\n",
      "--- 6) SKIPPING Using the computed_attribute_dict to populate neuron attributes ---\n",
      "self.n_limbs = 7\n",
      "7) Calculating the spines for the neuorn if do not already exist\n",
      "7a) calculating spines because didn't exist\n",
      "The median_mesh_center was requested but has not already been calculated so calculating now.... \n",
      "width_name BEFORE processing = None\n",
      "After processing\n",
      "width_name = median_mesh_center, distance_by_mesh_center= True, no_spines = False, summary_measure= median\n",
      "Working on limb L0 branch 122\n",
      "    current_width= 268.3987974668497\n",
      "Working on limb L0 branch 105\n",
      "    current_width= 254.40528708461596\n",
      "Working on limb L0 branch 123\n",
      "    current_width= 175.92980853069895\n",
      "Working on limb L0 branch 92\n",
      "    current_width= 162.59099336271294\n",
      "Working on limb L0 branch 106\n",
      "    current_width= 177.75531525200904\n",
      "Working on limb L0 branch 91\n",
      "    current_width= 260.8307902249482\n",
      "Working on limb L0 branch 93\n",
      "    current_width= 143.67443926531143\n",
      "Working on limb L0 branch 78\n",
      "    current_width= 173.39493447310736\n",
      "Working on limb L0 branch 82\n",
      "    current_width= 191.536309986838\n",
      "Working on limb L0 branch 58\n",
      "    current_width= 195.23879221601743\n",
      "Working on limb L0 branch 95\n",
      "    current_width= 197.9014189175236\n",
      "Working on limb L0 branch 61\n",
      "    current_width= 201.8535185669481\n",
      "Working on limb L0 branch 76\n",
      "    current_width= 161.2485814643801\n",
      "Working on limb L0 branch 81\n",
      "    current_width= 247.94010059066625\n",
      "Working on limb L0 branch 84\n",
      "    current_width= 214.80617430666527\n",
      "Working on limb L0 branch 50\n",
      "    current_width= 377.77275055635437\n",
      "Working on limb L0 branch 54\n",
      "    current_width= 575.9396036747171\n",
      "Working on limb L0 branch 96\n",
      "    current_width= 184.96020821788963\n",
      "Working on limb L0 branch 97\n",
      "    current_width= 165.7160481225301\n",
      "Working on limb L0 branch 36\n",
      "    current_width= 165.6281071763612\n",
      "Working on limb L0 branch 53\n",
      "    current_width= 195.90669272417173\n",
      "Working on limb L0 branch 66\n",
      "    current_width= 197.82631901770108\n",
      "Working on limb L0 branch 77\n",
      "    current_width= 178.1935330988376\n",
      "Working on limb L0 branch 79\n",
      "    current_width= 200.09188620803576\n",
      "Working on limb L0 branch 83\n",
      "    current_width= 217.2646987137386\n",
      "Working on limb L0 branch 88\n",
      "    current_width= 175.94935108431798\n",
      "Working on limb L0 branch 94\n",
      "    current_width= 193.92429045584697\n",
      "Working on limb L0 branch 46\n",
      "    current_width= 208.8478103682176\n",
      "Working on limb L0 branch 51\n",
      "    current_width= 214.1544361926379\n",
      "Working on limb L0 branch 43\n",
      "    current_width= 103.79250529323492\n",
      "Working on limb L0 branch 55\n",
      "    current_width= 108.6401963620635\n",
      "Working on limb L0 branch 118\n",
      "    current_width= 197.1170326992597\n",
      "Working on limb L0 branch 119\n",
      "    current_width= 173.68045942465275\n",
      "Working on limb L0 branch 26\n",
      "    current_width= 195.8124653032828\n",
      "Working on limb L0 branch 33\n",
      "    current_width= 185.07935076198385\n",
      "Working on limb L0 branch 20\n",
      "    current_width= 203.3313353471339\n",
      "Working on limb L0 branch 68\n",
      "    current_width= 179.41951636711747\n",
      "Working on limb L0 branch 89\n",
      "    current_width= 76.9396480875898\n",
      "Working on limb L0 branch 90\n",
      "    current_width= 214.66564292238215\n",
      "Working on limb L0 branch 70\n",
      "    current_width= 151.33171692779993\n",
      "Working on limb L0 branch 72\n",
      "    current_width= 201.54208762236715\n",
      "Working on limb L0 branch 71\n",
      "    current_width= 160.1147411238183\n",
      "Working on limb L0 branch 85\n",
      "    current_width= 231.93979723904192\n",
      "Working on limb L0 branch 80\n",
      "    current_width= 128.68311312959662\n",
      "Working on limb L0 branch 87\n",
      "    current_width= 90.32524566279945\n",
      "Working on limb L0 branch 30\n",
      "    current_width= 100.49474582142668\n",
      "Working on limb L0 branch 47\n",
      "    current_width= 79.6861887805633\n",
      "Working on limb L0 branch 49\n",
      "    current_width= 107.40690487446805\n",
      "Working on limb L0 branch 52\n",
      "    current_width= 85.38389094503187\n",
      "Working on limb L0 branch 42\n",
      "    current_width= 132.93414197574742\n",
      "Working on limb L0 branch 44\n",
      "    current_width= 131.43425690252306\n",
      "Working on limb L0 branch 41\n",
      "    current_width= 103.61736934695169\n",
      "Working on limb L0 branch 57\n",
      "    current_width= 71.85245816363633\n",
      "Working on limb L0 branch 110\n",
      "    current_width= 85.8029290973634\n",
      "Working on limb L0 branch 120\n",
      "    current_width= 80.65082369676999\n",
      "Working on limb L0 branch 24\n",
      "    current_width= 85.72131092534259\n",
      "Working on limb L0 branch 25\n",
      "    current_width= 207.940961714971\n",
      "Working on limb L0 branch 1\n",
      "    current_width= 207.01259861431697\n",
      "Working on limb L0 branch 32\n",
      "    current_width= 204.32895652639823\n",
      "Working on limb L0 branch 73\n",
      "    current_width= 231.73389315710364\n",
      "Working on limb L0 branch 74\n",
      "    current_width= 188.4776432105835\n",
      "Working on limb L0 branch 102\n",
      "    current_width= 247.90467823540678\n",
      "Working on limb L0 branch 103\n",
      "    current_width= 185.47810296022183\n",
      "Working on limb L0 branch 67\n",
      "    current_width= 136.49762701127867\n",
      "Working on limb L0 branch 69\n",
      "    current_width= 108.99296687314154\n",
      "Working on limb L0 branch 21\n",
      "    current_width= 168.42468781959997\n",
      "Working on limb L0 branch 65\n",
      "    current_width= 133.55897513771933\n",
      "Working on limb L0 branch 64\n",
      "    current_width= 162.74288308621692\n",
      "Working on limb L0 branch 86\n",
      "    current_width= 161.5146939955531\n",
      "Working on limb L0 branch 29\n",
      "    current_width= 96.56590662568273\n",
      "Working on limb L0 branch 31\n",
      "    current_width= 99.75673926293678\n",
      "Working on limb L0 branch 37\n",
      "    current_width= 70.04001227768401\n",
      "Working on limb L0 branch 59\n",
      "    current_width= 64.45964498530067\n",
      "Working on limb L0 branch 27\n",
      "    current_width= 159.9727624041177\n",
      "Working on limb L0 branch 28\n",
      "    current_width= 89.85200252485915\n",
      "Working on limb L0 branch 39\n",
      "    current_width= 119.81117791929438\n",
      "Working on limb L0 branch 40\n",
      "    current_width= 174.34685615552092\n",
      "Working on limb L0 branch 63\n",
      "    current_width= 161.28612609903655\n",
      "Working on limb L0 branch 75\n",
      "    current_width= 173.9711281629101\n",
      "Working on limb L0 branch 100\n",
      "    current_width= 184.79948710093103\n",
      "Working on limb L0 branch 104\n",
      "    current_width= 164.92740753027098\n",
      "Working on limb L0 branch 111\n",
      "    current_width= 100.8274251032075\n",
      "Working on limb L0 branch 115\n",
      "    current_width= 104.13639206365286\n",
      "Working on limb L0 branch 45\n",
      "    current_width= 122.99875188727947\n",
      "Working on limb L0 branch 48\n",
      "    current_width= 88.27545353735994\n",
      "Working on limb L0 branch 134\n",
      "    current_width= 174.2265383924398\n",
      "Working on limb L0 branch 18\n",
      "    current_width= 107.42407306696485\n",
      "Working on limb L0 branch 22\n",
      "    current_width= 321.49207333650895\n",
      "Working on limb L0 branch 56\n",
      "    current_width= 99.71109301223365\n",
      "Working on limb L0 branch 60\n",
      "    current_width= 122.2079029263728\n",
      "Working on limb L0 branch 62\n",
      "    current_width= 78.42310489454616\n",
      "Working on limb L0 branch 116\n",
      "    current_width= 76.88233182491265\n",
      "Working on limb L0 branch 125\n",
      "    current_width= 266.30852463033\n",
      "Working on limb L0 branch 109\n",
      "    current_width= 177.7286317599182\n",
      "Working on limb L0 branch 121\n",
      "    current_width= 177.11512455029217\n",
      "Working on limb L0 branch 98\n",
      "    current_width= 113.04884069060992\n",
      "Working on limb L0 branch 108\n",
      "    current_width= 83.12380816646467\n",
      "Working on limb L0 branch 112\n",
      "    current_width= 85.71487557132254\n",
      "Working on limb L0 branch 114\n",
      "    current_width= 99.46949527625182\n",
      "Working on limb L0 branch 127\n",
      "    current_width= 90.68990103293501\n",
      "Working on limb L0 branch 35\n",
      "    current_width= 73.84748718680041\n",
      "Working on limb L0 branch 38\n",
      "    current_width= 110.77041866496614\n",
      "Working on limb L0 branch 14\n",
      "    current_width= 232.20032438829074\n",
      "Working on limb L0 branch 23\n",
      "    current_width= 105.47517414833388\n",
      "Working on limb L0 branch 124\n",
      "    current_width= 96.2188902975276\n",
      "Working on limb L0 branch 126\n",
      "    current_width= 104.01365901587891\n",
      "Working on limb L0 branch 117\n",
      "    current_width= 189.57870357979562\n",
      "Working on limb L0 branch 128\n",
      "    current_width= 65.78463417045407\n",
      "Working on limb L0 branch 99\n",
      "    current_width= 85.65495695380339\n",
      "Working on limb L0 branch 101\n",
      "    current_width= 126.4902947206255\n",
      "Working on limb L0 branch 113\n",
      "    current_width= 138.95812746750155\n",
      "Working on limb L0 branch 132\n",
      "    current_width= 125.81755140029102\n",
      "Working on limb L0 branch 133\n",
      "    current_width= 77.856883669946\n",
      "Working on limb L0 branch 7\n",
      "    current_width= 89.0452309911486\n",
      "Working on limb L0 branch 17\n",
      "    current_width= 87.16417770593827\n",
      "Working on limb L0 branch 10\n",
      "    current_width= 123.8792688825388\n",
      "Working on limb L0 branch 12\n",
      "    current_width= 304.12623418798296\n",
      "Working on limb L0 branch 129\n",
      "    current_width= 131.01417513561933\n",
      "Working on limb L0 branch 131\n",
      "    current_width= 95.61098191861385\n",
      "Working on limb L0 branch 15\n",
      "    current_width= 89.72349129057191\n",
      "Working on limb L0 branch 19\n",
      "    current_width= 101.80200302807258\n",
      "Working on limb L0 branch 9\n",
      "    current_width= 190.2161098348183\n",
      "Working on limb L0 branch 11\n",
      "    current_width= 235.7083545869468\n",
      "Working on limb L0 branch 107\n",
      "    current_width= 73.31382885784765\n",
      "Working on limb L0 branch 130\n",
      "    current_width= 84.20132835913259\n",
      "Working on limb L0 branch 4\n",
      "    current_width= 95.78981076127147\n",
      "Working on limb L0 branch 8\n",
      "    current_width= 90.98399896518117\n",
      "Working on limb L0 branch 6\n",
      "    current_width= 131.25249276081357\n",
      "Working on limb L0 branch 13\n",
      "    current_width= 145.1064596603198\n",
      "Working on limb L0 branch 16\n",
      "    current_width= 112.99641315139647\n",
      "Working on limb L0 branch 34\n",
      "    current_width= 85.42365109431938\n",
      "Working on limb L0 branch 0\n",
      "    current_width= 98.37707336854892\n",
      "Working on limb L0 branch 5\n",
      "    current_width= 174.70987211990987\n",
      "Working on limb L0 branch 2\n",
      "    current_width= 132.411926758039\n",
      "Working on limb L0 branch 3\n",
      "    current_width= 137.7328228535771\n",
      "Working on limb L1 branch 4\n",
      "Assigning the old width calculation because no valid new widths\n",
      "    current_width= 652.167088965849\n",
      "Working on limb L1 branch 3\n",
      "    current_width= 338.898401865069\n",
      "Working on limb L1 branch 5\n",
      "    current_width= 565.4601323305294\n",
      "Working on limb L1 branch 0\n",
      "    current_width= 290.7621389923127\n",
      "Working on limb L1 branch 2\n",
      "    current_width= 234.22485178043615\n",
      "Working on limb L1 branch 1\n",
      "    current_width= 250.0465958976717\n",
      "Working on limb L1 branch 6\n",
      "    current_width= 498.1643307657547\n",
      "Working on limb L1 branch 7\n",
      "    current_width= 385.1390503815415\n",
      "Working on limb L1 branch 8\n",
      "    current_width= 323.0145282906097\n",
      "Working on limb L1 branch 10\n",
      "    current_width= 305.5947270476785\n",
      "Working on limb L1 branch 11\n",
      "    current_width= 296.58796496035035\n",
      "Working on limb L1 branch 12\n",
      "    current_width= 275.60078403862315\n",
      "Working on limb L1 branch 14\n",
      "    current_width= 299.1131765421754\n",
      "Working on limb L1 branch 9\n",
      "    current_width= 240.72577015905745\n",
      "Working on limb L1 branch 13\n",
      "    current_width= 62.96878135257\n",
      "Working on limb L2 branch 5\n",
      "    current_width= 724.3914041832104\n",
      "Working on limb L2 branch 4\n",
      "    current_width= 269.810859976788\n",
      "Working on limb L2 branch 6\n",
      "    current_width= 512.3207415837202\n",
      "Working on limb L2 branch 15\n",
      "    current_width= 279.140935839937\n",
      "Working on limb L2 branch 16\n",
      "    current_width= 115.11968105401812\n",
      "Working on limb L2 branch 8\n",
      "    current_width= 291.670050064675\n",
      "Working on limb L2 branch 10\n",
      "    current_width= 407.5001950358637\n",
      "Working on limb L2 branch 9\n",
      "    current_width= 271.05754533271994\n",
      "Working on limb L2 branch 11\n",
      "    current_width= 213.00888256589644\n",
      "Working on limb L2 branch 2\n",
      "    current_width= 258.0273217403455\n",
      "Working on limb L2 branch 7\n",
      "    current_width= 241.63509411042833\n",
      "Working on limb L2 branch 0\n",
      "    current_width= 293.9042209438869\n",
      "Working on limb L2 branch 12\n",
      "    current_width= 349.340233628607\n",
      "Working on limb L2 branch 1\n",
      "    current_width= 241.29241236788147\n",
      "Working on limb L2 branch 3\n",
      "    current_width= 263.4662570325104\n",
      "Working on limb L2 branch 13\n",
      "    current_width= 256.1674125840749\n",
      "Working on limb L2 branch 14\n",
      "    current_width= 261.9970551558862\n",
      "Working on limb L3 branch 4\n",
      "    current_width= 588.2159370612651\n",
      "Working on limb L3 branch 6\n",
      "    current_width= 427.42418324254777\n",
      "Working on limb L3 branch 8\n",
      "    current_width= 483.0601703959044\n",
      "Working on limb L3 branch 5\n",
      "    current_width= 298.45233299603245\n",
      "Working on limb L3 branch 7\n",
      "    current_width= 333.3708711316414\n",
      "Working on limb L3 branch 10\n",
      "    current_width= 307.7048788198099\n",
      "Working on limb L3 branch 11\n",
      "    current_width= 268.7034761159763\n",
      "Working on limb L3 branch 0\n",
      "    current_width= 234.42508805686825\n",
      "Working on limb L3 branch 9\n",
      "    current_width= 223.38816517934487\n",
      "Working on limb L3 branch 12\n",
      "    current_width= 298.74449256501265\n",
      "Working on limb L3 branch 13\n",
      "    current_width= 131.2446444586182\n",
      "Working on limb L3 branch 14\n",
      "    current_width= 76.8762727430631\n",
      "Working on limb L3 branch 15\n",
      "    current_width= 80.77121993821478\n",
      "Working on limb L3 branch 2\n",
      "    current_width= 90.36260952611906\n",
      "Working on limb L3 branch 16\n",
      "    current_width= 89.08891728836784\n",
      "Working on limb L3 branch 1\n",
      "    current_width= 77.99346395524282\n",
      "Working on limb L3 branch 3\n",
      "    current_width= 99.36308385127512\n",
      "Working on limb L3 branch 17\n",
      "    current_width= 99.00485067827417\n",
      "Working on limb L3 branch 18\n",
      "    current_width= 95.88062175763064\n",
      "Working on limb L3 branch 19\n",
      "    current_width= 89.23757647148766\n",
      "Working on limb L3 branch 20\n",
      "    current_width= 68.75982399109043\n",
      "Working on limb L3 branch 21\n",
      "    current_width= 98.69543485076056\n",
      "Working on limb L4 branch 10\n",
      "    current_width= 472.575624395432\n",
      "Working on limb L4 branch 8\n",
      "    current_width= 214.4370972298858\n",
      "Working on limb L4 branch 9\n",
      "    current_width= 343.3911335287421\n",
      "Working on limb L4 branch 0\n",
      "    current_width= 283.49027743159803\n",
      "Working on limb L4 branch 7\n",
      "    current_width= 175.86060412561818\n",
      "Working on limb L4 branch 2\n",
      "    current_width= 270.56502716696923\n",
      "Working on limb L4 branch 4\n",
      "    current_width= 313.54545548609747\n",
      "Working on limb L4 branch 3\n",
      "    current_width= 226.18198580360735\n",
      "Working on limb L4 branch 6\n",
      "    current_width= 192.22606103868372\n",
      "Working on limb L4 branch 1\n",
      "    current_width= 244.643146441905\n",
      "Working on limb L4 branch 5\n",
      "    current_width= 294.93640344170217\n",
      "Working on limb L5 branch 0\n",
      "    current_width= 357.4625861853755\n",
      "Working on limb L5 branch 1\n",
      "    current_width= 140.3538223070222\n",
      "Working on limb L5 branch 3\n",
      "    current_width= 399.80139254579234\n",
      "Working on limb L5 branch 2\n",
      "    current_width= 300.5793449184472\n",
      "Working on limb L5 branch 4\n",
      "    current_width= 265.4288901780652\n",
      "Working on limb L6 branch 0\n",
      "    current_width= 324.40484069049444\n",
      "dially_centered_speed_tradeoff AFTER = 0.2\n",
      "medial centered AFTER 1\n",
      "AREA VARIATION AFTER 0.0001\n",
      "MAX ITERATIONS AFTER 500\n",
      "medial centered END 1\n",
      "set_medially_centered_speed_tradeoff END = 0.2\n",
      "quality_speed_tradeoff END = 0.2\n",
      "Max iterations END = 500\n",
      "AREA VARIATION END 0.0001\n",
      "Number of vertices of the skeleton: 1273\n",
      "Number of edges of the skeleton: 1274\n",
      "\n",
      "Number of segments: 98\n",
      "\n"
     ]
    },
    {
     "data": {
      "application/vnd.jupyter.widget-view+json": {
       "model_id": "6d692071a00c4b13a24591438e504acf",
       "version_major": 2,
       "version_minor": 0
      },
      "text/plain": [
       "  0%|          | 0/98 [00:00<?, ?it/s]"
      ]
     },
     "metadata": {},
     "output_type": "display_data"
    },
    {
     "data": {
      "application/vnd.jupyter.widget-view+json": {
       "model_id": "8186c546ea8c45179201db185a65d49d",
       "version_major": 2,
       "version_minor": 0
      },
      "text/plain": [
       "  0%|          | 0/98 [00:00<?, ?it/s]"
      ]
     },
     "metadata": {},
     "output_type": "display_data"
    },
    {
     "name": "stdout",
     "output_type": "stream",
     "text": [
      "Filtering away by face and skeletal length\n",
      "\n",
      "Number of segments: 19\n",
      "\n"
     ]
    },
    {
     "data": {
      "application/vnd.jupyter.widget-view+json": {
       "model_id": "0d0444d4e8f441898cf3edbaffbf968c",
       "version_major": 2,
       "version_minor": 0
      },
      "text/plain": [
       "  0%|          | 0/19 [00:00<?, ?it/s]"
      ]
     },
     "metadata": {},
     "output_type": "display_data"
    },
    {
     "data": {
      "application/vnd.jupyter.widget-view+json": {
       "model_id": "03a91a02dff54f8f9be6b91a6e0570ce",
       "version_major": 2,
       "version_minor": 0
      },
      "text/plain": [
       "  0%|          | 0/19 [00:00<?, ?it/s]"
      ]
     },
     "metadata": {},
     "output_type": "display_data"
    },
    {
     "name": "stdout",
     "output_type": "stream",
     "text": [
      "Filtering away by face and skeletal length\n",
      "\n",
      "Number of segments: 21\n",
      "\n"
     ]
    },
    {
     "data": {
      "application/vnd.jupyter.widget-view+json": {
       "model_id": "dc592f9ff5cd42118e3b6d5fdd43bd38",
       "version_major": 2,
       "version_minor": 0
      },
      "text/plain": [
       "  0%|          | 0/21 [00:00<?, ?it/s]"
      ]
     },
     "metadata": {},
     "output_type": "display_data"
    },
    {
     "data": {
      "application/vnd.jupyter.widget-view+json": {
       "model_id": "eba5b8d01472433b9f7d9886bb95a74d",
       "version_major": 2,
       "version_minor": 0
      },
      "text/plain": [
       "  0%|          | 0/21 [00:00<?, ?it/s]"
      ]
     },
     "metadata": {},
     "output_type": "display_data"
    },
    {
     "name": "stdout",
     "output_type": "stream",
     "text": [
      "Filtering away by face and skeletal length\n",
      "\n",
      "Number of segments: 19\n",
      "\n"
     ]
    },
    {
     "data": {
      "application/vnd.jupyter.widget-view+json": {
       "model_id": "65cf3ce4bfe74e499e9431be9c7227c6",
       "version_major": 2,
       "version_minor": 0
      },
      "text/plain": [
       "  0%|          | 0/19 [00:00<?, ?it/s]"
      ]
     },
     "metadata": {},
     "output_type": "display_data"
    },
    {
     "data": {
      "application/vnd.jupyter.widget-view+json": {
       "model_id": "5e49bbe11abc4ae797eb41878472ca8b",
       "version_major": 2,
       "version_minor": 0
      },
      "text/plain": [
       "  0%|          | 0/19 [00:00<?, ?it/s]"
      ]
     },
     "metadata": {},
     "output_type": "display_data"
    },
    {
     "name": "stdout",
     "output_type": "stream",
     "text": [
      "Filtering away by face and skeletal length\n",
      "\n",
      "Number of segments: 6\n",
      "\n"
     ]
    },
    {
     "data": {
      "application/vnd.jupyter.widget-view+json": {
       "model_id": "4420334ad22c40e2a76d6dbf97bed6d6",
       "version_major": 2,
       "version_minor": 0
      },
      "text/plain": [
       "  0%|          | 0/6 [00:00<?, ?it/s]"
      ]
     },
     "metadata": {},
     "output_type": "display_data"
    },
    {
     "data": {
      "application/vnd.jupyter.widget-view+json": {
       "model_id": "6e38cb08c94b4930b6816b13d16f6c90",
       "version_major": 2,
       "version_minor": 0
      },
      "text/plain": [
       "  0%|          | 0/6 [00:00<?, ?it/s]"
      ]
     },
     "metadata": {},
     "output_type": "display_data"
    },
    {
     "name": "stdout",
     "output_type": "stream",
     "text": [
      "Filtering away by face and skeletal length\n",
      "\n",
      "Number of segments: 16\n",
      "\n"
     ]
    },
    {
     "data": {
      "application/vnd.jupyter.widget-view+json": {
       "model_id": "dfaac1b919eb4b8faa747a6f0871f462",
       "version_major": 2,
       "version_minor": 0
      },
      "text/plain": [
       "  0%|          | 0/16 [00:00<?, ?it/s]"
      ]
     },
     "metadata": {},
     "output_type": "display_data"
    },
    {
     "data": {
      "application/vnd.jupyter.widget-view+json": {
       "model_id": "94320b6c8360466c9c3b04b2c693b2ea",
       "version_major": 2,
       "version_minor": 0
      },
      "text/plain": [
       "  0%|          | 0/16 [00:00<?, ?it/s]"
      ]
     },
     "metadata": {},
     "output_type": "display_data"
    },
    {
     "name": "stdout",
     "output_type": "stream",
     "text": [
      "Filtering away by face and skeletal length\n",
      "\n",
      "Number of segments: 8\n",
      "\n"
     ]
    },
    {
     "data": {
      "application/vnd.jupyter.widget-view+json": {
       "model_id": "9ab5e15b19454f97bde30653306038f0",
       "version_major": 2,
       "version_minor": 0
      },
      "text/plain": [
       "  0%|          | 0/8 [00:00<?, ?it/s]"
      ]
     },
     "metadata": {},
     "output_type": "display_data"
    },
    {
     "data": {
      "application/vnd.jupyter.widget-view+json": {
       "model_id": "b8b2631ea8054c5fafca1f9192d6cd33",
       "version_major": 2,
       "version_minor": 0
      },
      "text/plain": [
       "  0%|          | 0/8 [00:00<?, ?it/s]"
      ]
     },
     "metadata": {},
     "output_type": "display_data"
    },
    {
     "name": "stdout",
     "output_type": "stream",
     "text": [
      "Filtering away by face and skeletal length\n",
      "\n",
      "Number of segments: 9\n",
      "\n"
     ]
    },
    {
     "data": {
      "application/vnd.jupyter.widget-view+json": {
       "model_id": "635ed3f22e044266a8df6408eb7fe2fb",
       "version_major": 2,
       "version_minor": 0
      },
      "text/plain": [
       "  0%|          | 0/9 [00:00<?, ?it/s]"
      ]
     },
     "metadata": {},
     "output_type": "display_data"
    },
    {
     "data": {
      "application/vnd.jupyter.widget-view+json": {
       "model_id": "bd3e0d68b18840248e02c160594c3f56",
       "version_major": 2,
       "version_minor": 0
      },
      "text/plain": [
       "  0%|          | 0/9 [00:00<?, ?it/s]"
      ]
     },
     "metadata": {},
     "output_type": "display_data"
    },
    {
     "name": "stdout",
     "output_type": "stream",
     "text": [
      "Filtering away by face and skeletal length\n",
      "\n",
      "Number of segments: 21\n",
      "\n"
     ]
    },
    {
     "data": {
      "application/vnd.jupyter.widget-view+json": {
       "model_id": "5815ae1e0a414d579c1567d4abdb51c7",
       "version_major": 2,
       "version_minor": 0
      },
      "text/plain": [
       "  0%|          | 0/21 [00:00<?, ?it/s]"
      ]
     },
     "metadata": {},
     "output_type": "display_data"
    },
    {
     "data": {
      "application/vnd.jupyter.widget-view+json": {
       "model_id": "98dbe33d05ae4b769b02e71203e8174a",
       "version_major": 2,
       "version_minor": 0
      },
      "text/plain": [
       "  0%|          | 0/21 [00:00<?, ?it/s]"
      ]
     },
     "metadata": {},
     "output_type": "display_data"
    },
    {
     "name": "stdout",
     "output_type": "stream",
     "text": [
      "Filtering away by face and skeletal length\n",
      "\n",
      "Number of segments: 20\n",
      "\n"
     ]
    },
    {
     "data": {
      "application/vnd.jupyter.widget-view+json": {
       "model_id": "233dad84b3ed48ecbc8b3f7d0bc773e8",
       "version_major": 2,
       "version_minor": 0
      },
      "text/plain": [
       "  0%|          | 0/20 [00:00<?, ?it/s]"
      ]
     },
     "metadata": {},
     "output_type": "display_data"
    },
    {
     "data": {
      "application/vnd.jupyter.widget-view+json": {
       "model_id": "ed0af1e7b432421096f321a30db53e6b",
       "version_major": 2,
       "version_minor": 0
      },
      "text/plain": [
       "  0%|          | 0/20 [00:00<?, ?it/s]"
      ]
     },
     "metadata": {},
     "output_type": "display_data"
    },
    {
     "name": "stdout",
     "output_type": "stream",
     "text": [
      "Filtering away by face and skeletal length\n",
      "\n",
      "Number of segments: 72\n",
      "\n"
     ]
    },
    {
     "data": {
      "application/vnd.jupyter.widget-view+json": {
       "model_id": "9c2ba478d3904bf29806d144da207550",
       "version_major": 2,
       "version_minor": 0
      },
      "text/plain": [
       "  0%|          | 0/72 [00:00<?, ?it/s]"
      ]
     },
     "metadata": {},
     "output_type": "display_data"
    },
    {
     "data": {
      "application/vnd.jupyter.widget-view+json": {
       "model_id": "b12e59f4ab5c4d268596cd76b83203c8",
       "version_major": 2,
       "version_minor": 0
      },
      "text/plain": [
       "  0%|          | 0/72 [00:00<?, ?it/s]"
      ]
     },
     "metadata": {},
     "output_type": "display_data"
    },
    {
     "name": "stdout",
     "output_type": "stream",
     "text": [
      "Filtering away by face and skeletal length\n",
      "\n",
      "Number of segments: 82\n",
      "\n"
     ]
    },
    {
     "data": {
      "application/vnd.jupyter.widget-view+json": {
       "model_id": "8dbc4e93d5664528bd76fc0706709245",
       "version_major": 2,
       "version_minor": 0
      },
      "text/plain": [
       "  0%|          | 0/82 [00:00<?, ?it/s]"
      ]
     },
     "metadata": {},
     "output_type": "display_data"
    },
    {
     "data": {
      "application/vnd.jupyter.widget-view+json": {
       "model_id": "38bb73a02d554646a1f296279d5da97a",
       "version_major": 2,
       "version_minor": 0
      },
      "text/plain": [
       "  0%|          | 0/82 [00:00<?, ?it/s]"
      ]
     },
     "metadata": {},
     "output_type": "display_data"
    },
    {
     "name": "stdout",
     "output_type": "stream",
     "text": [
      "Filtering away by face and skeletal length\n",
      "\n",
      "Number of segments: 24\n",
      "\n"
     ]
    },
    {
     "data": {
      "application/vnd.jupyter.widget-view+json": {
       "model_id": "b152730af2864035b22b48b9ee0cb9a0",
       "version_major": 2,
       "version_minor": 0
      },
      "text/plain": [
       "  0%|          | 0/24 [00:00<?, ?it/s]"
      ]
     },
     "metadata": {},
     "output_type": "display_data"
    },
    {
     "data": {
      "application/vnd.jupyter.widget-view+json": {
       "model_id": "289cb27e4896418ca571ce22ce3d2e07",
       "version_major": 2,
       "version_minor": 0
      },
      "text/plain": [
       "  0%|          | 0/24 [00:00<?, ?it/s]"
      ]
     },
     "metadata": {},
     "output_type": "display_data"
    },
    {
     "name": "stdout",
     "output_type": "stream",
     "text": [
      "Filtering away by face and skeletal length\n",
      "\n",
      "Number of segments: 14\n",
      "\n"
     ]
    },
    {
     "data": {
      "application/vnd.jupyter.widget-view+json": {
       "model_id": "5af9709698804bde90478af3ca4ba42a",
       "version_major": 2,
       "version_minor": 0
      },
      "text/plain": [
       "  0%|          | 0/14 [00:00<?, ?it/s]"
      ]
     },
     "metadata": {},
     "output_type": "display_data"
    },
    {
     "data": {
      "application/vnd.jupyter.widget-view+json": {
       "model_id": "e30dd76e75814cca94a37bfb84582af9",
       "version_major": 2,
       "version_minor": 0
      },
      "text/plain": [
       "  0%|          | 0/14 [00:00<?, ?it/s]"
      ]
     },
     "metadata": {},
     "output_type": "display_data"
    },
    {
     "name": "stdout",
     "output_type": "stream",
     "text": [
      "Filtering away by face and skeletal length\n",
      "\n",
      "Number of segments: 40\n",
      "\n"
     ]
    },
    {
     "data": {
      "application/vnd.jupyter.widget-view+json": {
       "model_id": "d05850ff5fbe47c5867b87b3ebd2744c",
       "version_major": 2,
       "version_minor": 0
      },
      "text/plain": [
       "  0%|          | 0/40 [00:00<?, ?it/s]"
      ]
     },
     "metadata": {},
     "output_type": "display_data"
    },
    {
     "data": {
      "application/vnd.jupyter.widget-view+json": {
       "model_id": "ee744c1212ac43debb1e8222995bb212",
       "version_major": 2,
       "version_minor": 0
      },
      "text/plain": [
       "  0%|          | 0/40 [00:00<?, ?it/s]"
      ]
     },
     "metadata": {},
     "output_type": "display_data"
    },
    {
     "name": "stdout",
     "output_type": "stream",
     "text": [
      "Filtering away by face and skeletal length\n",
      "\n",
      "Number of segments: 30\n",
      "\n"
     ]
    },
    {
     "data": {
      "application/vnd.jupyter.widget-view+json": {
       "model_id": "08633b05106a483fbc10ec0c77185f14",
       "version_major": 2,
       "version_minor": 0
      },
      "text/plain": [
       "  0%|          | 0/30 [00:00<?, ?it/s]"
      ]
     },
     "metadata": {},
     "output_type": "display_data"
    },
    {
     "data": {
      "application/vnd.jupyter.widget-view+json": {
       "model_id": "b128fcccd7cc4321bc7dc23c589cca91",
       "version_major": 2,
       "version_minor": 0
      },
      "text/plain": [
       "  0%|          | 0/30 [00:00<?, ?it/s]"
      ]
     },
     "metadata": {},
     "output_type": "display_data"
    },
    {
     "name": "stdout",
     "output_type": "stream",
     "text": [
      "Filtering away by face and skeletal length\n",
      "\n",
      "Number of segments: 22\n",
      "\n"
     ]
    },
    {
     "data": {
      "application/vnd.jupyter.widget-view+json": {
       "model_id": "9273aa24eee740e1a1cce788642ec240",
       "version_major": 2,
       "version_minor": 0
      },
      "text/plain": [
       "  0%|          | 0/22 [00:00<?, ?it/s]"
      ]
     },
     "metadata": {},
     "output_type": "display_data"
    },
    {
     "data": {
      "application/vnd.jupyter.widget-view+json": {
       "model_id": "e58f29f8299a4b3d935970aeb606ae42",
       "version_major": 2,
       "version_minor": 0
      },
      "text/plain": [
       "  0%|          | 0/22 [00:00<?, ?it/s]"
      ]
     },
     "metadata": {},
     "output_type": "display_data"
    },
    {
     "name": "stdout",
     "output_type": "stream",
     "text": [
      "Filtering away by face and skeletal length\n",
      "\n",
      "Number of segments: 18\n",
      "\n"
     ]
    },
    {
     "data": {
      "application/vnd.jupyter.widget-view+json": {
       "model_id": "a696dd3a1b6e436f8e9aa68e575f9c8c",
       "version_major": 2,
       "version_minor": 0
      },
      "text/plain": [
       "  0%|          | 0/18 [00:00<?, ?it/s]"
      ]
     },
     "metadata": {},
     "output_type": "display_data"
    },
    {
     "data": {
      "application/vnd.jupyter.widget-view+json": {
       "model_id": "ae0eaba667614a4a802bfc0c0672782b",
       "version_major": 2,
       "version_minor": 0
      },
      "text/plain": [
       "  0%|          | 0/18 [00:00<?, ?it/s]"
      ]
     },
     "metadata": {},
     "output_type": "display_data"
    },
    {
     "name": "stdout",
     "output_type": "stream",
     "text": [
      "Filtering away by face and skeletal length\n",
      "\n",
      "Number of segments: 23\n",
      "\n"
     ]
    },
    {
     "data": {
      "application/vnd.jupyter.widget-view+json": {
       "model_id": "70f12640a573457aaa54dab82ada8958",
       "version_major": 2,
       "version_minor": 0
      },
      "text/plain": [
       "  0%|          | 0/23 [00:00<?, ?it/s]"
      ]
     },
     "metadata": {},
     "output_type": "display_data"
    },
    {
     "data": {
      "application/vnd.jupyter.widget-view+json": {
       "model_id": "ec104a4f8e1241e299262dabe47e2be3",
       "version_major": 2,
       "version_minor": 0
      },
      "text/plain": [
       "  0%|          | 0/23 [00:00<?, ?it/s]"
      ]
     },
     "metadata": {},
     "output_type": "display_data"
    },
    {
     "name": "stdout",
     "output_type": "stream",
     "text": [
      "Filtering away by face and skeletal length\n",
      "\n",
      "Number of segments: 21\n",
      "\n"
     ]
    },
    {
     "data": {
      "application/vnd.jupyter.widget-view+json": {
       "model_id": "55bb06ca00a44b8cba73511c1ff97b87",
       "version_major": 2,
       "version_minor": 0
      },
      "text/plain": [
       "  0%|          | 0/21 [00:00<?, ?it/s]"
      ]
     },
     "metadata": {},
     "output_type": "display_data"
    },
    {
     "data": {
      "application/vnd.jupyter.widget-view+json": {
       "model_id": "a022782764cd449889c96d69f1d05a29",
       "version_major": 2,
       "version_minor": 0
      },
      "text/plain": [
       "  0%|          | 0/21 [00:00<?, ?it/s]"
      ]
     },
     "metadata": {},
     "output_type": "display_data"
    },
    {
     "name": "stdout",
     "output_type": "stream",
     "text": [
      "Filtering away by face and skeletal length\n",
      "\n",
      "Number of segments: 60\n",
      "\n"
     ]
    },
    {
     "data": {
      "application/vnd.jupyter.widget-view+json": {
       "model_id": "3705018b3a704d5aae1ad4907be79968",
       "version_major": 2,
       "version_minor": 0
      },
      "text/plain": [
       "  0%|          | 0/60 [00:00<?, ?it/s]"
      ]
     },
     "metadata": {},
     "output_type": "display_data"
    },
    {
     "data": {
      "application/vnd.jupyter.widget-view+json": {
       "model_id": "14e84630a7d24815a272e97b27932144",
       "version_major": 2,
       "version_minor": 0
      },
      "text/plain": [
       "  0%|          | 0/60 [00:00<?, ?it/s]"
      ]
     },
     "metadata": {},
     "output_type": "display_data"
    },
    {
     "name": "stdout",
     "output_type": "stream",
     "text": [
      "Filtering away by face and skeletal length\n",
      "\n",
      "Number of segments: 23\n",
      "\n"
     ]
    },
    {
     "data": {
      "application/vnd.jupyter.widget-view+json": {
       "model_id": "b6b4b076c7f54410807d6081e3523093",
       "version_major": 2,
       "version_minor": 0
      },
      "text/plain": [
       "  0%|          | 0/23 [00:00<?, ?it/s]"
      ]
     },
     "metadata": {},
     "output_type": "display_data"
    },
    {
     "data": {
      "application/vnd.jupyter.widget-view+json": {
       "model_id": "1f4d8d9a5b8846c2b1b772dfcfb84cce",
       "version_major": 2,
       "version_minor": 0
      },
      "text/plain": [
       "  0%|          | 0/23 [00:00<?, ?it/s]"
      ]
     },
     "metadata": {},
     "output_type": "display_data"
    },
    {
     "name": "stdout",
     "output_type": "stream",
     "text": [
      "Filtering away by face and skeletal length\n",
      "\n",
      "Number of segments: 17\n",
      "\n"
     ]
    },
    {
     "data": {
      "application/vnd.jupyter.widget-view+json": {
       "model_id": "23e8369310d848aeb5552c2c51e1f198",
       "version_major": 2,
       "version_minor": 0
      },
      "text/plain": [
       "  0%|          | 0/17 [00:00<?, ?it/s]"
      ]
     },
     "metadata": {},
     "output_type": "display_data"
    },
    {
     "data": {
      "application/vnd.jupyter.widget-view+json": {
       "model_id": "78cfbf8ea0824ae9b5d9e6573c6e4f7d",
       "version_major": 2,
       "version_minor": 0
      },
      "text/plain": [
       "  0%|          | 0/17 [00:00<?, ?it/s]"
      ]
     },
     "metadata": {},
     "output_type": "display_data"
    },
    {
     "name": "stdout",
     "output_type": "stream",
     "text": [
      "Filtering away by face and skeletal length\n",
      "\n",
      "Number of segments: 39\n",
      "\n"
     ]
    },
    {
     "data": {
      "application/vnd.jupyter.widget-view+json": {
       "model_id": "f15d3dbc19f74fd3b70bb2258a5be544",
       "version_major": 2,
       "version_minor": 0
      },
      "text/plain": [
       "  0%|          | 0/39 [00:00<?, ?it/s]"
      ]
     },
     "metadata": {},
     "output_type": "display_data"
    },
    {
     "data": {
      "application/vnd.jupyter.widget-view+json": {
       "model_id": "713fa22bdce94923ae89b28626681d94",
       "version_major": 2,
       "version_minor": 0
      },
      "text/plain": [
       "  0%|          | 0/39 [00:00<?, ?it/s]"
      ]
     },
     "metadata": {},
     "output_type": "display_data"
    },
    {
     "name": "stdout",
     "output_type": "stream",
     "text": [
      "Filtering away by face and skeletal length\n",
      "\n",
      "Number of segments: 12\n",
      "\n"
     ]
    },
    {
     "data": {
      "application/vnd.jupyter.widget-view+json": {
       "model_id": "935f7552dc8a47fa93e64381efd13529",
       "version_major": 2,
       "version_minor": 0
      },
      "text/plain": [
       "  0%|          | 0/12 [00:00<?, ?it/s]"
      ]
     },
     "metadata": {},
     "output_type": "display_data"
    },
    {
     "data": {
      "application/vnd.jupyter.widget-view+json": {
       "model_id": "a95d1e93dc59417d9a34b8e89a0bee57",
       "version_major": 2,
       "version_minor": 0
      },
      "text/plain": [
       "  0%|          | 0/12 [00:00<?, ?it/s]"
      ]
     },
     "metadata": {},
     "output_type": "display_data"
    },
    {
     "name": "stdout",
     "output_type": "stream",
     "text": [
      "Filtering away by face and skeletal length\n",
      "\n",
      "Number of segments: 18\n",
      "\n"
     ]
    },
    {
     "data": {
      "application/vnd.jupyter.widget-view+json": {
       "model_id": "9b5c1a9adfb14bd6a9ed4eb40d744b3b",
       "version_major": 2,
       "version_minor": 0
      },
      "text/plain": [
       "  0%|          | 0/18 [00:00<?, ?it/s]"
      ]
     },
     "metadata": {},
     "output_type": "display_data"
    },
    {
     "data": {
      "application/vnd.jupyter.widget-view+json": {
       "model_id": "03a52b4e136b44528e85e1f0b5bc0936",
       "version_major": 2,
       "version_minor": 0
      },
      "text/plain": [
       "  0%|          | 0/18 [00:00<?, ?it/s]"
      ]
     },
     "metadata": {},
     "output_type": "display_data"
    },
    {
     "name": "stdout",
     "output_type": "stream",
     "text": [
      "Filtering away by face and skeletal length\n",
      "\n",
      "Number of segments: 4\n",
      "\n"
     ]
    },
    {
     "data": {
      "application/vnd.jupyter.widget-view+json": {
       "model_id": "ea39cfcffcc7461daf9ceb4cd8f7fcd0",
       "version_major": 2,
       "version_minor": 0
      },
      "text/plain": [
       "  0%|          | 0/4 [00:00<?, ?it/s]"
      ]
     },
     "metadata": {},
     "output_type": "display_data"
    },
    {
     "data": {
      "application/vnd.jupyter.widget-view+json": {
       "model_id": "85587486cd214c9c9019e06d4043f3fd",
       "version_major": 2,
       "version_minor": 0
      },
      "text/plain": [
       "  0%|          | 0/4 [00:00<?, ?it/s]"
      ]
     },
     "metadata": {},
     "output_type": "display_data"
    },
    {
     "name": "stdout",
     "output_type": "stream",
     "text": [
      "Filtering away by face and skeletal length\n",
      "\n",
      "Number of segments: 8\n",
      "\n"
     ]
    },
    {
     "data": {
      "application/vnd.jupyter.widget-view+json": {
       "model_id": "df77c0a25e2e4e989f7818f2359f2b83",
       "version_major": 2,
       "version_minor": 0
      },
      "text/plain": [
       "  0%|          | 0/8 [00:00<?, ?it/s]"
      ]
     },
     "metadata": {},
     "output_type": "display_data"
    },
    {
     "data": {
      "application/vnd.jupyter.widget-view+json": {
       "model_id": "cf276fca6d51403a82e3fa50f4753eb0",
       "version_major": 2,
       "version_minor": 0
      },
      "text/plain": [
       "  0%|          | 0/8 [00:00<?, ?it/s]"
      ]
     },
     "metadata": {},
     "output_type": "display_data"
    },
    {
     "name": "stdout",
     "output_type": "stream",
     "text": [
      "Filtering away by face and skeletal length\n",
      "\n",
      "Number of segments: 6\n",
      "\n"
     ]
    },
    {
     "data": {
      "application/vnd.jupyter.widget-view+json": {
       "model_id": "36c447439bbe414f84ac8f7440b7228f",
       "version_major": 2,
       "version_minor": 0
      },
      "text/plain": [
       "  0%|          | 0/6 [00:00<?, ?it/s]"
      ]
     },
     "metadata": {},
     "output_type": "display_data"
    },
    {
     "data": {
      "application/vnd.jupyter.widget-view+json": {
       "model_id": "f1d1bada08e7494186d9107b77939bc5",
       "version_major": 2,
       "version_minor": 0
      },
      "text/plain": [
       "  0%|          | 0/6 [00:00<?, ?it/s]"
      ]
     },
     "metadata": {},
     "output_type": "display_data"
    },
    {
     "name": "stdout",
     "output_type": "stream",
     "text": [
      "Filtering away by face and skeletal length\n",
      "\n",
      "Number of segments: 72\n",
      "\n"
     ]
    },
    {
     "data": {
      "application/vnd.jupyter.widget-view+json": {
       "model_id": "853f22593a5546f192afeef760ae7328",
       "version_major": 2,
       "version_minor": 0
      },
      "text/plain": [
       "  0%|          | 0/72 [00:00<?, ?it/s]"
      ]
     },
     "metadata": {},
     "output_type": "display_data"
    },
    {
     "data": {
      "application/vnd.jupyter.widget-view+json": {
       "model_id": "24d1e13e7d4f4fb2ad21d4d43e867813",
       "version_major": 2,
       "version_minor": 0
      },
      "text/plain": [
       "  0%|          | 0/72 [00:00<?, ?it/s]"
      ]
     },
     "metadata": {},
     "output_type": "display_data"
    },
    {
     "name": "stdout",
     "output_type": "stream",
     "text": [
      "Filtering away by face and skeletal length\n",
      "\n",
      "Number of segments: 11\n",
      "\n"
     ]
    },
    {
     "data": {
      "application/vnd.jupyter.widget-view+json": {
       "model_id": "e9ed55c6262d439d8505f98620aa7e1a",
       "version_major": 2,
       "version_minor": 0
      },
      "text/plain": [
       "  0%|          | 0/11 [00:00<?, ?it/s]"
      ]
     },
     "metadata": {},
     "output_type": "display_data"
    },
    {
     "data": {
      "application/vnd.jupyter.widget-view+json": {
       "model_id": "02a82d04d6da4feb9b5f0efa6672d28b",
       "version_major": 2,
       "version_minor": 0
      },
      "text/plain": [
       "  0%|          | 0/11 [00:00<?, ?it/s]"
      ]
     },
     "metadata": {},
     "output_type": "display_data"
    },
    {
     "name": "stdout",
     "output_type": "stream",
     "text": [
      "Filtering away by face and skeletal length\n",
      "\n",
      "Number of segments: 23\n",
      "\n"
     ]
    },
    {
     "data": {
      "application/vnd.jupyter.widget-view+json": {
       "model_id": "db44707edc8e48609235eb1a9971812f",
       "version_major": 2,
       "version_minor": 0
      },
      "text/plain": [
       "  0%|          | 0/23 [00:00<?, ?it/s]"
      ]
     },
     "metadata": {},
     "output_type": "display_data"
    },
    {
     "data": {
      "application/vnd.jupyter.widget-view+json": {
       "model_id": "1b7bf678152d4ed99492194dab33fce6",
       "version_major": 2,
       "version_minor": 0
      },
      "text/plain": [
       "  0%|          | 0/23 [00:00<?, ?it/s]"
      ]
     },
     "metadata": {},
     "output_type": "display_data"
    },
    {
     "name": "stdout",
     "output_type": "stream",
     "text": [
      "Filtering away by face and skeletal length\n",
      "\n",
      "Number of segments: 24\n",
      "\n"
     ]
    },
    {
     "data": {
      "application/vnd.jupyter.widget-view+json": {
       "model_id": "b5702388e6be49ecb548553d5a62858d",
       "version_major": 2,
       "version_minor": 0
      },
      "text/plain": [
       "  0%|          | 0/24 [00:00<?, ?it/s]"
      ]
     },
     "metadata": {},
     "output_type": "display_data"
    },
    {
     "data": {
      "application/vnd.jupyter.widget-view+json": {
       "model_id": "39f541270bd643f8bd05e7894496186f",
       "version_major": 2,
       "version_minor": 0
      },
      "text/plain": [
       "  0%|          | 0/24 [00:00<?, ?it/s]"
      ]
     },
     "metadata": {},
     "output_type": "display_data"
    },
    {
     "name": "stdout",
     "output_type": "stream",
     "text": [
      "Filtering away by face and skeletal length\n",
      "\n",
      "Number of segments: 39\n",
      "\n"
     ]
    },
    {
     "data": {
      "application/vnd.jupyter.widget-view+json": {
       "model_id": "935673ad71c94e2eb0692967b22d2f52",
       "version_major": 2,
       "version_minor": 0
      },
      "text/plain": [
       "  0%|          | 0/39 [00:00<?, ?it/s]"
      ]
     },
     "metadata": {},
     "output_type": "display_data"
    },
    {
     "data": {
      "application/vnd.jupyter.widget-view+json": {
       "model_id": "b016880c2c4e41ff9365d07db9eb460c",
       "version_major": 2,
       "version_minor": 0
      },
      "text/plain": [
       "  0%|          | 0/39 [00:00<?, ?it/s]"
      ]
     },
     "metadata": {},
     "output_type": "display_data"
    },
    {
     "name": "stdout",
     "output_type": "stream",
     "text": [
      "Filtering away by face and skeletal length\n",
      "\n",
      "Number of segments: 27\n",
      "\n"
     ]
    },
    {
     "data": {
      "application/vnd.jupyter.widget-view+json": {
       "model_id": "d6480638a9ab42afa3ae82cc921fbf92",
       "version_major": 2,
       "version_minor": 0
      },
      "text/plain": [
       "  0%|          | 0/27 [00:00<?, ?it/s]"
      ]
     },
     "metadata": {},
     "output_type": "display_data"
    },
    {
     "data": {
      "application/vnd.jupyter.widget-view+json": {
       "model_id": "f3962a2576704e499c4e0cc3891c8a32",
       "version_major": 2,
       "version_minor": 0
      },
      "text/plain": [
       "  0%|          | 0/27 [00:00<?, ?it/s]"
      ]
     },
     "metadata": {},
     "output_type": "display_data"
    },
    {
     "name": "stdout",
     "output_type": "stream",
     "text": [
      "Filtering away by face and skeletal length\n",
      "\n",
      "Number of segments: 28\n",
      "\n"
     ]
    },
    {
     "data": {
      "application/vnd.jupyter.widget-view+json": {
       "model_id": "c7f92e396f2440969af3681ebc0667fa",
       "version_major": 2,
       "version_minor": 0
      },
      "text/plain": [
       "  0%|          | 0/28 [00:00<?, ?it/s]"
      ]
     },
     "metadata": {},
     "output_type": "display_data"
    },
    {
     "data": {
      "application/vnd.jupyter.widget-view+json": {
       "model_id": "5ea172c09ca442eb8a3d740d96d4d1e9",
       "version_major": 2,
       "version_minor": 0
      },
      "text/plain": [
       "  0%|          | 0/28 [00:00<?, ?it/s]"
      ]
     },
     "metadata": {},
     "output_type": "display_data"
    },
    {
     "name": "stdout",
     "output_type": "stream",
     "text": [
      "Filtering away by face and skeletal length\n",
      "\n",
      "Number of segments: 57\n",
      "\n"
     ]
    },
    {
     "data": {
      "application/vnd.jupyter.widget-view+json": {
       "model_id": "d553281f9eb24a8f94770aab8622aee8",
       "version_major": 2,
       "version_minor": 0
      },
      "text/plain": [
       "  0%|          | 0/57 [00:00<?, ?it/s]"
      ]
     },
     "metadata": {},
     "output_type": "display_data"
    },
    {
     "data": {
      "application/vnd.jupyter.widget-view+json": {
       "model_id": "98b9f475760a49b086c4d551b1e39594",
       "version_major": 2,
       "version_minor": 0
      },
      "text/plain": [
       "  0%|          | 0/57 [00:00<?, ?it/s]"
      ]
     },
     "metadata": {},
     "output_type": "display_data"
    },
    {
     "name": "stdout",
     "output_type": "stream",
     "text": [
      "Filtering away by face and skeletal length\n",
      "\n",
      "Number of segments: 17\n",
      "\n"
     ]
    },
    {
     "data": {
      "application/vnd.jupyter.widget-view+json": {
       "model_id": "6b986b0aa83f42e081b18154745849ba",
       "version_major": 2,
       "version_minor": 0
      },
      "text/plain": [
       "  0%|          | 0/17 [00:00<?, ?it/s]"
      ]
     },
     "metadata": {},
     "output_type": "display_data"
    },
    {
     "data": {
      "application/vnd.jupyter.widget-view+json": {
       "model_id": "4ee9d8e1e01b43e2b235152d312ad542",
       "version_major": 2,
       "version_minor": 0
      },
      "text/plain": [
       "  0%|          | 0/17 [00:00<?, ?it/s]"
      ]
     },
     "metadata": {},
     "output_type": "display_data"
    },
    {
     "name": "stdout",
     "output_type": "stream",
     "text": [
      "Filtering away by face and skeletal length\n",
      "\n",
      "Number of segments: 45\n",
      "\n"
     ]
    },
    {
     "data": {
      "application/vnd.jupyter.widget-view+json": {
       "model_id": "85b3ea2fe49c4c9a95baba4b59a1dfe1",
       "version_major": 2,
       "version_minor": 0
      },
      "text/plain": [
       "  0%|          | 0/45 [00:00<?, ?it/s]"
      ]
     },
     "metadata": {},
     "output_type": "display_data"
    },
    {
     "data": {
      "application/vnd.jupyter.widget-view+json": {
       "model_id": "bc76cf2d3a9f4735ac394841cbfc1b8d",
       "version_major": 2,
       "version_minor": 0
      },
      "text/plain": [
       "  0%|          | 0/45 [00:00<?, ?it/s]"
      ]
     },
     "metadata": {},
     "output_type": "display_data"
    },
    {
     "name": "stdout",
     "output_type": "stream",
     "text": [
      "Filtering away by face and skeletal length\n",
      "\n",
      "Number of segments: 25\n",
      "\n"
     ]
    },
    {
     "data": {
      "application/vnd.jupyter.widget-view+json": {
       "model_id": "cad6670508bd46f0ab4ea3d58fa458e3",
       "version_major": 2,
       "version_minor": 0
      },
      "text/plain": [
       "  0%|          | 0/25 [00:00<?, ?it/s]"
      ]
     },
     "metadata": {},
     "output_type": "display_data"
    },
    {
     "data": {
      "application/vnd.jupyter.widget-view+json": {
       "model_id": "705c7236ec744694b862af3f9c40d72c",
       "version_major": 2,
       "version_minor": 0
      },
      "text/plain": [
       "  0%|          | 0/25 [00:00<?, ?it/s]"
      ]
     },
     "metadata": {},
     "output_type": "display_data"
    },
    {
     "name": "stdout",
     "output_type": "stream",
     "text": [
      "Filtering away by face and skeletal length\n",
      "\n",
      "Number of segments: 12\n",
      "\n"
     ]
    },
    {
     "data": {
      "application/vnd.jupyter.widget-view+json": {
       "model_id": "26088a4f6c33409f9c045834b6f3298f",
       "version_major": 2,
       "version_minor": 0
      },
      "text/plain": [
       "  0%|          | 0/12 [00:00<?, ?it/s]"
      ]
     },
     "metadata": {},
     "output_type": "display_data"
    },
    {
     "data": {
      "application/vnd.jupyter.widget-view+json": {
       "model_id": "3758c19b8c8b4f5783572e14c50560b0",
       "version_major": 2,
       "version_minor": 0
      },
      "text/plain": [
       "  0%|          | 0/12 [00:00<?, ?it/s]"
      ]
     },
     "metadata": {},
     "output_type": "display_data"
    },
    {
     "name": "stdout",
     "output_type": "stream",
     "text": [
      "Filtering away by face and skeletal length\n",
      "\n",
      "Number of segments: 12\n",
      "\n"
     ]
    },
    {
     "data": {
      "application/vnd.jupyter.widget-view+json": {
       "model_id": "e512e4d0eaad4e3b89d8fc7e97333048",
       "version_major": 2,
       "version_minor": 0
      },
      "text/plain": [
       "  0%|          | 0/12 [00:00<?, ?it/s]"
      ]
     },
     "metadata": {},
     "output_type": "display_data"
    },
    {
     "data": {
      "application/vnd.jupyter.widget-view+json": {
       "model_id": "c22192e93dad44d19de2a3bb9bf498d1",
       "version_major": 2,
       "version_minor": 0
      },
      "text/plain": [
       "  0%|          | 0/12 [00:00<?, ?it/s]"
      ]
     },
     "metadata": {},
     "output_type": "display_data"
    },
    {
     "name": "stdout",
     "output_type": "stream",
     "text": [
      "Filtering away by face and skeletal length\n",
      "\n",
      "Number of segments: 17\n",
      "\n"
     ]
    },
    {
     "data": {
      "application/vnd.jupyter.widget-view+json": {
       "model_id": "90032c514f4e4dc492463dbbcfffdc08",
       "version_major": 2,
       "version_minor": 0
      },
      "text/plain": [
       "  0%|          | 0/17 [00:00<?, ?it/s]"
      ]
     },
     "metadata": {},
     "output_type": "display_data"
    },
    {
     "data": {
      "application/vnd.jupyter.widget-view+json": {
       "model_id": "60c70560aa5044e1a6401c6e2ab6e3cc",
       "version_major": 2,
       "version_minor": 0
      },
      "text/plain": [
       "  0%|          | 0/17 [00:00<?, ?it/s]"
      ]
     },
     "metadata": {},
     "output_type": "display_data"
    },
    {
     "name": "stdout",
     "output_type": "stream",
     "text": [
      "Filtering away by face and skeletal length\n",
      "\n",
      "Number of segments: 84\n",
      "\n"
     ]
    },
    {
     "data": {
      "application/vnd.jupyter.widget-view+json": {
       "model_id": "0295063dc9d94a06bf91264f344add35",
       "version_major": 2,
       "version_minor": 0
      },
      "text/plain": [
       "  0%|          | 0/84 [00:00<?, ?it/s]"
      ]
     },
     "metadata": {},
     "output_type": "display_data"
    },
    {
     "data": {
      "application/vnd.jupyter.widget-view+json": {
       "model_id": "d2525e972dd649cca509dcb9498456aa",
       "version_major": 2,
       "version_minor": 0
      },
      "text/plain": [
       "  0%|          | 0/84 [00:00<?, ?it/s]"
      ]
     },
     "metadata": {},
     "output_type": "display_data"
    },
    {
     "name": "stdout",
     "output_type": "stream",
     "text": [
      "Filtering away by face and skeletal length\n",
      "\n",
      "Number of segments: 2\n",
      "\n"
     ]
    },
    {
     "data": {
      "application/vnd.jupyter.widget-view+json": {
       "model_id": "94d8ce27189d4b1bba8fb4923d8de602",
       "version_major": 2,
       "version_minor": 0
      },
      "text/plain": [
       "  0%|          | 0/2 [00:00<?, ?it/s]"
      ]
     },
     "metadata": {},
     "output_type": "display_data"
    },
    {
     "data": {
      "application/vnd.jupyter.widget-view+json": {
       "model_id": "53a4973b7b4d44ed99f122be9dc43f1a",
       "version_major": 2,
       "version_minor": 0
      },
      "text/plain": [
       "  0%|          | 0/2 [00:00<?, ?it/s]"
      ]
     },
     "metadata": {},
     "output_type": "display_data"
    },
    {
     "name": "stdout",
     "output_type": "stream",
     "text": [
      "Filtering away by face and skeletal length\n",
      "\n",
      "Number of segments: 16\n",
      "\n"
     ]
    },
    {
     "data": {
      "application/vnd.jupyter.widget-view+json": {
       "model_id": "d92f79cd3731465cbab3dd0d546b0dc8",
       "version_major": 2,
       "version_minor": 0
      },
      "text/plain": [
       "  0%|          | 0/16 [00:00<?, ?it/s]"
      ]
     },
     "metadata": {},
     "output_type": "display_data"
    },
    {
     "data": {
      "application/vnd.jupyter.widget-view+json": {
       "model_id": "be049acea90048f8bdc16e258f5f0f18",
       "version_major": 2,
       "version_minor": 0
      },
      "text/plain": [
       "  0%|          | 0/16 [00:00<?, ?it/s]"
      ]
     },
     "metadata": {},
     "output_type": "display_data"
    },
    {
     "name": "stdout",
     "output_type": "stream",
     "text": [
      "Filtering away by face and skeletal length\n",
      "\n",
      "Number of segments: 7\n",
      "\n"
     ]
    },
    {
     "data": {
      "application/vnd.jupyter.widget-view+json": {
       "model_id": "bd2a09e460f64f0d90557ea858c5cfc5",
       "version_major": 2,
       "version_minor": 0
      },
      "text/plain": [
       "  0%|          | 0/7 [00:00<?, ?it/s]"
      ]
     },
     "metadata": {},
     "output_type": "display_data"
    },
    {
     "data": {
      "application/vnd.jupyter.widget-view+json": {
       "model_id": "bc6fb8661ee74bd8806d05b43fd5cc2a",
       "version_major": 2,
       "version_minor": 0
      },
      "text/plain": [
       "  0%|          | 0/7 [00:00<?, ?it/s]"
      ]
     },
     "metadata": {},
     "output_type": "display_data"
    },
    {
     "name": "stdout",
     "output_type": "stream",
     "text": [
      "Filtering away by face and skeletal length\n",
      "\n",
      "Number of segments: 11\n",
      "\n"
     ]
    },
    {
     "data": {
      "application/vnd.jupyter.widget-view+json": {
       "model_id": "4844ccbaa900477b9295a890500bf5a6",
       "version_major": 2,
       "version_minor": 0
      },
      "text/plain": [
       "  0%|          | 0/11 [00:00<?, ?it/s]"
      ]
     },
     "metadata": {},
     "output_type": "display_data"
    },
    {
     "data": {
      "application/vnd.jupyter.widget-view+json": {
       "model_id": "e66c3681b47c4f99875c4936af2f798e",
       "version_major": 2,
       "version_minor": 0
      },
      "text/plain": [
       "  0%|          | 0/11 [00:00<?, ?it/s]"
      ]
     },
     "metadata": {},
     "output_type": "display_data"
    },
    {
     "name": "stdout",
     "output_type": "stream",
     "text": [
      "Filtering away by face and skeletal length\n",
      "\n",
      "Number of segments: 33\n",
      "\n"
     ]
    },
    {
     "data": {
      "application/vnd.jupyter.widget-view+json": {
       "model_id": "02900c2e4667419eb072e946eefd442e",
       "version_major": 2,
       "version_minor": 0
      },
      "text/plain": [
       "  0%|          | 0/33 [00:00<?, ?it/s]"
      ]
     },
     "metadata": {},
     "output_type": "display_data"
    },
    {
     "data": {
      "application/vnd.jupyter.widget-view+json": {
       "model_id": "06a109e5b02a4cc997b3d3ca6e37a0f8",
       "version_major": 2,
       "version_minor": 0
      },
      "text/plain": [
       "  0%|          | 0/33 [00:00<?, ?it/s]"
      ]
     },
     "metadata": {},
     "output_type": "display_data"
    },
    {
     "name": "stdout",
     "output_type": "stream",
     "text": [
      "Filtering away by face and skeletal length\n",
      "\n",
      "Number of segments: 2\n",
      "\n"
     ]
    },
    {
     "data": {
      "application/vnd.jupyter.widget-view+json": {
       "model_id": "b716c4b0b1e74c26857880eb104f8d9a",
       "version_major": 2,
       "version_minor": 0
      },
      "text/plain": [
       "  0%|          | 0/2 [00:00<?, ?it/s]"
      ]
     },
     "metadata": {},
     "output_type": "display_data"
    },
    {
     "data": {
      "application/vnd.jupyter.widget-view+json": {
       "model_id": "36bb153d1db1459fac01c7cf1626b6a6",
       "version_major": 2,
       "version_minor": 0
      },
      "text/plain": [
       "  0%|          | 0/2 [00:00<?, ?it/s]"
      ]
     },
     "metadata": {},
     "output_type": "display_data"
    },
    {
     "name": "stdout",
     "output_type": "stream",
     "text": [
      "Filtering away by face and skeletal length\n",
      "\n",
      "Number of segments: 26\n",
      "\n"
     ]
    },
    {
     "data": {
      "application/vnd.jupyter.widget-view+json": {
       "model_id": "215c4dcc65294618bbb9f0472665045c",
       "version_major": 2,
       "version_minor": 0
      },
      "text/plain": [
       "  0%|          | 0/26 [00:00<?, ?it/s]"
      ]
     },
     "metadata": {},
     "output_type": "display_data"
    },
    {
     "data": {
      "application/vnd.jupyter.widget-view+json": {
       "model_id": "5662c41a41f6412a879647733ba6d8f8",
       "version_major": 2,
       "version_minor": 0
      },
      "text/plain": [
       "  0%|          | 0/26 [00:00<?, ?it/s]"
      ]
     },
     "metadata": {},
     "output_type": "display_data"
    },
    {
     "name": "stdout",
     "output_type": "stream",
     "text": [
      "Filtering away by face and skeletal length\n",
      "\n",
      "Number of segments: 10\n",
      "\n"
     ]
    },
    {
     "data": {
      "application/vnd.jupyter.widget-view+json": {
       "model_id": "2a3904f33e594011bccc3af8c8b383f1",
       "version_major": 2,
       "version_minor": 0
      },
      "text/plain": [
       "  0%|          | 0/10 [00:00<?, ?it/s]"
      ]
     },
     "metadata": {},
     "output_type": "display_data"
    },
    {
     "data": {
      "application/vnd.jupyter.widget-view+json": {
       "model_id": "df2901458a1b4b1d918af914ce5e4a07",
       "version_major": 2,
       "version_minor": 0
      },
      "text/plain": [
       "  0%|          | 0/10 [00:00<?, ?it/s]"
      ]
     },
     "metadata": {},
     "output_type": "display_data"
    },
    {
     "name": "stdout",
     "output_type": "stream",
     "text": [
      "Filtering away by face and skeletal length\n",
      "\n",
      "Number of segments: 28\n",
      "\n"
     ]
    },
    {
     "data": {
      "application/vnd.jupyter.widget-view+json": {
       "model_id": "322489f4e7544f849b5bf512bb974c4d",
       "version_major": 2,
       "version_minor": 0
      },
      "text/plain": [
       "  0%|          | 0/28 [00:00<?, ?it/s]"
      ]
     },
     "metadata": {},
     "output_type": "display_data"
    },
    {
     "data": {
      "application/vnd.jupyter.widget-view+json": {
       "model_id": "4649dc6260f140b4862960d08f16a371",
       "version_major": 2,
       "version_minor": 0
      },
      "text/plain": [
       "  0%|          | 0/28 [00:00<?, ?it/s]"
      ]
     },
     "metadata": {},
     "output_type": "display_data"
    },
    {
     "name": "stdout",
     "output_type": "stream",
     "text": [
      "Filtering away by face and skeletal length\n",
      "\n",
      "Number of segments: 32\n",
      "\n"
     ]
    },
    {
     "data": {
      "application/vnd.jupyter.widget-view+json": {
       "model_id": "60bb5891b8f8494ab5349d3a211978d3",
       "version_major": 2,
       "version_minor": 0
      },
      "text/plain": [
       "  0%|          | 0/32 [00:00<?, ?it/s]"
      ]
     },
     "metadata": {},
     "output_type": "display_data"
    },
    {
     "data": {
      "application/vnd.jupyter.widget-view+json": {
       "model_id": "eea9b9d61dfb4d0eba9f3fe2412ae858",
       "version_major": 2,
       "version_minor": 0
      },
      "text/plain": [
       "  0%|          | 0/32 [00:00<?, ?it/s]"
      ]
     },
     "metadata": {},
     "output_type": "display_data"
    },
    {
     "name": "stdout",
     "output_type": "stream",
     "text": [
      "Filtering away by face and skeletal length\n",
      "\n",
      "Number of segments: 79\n",
      "\n"
     ]
    },
    {
     "data": {
      "application/vnd.jupyter.widget-view+json": {
       "model_id": "1f7a3bf47db14de397069d5634ab42de",
       "version_major": 2,
       "version_minor": 0
      },
      "text/plain": [
       "  0%|          | 0/79 [00:00<?, ?it/s]"
      ]
     },
     "metadata": {},
     "output_type": "display_data"
    },
    {
     "data": {
      "application/vnd.jupyter.widget-view+json": {
       "model_id": "cb15d6a752444f26b9a587205179f298",
       "version_major": 2,
       "version_minor": 0
      },
      "text/plain": [
       "  0%|          | 0/79 [00:00<?, ?it/s]"
      ]
     },
     "metadata": {},
     "output_type": "display_data"
    },
    {
     "name": "stdout",
     "output_type": "stream",
     "text": [
      "Filtering away by face and skeletal length\n",
      "\n",
      "Number of segments: 51\n",
      "\n"
     ]
    },
    {
     "data": {
      "application/vnd.jupyter.widget-view+json": {
       "model_id": "a70880cfeafd46ef93a447e91a91c421",
       "version_major": 2,
       "version_minor": 0
      },
      "text/plain": [
       "  0%|          | 0/51 [00:00<?, ?it/s]"
      ]
     },
     "metadata": {},
     "output_type": "display_data"
    },
    {
     "data": {
      "application/vnd.jupyter.widget-view+json": {
       "model_id": "4a9a22e8bda643b09ffd5645fbfe0269",
       "version_major": 2,
       "version_minor": 0
      },
      "text/plain": [
       "  0%|          | 0/51 [00:00<?, ?it/s]"
      ]
     },
     "metadata": {},
     "output_type": "display_data"
    },
    {
     "name": "stdout",
     "output_type": "stream",
     "text": [
      "Filtering away by face and skeletal length\n",
      "\n",
      "Number of segments: 25\n",
      "\n"
     ]
    },
    {
     "data": {
      "application/vnd.jupyter.widget-view+json": {
       "model_id": "79e4dd811a5e4e2691dc7af054644d70",
       "version_major": 2,
       "version_minor": 0
      },
      "text/plain": [
       "  0%|          | 0/25 [00:00<?, ?it/s]"
      ]
     },
     "metadata": {},
     "output_type": "display_data"
    },
    {
     "data": {
      "application/vnd.jupyter.widget-view+json": {
       "model_id": "070fc1eb3efd44b887f5c3e52de551f7",
       "version_major": 2,
       "version_minor": 0
      },
      "text/plain": [
       "  0%|          | 0/25 [00:00<?, ?it/s]"
      ]
     },
     "metadata": {},
     "output_type": "display_data"
    },
    {
     "name": "stdout",
     "output_type": "stream",
     "text": [
      "Filtering away by face and skeletal length\n",
      "\n",
      "Number of segments: 5\n",
      "\n"
     ]
    },
    {
     "data": {
      "application/vnd.jupyter.widget-view+json": {
       "model_id": "bbe3c007c3434c648c0f0c196acab3bd",
       "version_major": 2,
       "version_minor": 0
      },
      "text/plain": [
       "  0%|          | 0/5 [00:00<?, ?it/s]"
      ]
     },
     "metadata": {},
     "output_type": "display_data"
    },
    {
     "data": {
      "application/vnd.jupyter.widget-view+json": {
       "model_id": "4907adad18e0408aadf8c7f72f511dd3",
       "version_major": 2,
       "version_minor": 0
      },
      "text/plain": [
       "  0%|          | 0/5 [00:00<?, ?it/s]"
      ]
     },
     "metadata": {},
     "output_type": "display_data"
    },
    {
     "name": "stdout",
     "output_type": "stream",
     "text": [
      "Filtering away by face and skeletal length\n",
      "\n",
      "Number of segments: 20\n",
      "\n"
     ]
    },
    {
     "data": {
      "application/vnd.jupyter.widget-view+json": {
       "model_id": "b2ae12a042ab499a8cefbbe8979229eb",
       "version_major": 2,
       "version_minor": 0
      },
      "text/plain": [
       "  0%|          | 0/20 [00:00<?, ?it/s]"
      ]
     },
     "metadata": {},
     "output_type": "display_data"
    },
    {
     "data": {
      "application/vnd.jupyter.widget-view+json": {
       "model_id": "12c8d9b3f44f4daaba596285d56f2e92",
       "version_major": 2,
       "version_minor": 0
      },
      "text/plain": [
       "  0%|          | 0/20 [00:00<?, ?it/s]"
      ]
     },
     "metadata": {},
     "output_type": "display_data"
    },
    {
     "name": "stdout",
     "output_type": "stream",
     "text": [
      "Filtering away by face and skeletal length\n",
      "\n",
      "Number of segments: 24\n",
      "\n"
     ]
    },
    {
     "data": {
      "application/vnd.jupyter.widget-view+json": {
       "model_id": "b31d4dc961974b39a9ffafec57d6ef99",
       "version_major": 2,
       "version_minor": 0
      },
      "text/plain": [
       "  0%|          | 0/24 [00:00<?, ?it/s]"
      ]
     },
     "metadata": {},
     "output_type": "display_data"
    },
    {
     "data": {
      "application/vnd.jupyter.widget-view+json": {
       "model_id": "673013e2f67d4821874e35409959a801",
       "version_major": 2,
       "version_minor": 0
      },
      "text/plain": [
       "  0%|          | 0/24 [00:00<?, ?it/s]"
      ]
     },
     "metadata": {},
     "output_type": "display_data"
    },
    {
     "name": "stdout",
     "output_type": "stream",
     "text": [
      "Filtering away by face and skeletal length\n",
      "\n",
      "Number of segments: 20\n",
      "\n"
     ]
    },
    {
     "data": {
      "application/vnd.jupyter.widget-view+json": {
       "model_id": "cbbe6e7553ba4270bd06aeade1a56ef0",
       "version_major": 2,
       "version_minor": 0
      },
      "text/plain": [
       "  0%|          | 0/20 [00:00<?, ?it/s]"
      ]
     },
     "metadata": {},
     "output_type": "display_data"
    },
    {
     "data": {
      "application/vnd.jupyter.widget-view+json": {
       "model_id": "64e6ad321a6c420f9405bd3664e93945",
       "version_major": 2,
       "version_minor": 0
      },
      "text/plain": [
       "  0%|          | 0/20 [00:00<?, ?it/s]"
      ]
     },
     "metadata": {},
     "output_type": "display_data"
    },
    {
     "name": "stdout",
     "output_type": "stream",
     "text": [
      "Filtering away by face and skeletal length\n",
      "\n",
      "Number of segments: 19\n",
      "\n"
     ]
    },
    {
     "data": {
      "application/vnd.jupyter.widget-view+json": {
       "model_id": "a6ddd833fb724a7c9fc564055ed92479",
       "version_major": 2,
       "version_minor": 0
      },
      "text/plain": [
       "  0%|          | 0/19 [00:00<?, ?it/s]"
      ]
     },
     "metadata": {},
     "output_type": "display_data"
    },
    {
     "data": {
      "application/vnd.jupyter.widget-view+json": {
       "model_id": "461a217cbd764cf4bb16899107e266d8",
       "version_major": 2,
       "version_minor": 0
      },
      "text/plain": [
       "  0%|          | 0/19 [00:00<?, ?it/s]"
      ]
     },
     "metadata": {},
     "output_type": "display_data"
    },
    {
     "name": "stdout",
     "output_type": "stream",
     "text": [
      "Filtering away by face and skeletal length\n",
      "\n",
      "Number of segments: 145\n",
      "\n"
     ]
    },
    {
     "data": {
      "application/vnd.jupyter.widget-view+json": {
       "model_id": "1dcfba3e5e7f4c69a16aaf11af09fdff",
       "version_major": 2,
       "version_minor": 0
      },
      "text/plain": [
       "  0%|          | 0/145 [00:00<?, ?it/s]"
      ]
     },
     "metadata": {},
     "output_type": "display_data"
    },
    {
     "data": {
      "application/vnd.jupyter.widget-view+json": {
       "model_id": "d0c7cc292c39448db0d255d6ff1533c0",
       "version_major": 2,
       "version_minor": 0
      },
      "text/plain": [
       "  0%|          | 0/145 [00:00<?, ?it/s]"
      ]
     },
     "metadata": {},
     "output_type": "display_data"
    },
    {
     "name": "stdout",
     "output_type": "stream",
     "text": [
      "Filtering away by face and skeletal length\n",
      "\n",
      "Number of segments: 28\n",
      "\n"
     ]
    },
    {
     "data": {
      "application/vnd.jupyter.widget-view+json": {
       "model_id": "63ee2e9e16ad41aeb5baa6cd00dd8f8d",
       "version_major": 2,
       "version_minor": 0
      },
      "text/plain": [
       "  0%|          | 0/28 [00:00<?, ?it/s]"
      ]
     },
     "metadata": {},
     "output_type": "display_data"
    },
    {
     "data": {
      "application/vnd.jupyter.widget-view+json": {
       "model_id": "c78b29fee6d9411d86ea131fc069fa22",
       "version_major": 2,
       "version_minor": 0
      },
      "text/plain": [
       "  0%|          | 0/28 [00:00<?, ?it/s]"
      ]
     },
     "metadata": {},
     "output_type": "display_data"
    },
    {
     "name": "stdout",
     "output_type": "stream",
     "text": [
      "Filtering away by face and skeletal length\n",
      "\n",
      "Number of segments: 23\n",
      "\n"
     ]
    },
    {
     "data": {
      "application/vnd.jupyter.widget-view+json": {
       "model_id": "25477703ef734585b4411635b7d7d9d2",
       "version_major": 2,
       "version_minor": 0
      },
      "text/plain": [
       "  0%|          | 0/23 [00:00<?, ?it/s]"
      ]
     },
     "metadata": {},
     "output_type": "display_data"
    },
    {
     "data": {
      "application/vnd.jupyter.widget-view+json": {
       "model_id": "9800c78819594bdab3d863aea1a42c50",
       "version_major": 2,
       "version_minor": 0
      },
      "text/plain": [
       "  0%|          | 0/23 [00:00<?, ?it/s]"
      ]
     },
     "metadata": {},
     "output_type": "display_data"
    },
    {
     "name": "stdout",
     "output_type": "stream",
     "text": [
      "Filtering away by face and skeletal length\n",
      "\n",
      "Number of segments: 11\n",
      "\n"
     ]
    },
    {
     "data": {
      "application/vnd.jupyter.widget-view+json": {
       "model_id": "fba030bde41044f5bc7b941585dbda9a",
       "version_major": 2,
       "version_minor": 0
      },
      "text/plain": [
       "  0%|          | 0/11 [00:00<?, ?it/s]"
      ]
     },
     "metadata": {},
     "output_type": "display_data"
    },
    {
     "data": {
      "application/vnd.jupyter.widget-view+json": {
       "model_id": "d350dcb4cf5147bcb3c4bd233961f068",
       "version_major": 2,
       "version_minor": 0
      },
      "text/plain": [
       "  0%|          | 0/11 [00:00<?, ?it/s]"
      ]
     },
     "metadata": {},
     "output_type": "display_data"
    },
    {
     "name": "stdout",
     "output_type": "stream",
     "text": [
      "Filtering away by face and skeletal length\n",
      "\n",
      "Number of segments: 10\n",
      "\n"
     ]
    },
    {
     "data": {
      "application/vnd.jupyter.widget-view+json": {
       "model_id": "09a2b3e48f5545e2acc4ff738f27011b",
       "version_major": 2,
       "version_minor": 0
      },
      "text/plain": [
       "  0%|          | 0/10 [00:00<?, ?it/s]"
      ]
     },
     "metadata": {},
     "output_type": "display_data"
    },
    {
     "data": {
      "application/vnd.jupyter.widget-view+json": {
       "model_id": "df0e0a92116a4833b2bc33947de4dffc",
       "version_major": 2,
       "version_minor": 0
      },
      "text/plain": [
       "  0%|          | 0/10 [00:00<?, ?it/s]"
      ]
     },
     "metadata": {},
     "output_type": "display_data"
    },
    {
     "name": "stdout",
     "output_type": "stream",
     "text": [
      "Filtering away by face and skeletal length\n",
      "\n",
      "Number of segments: 12\n",
      "\n"
     ]
    },
    {
     "data": {
      "application/vnd.jupyter.widget-view+json": {
       "model_id": "faba07ca45954a6fb7bb8d1a3a15ae4a",
       "version_major": 2,
       "version_minor": 0
      },
      "text/plain": [
       "  0%|          | 0/12 [00:00<?, ?it/s]"
      ]
     },
     "metadata": {},
     "output_type": "display_data"
    },
    {
     "data": {
      "application/vnd.jupyter.widget-view+json": {
       "model_id": "78a2a4db7ced47cfa62962ef2fa7efff",
       "version_major": 2,
       "version_minor": 0
      },
      "text/plain": [
       "  0%|          | 0/12 [00:00<?, ?it/s]"
      ]
     },
     "metadata": {},
     "output_type": "display_data"
    },
    {
     "name": "stdout",
     "output_type": "stream",
     "text": [
      "Filtering away by face and skeletal length\n",
      "\n",
      "Number of segments: 32\n",
      "\n"
     ]
    },
    {
     "data": {
      "application/vnd.jupyter.widget-view+json": {
       "model_id": "f1b9b837bdec41e191059ab113e63c64",
       "version_major": 2,
       "version_minor": 0
      },
      "text/plain": [
       "  0%|          | 0/32 [00:00<?, ?it/s]"
      ]
     },
     "metadata": {},
     "output_type": "display_data"
    },
    {
     "data": {
      "application/vnd.jupyter.widget-view+json": {
       "model_id": "fcfa140f3be24505bd0f8e93d0eb9d66",
       "version_major": 2,
       "version_minor": 0
      },
      "text/plain": [
       "  0%|          | 0/32 [00:00<?, ?it/s]"
      ]
     },
     "metadata": {},
     "output_type": "display_data"
    },
    {
     "name": "stdout",
     "output_type": "stream",
     "text": [
      "Filtering away by face and skeletal length\n",
      "\n",
      "Number of segments: 29\n",
      "\n"
     ]
    },
    {
     "data": {
      "application/vnd.jupyter.widget-view+json": {
       "model_id": "ce80c29725384559a2ec2a7f63de0752",
       "version_major": 2,
       "version_minor": 0
      },
      "text/plain": [
       "  0%|          | 0/29 [00:00<?, ?it/s]"
      ]
     },
     "metadata": {},
     "output_type": "display_data"
    },
    {
     "data": {
      "application/vnd.jupyter.widget-view+json": {
       "model_id": "c660aeae91be48f4985906f0093df3da",
       "version_major": 2,
       "version_minor": 0
      },
      "text/plain": [
       "  0%|          | 0/29 [00:00<?, ?it/s]"
      ]
     },
     "metadata": {},
     "output_type": "display_data"
    },
    {
     "name": "stdout",
     "output_type": "stream",
     "text": [
      "Filtering away by face and skeletal length\n",
      "\n",
      "Number of segments: 27\n",
      "\n"
     ]
    },
    {
     "data": {
      "application/vnd.jupyter.widget-view+json": {
       "model_id": "bc1c09c7aea84a64bd7359114e560730",
       "version_major": 2,
       "version_minor": 0
      },
      "text/plain": [
       "  0%|          | 0/27 [00:00<?, ?it/s]"
      ]
     },
     "metadata": {},
     "output_type": "display_data"
    },
    {
     "data": {
      "application/vnd.jupyter.widget-view+json": {
       "model_id": "b7b6b3a769aa452cbc2daf49228ca20a",
       "version_major": 2,
       "version_minor": 0
      },
      "text/plain": [
       "  0%|          | 0/27 [00:00<?, ?it/s]"
      ]
     },
     "metadata": {},
     "output_type": "display_data"
    },
    {
     "name": "stdout",
     "output_type": "stream",
     "text": [
      "Filtering away by face and skeletal length\n",
      "\n",
      "Number of segments: 34\n",
      "\n"
     ]
    },
    {
     "data": {
      "application/vnd.jupyter.widget-view+json": {
       "model_id": "6e432008e7e64cf7b3f2865e810dced9",
       "version_major": 2,
       "version_minor": 0
      },
      "text/plain": [
       "  0%|          | 0/34 [00:00<?, ?it/s]"
      ]
     },
     "metadata": {},
     "output_type": "display_data"
    },
    {
     "data": {
      "application/vnd.jupyter.widget-view+json": {
       "model_id": "7dced7319b9445bba4b5a397a63f7bf2",
       "version_major": 2,
       "version_minor": 0
      },
      "text/plain": [
       "  0%|          | 0/34 [00:00<?, ?it/s]"
      ]
     },
     "metadata": {},
     "output_type": "display_data"
    },
    {
     "name": "stdout",
     "output_type": "stream",
     "text": [
      "Filtering away by face and skeletal length\n",
      "\n",
      "Number of segments: 31\n",
      "\n"
     ]
    },
    {
     "data": {
      "application/vnd.jupyter.widget-view+json": {
       "model_id": "366f9489e60644b78790740c4649ec79",
       "version_major": 2,
       "version_minor": 0
      },
      "text/plain": [
       "  0%|          | 0/31 [00:00<?, ?it/s]"
      ]
     },
     "metadata": {},
     "output_type": "display_data"
    },
    {
     "data": {
      "application/vnd.jupyter.widget-view+json": {
       "model_id": "d11cbb289a414179a18f114664c551e4",
       "version_major": 2,
       "version_minor": 0
      },
      "text/plain": [
       "  0%|          | 0/31 [00:00<?, ?it/s]"
      ]
     },
     "metadata": {},
     "output_type": "display_data"
    },
    {
     "name": "stdout",
     "output_type": "stream",
     "text": [
      "Filtering away by face and skeletal length\n",
      "\n",
      "Number of segments: 19\n",
      "\n"
     ]
    },
    {
     "data": {
      "application/vnd.jupyter.widget-view+json": {
       "model_id": "bf90b2cf79cd45028aca49fb2092e02c",
       "version_major": 2,
       "version_minor": 0
      },
      "text/plain": [
       "  0%|          | 0/19 [00:00<?, ?it/s]"
      ]
     },
     "metadata": {},
     "output_type": "display_data"
    },
    {
     "data": {
      "application/vnd.jupyter.widget-view+json": {
       "model_id": "811979e977594110b36f4d0b790e43a7",
       "version_major": 2,
       "version_minor": 0
      },
      "text/plain": [
       "  0%|          | 0/19 [00:00<?, ?it/s]"
      ]
     },
     "metadata": {},
     "output_type": "display_data"
    },
    {
     "name": "stdout",
     "output_type": "stream",
     "text": [
      "Filtering away by face and skeletal length\n",
      "\n",
      "Number of segments: 10\n",
      "\n"
     ]
    },
    {
     "data": {
      "application/vnd.jupyter.widget-view+json": {
       "model_id": "e6e0e1a9a51e47e8abcbbfe61ac0e150",
       "version_major": 2,
       "version_minor": 0
      },
      "text/plain": [
       "  0%|          | 0/10 [00:00<?, ?it/s]"
      ]
     },
     "metadata": {},
     "output_type": "display_data"
    },
    {
     "data": {
      "application/vnd.jupyter.widget-view+json": {
       "model_id": "1c1a6f6d780146e6abf652c99ba547eb",
       "version_major": 2,
       "version_minor": 0
      },
      "text/plain": [
       "  0%|          | 0/10 [00:00<?, ?it/s]"
      ]
     },
     "metadata": {},
     "output_type": "display_data"
    },
    {
     "name": "stdout",
     "output_type": "stream",
     "text": [
      "Filtering away by face and skeletal length\n",
      "\n",
      "Number of segments: 5\n",
      "\n"
     ]
    },
    {
     "data": {
      "application/vnd.jupyter.widget-view+json": {
       "model_id": "4ef3d5101cc1490490dfc11bd2a4c8ac",
       "version_major": 2,
       "version_minor": 0
      },
      "text/plain": [
       "  0%|          | 0/5 [00:00<?, ?it/s]"
      ]
     },
     "metadata": {},
     "output_type": "display_data"
    },
    {
     "data": {
      "application/vnd.jupyter.widget-view+json": {
       "model_id": "6fc420017462440386fe30b14f8c58c5",
       "version_major": 2,
       "version_minor": 0
      },
      "text/plain": [
       "  0%|          | 0/5 [00:00<?, ?it/s]"
      ]
     },
     "metadata": {},
     "output_type": "display_data"
    },
    {
     "name": "stdout",
     "output_type": "stream",
     "text": [
      "Filtering away by face and skeletal length\n",
      "\n",
      "Number of segments: 91\n",
      "\n"
     ]
    },
    {
     "data": {
      "application/vnd.jupyter.widget-view+json": {
       "model_id": "512e383207454c78943ab710ec1a7f5c",
       "version_major": 2,
       "version_minor": 0
      },
      "text/plain": [
       "  0%|          | 0/91 [00:00<?, ?it/s]"
      ]
     },
     "metadata": {},
     "output_type": "display_data"
    },
    {
     "data": {
      "application/vnd.jupyter.widget-view+json": {
       "model_id": "3d0bf28b06d144e986e09d4728a50db9",
       "version_major": 2,
       "version_minor": 0
      },
      "text/plain": [
       "  0%|          | 0/91 [00:00<?, ?it/s]"
      ]
     },
     "metadata": {},
     "output_type": "display_data"
    },
    {
     "name": "stdout",
     "output_type": "stream",
     "text": [
      "Filtering away by face and skeletal length\n",
      "\n",
      "Number of segments: 16\n",
      "\n"
     ]
    },
    {
     "data": {
      "application/vnd.jupyter.widget-view+json": {
       "model_id": "4ef432cb8c8e4abf9c807d542eaff0eb",
       "version_major": 2,
       "version_minor": 0
      },
      "text/plain": [
       "  0%|          | 0/16 [00:00<?, ?it/s]"
      ]
     },
     "metadata": {},
     "output_type": "display_data"
    },
    {
     "data": {
      "application/vnd.jupyter.widget-view+json": {
       "model_id": "205582687dbf49a08a9bb12a32df2823",
       "version_major": 2,
       "version_minor": 0
      },
      "text/plain": [
       "  0%|          | 0/16 [00:00<?, ?it/s]"
      ]
     },
     "metadata": {},
     "output_type": "display_data"
    },
    {
     "name": "stdout",
     "output_type": "stream",
     "text": [
      "Filtering away by face and skeletal length\n",
      "\n",
      "Number of segments: 20\n",
      "\n"
     ]
    },
    {
     "data": {
      "application/vnd.jupyter.widget-view+json": {
       "model_id": "621f9b8abfd949f7a23c88aa8b56781a",
       "version_major": 2,
       "version_minor": 0
      },
      "text/plain": [
       "  0%|          | 0/20 [00:00<?, ?it/s]"
      ]
     },
     "metadata": {},
     "output_type": "display_data"
    },
    {
     "data": {
      "application/vnd.jupyter.widget-view+json": {
       "model_id": "157030cf01fa48f691f39daccc00f2c3",
       "version_major": 2,
       "version_minor": 0
      },
      "text/plain": [
       "  0%|          | 0/20 [00:00<?, ?it/s]"
      ]
     },
     "metadata": {},
     "output_type": "display_data"
    },
    {
     "name": "stdout",
     "output_type": "stream",
     "text": [
      "Filtering away by face and skeletal length\n",
      "\n",
      "Number of segments: 9\n",
      "\n"
     ]
    },
    {
     "data": {
      "application/vnd.jupyter.widget-view+json": {
       "model_id": "36577dabfd7c4507adac52822d0fd630",
       "version_major": 2,
       "version_minor": 0
      },
      "text/plain": [
       "  0%|          | 0/9 [00:00<?, ?it/s]"
      ]
     },
     "metadata": {},
     "output_type": "display_data"
    },
    {
     "data": {
      "application/vnd.jupyter.widget-view+json": {
       "model_id": "237930521d414bb1b7584a2062860c76",
       "version_major": 2,
       "version_minor": 0
      },
      "text/plain": [
       "  0%|          | 0/9 [00:00<?, ?it/s]"
      ]
     },
     "metadata": {},
     "output_type": "display_data"
    },
    {
     "name": "stdout",
     "output_type": "stream",
     "text": [
      "Filtering away by face and skeletal length\n",
      "\n",
      "Number of segments: 10\n",
      "\n"
     ]
    },
    {
     "data": {
      "application/vnd.jupyter.widget-view+json": {
       "model_id": "f40c1da3cbe64f98a86687e49f030600",
       "version_major": 2,
       "version_minor": 0
      },
      "text/plain": [
       "  0%|          | 0/10 [00:00<?, ?it/s]"
      ]
     },
     "metadata": {},
     "output_type": "display_data"
    },
    {
     "data": {
      "application/vnd.jupyter.widget-view+json": {
       "model_id": "2ad791e8ef08497fa381b7326d190c8e",
       "version_major": 2,
       "version_minor": 0
      },
      "text/plain": [
       "  0%|          | 0/10 [00:00<?, ?it/s]"
      ]
     },
     "metadata": {},
     "output_type": "display_data"
    },
    {
     "name": "stdout",
     "output_type": "stream",
     "text": [
      "Filtering away by face and skeletal length\n",
      "\n",
      "Number of segments: 3\n",
      "\n"
     ]
    },
    {
     "data": {
      "application/vnd.jupyter.widget-view+json": {
       "model_id": "b94f2a534904486b87cdbeedb3658538",
       "version_major": 2,
       "version_minor": 0
      },
      "text/plain": [
       "  0%|          | 0/3 [00:00<?, ?it/s]"
      ]
     },
     "metadata": {},
     "output_type": "display_data"
    },
    {
     "data": {
      "application/vnd.jupyter.widget-view+json": {
       "model_id": "215c74f9c4b441d3b1240b1aa502bbae",
       "version_major": 2,
       "version_minor": 0
      },
      "text/plain": [
       "  0%|          | 0/3 [00:00<?, ?it/s]"
      ]
     },
     "metadata": {},
     "output_type": "display_data"
    },
    {
     "name": "stdout",
     "output_type": "stream",
     "text": [
      "Filtering away by face and skeletal length\n",
      "\n",
      "Number of segments: 123\n",
      "\n"
     ]
    },
    {
     "data": {
      "application/vnd.jupyter.widget-view+json": {
       "model_id": "a8a79566abba402a839c2e97f2b4403d",
       "version_major": 2,
       "version_minor": 0
      },
      "text/plain": [
       "  0%|          | 0/123 [00:00<?, ?it/s]"
      ]
     },
     "metadata": {},
     "output_type": "display_data"
    },
    {
     "data": {
      "application/vnd.jupyter.widget-view+json": {
       "model_id": "fe885836b760460baf73937df19e15b6",
       "version_major": 2,
       "version_minor": 0
      },
      "text/plain": [
       "  0%|          | 0/123 [00:00<?, ?it/s]"
      ]
     },
     "metadata": {},
     "output_type": "display_data"
    },
    {
     "name": "stdout",
     "output_type": "stream",
     "text": [
      "Filtering away by face and skeletal length\n",
      "\n",
      "Number of segments: 122\n",
      "\n"
     ]
    },
    {
     "data": {
      "application/vnd.jupyter.widget-view+json": {
       "model_id": "f9cc9cf3d63a4cdf8538de555bc5429e",
       "version_major": 2,
       "version_minor": 0
      },
      "text/plain": [
       "  0%|          | 0/122 [00:00<?, ?it/s]"
      ]
     },
     "metadata": {},
     "output_type": "display_data"
    },
    {
     "data": {
      "application/vnd.jupyter.widget-view+json": {
       "model_id": "2b6e243ee82e4a04ad06b9421230fe08",
       "version_major": 2,
       "version_minor": 0
      },
      "text/plain": [
       "  0%|          | 0/122 [00:00<?, ?it/s]"
      ]
     },
     "metadata": {},
     "output_type": "display_data"
    },
    {
     "name": "stdout",
     "output_type": "stream",
     "text": [
      "Filtering away by face and skeletal length\n",
      "\n",
      "Number of segments: 8\n",
      "\n"
     ]
    },
    {
     "data": {
      "application/vnd.jupyter.widget-view+json": {
       "model_id": "d2dd3a065f2540ebbbb861dd1e8ce9a9",
       "version_major": 2,
       "version_minor": 0
      },
      "text/plain": [
       "  0%|          | 0/8 [00:00<?, ?it/s]"
      ]
     },
     "metadata": {},
     "output_type": "display_data"
    },
    {
     "data": {
      "application/vnd.jupyter.widget-view+json": {
       "model_id": "fa6fad1d437d478493704072ab9e57f1",
       "version_major": 2,
       "version_minor": 0
      },
      "text/plain": [
       "  0%|          | 0/8 [00:00<?, ?it/s]"
      ]
     },
     "metadata": {},
     "output_type": "display_data"
    },
    {
     "name": "stdout",
     "output_type": "stream",
     "text": [
      "Filtering away by face and skeletal length\n",
      "\n",
      "Number of segments: 31\n",
      "\n"
     ]
    },
    {
     "data": {
      "application/vnd.jupyter.widget-view+json": {
       "model_id": "bdab335ee3d14c7eb8fafb24ffd4e287",
       "version_major": 2,
       "version_minor": 0
      },
      "text/plain": [
       "  0%|          | 0/31 [00:00<?, ?it/s]"
      ]
     },
     "metadata": {},
     "output_type": "display_data"
    },
    {
     "data": {
      "application/vnd.jupyter.widget-view+json": {
       "model_id": "a58ac3e8caf24073b85e053ff2d02f18",
       "version_major": 2,
       "version_minor": 0
      },
      "text/plain": [
       "  0%|          | 0/31 [00:00<?, ?it/s]"
      ]
     },
     "metadata": {},
     "output_type": "display_data"
    },
    {
     "name": "stdout",
     "output_type": "stream",
     "text": [
      "Filtering away by face and skeletal length\n",
      "\n",
      "Number of segments: 8\n",
      "\n"
     ]
    },
    {
     "data": {
      "application/vnd.jupyter.widget-view+json": {
       "model_id": "14c3527a489b4710a475938e700a5bde",
       "version_major": 2,
       "version_minor": 0
      },
      "text/plain": [
       "  0%|          | 0/8 [00:00<?, ?it/s]"
      ]
     },
     "metadata": {},
     "output_type": "display_data"
    },
    {
     "data": {
      "application/vnd.jupyter.widget-view+json": {
       "model_id": "f579b3eb2e82419080d2b126c28fd2e6",
       "version_major": 2,
       "version_minor": 0
      },
      "text/plain": [
       "  0%|          | 0/8 [00:00<?, ?it/s]"
      ]
     },
     "metadata": {},
     "output_type": "display_data"
    },
    {
     "name": "stdout",
     "output_type": "stream",
     "text": [
      "Filtering away by face and skeletal length\n",
      "\n",
      "Number of segments: 8\n",
      "\n"
     ]
    },
    {
     "data": {
      "application/vnd.jupyter.widget-view+json": {
       "model_id": "54950ad446c14be5b187e0f47c6c9989",
       "version_major": 2,
       "version_minor": 0
      },
      "text/plain": [
       "  0%|          | 0/8 [00:00<?, ?it/s]"
      ]
     },
     "metadata": {},
     "output_type": "display_data"
    },
    {
     "data": {
      "application/vnd.jupyter.widget-view+json": {
       "model_id": "53f617bde1b54c18b9b3a922ee0f9d99",
       "version_major": 2,
       "version_minor": 0
      },
      "text/plain": [
       "  0%|          | 0/8 [00:00<?, ?it/s]"
      ]
     },
     "metadata": {},
     "output_type": "display_data"
    },
    {
     "name": "stdout",
     "output_type": "stream",
     "text": [
      "Filtering away by face and skeletal length\n",
      "\n",
      "Number of segments: 18\n",
      "\n"
     ]
    },
    {
     "data": {
      "application/vnd.jupyter.widget-view+json": {
       "model_id": "fe5a149c73494201847edfb138ccc63e",
       "version_major": 2,
       "version_minor": 0
      },
      "text/plain": [
       "  0%|          | 0/18 [00:00<?, ?it/s]"
      ]
     },
     "metadata": {},
     "output_type": "display_data"
    },
    {
     "data": {
      "application/vnd.jupyter.widget-view+json": {
       "model_id": "fd12f82e71c947e58d5b43a562908f0b",
       "version_major": 2,
       "version_minor": 0
      },
      "text/plain": [
       "  0%|          | 0/18 [00:00<?, ?it/s]"
      ]
     },
     "metadata": {},
     "output_type": "display_data"
    },
    {
     "name": "stdout",
     "output_type": "stream",
     "text": [
      "Filtering away by face and skeletal length\n",
      "\n",
      "Number of segments: 38\n",
      "\n"
     ]
    },
    {
     "data": {
      "application/vnd.jupyter.widget-view+json": {
       "model_id": "26074bb1cc384f59a4d20cd20a50e02b",
       "version_major": 2,
       "version_minor": 0
      },
      "text/plain": [
       "  0%|          | 0/38 [00:00<?, ?it/s]"
      ]
     },
     "metadata": {},
     "output_type": "display_data"
    },
    {
     "data": {
      "application/vnd.jupyter.widget-view+json": {
       "model_id": "df54b3f7afb2456ea62fe26855930303",
       "version_major": 2,
       "version_minor": 0
      },
      "text/plain": [
       "  0%|          | 0/38 [00:00<?, ?it/s]"
      ]
     },
     "metadata": {},
     "output_type": "display_data"
    },
    {
     "name": "stdout",
     "output_type": "stream",
     "text": [
      "Filtering away by face and skeletal length\n",
      "\n",
      "Number of segments: 27\n",
      "\n"
     ]
    },
    {
     "data": {
      "application/vnd.jupyter.widget-view+json": {
       "model_id": "7e6f3123a921401dae4581000da26b42",
       "version_major": 2,
       "version_minor": 0
      },
      "text/plain": [
       "  0%|          | 0/27 [00:00<?, ?it/s]"
      ]
     },
     "metadata": {},
     "output_type": "display_data"
    },
    {
     "data": {
      "application/vnd.jupyter.widget-view+json": {
       "model_id": "a5bcf8baf65840b280b72c2e90e60217",
       "version_major": 2,
       "version_minor": 0
      },
      "text/plain": [
       "  0%|          | 0/27 [00:00<?, ?it/s]"
      ]
     },
     "metadata": {},
     "output_type": "display_data"
    },
    {
     "name": "stdout",
     "output_type": "stream",
     "text": [
      "Filtering away by face and skeletal length\n",
      "\n",
      "Number of segments: 189\n",
      "\n"
     ]
    },
    {
     "data": {
      "application/vnd.jupyter.widget-view+json": {
       "model_id": "4cbe87a465a14fe8a733db775664851e",
       "version_major": 2,
       "version_minor": 0
      },
      "text/plain": [
       "  0%|          | 0/189 [00:00<?, ?it/s]"
      ]
     },
     "metadata": {},
     "output_type": "display_data"
    },
    {
     "data": {
      "application/vnd.jupyter.widget-view+json": {
       "model_id": "f81d852c9b67425a8abbd0180a5e823a",
       "version_major": 2,
       "version_minor": 0
      },
      "text/plain": [
       "  0%|          | 0/189 [00:00<?, ?it/s]"
      ]
     },
     "metadata": {},
     "output_type": "display_data"
    },
    {
     "name": "stdout",
     "output_type": "stream",
     "text": [
      "Filtering away by face and skeletal length\n",
      "\n",
      "Number of segments: 35\n",
      "\n"
     ]
    },
    {
     "data": {
      "application/vnd.jupyter.widget-view+json": {
       "model_id": "2e6b1e90464a403b808512dede0df30c",
       "version_major": 2,
       "version_minor": 0
      },
      "text/plain": [
       "  0%|          | 0/35 [00:00<?, ?it/s]"
      ]
     },
     "metadata": {},
     "output_type": "display_data"
    },
    {
     "data": {
      "application/vnd.jupyter.widget-view+json": {
       "model_id": "69743090e4a3498ca799d11c678bcfe8",
       "version_major": 2,
       "version_minor": 0
      },
      "text/plain": [
       "  0%|          | 0/35 [00:00<?, ?it/s]"
      ]
     },
     "metadata": {},
     "output_type": "display_data"
    },
    {
     "name": "stdout",
     "output_type": "stream",
     "text": [
      "Filtering away by face and skeletal length\n",
      "\n",
      "Number of segments: 111\n",
      "\n"
     ]
    },
    {
     "data": {
      "application/vnd.jupyter.widget-view+json": {
       "model_id": "546b7390a93041b2a16e6386ca517a2f",
       "version_major": 2,
       "version_minor": 0
      },
      "text/plain": [
       "  0%|          | 0/111 [00:00<?, ?it/s]"
      ]
     },
     "metadata": {},
     "output_type": "display_data"
    },
    {
     "data": {
      "application/vnd.jupyter.widget-view+json": {
       "model_id": "9a76acfebabf4c0fa4ae2018af60405e",
       "version_major": 2,
       "version_minor": 0
      },
      "text/plain": [
       "  0%|          | 0/111 [00:00<?, ?it/s]"
      ]
     },
     "metadata": {},
     "output_type": "display_data"
    },
    {
     "name": "stdout",
     "output_type": "stream",
     "text": [
      "Filtering away by face and skeletal length\n",
      "\n",
      "Number of segments: 139\n",
      "\n"
     ]
    },
    {
     "data": {
      "application/vnd.jupyter.widget-view+json": {
       "model_id": "00467c93a5f34356a6af9e1bfb4b2faf",
       "version_major": 2,
       "version_minor": 0
      },
      "text/plain": [
       "  0%|          | 0/139 [00:00<?, ?it/s]"
      ]
     },
     "metadata": {},
     "output_type": "display_data"
    },
    {
     "data": {
      "application/vnd.jupyter.widget-view+json": {
       "model_id": "3e671ef4d6b649acb4adffc38b371e14",
       "version_major": 2,
       "version_minor": 0
      },
      "text/plain": [
       "  0%|          | 0/139 [00:00<?, ?it/s]"
      ]
     },
     "metadata": {},
     "output_type": "display_data"
    },
    {
     "name": "stdout",
     "output_type": "stream",
     "text": [
      "Filtering away by face and skeletal length\n",
      "\n",
      "Number of segments: 92\n",
      "\n"
     ]
    },
    {
     "data": {
      "application/vnd.jupyter.widget-view+json": {
       "model_id": "cb02dbc14e334851b2a97ac9e4a7f235",
       "version_major": 2,
       "version_minor": 0
      },
      "text/plain": [
       "  0%|          | 0/92 [00:00<?, ?it/s]"
      ]
     },
     "metadata": {},
     "output_type": "display_data"
    },
    {
     "data": {
      "application/vnd.jupyter.widget-view+json": {
       "model_id": "09442d02ea274cea9014d10eefd8e80f",
       "version_major": 2,
       "version_minor": 0
      },
      "text/plain": [
       "  0%|          | 0/92 [00:00<?, ?it/s]"
      ]
     },
     "metadata": {},
     "output_type": "display_data"
    },
    {
     "name": "stdout",
     "output_type": "stream",
     "text": [
      "Filtering away by face and skeletal length\n",
      "\n",
      "Number of segments: 9\n",
      "\n"
     ]
    },
    {
     "data": {
      "application/vnd.jupyter.widget-view+json": {
       "model_id": "f8bd33739e0347baa89b14bd0c16bbe7",
       "version_major": 2,
       "version_minor": 0
      },
      "text/plain": [
       "  0%|          | 0/9 [00:00<?, ?it/s]"
      ]
     },
     "metadata": {},
     "output_type": "display_data"
    },
    {
     "data": {
      "application/vnd.jupyter.widget-view+json": {
       "model_id": "5e1d0b22569b455d9cb6a8c564bbbaef",
       "version_major": 2,
       "version_minor": 0
      },
      "text/plain": [
       "  0%|          | 0/9 [00:00<?, ?it/s]"
      ]
     },
     "metadata": {},
     "output_type": "display_data"
    },
    {
     "name": "stdout",
     "output_type": "stream",
     "text": [
      "Filtering away by face and skeletal length\n",
      "\n",
      "Number of segments: 63\n",
      "\n"
     ]
    },
    {
     "data": {
      "application/vnd.jupyter.widget-view+json": {
       "model_id": "86fcf4066e954433862598ec587b7a85",
       "version_major": 2,
       "version_minor": 0
      },
      "text/plain": [
       "  0%|          | 0/63 [00:00<?, ?it/s]"
      ]
     },
     "metadata": {},
     "output_type": "display_data"
    },
    {
     "data": {
      "application/vnd.jupyter.widget-view+json": {
       "model_id": "bfe5b6c2219046bda9bab50e22647c99",
       "version_major": 2,
       "version_minor": 0
      },
      "text/plain": [
       "  0%|          | 0/63 [00:00<?, ?it/s]"
      ]
     },
     "metadata": {},
     "output_type": "display_data"
    },
    {
     "name": "stdout",
     "output_type": "stream",
     "text": [
      "Filtering away by face and skeletal length\n",
      "\n",
      "Number of segments: 18\n",
      "\n"
     ]
    },
    {
     "data": {
      "application/vnd.jupyter.widget-view+json": {
       "model_id": "ae1babefc3e1492e88ec08c92bfd36b6",
       "version_major": 2,
       "version_minor": 0
      },
      "text/plain": [
       "  0%|          | 0/18 [00:00<?, ?it/s]"
      ]
     },
     "metadata": {},
     "output_type": "display_data"
    },
    {
     "data": {
      "application/vnd.jupyter.widget-view+json": {
       "model_id": "2605ea9696ba4d68bf89a8016d3a933c",
       "version_major": 2,
       "version_minor": 0
      },
      "text/plain": [
       "  0%|          | 0/18 [00:00<?, ?it/s]"
      ]
     },
     "metadata": {},
     "output_type": "display_data"
    },
    {
     "name": "stdout",
     "output_type": "stream",
     "text": [
      "Filtering away by face and skeletal length\n",
      "\n",
      "Number of segments: 17\n",
      "\n"
     ]
    },
    {
     "data": {
      "application/vnd.jupyter.widget-view+json": {
       "model_id": "c2335ccd14764e28a72a57e9e2618501",
       "version_major": 2,
       "version_minor": 0
      },
      "text/plain": [
       "  0%|          | 0/17 [00:00<?, ?it/s]"
      ]
     },
     "metadata": {},
     "output_type": "display_data"
    },
    {
     "data": {
      "application/vnd.jupyter.widget-view+json": {
       "model_id": "4bd1d25b529a42909f3d419108ae01ef",
       "version_major": 2,
       "version_minor": 0
      },
      "text/plain": [
       "  0%|          | 0/17 [00:00<?, ?it/s]"
      ]
     },
     "metadata": {},
     "output_type": "display_data"
    },
    {
     "name": "stdout",
     "output_type": "stream",
     "text": [
      "Filtering away by face and skeletal length\n",
      "\n",
      "Number of segments: 7\n",
      "\n"
     ]
    },
    {
     "data": {
      "application/vnd.jupyter.widget-view+json": {
       "model_id": "4236592589384e2697ad8f940c0a033d",
       "version_major": 2,
       "version_minor": 0
      },
      "text/plain": [
       "  0%|          | 0/7 [00:00<?, ?it/s]"
      ]
     },
     "metadata": {},
     "output_type": "display_data"
    },
    {
     "data": {
      "application/vnd.jupyter.widget-view+json": {
       "model_id": "7fbab51e05724116bce660e65eea8c95",
       "version_major": 2,
       "version_minor": 0
      },
      "text/plain": [
       "  0%|          | 0/7 [00:00<?, ?it/s]"
      ]
     },
     "metadata": {},
     "output_type": "display_data"
    },
    {
     "name": "stdout",
     "output_type": "stream",
     "text": [
      "Filtering away by face and skeletal length\n",
      "\n",
      "Number of segments: 9\n",
      "\n"
     ]
    },
    {
     "data": {
      "application/vnd.jupyter.widget-view+json": {
       "model_id": "006bcd47d2b54873a11380f450c927f8",
       "version_major": 2,
       "version_minor": 0
      },
      "text/plain": [
       "  0%|          | 0/9 [00:00<?, ?it/s]"
      ]
     },
     "metadata": {},
     "output_type": "display_data"
    },
    {
     "data": {
      "application/vnd.jupyter.widget-view+json": {
       "model_id": "941fcc1db05845d7b51832f97ec57a80",
       "version_major": 2,
       "version_minor": 0
      },
      "text/plain": [
       "  0%|          | 0/9 [00:00<?, ?it/s]"
      ]
     },
     "metadata": {},
     "output_type": "display_data"
    },
    {
     "name": "stdout",
     "output_type": "stream",
     "text": [
      "Filtering away by face and skeletal length\n",
      "\n",
      "Number of segments: 23\n",
      "\n"
     ]
    },
    {
     "data": {
      "application/vnd.jupyter.widget-view+json": {
       "model_id": "789349831ab14783beb2a10b9adafaf9",
       "version_major": 2,
       "version_minor": 0
      },
      "text/plain": [
       "  0%|          | 0/23 [00:00<?, ?it/s]"
      ]
     },
     "metadata": {},
     "output_type": "display_data"
    },
    {
     "data": {
      "application/vnd.jupyter.widget-view+json": {
       "model_id": "640d173eb48948e3b7f130be5583ab8d",
       "version_major": 2,
       "version_minor": 0
      },
      "text/plain": [
       "  0%|          | 0/23 [00:00<?, ?it/s]"
      ]
     },
     "metadata": {},
     "output_type": "display_data"
    },
    {
     "name": "stdout",
     "output_type": "stream",
     "text": [
      "Filtering away by face and skeletal length\n",
      "\n",
      "Number of segments: 63\n",
      "\n"
     ]
    },
    {
     "data": {
      "application/vnd.jupyter.widget-view+json": {
       "model_id": "8646dd4ba32041c88e2c0c1ce8286f6c",
       "version_major": 2,
       "version_minor": 0
      },
      "text/plain": [
       "  0%|          | 0/63 [00:00<?, ?it/s]"
      ]
     },
     "metadata": {},
     "output_type": "display_data"
    },
    {
     "data": {
      "application/vnd.jupyter.widget-view+json": {
       "model_id": "9c1716b27172498cbe1275d5f1e8bdf7",
       "version_major": 2,
       "version_minor": 0
      },
      "text/plain": [
       "  0%|          | 0/63 [00:00<?, ?it/s]"
      ]
     },
     "metadata": {},
     "output_type": "display_data"
    },
    {
     "name": "stdout",
     "output_type": "stream",
     "text": [
      "Filtering away by face and skeletal length\n",
      "\n",
      "Number of segments: 61\n",
      "\n"
     ]
    },
    {
     "data": {
      "application/vnd.jupyter.widget-view+json": {
       "model_id": "952ca29f33b94580bc6ee08bf6b8d75c",
       "version_major": 2,
       "version_minor": 0
      },
      "text/plain": [
       "  0%|          | 0/61 [00:00<?, ?it/s]"
      ]
     },
     "metadata": {},
     "output_type": "display_data"
    },
    {
     "data": {
      "application/vnd.jupyter.widget-view+json": {
       "model_id": "989e1c00864a4040a0c57966db6351df",
       "version_major": 2,
       "version_minor": 0
      },
      "text/plain": [
       "  0%|          | 0/61 [00:00<?, ?it/s]"
      ]
     },
     "metadata": {},
     "output_type": "display_data"
    },
    {
     "name": "stdout",
     "output_type": "stream",
     "text": [
      "Filtering away by face and skeletal length\n",
      "\n",
      "Number of segments: 15\n",
      "\n"
     ]
    },
    {
     "data": {
      "application/vnd.jupyter.widget-view+json": {
       "model_id": "c3c4161d364647ae88a0f1b8686327fb",
       "version_major": 2,
       "version_minor": 0
      },
      "text/plain": [
       "  0%|          | 0/15 [00:00<?, ?it/s]"
      ]
     },
     "metadata": {},
     "output_type": "display_data"
    },
    {
     "data": {
      "application/vnd.jupyter.widget-view+json": {
       "model_id": "bf238058b71f4716a4ca538f3a35bbb9",
       "version_major": 2,
       "version_minor": 0
      },
      "text/plain": [
       "  0%|          | 0/15 [00:00<?, ?it/s]"
      ]
     },
     "metadata": {},
     "output_type": "display_data"
    },
    {
     "name": "stdout",
     "output_type": "stream",
     "text": [
      "Filtering away by face and skeletal length\n",
      "\n",
      "Number of segments: 18\n",
      "\n"
     ]
    },
    {
     "data": {
      "application/vnd.jupyter.widget-view+json": {
       "model_id": "f7c440bf80fd43fab7cf094b046e9ae4",
       "version_major": 2,
       "version_minor": 0
      },
      "text/plain": [
       "  0%|          | 0/18 [00:00<?, ?it/s]"
      ]
     },
     "metadata": {},
     "output_type": "display_data"
    },
    {
     "data": {
      "application/vnd.jupyter.widget-view+json": {
       "model_id": "21589ea40d8b49ed8fef9690b8fe8ff5",
       "version_major": 2,
       "version_minor": 0
      },
      "text/plain": [
       "  0%|          | 0/18 [00:00<?, ?it/s]"
      ]
     },
     "metadata": {},
     "output_type": "display_data"
    },
    {
     "name": "stdout",
     "output_type": "stream",
     "text": [
      "Filtering away by face and skeletal length\n",
      "\n",
      "Number of segments: 32\n",
      "\n"
     ]
    },
    {
     "data": {
      "application/vnd.jupyter.widget-view+json": {
       "model_id": "3ea7e07135eb493fa609caf317a885fb",
       "version_major": 2,
       "version_minor": 0
      },
      "text/plain": [
       "  0%|          | 0/32 [00:00<?, ?it/s]"
      ]
     },
     "metadata": {},
     "output_type": "display_data"
    },
    {
     "data": {
      "application/vnd.jupyter.widget-view+json": {
       "model_id": "9cf11706ac8f41f7a5061dd6500e3305",
       "version_major": 2,
       "version_minor": 0
      },
      "text/plain": [
       "  0%|          | 0/32 [00:00<?, ?it/s]"
      ]
     },
     "metadata": {},
     "output_type": "display_data"
    },
    {
     "name": "stdout",
     "output_type": "stream",
     "text": [
      "Filtering away by face and skeletal length\n",
      "\n",
      "Number of segments: 135\n",
      "\n"
     ]
    },
    {
     "data": {
      "application/vnd.jupyter.widget-view+json": {
       "model_id": "861f61a66244498a8282349837ad3338",
       "version_major": 2,
       "version_minor": 0
      },
      "text/plain": [
       "  0%|          | 0/135 [00:00<?, ?it/s]"
      ]
     },
     "metadata": {},
     "output_type": "display_data"
    },
    {
     "data": {
      "application/vnd.jupyter.widget-view+json": {
       "model_id": "4987490c2f0a4564b9e953a9e5b22ef7",
       "version_major": 2,
       "version_minor": 0
      },
      "text/plain": [
       "  0%|          | 0/135 [00:00<?, ?it/s]"
      ]
     },
     "metadata": {},
     "output_type": "display_data"
    },
    {
     "name": "stdout",
     "output_type": "stream",
     "text": [
      "Filtering away by face and skeletal length\n",
      "\n",
      "Number of segments: 127\n",
      "\n"
     ]
    },
    {
     "data": {
      "application/vnd.jupyter.widget-view+json": {
       "model_id": "e30b127340be41999486071ec3ccc350",
       "version_major": 2,
       "version_minor": 0
      },
      "text/plain": [
       "  0%|          | 0/127 [00:00<?, ?it/s]"
      ]
     },
     "metadata": {},
     "output_type": "display_data"
    },
    {
     "data": {
      "application/vnd.jupyter.widget-view+json": {
       "model_id": "bee38e91e3504869aa8a4b12182a0649",
       "version_major": 2,
       "version_minor": 0
      },
      "text/plain": [
       "  0%|          | 0/127 [00:00<?, ?it/s]"
      ]
     },
     "metadata": {},
     "output_type": "display_data"
    },
    {
     "name": "stdout",
     "output_type": "stream",
     "text": [
      "Filtering away by face and skeletal length\n",
      "\n",
      "Number of segments: 40\n",
      "\n"
     ]
    },
    {
     "data": {
      "application/vnd.jupyter.widget-view+json": {
       "model_id": "8428b5be6b4f4064bf32bb5b0327d65b",
       "version_major": 2,
       "version_minor": 0
      },
      "text/plain": [
       "  0%|          | 0/40 [00:00<?, ?it/s]"
      ]
     },
     "metadata": {},
     "output_type": "display_data"
    },
    {
     "data": {
      "application/vnd.jupyter.widget-view+json": {
       "model_id": "d58c56ca4c3441af93e80a1124aa3aff",
       "version_major": 2,
       "version_minor": 0
      },
      "text/plain": [
       "  0%|          | 0/40 [00:00<?, ?it/s]"
      ]
     },
     "metadata": {},
     "output_type": "display_data"
    },
    {
     "name": "stdout",
     "output_type": "stream",
     "text": [
      "Filtering away by face and skeletal length\n",
      "\n",
      "Number of segments: 2\n",
      "\n"
     ]
    },
    {
     "data": {
      "application/vnd.jupyter.widget-view+json": {
       "model_id": "5542dbe3933e4d638bcee2e52e61f8b0",
       "version_major": 2,
       "version_minor": 0
      },
      "text/plain": [
       "  0%|          | 0/2 [00:00<?, ?it/s]"
      ]
     },
     "metadata": {},
     "output_type": "display_data"
    },
    {
     "data": {
      "application/vnd.jupyter.widget-view+json": {
       "model_id": "14cd8457750c48999c297c569ab1a9b6",
       "version_major": 2,
       "version_minor": 0
      },
      "text/plain": [
       "  0%|          | 0/2 [00:00<?, ?it/s]"
      ]
     },
     "metadata": {},
     "output_type": "display_data"
    },
    {
     "name": "stdout",
     "output_type": "stream",
     "text": [
      "Filtering away by face and skeletal length\n",
      "\n",
      "Number of segments: 96\n",
      "\n"
     ]
    },
    {
     "data": {
      "application/vnd.jupyter.widget-view+json": {
       "model_id": "c6b91e9281054506bae74be333abbfff",
       "version_major": 2,
       "version_minor": 0
      },
      "text/plain": [
       "  0%|          | 0/96 [00:00<?, ?it/s]"
      ]
     },
     "metadata": {},
     "output_type": "display_data"
    },
    {
     "data": {
      "application/vnd.jupyter.widget-view+json": {
       "model_id": "e108fcd680414c72b9dd7ea89e7bf95b",
       "version_major": 2,
       "version_minor": 0
      },
      "text/plain": [
       "  0%|          | 0/96 [00:00<?, ?it/s]"
      ]
     },
     "metadata": {},
     "output_type": "display_data"
    },
    {
     "name": "stdout",
     "output_type": "stream",
     "text": [
      "Filtering away by face and skeletal length\n",
      "\n",
      "Number of segments: 20\n",
      "\n"
     ]
    },
    {
     "data": {
      "application/vnd.jupyter.widget-view+json": {
       "model_id": "16612104ed4e43b1927ee9e65d5fb90a",
       "version_major": 2,
       "version_minor": 0
      },
      "text/plain": [
       "  0%|          | 0/20 [00:00<?, ?it/s]"
      ]
     },
     "metadata": {},
     "output_type": "display_data"
    },
    {
     "data": {
      "application/vnd.jupyter.widget-view+json": {
       "model_id": "e2e856682dcc4f4d9ee19eb926062e51",
       "version_major": 2,
       "version_minor": 0
      },
      "text/plain": [
       "  0%|          | 0/20 [00:00<?, ?it/s]"
      ]
     },
     "metadata": {},
     "output_type": "display_data"
    },
    {
     "name": "stdout",
     "output_type": "stream",
     "text": [
      "Filtering away by face and skeletal length\n",
      "\n",
      "Number of segments: 61\n",
      "\n"
     ]
    },
    {
     "data": {
      "application/vnd.jupyter.widget-view+json": {
       "model_id": "d75434ab96e24a5a89281a683b7ca7d7",
       "version_major": 2,
       "version_minor": 0
      },
      "text/plain": [
       "  0%|          | 0/61 [00:00<?, ?it/s]"
      ]
     },
     "metadata": {},
     "output_type": "display_data"
    },
    {
     "data": {
      "application/vnd.jupyter.widget-view+json": {
       "model_id": "e0f6c7c103994c40bf31434f82f87218",
       "version_major": 2,
       "version_minor": 0
      },
      "text/plain": [
       "  0%|          | 0/61 [00:00<?, ?it/s]"
      ]
     },
     "metadata": {},
     "output_type": "display_data"
    },
    {
     "name": "stdout",
     "output_type": "stream",
     "text": [
      "Filtering away by face and skeletal length\n",
      "\n",
      "Number of segments: 9\n",
      "\n"
     ]
    },
    {
     "data": {
      "application/vnd.jupyter.widget-view+json": {
       "model_id": "afd02ddbc182413fbb5d89862a62cb41",
       "version_major": 2,
       "version_minor": 0
      },
      "text/plain": [
       "  0%|          | 0/9 [00:00<?, ?it/s]"
      ]
     },
     "metadata": {},
     "output_type": "display_data"
    },
    {
     "data": {
      "application/vnd.jupyter.widget-view+json": {
       "model_id": "da7c1cf3b0954605b14e9c7457d69047",
       "version_major": 2,
       "version_minor": 0
      },
      "text/plain": [
       "  0%|          | 0/9 [00:00<?, ?it/s]"
      ]
     },
     "metadata": {},
     "output_type": "display_data"
    },
    {
     "name": "stdout",
     "output_type": "stream",
     "text": [
      "Filtering away by face and skeletal length\n",
      "\n",
      "Number of segments: 8\n",
      "\n"
     ]
    },
    {
     "data": {
      "application/vnd.jupyter.widget-view+json": {
       "model_id": "4632b859230e4dca9905b33ade98404d",
       "version_major": 2,
       "version_minor": 0
      },
      "text/plain": [
       "  0%|          | 0/8 [00:00<?, ?it/s]"
      ]
     },
     "metadata": {},
     "output_type": "display_data"
    },
    {
     "data": {
      "application/vnd.jupyter.widget-view+json": {
       "model_id": "8d631a54d91c465db0302097863dd646",
       "version_major": 2,
       "version_minor": 0
      },
      "text/plain": [
       "  0%|          | 0/8 [00:00<?, ?it/s]"
      ]
     },
     "metadata": {},
     "output_type": "display_data"
    },
    {
     "name": "stdout",
     "output_type": "stream",
     "text": [
      "Filtering away by face and skeletal length\n",
      "\n",
      "Number of segments: 7\n",
      "\n"
     ]
    },
    {
     "data": {
      "application/vnd.jupyter.widget-view+json": {
       "model_id": "9325bc077ca943779618f9d98359ca79",
       "version_major": 2,
       "version_minor": 0
      },
      "text/plain": [
       "  0%|          | 0/7 [00:00<?, ?it/s]"
      ]
     },
     "metadata": {},
     "output_type": "display_data"
    },
    {
     "data": {
      "application/vnd.jupyter.widget-view+json": {
       "model_id": "17cbdf2958394b70bbd4db3ac6cf4e69",
       "version_major": 2,
       "version_minor": 0
      },
      "text/plain": [
       "  0%|          | 0/7 [00:00<?, ?it/s]"
      ]
     },
     "metadata": {},
     "output_type": "display_data"
    },
    {
     "name": "stdout",
     "output_type": "stream",
     "text": [
      "Filtering away by face and skeletal length\n",
      "\n",
      "Number of segments: 26\n",
      "\n"
     ]
    },
    {
     "data": {
      "application/vnd.jupyter.widget-view+json": {
       "model_id": "26279fefe3714f6c90d6c645dbf30d33",
       "version_major": 2,
       "version_minor": 0
      },
      "text/plain": [
       "  0%|          | 0/26 [00:00<?, ?it/s]"
      ]
     },
     "metadata": {},
     "output_type": "display_data"
    },
    {
     "data": {
      "application/vnd.jupyter.widget-view+json": {
       "model_id": "0569d2057b114187958466abaa73fd01",
       "version_major": 2,
       "version_minor": 0
      },
      "text/plain": [
       "  0%|          | 0/26 [00:00<?, ?it/s]"
      ]
     },
     "metadata": {},
     "output_type": "display_data"
    },
    {
     "name": "stdout",
     "output_type": "stream",
     "text": [
      "Filtering away by face and skeletal length\n",
      "\n",
      "Number of segments: 15\n",
      "\n"
     ]
    },
    {
     "data": {
      "application/vnd.jupyter.widget-view+json": {
       "model_id": "bd0c94cdb7b047c1bfafeea687d4798a",
       "version_major": 2,
       "version_minor": 0
      },
      "text/plain": [
       "  0%|          | 0/15 [00:00<?, ?it/s]"
      ]
     },
     "metadata": {},
     "output_type": "display_data"
    },
    {
     "data": {
      "application/vnd.jupyter.widget-view+json": {
       "model_id": "e88d28e276f9460e9c3a486a44ff8a12",
       "version_major": 2,
       "version_minor": 0
      },
      "text/plain": [
       "  0%|          | 0/15 [00:00<?, ?it/s]"
      ]
     },
     "metadata": {},
     "output_type": "display_data"
    },
    {
     "name": "stdout",
     "output_type": "stream",
     "text": [
      "Filtering away by face and skeletal length\n",
      "\n",
      "Number of segments: 66\n",
      "\n"
     ]
    },
    {
     "data": {
      "application/vnd.jupyter.widget-view+json": {
       "model_id": "8582fee566a342188c2ac423916829ae",
       "version_major": 2,
       "version_minor": 0
      },
      "text/plain": [
       "  0%|          | 0/66 [00:00<?, ?it/s]"
      ]
     },
     "metadata": {},
     "output_type": "display_data"
    },
    {
     "data": {
      "application/vnd.jupyter.widget-view+json": {
       "model_id": "e1598e06b45345b9b6d165c7c64b352c",
       "version_major": 2,
       "version_minor": 0
      },
      "text/plain": [
       "  0%|          | 0/66 [00:00<?, ?it/s]"
      ]
     },
     "metadata": {},
     "output_type": "display_data"
    },
    {
     "name": "stdout",
     "output_type": "stream",
     "text": [
      "Filtering away by face and skeletal length\n",
      "\n",
      "Number of segments: 164\n",
      "\n"
     ]
    },
    {
     "data": {
      "application/vnd.jupyter.widget-view+json": {
       "model_id": "191cd3da75604d1d89b7ea95fcbe068e",
       "version_major": 2,
       "version_minor": 0
      },
      "text/plain": [
       "  0%|          | 0/164 [00:00<?, ?it/s]"
      ]
     },
     "metadata": {},
     "output_type": "display_data"
    },
    {
     "data": {
      "application/vnd.jupyter.widget-view+json": {
       "model_id": "b1b6e7ed6cf94a25b373bcad2bd199b0",
       "version_major": 2,
       "version_minor": 0
      },
      "text/plain": [
       "  0%|          | 0/164 [00:00<?, ?it/s]"
      ]
     },
     "metadata": {},
     "output_type": "display_data"
    },
    {
     "name": "stdout",
     "output_type": "stream",
     "text": [
      "Filtering away by face and skeletal length\n",
      "\n",
      "Number of segments: 2\n",
      "\n"
     ]
    },
    {
     "data": {
      "application/vnd.jupyter.widget-view+json": {
       "model_id": "91bc8108c7f64cdb9fa49c30915bf034",
       "version_major": 2,
       "version_minor": 0
      },
      "text/plain": [
       "  0%|          | 0/2 [00:00<?, ?it/s]"
      ]
     },
     "metadata": {},
     "output_type": "display_data"
    },
    {
     "data": {
      "application/vnd.jupyter.widget-view+json": {
       "model_id": "c8193376771c429fb1c0a14750ddd55f",
       "version_major": 2,
       "version_minor": 0
      },
      "text/plain": [
       "  0%|          | 0/2 [00:00<?, ?it/s]"
      ]
     },
     "metadata": {},
     "output_type": "display_data"
    },
    {
     "name": "stdout",
     "output_type": "stream",
     "text": [
      "Filtering away by face and skeletal length\n",
      "\n",
      "Number of segments: 112\n",
      "\n"
     ]
    },
    {
     "data": {
      "application/vnd.jupyter.widget-view+json": {
       "model_id": "20822e0e39e34f97b0b4885c6ab9fef8",
       "version_major": 2,
       "version_minor": 0
      },
      "text/plain": [
       "  0%|          | 0/112 [00:00<?, ?it/s]"
      ]
     },
     "metadata": {},
     "output_type": "display_data"
    },
    {
     "data": {
      "application/vnd.jupyter.widget-view+json": {
       "model_id": "f258a71ab2fa43248e0294590d39af74",
       "version_major": 2,
       "version_minor": 0
      },
      "text/plain": [
       "  0%|          | 0/112 [00:00<?, ?it/s]"
      ]
     },
     "metadata": {},
     "output_type": "display_data"
    },
    {
     "name": "stdout",
     "output_type": "stream",
     "text": [
      "Filtering away by face and skeletal length\n",
      "\n",
      "Number of segments: 71\n",
      "\n"
     ]
    },
    {
     "data": {
      "application/vnd.jupyter.widget-view+json": {
       "model_id": "924adc1b1ba74dfdbd95679bc18215d3",
       "version_major": 2,
       "version_minor": 0
      },
      "text/plain": [
       "  0%|          | 0/71 [00:00<?, ?it/s]"
      ]
     },
     "metadata": {},
     "output_type": "display_data"
    },
    {
     "data": {
      "application/vnd.jupyter.widget-view+json": {
       "model_id": "1cca853a6a8b4b22bf945d294a7d2349",
       "version_major": 2,
       "version_minor": 0
      },
      "text/plain": [
       "  0%|          | 0/71 [00:00<?, ?it/s]"
      ]
     },
     "metadata": {},
     "output_type": "display_data"
    },
    {
     "name": "stdout",
     "output_type": "stream",
     "text": [
      "Filtering away by face and skeletal length\n",
      "\n",
      "Number of segments: 49\n",
      "\n"
     ]
    },
    {
     "data": {
      "application/vnd.jupyter.widget-view+json": {
       "model_id": "b20051b35ef548728bf4457601420abd",
       "version_major": 2,
       "version_minor": 0
      },
      "text/plain": [
       "  0%|          | 0/49 [00:00<?, ?it/s]"
      ]
     },
     "metadata": {},
     "output_type": "display_data"
    },
    {
     "data": {
      "application/vnd.jupyter.widget-view+json": {
       "model_id": "0628e1b169ea4d55b2242124134eaed8",
       "version_major": 2,
       "version_minor": 0
      },
      "text/plain": [
       "  0%|          | 0/49 [00:00<?, ?it/s]"
      ]
     },
     "metadata": {},
     "output_type": "display_data"
    },
    {
     "name": "stdout",
     "output_type": "stream",
     "text": [
      "Filtering away by face and skeletal length\n",
      "\n",
      "Number of segments: 44\n",
      "\n"
     ]
    },
    {
     "data": {
      "application/vnd.jupyter.widget-view+json": {
       "model_id": "f90c7c4ecbc140a68ec58d5a575c6f66",
       "version_major": 2,
       "version_minor": 0
      },
      "text/plain": [
       "  0%|          | 0/44 [00:00<?, ?it/s]"
      ]
     },
     "metadata": {},
     "output_type": "display_data"
    },
    {
     "data": {
      "application/vnd.jupyter.widget-view+json": {
       "model_id": "6a76ce7c65fc4f5799b9dac3dc522d41",
       "version_major": 2,
       "version_minor": 0
      },
      "text/plain": [
       "  0%|          | 0/44 [00:00<?, ?it/s]"
      ]
     },
     "metadata": {},
     "output_type": "display_data"
    },
    {
     "name": "stdout",
     "output_type": "stream",
     "text": [
      "Filtering away by face and skeletal length\n",
      "\n",
      "Number of segments: 20\n",
      "\n"
     ]
    },
    {
     "data": {
      "application/vnd.jupyter.widget-view+json": {
       "model_id": "96ae714ea0014d87a79e5aa49baf55ff",
       "version_major": 2,
       "version_minor": 0
      },
      "text/plain": [
       "  0%|          | 0/20 [00:00<?, ?it/s]"
      ]
     },
     "metadata": {},
     "output_type": "display_data"
    },
    {
     "data": {
      "application/vnd.jupyter.widget-view+json": {
       "model_id": "412b914a86094cb6b1bb5eabf03148e6",
       "version_major": 2,
       "version_minor": 0
      },
      "text/plain": [
       "  0%|          | 0/20 [00:00<?, ?it/s]"
      ]
     },
     "metadata": {},
     "output_type": "display_data"
    },
    {
     "name": "stdout",
     "output_type": "stream",
     "text": [
      "Filtering away by face and skeletal length\n",
      "\n",
      "Number of segments: 103\n",
      "\n"
     ]
    },
    {
     "data": {
      "application/vnd.jupyter.widget-view+json": {
       "model_id": "7d1dba3470ac419c801858d4e69ae070",
       "version_major": 2,
       "version_minor": 0
      },
      "text/plain": [
       "  0%|          | 0/103 [00:00<?, ?it/s]"
      ]
     },
     "metadata": {},
     "output_type": "display_data"
    },
    {
     "data": {
      "application/vnd.jupyter.widget-view+json": {
       "model_id": "49148f08fc924d8b8ac89baaa50336c8",
       "version_major": 2,
       "version_minor": 0
      },
      "text/plain": [
       "  0%|          | 0/103 [00:00<?, ?it/s]"
      ]
     },
     "metadata": {},
     "output_type": "display_data"
    },
    {
     "name": "stdout",
     "output_type": "stream",
     "text": [
      "Filtering away by face and skeletal length\n",
      "\n",
      "Number of segments: 33\n",
      "\n"
     ]
    },
    {
     "data": {
      "application/vnd.jupyter.widget-view+json": {
       "model_id": "928591fd7bd640b58964520088b92c70",
       "version_major": 2,
       "version_minor": 0
      },
      "text/plain": [
       "  0%|          | 0/33 [00:00<?, ?it/s]"
      ]
     },
     "metadata": {},
     "output_type": "display_data"
    },
    {
     "data": {
      "application/vnd.jupyter.widget-view+json": {
       "model_id": "712335c262d64fe2ae02443572085c05",
       "version_major": 2,
       "version_minor": 0
      },
      "text/plain": [
       "  0%|          | 0/33 [00:00<?, ?it/s]"
      ]
     },
     "metadata": {},
     "output_type": "display_data"
    },
    {
     "name": "stdout",
     "output_type": "stream",
     "text": [
      "Filtering away by face and skeletal length\n",
      "\n",
      "Number of segments: 14\n",
      "\n"
     ]
    },
    {
     "data": {
      "application/vnd.jupyter.widget-view+json": {
       "model_id": "ba6801ceac604e1cb284c82bed871ec1",
       "version_major": 2,
       "version_minor": 0
      },
      "text/plain": [
       "  0%|          | 0/14 [00:00<?, ?it/s]"
      ]
     },
     "metadata": {},
     "output_type": "display_data"
    },
    {
     "data": {
      "application/vnd.jupyter.widget-view+json": {
       "model_id": "30f601cfa3e84cb7844b2ba1c68d4469",
       "version_major": 2,
       "version_minor": 0
      },
      "text/plain": [
       "  0%|          | 0/14 [00:00<?, ?it/s]"
      ]
     },
     "metadata": {},
     "output_type": "display_data"
    },
    {
     "name": "stdout",
     "output_type": "stream",
     "text": [
      "Filtering away by face and skeletal length\n",
      "\n",
      "Number of segments: 7\n",
      "\n"
     ]
    },
    {
     "data": {
      "application/vnd.jupyter.widget-view+json": {
       "model_id": "7e4065f5d0444e7c957611aedac30043",
       "version_major": 2,
       "version_minor": 0
      },
      "text/plain": [
       "  0%|          | 0/7 [00:00<?, ?it/s]"
      ]
     },
     "metadata": {},
     "output_type": "display_data"
    },
    {
     "data": {
      "application/vnd.jupyter.widget-view+json": {
       "model_id": "ca1bb343e0434585911afe7b6d7989ce",
       "version_major": 2,
       "version_minor": 0
      },
      "text/plain": [
       "  0%|          | 0/7 [00:00<?, ?it/s]"
      ]
     },
     "metadata": {},
     "output_type": "display_data"
    },
    {
     "name": "stdout",
     "output_type": "stream",
     "text": [
      "Filtering away by face and skeletal length\n",
      "\n",
      "Number of segments: 9\n",
      "\n"
     ]
    },
    {
     "data": {
      "application/vnd.jupyter.widget-view+json": {
       "model_id": "f23b158953564ff0bce8a7061059d428",
       "version_major": 2,
       "version_minor": 0
      },
      "text/plain": [
       "  0%|          | 0/9 [00:00<?, ?it/s]"
      ]
     },
     "metadata": {},
     "output_type": "display_data"
    },
    {
     "data": {
      "application/vnd.jupyter.widget-view+json": {
       "model_id": "65d94d7a05994d82a6c4f81a8d345266",
       "version_major": 2,
       "version_minor": 0
      },
      "text/plain": [
       "  0%|          | 0/9 [00:00<?, ?it/s]"
      ]
     },
     "metadata": {},
     "output_type": "display_data"
    },
    {
     "name": "stdout",
     "output_type": "stream",
     "text": [
      "Filtering away by face and skeletal length\n",
      "\n",
      "Number of segments: 14\n",
      "\n"
     ]
    },
    {
     "data": {
      "application/vnd.jupyter.widget-view+json": {
       "model_id": "3a071fd5be5e47ecaef9ec533e26ede3",
       "version_major": 2,
       "version_minor": 0
      },
      "text/plain": [
       "  0%|          | 0/14 [00:00<?, ?it/s]"
      ]
     },
     "metadata": {},
     "output_type": "display_data"
    },
    {
     "data": {
      "application/vnd.jupyter.widget-view+json": {
       "model_id": "dd3697c0620c47a885b9c22a3f31292d",
       "version_major": 2,
       "version_minor": 0
      },
      "text/plain": [
       "  0%|          | 0/14 [00:00<?, ?it/s]"
      ]
     },
     "metadata": {},
     "output_type": "display_data"
    },
    {
     "name": "stdout",
     "output_type": "stream",
     "text": [
      "Filtering away by face and skeletal length\n",
      "\n",
      "Number of segments: 15\n",
      "\n"
     ]
    },
    {
     "data": {
      "application/vnd.jupyter.widget-view+json": {
       "model_id": "a240ccbd78294834870d3e804e43bc57",
       "version_major": 2,
       "version_minor": 0
      },
      "text/plain": [
       "  0%|          | 0/15 [00:00<?, ?it/s]"
      ]
     },
     "metadata": {},
     "output_type": "display_data"
    },
    {
     "data": {
      "application/vnd.jupyter.widget-view+json": {
       "model_id": "83622eb24ac444288aaae0e455a71a2c",
       "version_major": 2,
       "version_minor": 0
      },
      "text/plain": [
       "  0%|          | 0/15 [00:00<?, ?it/s]"
      ]
     },
     "metadata": {},
     "output_type": "display_data"
    },
    {
     "name": "stdout",
     "output_type": "stream",
     "text": [
      "Filtering away by face and skeletal length\n",
      "\n",
      "Number of segments: 34\n",
      "\n"
     ]
    },
    {
     "data": {
      "application/vnd.jupyter.widget-view+json": {
       "model_id": "1c9ce113fd404ec2b96c297cceb43a80",
       "version_major": 2,
       "version_minor": 0
      },
      "text/plain": [
       "  0%|          | 0/34 [00:00<?, ?it/s]"
      ]
     },
     "metadata": {},
     "output_type": "display_data"
    },
    {
     "data": {
      "application/vnd.jupyter.widget-view+json": {
       "model_id": "57b66bae643244a8b0c9b30e02ecaf08",
       "version_major": 2,
       "version_minor": 0
      },
      "text/plain": [
       "  0%|          | 0/34 [00:00<?, ?it/s]"
      ]
     },
     "metadata": {},
     "output_type": "display_data"
    },
    {
     "name": "stdout",
     "output_type": "stream",
     "text": [
      "Filtering away by face and skeletal length\n",
      "\n",
      "Number of segments: 171\n",
      "\n"
     ]
    },
    {
     "data": {
      "application/vnd.jupyter.widget-view+json": {
       "model_id": "60a0b43875914b13888a314d13934456",
       "version_major": 2,
       "version_minor": 0
      },
      "text/plain": [
       "  0%|          | 0/171 [00:00<?, ?it/s]"
      ]
     },
     "metadata": {},
     "output_type": "display_data"
    },
    {
     "data": {
      "application/vnd.jupyter.widget-view+json": {
       "model_id": "e6ee3fe8ee9147a4b6e0b53e7e0d666e",
       "version_major": 2,
       "version_minor": 0
      },
      "text/plain": [
       "  0%|          | 0/171 [00:00<?, ?it/s]"
      ]
     },
     "metadata": {},
     "output_type": "display_data"
    },
    {
     "name": "stdout",
     "output_type": "stream",
     "text": [
      "Filtering away by face and skeletal length\n",
      "\n",
      "Number of segments: 9\n",
      "\n"
     ]
    },
    {
     "data": {
      "application/vnd.jupyter.widget-view+json": {
       "model_id": "db46349e3f5f4baebcc2af523503016b",
       "version_major": 2,
       "version_minor": 0
      },
      "text/plain": [
       "  0%|          | 0/9 [00:00<?, ?it/s]"
      ]
     },
     "metadata": {},
     "output_type": "display_data"
    },
    {
     "data": {
      "application/vnd.jupyter.widget-view+json": {
       "model_id": "a6b92dd8a5b44c5ab95b16a4cbd52b36",
       "version_major": 2,
       "version_minor": 0
      },
      "text/plain": [
       "  0%|          | 0/9 [00:00<?, ?it/s]"
      ]
     },
     "metadata": {},
     "output_type": "display_data"
    },
    {
     "name": "stdout",
     "output_type": "stream",
     "text": [
      "Filtering away by face and skeletal length\n",
      "\n",
      "Number of segments: 112\n",
      "\n"
     ]
    },
    {
     "data": {
      "application/vnd.jupyter.widget-view+json": {
       "model_id": "1701dcfaee994adfab152fd33923eb65",
       "version_major": 2,
       "version_minor": 0
      },
      "text/plain": [
       "  0%|          | 0/112 [00:00<?, ?it/s]"
      ]
     },
     "metadata": {},
     "output_type": "display_data"
    },
    {
     "data": {
      "application/vnd.jupyter.widget-view+json": {
       "model_id": "be5e4cb4cc3d4d62b6835d2cbd5eca42",
       "version_major": 2,
       "version_minor": 0
      },
      "text/plain": [
       "  0%|          | 0/112 [00:00<?, ?it/s]"
      ]
     },
     "metadata": {},
     "output_type": "display_data"
    },
    {
     "name": "stdout",
     "output_type": "stream",
     "text": [
      "Filtering away by face and skeletal length\n",
      "\n",
      "Number of segments: 142\n",
      "\n"
     ]
    },
    {
     "data": {
      "application/vnd.jupyter.widget-view+json": {
       "model_id": "ecd1c951689a459fa5d728ced5a0da80",
       "version_major": 2,
       "version_minor": 0
      },
      "text/plain": [
       "  0%|          | 0/142 [00:00<?, ?it/s]"
      ]
     },
     "metadata": {},
     "output_type": "display_data"
    },
    {
     "data": {
      "application/vnd.jupyter.widget-view+json": {
       "model_id": "d06674a41f3e43e39c702f35f6c7cae7",
       "version_major": 2,
       "version_minor": 0
      },
      "text/plain": [
       "  0%|          | 0/142 [00:00<?, ?it/s]"
      ]
     },
     "metadata": {},
     "output_type": "display_data"
    },
    {
     "name": "stdout",
     "output_type": "stream",
     "text": [
      "Filtering away by face and skeletal length\n",
      "width_name BEFORE processing = no_spine_median_mesh_center\n",
      "After processing\n",
      "width_name = no_spine_median_mesh_center, distance_by_mesh_center= True, no_spines = True, summary_measure= median\n",
      "Working on limb L0 branch 122\n",
      "    No spines and using precomputed width: 268.3987974668497\n",
      "Working on limb L0 branch 105\n",
      "    No spines and using precomputed width: 254.40528708461596\n",
      "Working on limb L0 branch 123\n",
      "    No spines and using precomputed width: 175.92980853069895\n",
      "Working on limb L0 branch 92\n",
      "    No spines and using precomputed width: 162.59099336271294\n",
      "Working on limb L0 branch 106\n",
      "    No spines and using precomputed width: 177.75531525200904\n",
      "Working on limb L0 branch 91\n",
      "    No spines and using precomputed width: 260.8307902249482\n",
      "Working on limb L0 branch 93\n",
      "    No spines and using precomputed width: 143.67443926531143\n",
      "Working on limb L0 branch 78\n",
      "    No spines and using precomputed width: 173.39493447310736\n",
      "Working on limb L0 branch 82\n",
      "    current_width= 191.536309986838\n",
      "Working on limb L0 branch 58\n",
      "    current_width= 195.23879221601743\n",
      "Working on limb L0 branch 95\n",
      "    No spines and using precomputed width: 197.9014189175236\n",
      "Working on limb L0 branch 61\n",
      "    No spines and using precomputed width: 201.8535185669481\n",
      "Working on limb L0 branch 76\n",
      "    No spines and using precomputed width: 161.2485814643801\n",
      "Working on limb L0 branch 81\n",
      "    No spines and using precomputed width: 247.94010059066625\n",
      "Working on limb L0 branch 84\n",
      "    No spines and using precomputed width: 214.80617430666527\n",
      "Working on limb L0 branch 50\n",
      "    current_width= 343.7877652239196\n",
      "Working on limb L0 branch 54\n",
      "    No spines and using precomputed width: 575.9396036747171\n",
      "Working on limb L0 branch 96\n",
      "    current_width= 184.96020821788963\n",
      "Working on limb L0 branch 97\n",
      "    current_width= 165.7160481225301\n",
      "Working on limb L0 branch 36\n",
      "    No spines and using precomputed width: 165.6281071763612\n",
      "Working on limb L0 branch 53\n",
      "    No spines and using precomputed width: 195.90669272417173\n",
      "Working on limb L0 branch 66\n",
      "    No spines and using precomputed width: 197.82631901770108\n",
      "Working on limb L0 branch 77\n",
      "    No spines and using precomputed width: 178.1935330988376\n",
      "Working on limb L0 branch 79\n",
      "    No spines and using precomputed width: 200.09188620803576\n",
      "Working on limb L0 branch 83\n",
      "    No spines and using precomputed width: 217.2646987137386\n",
      "Working on limb L0 branch 88\n",
      "    current_width= 175.94935108431798\n",
      "Working on limb L0 branch 94\n",
      "    No spines and using precomputed width: 193.92429045584697\n",
      "Working on limb L0 branch 46\n",
      "    No spines and using precomputed width: 208.8478103682176\n",
      "Working on limb L0 branch 51\n",
      "    No spines and using precomputed width: 214.1544361926379\n",
      "Working on limb L0 branch 43\n",
      "    No spines and using precomputed width: 103.79250529323492\n",
      "Working on limb L0 branch 55\n",
      "    No spines and using precomputed width: 108.6401963620635\n",
      "Working on limb L0 branch 118\n",
      "    No spines and using precomputed width: 197.1170326992597\n",
      "Working on limb L0 branch 119\n",
      "    No spines and using precomputed width: 173.68045942465275\n",
      "Working on limb L0 branch 26\n",
      "    current_width= 195.8124653032828\n",
      "Working on limb L0 branch 33\n",
      "    No spines and using precomputed width: 185.07935076198385\n",
      "Working on limb L0 branch 20\n",
      "    current_width= 199.07078136833468\n",
      "Working on limb L0 branch 68\n",
      "    current_width= 179.41951636711747\n",
      "Working on limb L0 branch 89\n",
      "    No spines and using precomputed width: 76.9396480875898\n",
      "Working on limb L0 branch 90\n",
      "    No spines and using precomputed width: 214.66564292238215\n",
      "Working on limb L0 branch 70\n",
      "    current_width= 151.33171692779993\n",
      "Working on limb L0 branch 72\n",
      "    No spines and using precomputed width: 201.54208762236715\n",
      "Working on limb L0 branch 71\n",
      "    No spines and using precomputed width: 160.1147411238183\n",
      "Working on limb L0 branch 85\n",
      "    No spines and using precomputed width: 231.93979723904192\n",
      "Working on limb L0 branch 80\n",
      "    current_width= 128.68311312959662\n",
      "Working on limb L0 branch 87\n",
      "    No spines and using precomputed width: 90.32524566279945\n",
      "Working on limb L0 branch 30\n",
      "    No spines and using precomputed width: 100.49474582142668\n",
      "Working on limb L0 branch 47\n",
      "    No spines and using precomputed width: 79.6861887805633\n",
      "Working on limb L0 branch 49\n",
      "    No spines and using precomputed width: 107.40690487446805\n",
      "Working on limb L0 branch 52\n",
      "    No spines and using precomputed width: 85.38389094503187\n",
      "Working on limb L0 branch 42\n",
      "    current_width= 132.93414197574742\n",
      "Working on limb L0 branch 44\n",
      "    No spines and using precomputed width: 131.43425690252306\n",
      "Working on limb L0 branch 41\n",
      "    No spines and using precomputed width: 103.61736934695169\n",
      "Working on limb L0 branch 57\n",
      "    No spines and using precomputed width: 71.85245816363633\n",
      "Working on limb L0 branch 110\n",
      "    No spines and using precomputed width: 85.8029290973634\n",
      "Working on limb L0 branch 120\n",
      "    No spines and using precomputed width: 80.65082369676999\n",
      "Working on limb L0 branch 24\n",
      "    No spines and using precomputed width: 85.72131092534259\n",
      "Working on limb L0 branch 25\n",
      "    No spines and using precomputed width: 207.940961714971\n",
      "Working on limb L0 branch 1\n",
      "    current_width= 206.6684971605405\n",
      "Working on limb L0 branch 32\n",
      "    No spines and using precomputed width: 204.32895652639823\n",
      "Working on limb L0 branch 73\n",
      "    No spines and using precomputed width: 231.73389315710364\n",
      "Working on limb L0 branch 74\n",
      "    No spines and using precomputed width: 188.4776432105835\n",
      "Working on limb L0 branch 102\n",
      "    No spines and using precomputed width: 247.90467823540678\n",
      "Working on limb L0 branch 103\n",
      "    No spines and using precomputed width: 185.47810296022183\n",
      "Working on limb L0 branch 67\n",
      "    current_width= 136.49762701127867\n",
      "Working on limb L0 branch 69\n",
      "    No spines and using precomputed width: 108.99296687314154\n",
      "Working on limb L0 branch 21\n",
      "    current_width= 168.42468781959997\n",
      "Working on limb L0 branch 65\n",
      "    No spines and using precomputed width: 133.55897513771933\n",
      "Working on limb L0 branch 64\n",
      "    No spines and using precomputed width: 162.74288308621692\n",
      "Working on limb L0 branch 86\n",
      "    current_width= 161.5146939955531\n",
      "Working on limb L0 branch 29\n",
      "    No spines and using precomputed width: 96.56590662568273\n",
      "Working on limb L0 branch 31\n",
      "    No spines and using precomputed width: 99.75673926293678\n",
      "Working on limb L0 branch 37\n",
      "    No spines and using precomputed width: 70.04001227768401\n",
      "Working on limb L0 branch 59\n",
      "    No spines and using precomputed width: 64.45964498530067\n",
      "Working on limb L0 branch 27\n",
      "    No spines and using precomputed width: 159.9727624041177\n",
      "Working on limb L0 branch 28\n",
      "    No spines and using precomputed width: 89.85200252485915\n",
      "Working on limb L0 branch 39\n",
      "    No spines and using precomputed width: 119.81117791929438\n",
      "Working on limb L0 branch 40\n",
      "    current_width= 174.34685615552092\n",
      "Working on limb L0 branch 63\n",
      "    No spines and using precomputed width: 161.28612609903655\n",
      "Working on limb L0 branch 75\n",
      "    current_width= 173.9711281629101\n",
      "Working on limb L0 branch 100\n",
      "    No spines and using precomputed width: 184.79948710093103\n",
      "Working on limb L0 branch 104\n",
      "    current_width= 164.92740753027098\n",
      "Working on limb L0 branch 111\n",
      "    No spines and using precomputed width: 100.8274251032075\n",
      "Working on limb L0 branch 115\n",
      "    No spines and using precomputed width: 104.13639206365286\n",
      "Working on limb L0 branch 45\n",
      "    No spines and using precomputed width: 122.99875188727947\n",
      "Working on limb L0 branch 48\n",
      "    No spines and using precomputed width: 88.27545353735994\n",
      "Working on limb L0 branch 134\n",
      "    No spines and using precomputed width: 174.2265383924398\n",
      "Working on limb L0 branch 18\n",
      "    No spines and using precomputed width: 107.42407306696485\n",
      "Working on limb L0 branch 22\n",
      "    No spines and using precomputed width: 321.49207333650895\n",
      "Working on limb L0 branch 56\n",
      "    No spines and using precomputed width: 99.71109301223365\n",
      "Working on limb L0 branch 60\n",
      "    No spines and using precomputed width: 122.2079029263728\n",
      "Working on limb L0 branch 62\n",
      "    No spines and using precomputed width: 78.42310489454616\n",
      "Working on limb L0 branch 116\n",
      "    No spines and using precomputed width: 76.88233182491265\n",
      "Working on limb L0 branch 125\n",
      "    No spines and using precomputed width: 266.30852463033\n",
      "Working on limb L0 branch 109\n",
      "    current_width= 177.7286317599182\n",
      "Working on limb L0 branch 121\n",
      "    current_width= 177.11512455029217\n",
      "Working on limb L0 branch 98\n",
      "    No spines and using precomputed width: 113.04884069060992\n",
      "Working on limb L0 branch 108\n",
      "    No spines and using precomputed width: 83.12380816646467\n",
      "Working on limb L0 branch 112\n",
      "    No spines and using precomputed width: 85.71487557132254\n",
      "Working on limb L0 branch 114\n",
      "    No spines and using precomputed width: 99.46949527625182\n",
      "Working on limb L0 branch 127\n",
      "    No spines and using precomputed width: 90.68990103293501\n",
      "Working on limb L0 branch 35\n",
      "    No spines and using precomputed width: 73.84748718680041\n",
      "Working on limb L0 branch 38\n",
      "    No spines and using precomputed width: 110.77041866496614\n",
      "Working on limb L0 branch 14\n",
      "    current_width= 232.20032438829074\n",
      "Working on limb L0 branch 23\n",
      "    No spines and using precomputed width: 105.47517414833388\n",
      "Working on limb L0 branch 124\n",
      "    No spines and using precomputed width: 96.2188902975276\n",
      "Working on limb L0 branch 126\n",
      "    No spines and using precomputed width: 104.01365901587891\n",
      "Working on limb L0 branch 117\n",
      "    No spines and using precomputed width: 189.57870357979562\n",
      "Working on limb L0 branch 128\n",
      "    No spines and using precomputed width: 65.78463417045407\n",
      "Working on limb L0 branch 99\n",
      "    No spines and using precomputed width: 85.65495695380339\n",
      "Working on limb L0 branch 101\n",
      "    No spines and using precomputed width: 126.4902947206255\n",
      "Working on limb L0 branch 113\n",
      "    No spines and using precomputed width: 138.95812746750155\n",
      "Working on limb L0 branch 132\n",
      "    No spines and using precomputed width: 125.81755140029102\n",
      "Working on limb L0 branch 133\n",
      "    No spines and using precomputed width: 77.856883669946\n",
      "Working on limb L0 branch 7\n",
      "    No spines and using precomputed width: 89.0452309911486\n",
      "Working on limb L0 branch 17\n",
      "    No spines and using precomputed width: 87.16417770593827\n",
      "Working on limb L0 branch 10\n",
      "    No spines and using precomputed width: 123.8792688825388\n",
      "Working on limb L0 branch 12\n",
      "    No spines and using precomputed width: 304.12623418798296\n",
      "Working on limb L0 branch 129\n",
      "    No spines and using precomputed width: 131.01417513561933\n",
      "Working on limb L0 branch 131\n",
      "    No spines and using precomputed width: 95.61098191861385\n",
      "Working on limb L0 branch 15\n",
      "    No spines and using precomputed width: 89.72349129057191\n",
      "Working on limb L0 branch 19\n",
      "    No spines and using precomputed width: 101.80200302807258\n",
      "Working on limb L0 branch 9\n",
      "    No spines and using precomputed width: 190.2161098348183\n",
      "Working on limb L0 branch 11\n",
      "    No spines and using precomputed width: 235.7083545869468\n",
      "Working on limb L0 branch 107\n",
      "    No spines and using precomputed width: 73.31382885784765\n",
      "Working on limb L0 branch 130\n",
      "    No spines and using precomputed width: 84.20132835913259\n",
      "Working on limb L0 branch 4\n",
      "    No spines and using precomputed width: 95.78981076127147\n",
      "Working on limb L0 branch 8\n",
      "    No spines and using precomputed width: 90.98399896518117\n",
      "Working on limb L0 branch 6\n",
      "    current_width= 127.27743590446113\n",
      "Working on limb L0 branch 13\n",
      "    No spines and using precomputed width: 145.1064596603198\n",
      "Working on limb L0 branch 16\n",
      "    No spines and using precomputed width: 112.99641315139647\n",
      "Working on limb L0 branch 34\n",
      "    No spines and using precomputed width: 85.42365109431938\n",
      "Working on limb L0 branch 0\n",
      "    No spines and using precomputed width: 98.37707336854892\n",
      "Working on limb L0 branch 5\n",
      "    No spines and using precomputed width: 174.70987211990987\n",
      "Working on limb L0 branch 2\n",
      "    No spines and using precomputed width: 132.411926758039\n",
      "Working on limb L0 branch 3\n",
      "    No spines and using precomputed width: 137.7328228535771\n",
      "Working on limb L1 branch 4\n",
      "    No spines and using precomputed width: 652.167088965849\n",
      "Working on limb L1 branch 3\n",
      "    current_width= 338.898401865069\n",
      "Working on limb L1 branch 5\n",
      "    No spines and using precomputed width: 565.4601323305294\n",
      "Working on limb L1 branch 0\n",
      "    current_width= 283.7874138405683\n",
      "Working on limb L1 branch 2\n",
      "    No spines and using precomputed width: 234.22485178043615\n",
      "Working on limb L1 branch 1\n",
      "    current_width= 250.0465958976717\n",
      "Working on limb L1 branch 6\n",
      "    No spines and using precomputed width: 498.1643307657547\n",
      "Working on limb L1 branch 7\n",
      "    current_width= 385.1390503815415\n",
      "Working on limb L1 branch 8\n",
      "    current_width= 322.3937134949417\n",
      "Working on limb L1 branch 10\n",
      "    current_width= 296.2744583738652\n",
      "Working on limb L1 branch 11\n",
      "    current_width= 287.6241210055817\n",
      "Working on limb L1 branch 12\n",
      "    current_width= 264.6573628742325\n",
      "Working on limb L1 branch 14\n",
      "    current_width= 277.81358194555844\n",
      "Working on limb L1 branch 9\n",
      "    current_width= 240.72577015905745\n",
      "Working on limb L1 branch 13\n",
      "    No spines and using precomputed width: 62.96878135257\n",
      "Working on limb L2 branch 5\n",
      "    No spines and using precomputed width: 724.3914041832104\n",
      "Working on limb L2 branch 4\n",
      "    current_width= 265.8059505349524\n",
      "Working on limb L2 branch 6\n",
      "    No spines and using precomputed width: 512.3207415837202\n",
      "Working on limb L2 branch 15\n",
      "    current_width= 276.02197734425596\n",
      "Working on limb L2 branch 16\n",
      "    No spines and using precomputed width: 115.11968105401812\n",
      "Working on limb L2 branch 8\n",
      "    current_width= 291.670050064675\n",
      "Working on limb L2 branch 10\n",
      "    No spines and using precomputed width: 407.5001950358637\n",
      "Working on limb L2 branch 9\n",
      "    current_width= 269.1908595391738\n",
      "Working on limb L2 branch 11\n",
      "    No spines and using precomputed width: 213.00888256589644\n",
      "Working on limb L2 branch 2\n",
      "    current_width= 258.0273217403455\n",
      "Working on limb L2 branch 7\n",
      "    current_width= 241.63509411042833\n",
      "Working on limb L2 branch 0\n",
      "    current_width= 291.6613154465093\n",
      "Working on limb L2 branch 12\n",
      "    current_width= 349.340233628607\n",
      "Working on limb L2 branch 1\n",
      "    current_width= 241.29241236788147\n",
      "Working on limb L2 branch 3\n",
      "    current_width= 263.466257032488\n",
      "Working on limb L2 branch 13\n",
      "    current_width= 241.76406967896642\n",
      "Working on limb L2 branch 14\n",
      "    current_width= 258.2847017896445\n",
      "Working on limb L3 branch 4\n",
      "    current_width= 586.7319252785195\n",
      "Working on limb L3 branch 6\n",
      "    No spines and using precomputed width: 427.42418324254777\n",
      "Working on limb L3 branch 8\n",
      "    No spines and using precomputed width: 483.0601703959044\n",
      "Working on limb L3 branch 5\n",
      "    current_width= 298.45233299603245\n",
      "Working on limb L3 branch 7\n",
      "    current_width= 320.77414679108347\n",
      "Working on limb L3 branch 10\n",
      "    No spines and using precomputed width: 307.7048788198099\n",
      "Working on limb L3 branch 11\n",
      "    current_width= 268.7034761159763\n",
      "Working on limb L3 branch 0\n",
      "    current_width= 234.42508805686825\n",
      "Working on limb L3 branch 9\n",
      "    current_width= 223.38816517934487\n",
      "Working on limb L3 branch 12\n",
      "    current_width= 288.356558295476\n",
      "Working on limb L3 branch 13\n",
      "    No spines and using precomputed width: 131.2446444586182\n",
      "Working on limb L3 branch 14\n",
      "    No spines and using precomputed width: 76.8762727430631\n",
      "Working on limb L3 branch 15\n",
      "    No spines and using precomputed width: 80.77121993821478\n",
      "Working on limb L3 branch 2\n",
      "    No spines and using precomputed width: 90.36260952611906\n",
      "Working on limb L3 branch 16\n",
      "    No spines and using precomputed width: 89.08891728836784\n",
      "Working on limb L3 branch 1\n",
      "    No spines and using precomputed width: 77.99346395524282\n",
      "Working on limb L3 branch 3\n",
      "    No spines and using precomputed width: 99.36308385127512\n",
      "Working on limb L3 branch 17\n",
      "    No spines and using precomputed width: 99.00485067827417\n",
      "Working on limb L3 branch 18\n",
      "    No spines and using precomputed width: 95.88062175763064\n",
      "Working on limb L3 branch 19\n",
      "    No spines and using precomputed width: 89.23757647148766\n",
      "Working on limb L3 branch 20\n",
      "    No spines and using precomputed width: 68.75982399109043\n",
      "Working on limb L3 branch 21\n",
      "    No spines and using precomputed width: 98.69543485076056\n",
      "Working on limb L4 branch 10\n",
      "    No spines and using precomputed width: 472.575624395432\n",
      "Working on limb L4 branch 8\n",
      "    No spines and using precomputed width: 214.4370972298858\n",
      "Working on limb L4 branch 9\n",
      "    No spines and using precomputed width: 343.3911335287421\n",
      "Working on limb L4 branch 0\n",
      "    current_width= 280.8673357564887\n",
      "Working on limb L4 branch 7\n",
      "    No spines and using precomputed width: 175.86060412561818\n",
      "Working on limb L4 branch 2\n",
      "    current_width= 263.16899449126436\n",
      "Working on limb L4 branch 4\n",
      "    current_width= 313.54545548609747\n",
      "Working on limb L4 branch 3\n",
      "    current_width= 226.18198580360735\n",
      "Working on limb L4 branch 6\n",
      "    No spines and using precomputed width: 192.22606103868372\n",
      "Working on limb L4 branch 1\n",
      "    current_width= 242.99401936608882\n",
      "Working on limb L4 branch 5\n",
      "    current_width= 277.2975855897962\n",
      "Working on limb L5 branch 0\n",
      "    No spines and using precomputed width: 357.4625861853755\n",
      "Working on limb L5 branch 1\n",
      "    No spines and using precomputed width: 140.3538223070222\n",
      "Working on limb L5 branch 3\n",
      "    No spines and using precomputed width: 399.80139254579234\n",
      "Working on limb L5 branch 2\n",
      "    current_width= 281.2288499004053\n",
      "Working on limb L5 branch 4\n",
      "    current_width= 262.5738493408937\n",
      "Working on limb L6 branch 0\n",
      "    current_width= 308.902938020245\n",
      "Total time for neuron instance creation = 1028.2970576286316\n"
     ]
    },
    {
     "data": {
      "text/plain": [
       "<neurd.neuron.Neuron at 0x7f57e96779a0>"
      ]
     },
     "execution_count": 23,
     "metadata": {},
     "output_type": "execute_result"
    }
   ],
   "source": [
    "from neurd import neuron\n",
    "\n",
    "neuron_obj = neuron.Neuron(\n",
    "    mesh = mesh,\n",
    "    segment_id = segment_id, # don't need this explicitely if segment_id is already in products\n",
    "    pipeline_products = products,\n",
    "    suppress_preprocessing_print=False,\n",
    "    suppress_output=False,\n",
    ")\n",
    "\n",
    "neuron_obj"
   ]
  },
  {
   "cell_type": "code",
   "execution_count": 24,
   "id": "5467bcfe",
   "metadata": {},
   "outputs": [
    {
     "name": "stdout",
     "output_type": "stream",
     "text": [
      "\n",
      " Working on visualization type: mesh\n",
      "\n",
      " Working on visualization type: skeleton\n"
     ]
    },
    {
     "data": {
      "application/vnd.jupyter.widget-view+json": {
       "model_id": "bcaeebae48c94c9e82bc7c591952cf01",
       "version_major": 2,
       "version_minor": 0
      },
      "text/plain": [
       "Container(figure=Figure(box_center=[0.5, 0.5, 0.5], box_size=[1.0, 1.0, 1.0], camera=PerspectiveCamera(fov=45.…"
      ]
     },
     "metadata": {},
     "output_type": "display_data"
    }
   ],
   "source": [
    "nviz.visualize_neuron(\n",
    "    neuron_obj,\n",
    "    limb_branch_dict=\"all\"\n",
    ")"
   ]
  },
  {
   "cell_type": "markdown",
   "id": "0d43b744",
   "metadata": {},
   "source": [
    "# Calculate statistics"
   ]
  },
  {
   "cell_type": "code",
   "execution_count": 25,
   "id": "cac08fd6",
   "metadata": {},
   "outputs": [
    {
     "data": {
      "text/plain": [
       "<datasci_tools.pipeline.StageProducts at 0x7f57d744bdc0>"
      ]
     },
     "execution_count": 25,
     "metadata": {},
     "output_type": "execute_result"
    }
   ],
   "source": [
    "decomp_products = neuron_obj.calculate_decomposition_products(\n",
    "    store_in_obj = True,\n",
    ")\n",
    "\n",
    "decomp_products"
   ]
  },
  {
   "cell_type": "code",
   "execution_count": 26,
   "id": "fa148fc5",
   "metadata": {
    "scrolled": true
   },
   "outputs": [
    {
     "name": "stdout",
     "output_type": "stream",
     "text": [
      "{\n",
      "  'decimation':\n",
      "  {\n",
      "    'decimation_parameters':\n",
      "    {\n",
      "      'decimation_ratio':0.25,\n",
      "    },\n",
      "    'segment_id':864691135567721964,\n",
      "  },\n",
      "  'soma_identification':\n",
      "  {\n",
      "    'glia_meshes':[],\n",
      "    'nuclei_meshes':[<trimesh.Trimesh(vertices.shape=(526, 3), faces.shape=(1166, 3))>],\n",
      "    'soma_extraction_parameters':\n",
      "    {\n",
      "    },\n",
      "    'soma_meshes':[<trimesh.Trimesh(vertices.shape=(19286, 3), faces.shape=(38352, 3))>],\n",
      "    'soma_run_time':148.59164786338806,\n",
      "    'soma_sdfs':array([0.846587]),\n",
      "  },\n",
      "  'decomposition':\n",
      "  {\n",
      "    'bbox_volume':42.62630729073248,\n",
      "    'bbox_x_max':793099.5764108214,\n",
      "    'bbox_x_max_soma_relative':185808.72253754397,\n",
      "    'bbox_x_min':451448.9156876523,\n",
      "    'bbox_x_min_soma_relative':-155841.93818562513,\n",
      "    'bbox_y_max':954550.6043850379,\n",
      "    'bbox_y_max_soma_relative':183516.03336461133,\n",
      "    'bbox_y_min':577251.9114422437,\n",
      "    'bbox_y_min_soma_relative':-193782.65957818285,\n",
      "    'bbox_z_max':1079285.864478381,\n",
      "    'bbox_z_max_soma_relative':169290.54468681884,\n",
      "    'bbox_z_min':748604.1765439371,\n",
      "    'bbox_z_min_soma_relative':-161391.14324762498,\n",
      "    'branch_length_mean':35.74914517202439,\n",
      "    'branch_length_median':22.82823351093987,\n",
      "    'centroid_volume':1162.5984538196353,\n",
      "    'centroid_x':151822,\n",
      "    'centroid_x_nm':607290.8538732774,\n",
      "    'centroid_y':192758,\n",
      "    'centroid_y_nm':771034.5710204266,\n",
      "    'centroid_z':22749,\n",
      "    'centroid_z_nm':909995.319791562,\n",
      "    'max_limb_n_branches':135,\n",
      "    'max_limb_skeletal_length':3688841.53187808,\n",
      "    'max_soma_area':513.2677046471267,\n",
      "    'median_branch_length':22028.703,\n",
      "    'n_branches':206,\n",
      "    'n_error_limbs':0,\n",
      "    'n_faces':899885,\n",
      "    'n_limbs':7,\n",
      "    'n_long_branches':18,\n",
      "    'n_medium_branches':160,\n",
      "    'n_multi_soma_touching_limbs':0,\n",
      "    'n_not_processed_soma_containing_meshes':0,\n",
      "    'n_same_soma_multi_touching_limbs':0,\n",
      "    'n_short_branches':26,\n",
      "    'n_somas':1,\n",
      "    'n_spine_eligible_branches':140,\n",
      "    'n_spines':324,\n",
      "    'n_vertices':451453,\n",
      "    'skeletal_length':7230078.151637848,\n",
      "    'skeletal_length_eligible':5411429.748,\n",
      "    'skeleton':array([[[451448.91568765, 751660.91294892, 922727.22750706],\n",
      "        [451501.16093595, 751608.45725677, 922794.44699975]],\n",
      "\n",
      "       [[451501.16093595, 751608.45725677, 922794.44699975],\n",
      "        [451554.50279459, 751557.08835678, 922861.64425143]],\n",
      "\n",
      "       [[451554.50279459, 751557.08835678, 922861.64425143],\n",
      "        [451609.14535208, 751506.37009155, 922928.29144555]],\n",
      "\n",
      "       ...,\n",
      "\n",
      "       [[607290.85387328, 771034.57102043, 909995.31979156],\n",
      "        [600191.        , 766341.        , 909643.        ]],\n",
      "\n",
      "       [[607290.85387328, 771034.57102043, 909995.31979156],\n",
      "        [610937.        , 763008.        , 909075.        ]],\n",
      "\n",
      "       [[607290.85387328, 771034.57102043, 909995.31979156],\n",
      "        [601939.        , 777371.        , 910126.        ]]]),\n",
      "    'spine_density':4.4812793610896675e-05,\n",
      "    'spine_density_eligible':5.9873271037057545e-05,\n",
      "    'spine_volume_density':4116.354581535341,\n",
      "    'spine_volume_density_eligible':5499.760083802719,\n",
      "    'spine_volume_median':62738077.2516613,\n",
      "    'spine_volume_per_branch_eligible':212582609.45966431,\n",
      "    'spines_per_branch':1.5728155339805825,\n",
      "    'spines_per_branch_eligible':2.314,\n",
      "    'total_spine_volume':29761565324.353004,\n",
      "    'width_90_perc':322.253,\n",
      "    'width_median':175.895,\n",
      "    'width_no_spine_90_perc':317.16,\n",
      "    'width_no_spine_median':175.895,\n",
      "  },\n",
      "}\n",
      "\n"
     ]
    }
   ],
   "source": [
    "print(neuron_obj.pipeline_products)"
   ]
  },
  {
   "cell_type": "markdown",
   "id": "d090f774",
   "metadata": {},
   "source": [
    "# Saving off neuron"
   ]
  },
  {
   "cell_type": "code",
   "execution_count": 27,
   "id": "9486c4e6",
   "metadata": {
    "scrolled": true
   },
   "outputs": [
    {
     "name": "stdout",
     "output_type": "stream",
     "text": [
      "Total time for soma meshes compression = 0.15998196601867676\n",
      "Total time for insignificant_limbs,inside_pieces,non_soma_touching_meshes,not_processed_soma_containing_meshes compression = 0.8828623294830322\n",
      "Total time for limb_meshes compression = 1.4841840267181396\n",
      "    Starting Limb Correspondence Compression\n"
     ]
    },
    {
     "data": {
      "application/vnd.jupyter.widget-view+json": {
       "model_id": "e57423824aff46a2910121fc02b927c6",
       "version_major": 2,
       "version_minor": 0
      },
      "text/plain": [
       "  0%|          | 0/135 [00:00<?, ?it/s]"
      ]
     },
     "metadata": {},
     "output_type": "display_data"
    },
    {
     "data": {
      "application/vnd.jupyter.widget-view+json": {
       "model_id": "72e71170fcb84edfbd56215c863c01e9",
       "version_major": 2,
       "version_minor": 0
      },
      "text/plain": [
       "  0%|          | 0/15 [00:00<?, ?it/s]"
      ]
     },
     "metadata": {},
     "output_type": "display_data"
    },
    {
     "data": {
      "application/vnd.jupyter.widget-view+json": {
       "model_id": "e87aa992c5e84f3ea267f9b8bbe44481",
       "version_major": 2,
       "version_minor": 0
      },
      "text/plain": [
       "  0%|          | 0/17 [00:00<?, ?it/s]"
      ]
     },
     "metadata": {},
     "output_type": "display_data"
    },
    {
     "data": {
      "application/vnd.jupyter.widget-view+json": {
       "model_id": "898bbc24165140509101186cdd806f44",
       "version_major": 2,
       "version_minor": 0
      },
      "text/plain": [
       "  0%|          | 0/22 [00:00<?, ?it/s]"
      ]
     },
     "metadata": {},
     "output_type": "display_data"
    },
    {
     "data": {
      "application/vnd.jupyter.widget-view+json": {
       "model_id": "48cd8995a7cd4d21868c0d6291b3b839",
       "version_major": 2,
       "version_minor": 0
      },
      "text/plain": [
       "  0%|          | 0/11 [00:00<?, ?it/s]"
      ]
     },
     "metadata": {},
     "output_type": "display_data"
    },
    {
     "data": {
      "application/vnd.jupyter.widget-view+json": {
       "model_id": "df109f5deb2a450fb3ff9524ef88dac0",
       "version_major": 2,
       "version_minor": 0
      },
      "text/plain": [
       "  0%|          | 0/5 [00:00<?, ?it/s]"
      ]
     },
     "metadata": {},
     "output_type": "display_data"
    },
    {
     "data": {
      "application/vnd.jupyter.widget-view+json": {
       "model_id": "8ca8f91570b543dbabfdeaa30ffe16a4",
       "version_major": 2,
       "version_minor": 0
      },
      "text/plain": [
       "  0%|          | 0/1 [00:00<?, ?it/s]"
      ]
     },
     "metadata": {},
     "output_type": "display_data"
    },
    {
     "name": "stdout",
     "output_type": "stream",
     "text": [
      "Total time for new_limb_correspondence compression = 23.084360599517822\n",
      "Cleared mesh: <trimesh.Trimesh(vertices.shape=(526, 3), faces.shape=(1166, 3))>:140015615792704\n",
      "Cleared mesh: <trimesh.Trimesh(vertices.shape=(19286, 3), faces.shape=(38352, 3))>:140015253849184\n",
      "Total time for compression = 78.7976610660553\n",
      "\n",
      "\n",
      "---Finished outputing neuron at location: /neurd_packages/NEURD/Applications/Tutorials/Auto_Proof_Pipeline/Single_Soma_Inh/864691135567721964---\n",
      "saved neuron filepath = 864691135567721964\n"
     ]
    },
    {
     "data": {
      "text/plain": [
       "'864691135567721964.pbz2'"
      ]
     },
     "execution_count": 27,
     "metadata": {},
     "output_type": "execute_result"
    }
   ],
   "source": [
    "vdi.save_neuron_obj(\n",
    "    neuron_obj,\n",
    "    verbose = True\n",
    ")"
   ]
  },
  {
   "cell_type": "markdown",
   "id": "aa2fc99c",
   "metadata": {},
   "source": [
    "# Reloading the Neuron"
   ]
  },
  {
   "cell_type": "code",
   "execution_count": 28,
   "id": "e6ce238a",
   "metadata": {},
   "outputs": [
    {
     "name": "stdout",
     "output_type": "stream",
     "text": [
      "Decompressing Neuron in minimal output mode...please wait\n"
     ]
    }
   ],
   "source": [
    "neuron_obj_rec = vdi.load_neuron_obj(\n",
    "    segment_id = segment_id,\n",
    "    #mesh_decimated = mesh_decimated\n",
    ")"
   ]
  },
  {
   "cell_type": "code",
   "execution_count": 29,
   "id": "84734850",
   "metadata": {
    "scrolled": true
   },
   "outputs": [
    {
     "name": "stdout",
     "output_type": "stream",
     "text": [
      "{\n",
      "  'decimation':\n",
      "  {\n",
      "    'decimation_parameters':\n",
      "    {\n",
      "      'decimation_ratio':0.25,\n",
      "    },\n",
      "    'segment_id':864691135567721964,\n",
      "  },\n",
      "  'soma_identification':\n",
      "  {\n",
      "    'glia_meshes':[],\n",
      "    'nuclei_meshes':[<trimesh.Trimesh(vertices.shape=(526, 3), faces.shape=(1166, 3))>],\n",
      "    'soma_extraction_parameters':\n",
      "    {\n",
      "    },\n",
      "    'soma_meshes':[<trimesh.Trimesh(vertices.shape=(19286, 3), faces.shape=(38352, 3))>],\n",
      "    'soma_run_time':148.59164786338806,\n",
      "    'soma_sdfs':array([0.846587]),\n",
      "  },\n",
      "  'decomposition':\n",
      "  {\n",
      "    'bbox_volume':42.62630729073248,\n",
      "    'bbox_x_max':793099.5764108214,\n",
      "    'bbox_x_max_soma_relative':185808.72253754397,\n",
      "    'bbox_x_min':451448.9156876523,\n",
      "    'bbox_x_min_soma_relative':-155841.93818562513,\n",
      "    'bbox_y_max':954550.6043850379,\n",
      "    'bbox_y_max_soma_relative':183516.03336461133,\n",
      "    'bbox_y_min':577251.9114422437,\n",
      "    'bbox_y_min_soma_relative':-193782.65957818285,\n",
      "    'bbox_z_max':1079285.864478381,\n",
      "    'bbox_z_max_soma_relative':169290.54468681884,\n",
      "    'bbox_z_min':748604.1765439371,\n",
      "    'bbox_z_min_soma_relative':-161391.14324762498,\n",
      "    'branch_length_mean':35.74914517202439,\n",
      "    'branch_length_median':22.82823351093987,\n",
      "    'centroid_volume':1162.5984538196353,\n",
      "    'centroid_x':151822,\n",
      "    'centroid_x_nm':607290.8538732774,\n",
      "    'centroid_y':192758,\n",
      "    'centroid_y_nm':771034.5710204266,\n",
      "    'centroid_z':22749,\n",
      "    'centroid_z_nm':909995.319791562,\n",
      "    'max_limb_n_branches':135,\n",
      "    'max_limb_skeletal_length':3688841.53187808,\n",
      "    'max_soma_area':513.2677046471267,\n",
      "    'median_branch_length':22028.703,\n",
      "    'n_branches':206,\n",
      "    'n_error_limbs':0,\n",
      "    'n_faces':899885,\n",
      "    'n_limbs':7,\n",
      "    'n_long_branches':18,\n",
      "    'n_medium_branches':160,\n",
      "    'n_multi_soma_touching_limbs':0,\n",
      "    'n_not_processed_soma_containing_meshes':0,\n",
      "    'n_same_soma_multi_touching_limbs':0,\n",
      "    'n_short_branches':26,\n",
      "    'n_somas':1,\n",
      "    'n_spine_eligible_branches':140,\n",
      "    'n_spines':324,\n",
      "    'n_vertices':451453,\n",
      "    'skeletal_length':7230078.151637848,\n",
      "    'skeletal_length_eligible':5411429.748,\n",
      "    'skeleton':array([[[451448.91568765, 751660.91294892, 922727.22750706],\n",
      "        [451501.16093595, 751608.45725677, 922794.44699975]],\n",
      "\n",
      "       [[451501.16093595, 751608.45725677, 922794.44699975],\n",
      "        [451554.50279459, 751557.08835678, 922861.64425143]],\n",
      "\n",
      "       [[451554.50279459, 751557.08835678, 922861.64425143],\n",
      "        [451609.14535208, 751506.37009155, 922928.29144555]],\n",
      "\n",
      "       ...,\n",
      "\n",
      "       [[607290.85387328, 771034.57102043, 909995.31979156],\n",
      "        [600191.        , 766341.        , 909643.        ]],\n",
      "\n",
      "       [[607290.85387328, 771034.57102043, 909995.31979156],\n",
      "        [610937.        , 763008.        , 909075.        ]],\n",
      "\n",
      "       [[607290.85387328, 771034.57102043, 909995.31979156],\n",
      "        [601939.        , 777371.        , 910126.        ]]]),\n",
      "    'spine_density':4.4812793610896675e-05,\n",
      "    'spine_density_eligible':5.9873271037057545e-05,\n",
      "    'spine_volume_density':4116.354581535341,\n",
      "    'spine_volume_density_eligible':5499.760083802719,\n",
      "    'spine_volume_median':62738077.2516613,\n",
      "    'spine_volume_per_branch_eligible':212582609.45966431,\n",
      "    'spines_per_branch':1.5728155339805825,\n",
      "    'spines_per_branch_eligible':2.314,\n",
      "    'total_spine_volume':29761565324.353004,\n",
      "    'width_90_perc':322.253,\n",
      "    'width_median':175.895,\n",
      "    'width_no_spine_90_perc':317.16,\n",
      "    'width_no_spine_median':175.895,\n",
      "  },\n",
      "}\n",
      "\n"
     ]
    }
   ],
   "source": [
    "print(neuron_obj_rec.pipeline_products)"
   ]
  },
  {
   "cell_type": "code",
   "execution_count": 30,
   "id": "c68d4b40-2bac-4f00-b37f-86901d0d6715",
   "metadata": {},
   "outputs": [],
   "source": [
    "neuron_obj = neuron_obj_rec"
   ]
  },
  {
   "cell_type": "markdown",
   "id": "06b5f069",
   "metadata": {},
   "source": [
    "# Step 4A: Multi Soma Split Suggestions"
   ]
  },
  {
   "cell_type": "code",
   "execution_count": 31,
   "id": "0729b033",
   "metadata": {},
   "outputs": [
    {
     "data": {
      "image/png": "[encoded data removed]",
      "text/plain": [
       "<Figure size 640x480 with 1 Axes>"
      ]
     },
     "metadata": {},
     "output_type": "display_data"
    }
   ],
   "source": [
    "from neurd import neuron_visualizations as nviz\n",
    "nviz.plot_soma_limb_concept_network(\n",
    "    neuron_obj\n",
    ")"
   ]
  },
  {
   "cell_type": "code",
   "execution_count": 32,
   "id": "3ea8a7ec",
   "metadata": {},
   "outputs": [],
   "source": [
    "multi_soma_split_parameters = dict()"
   ]
  },
  {
   "cell_type": "code",
   "execution_count": 33,
   "id": "6b654969",
   "metadata": {},
   "outputs": [],
   "source": [
    "_ = neuron_obj.calculate_multi_soma_split_suggestions(\n",
    "    plot = True,\n",
    "    store_in_obj = True,\n",
    "    **multi_soma_split_parameters\n",
    ")\n"
   ]
  },
  {
   "cell_type": "code",
   "execution_count": 34,
   "id": "95f8984f",
   "metadata": {},
   "outputs": [],
   "source": [
    "neuron_obj.pipeline_products.multi_soma_split_suggestions.multi_soma_split_parameters = multi_soma_split_parameters"
   ]
  },
  {
   "cell_type": "markdown",
   "id": "2206b4cc",
   "metadata": {},
   "source": [
    "# Step 4B: Multi Soma Split Execution"
   ]
  },
  {
   "cell_type": "code",
   "execution_count": 35,
   "id": "cc8bc52a",
   "metadata": {},
   "outputs": [
    {
     "name": "stdout",
     "output_type": "stream",
     "text": [
      "No error limbs to processs so just returning the original neuron\n"
     ]
    }
   ],
   "source": [
    "neuron_list = neuron_obj.multi_soma_split_execution(\n",
    "    verbose = False,\n",
    ")"
   ]
  },
  {
   "cell_type": "code",
   "execution_count": 36,
   "id": "1239884b",
   "metadata": {
    "scrolled": true
   },
   "outputs": [
    {
     "name": "stdout",
     "output_type": "stream",
     "text": [
      "{\n",
      "  'decimation':\n",
      "  {\n",
      "    'decimation_parameters':\n",
      "    {\n",
      "      'decimation_ratio':0.25,\n",
      "    },\n",
      "    'segment_id':864691135567721964,\n",
      "  },\n",
      "  'soma_identification':\n",
      "  {\n",
      "    'glia_meshes':[],\n",
      "    'nuclei_meshes':[<trimesh.Trimesh(vertices.shape=(526, 3), faces.shape=(1166, 3))>],\n",
      "    'soma_extraction_parameters':\n",
      "    {\n",
      "    },\n",
      "    'soma_meshes':[<trimesh.Trimesh(vertices.shape=(19286, 3), faces.shape=(38352, 3))>],\n",
      "    'soma_run_time':148.59164786338806,\n",
      "    'soma_sdfs':array([0.846587]),\n",
      "  },\n",
      "  'decomposition':\n",
      "  {\n",
      "    'bbox_volume':42.62630729073248,\n",
      "    'bbox_x_max':793099.5764108214,\n",
      "    'bbox_x_max_soma_relative':185808.72253754397,\n",
      "    'bbox_x_min':451448.9156876523,\n",
      "    'bbox_x_min_soma_relative':-155841.93818562513,\n",
      "    'bbox_y_max':954550.6043850379,\n",
      "    'bbox_y_max_soma_relative':183516.03336461133,\n",
      "    'bbox_y_min':577251.9114422437,\n",
      "    'bbox_y_min_soma_relative':-193782.65957818285,\n",
      "    'bbox_z_max':1079285.864478381,\n",
      "    'bbox_z_max_soma_relative':169290.54468681884,\n",
      "    'bbox_z_min':748604.1765439371,\n",
      "    'bbox_z_min_soma_relative':-161391.14324762498,\n",
      "    'branch_length_mean':35.74914517202439,\n",
      "    'branch_length_median':22.82823351093987,\n",
      "    'centroid_volume':1162.5984538196353,\n",
      "    'centroid_x':151822,\n",
      "    'centroid_x_nm':607290.8538732774,\n",
      "    'centroid_y':192758,\n",
      "    'centroid_y_nm':771034.5710204266,\n",
      "    'centroid_z':22749,\n",
      "    'centroid_z_nm':909995.319791562,\n",
      "    'max_limb_n_branches':135,\n",
      "    'max_limb_skeletal_length':3688841.53187808,\n",
      "    'max_soma_area':513.2677046471267,\n",
      "    'median_branch_length':22028.703,\n",
      "    'n_branches':206,\n",
      "    'n_error_limbs':0,\n",
      "    'n_faces':899885,\n",
      "    'n_limbs':7,\n",
      "    'n_long_branches':18,\n",
      "    'n_medium_branches':160,\n",
      "    'n_multi_soma_touching_limbs':0,\n",
      "    'n_not_processed_soma_containing_meshes':0,\n",
      "    'n_same_soma_multi_touching_limbs':0,\n",
      "    'n_short_branches':26,\n",
      "    'n_somas':1,\n",
      "    'n_spine_eligible_branches':140,\n",
      "    'n_spines':324,\n",
      "    'n_vertices':451453,\n",
      "    'skeletal_length':7230078.151637848,\n",
      "    'skeletal_length_eligible':5411429.748,\n",
      "    'skeleton':array([[[451448.91568765, 751660.91294892, 922727.22750706],\n",
      "        [451501.16093595, 751608.45725677, 922794.44699975]],\n",
      "\n",
      "       [[451501.16093595, 751608.45725677, 922794.44699975],\n",
      "        [451554.50279459, 751557.08835678, 922861.64425143]],\n",
      "\n",
      "       [[451554.50279459, 751557.08835678, 922861.64425143],\n",
      "        [451609.14535208, 751506.37009155, 922928.29144555]],\n",
      "\n",
      "       ...,\n",
      "\n",
      "       [[607290.85387328, 771034.57102043, 909995.31979156],\n",
      "        [600191.        , 766341.        , 909643.        ]],\n",
      "\n",
      "       [[607290.85387328, 771034.57102043, 909995.31979156],\n",
      "        [610937.        , 763008.        , 909075.        ]],\n",
      "\n",
      "       [[607290.85387328, 771034.57102043, 909995.31979156],\n",
      "        [601939.        , 777371.        , 910126.        ]]]),\n",
      "    'spine_density':4.4812793610896675e-05,\n",
      "    'spine_density_eligible':5.9873271037057545e-05,\n",
      "    'spine_volume_density':4116.354581535341,\n",
      "    'spine_volume_density_eligible':5499.760083802719,\n",
      "    'spine_volume_median':62738077.2516613,\n",
      "    'spine_volume_per_branch_eligible':212582609.45966431,\n",
      "    'spines_per_branch':1.5728155339805825,\n",
      "    'spines_per_branch_eligible':2.314,\n",
      "    'total_spine_volume':29761565324.353004,\n",
      "    'width_90_perc':322.253,\n",
      "    'width_median':175.895,\n",
      "    'width_no_spine_90_perc':317.16,\n",
      "    'width_no_spine_median':175.895,\n",
      "  },\n",
      "  'multi_soma_split_suggestions':\n",
      "  {\n",
      "    'multi_soma_split_parameters':\n",
      "    {\n",
      "    },\n",
      "    'n_paths_cut':0,\n",
      "    'red_blue_split_results':\n",
      "    {\n",
      "    },\n",
      "    'split_results':\n",
      "    {\n",
      "    },\n",
      "  },\n",
      "  'multi_soma_split_execution':\n",
      "  {\n",
      "    'multi_soma_errored_limbs_area':[],\n",
      "    'multi_soma_errored_limbs_skeletal_length':[],\n",
      "    'multi_soma_n_multi_soma_errors':0,\n",
      "    'multi_soma_n_same_soma_errors':0,\n",
      "    'multiplicity':1,\n",
      "    'split_index':0,\n",
      "  },\n",
      "}\n",
      "\n"
     ]
    }
   ],
   "source": [
    "n1 = neuron_list[0]\n",
    "print(n1.pipeline_products)"
   ]
  },
  {
   "cell_type": "markdown",
   "id": "a2dcd901",
   "metadata": {},
   "source": [
    "# Step 5: Cell Typing"
   ]
  },
  {
   "cell_type": "code",
   "execution_count": 37,
   "id": "023dd7aa",
   "metadata": {},
   "outputs": [],
   "source": [
    "from neurd import neuron_pipeline_utils as npu"
   ]
  },
  {
   "cell_type": "code",
   "execution_count": 38,
   "id": "b17ecdd9",
   "metadata": {
    "scrolled": true
   },
   "outputs": [
    {
     "name": "stdout",
     "output_type": "stream",
     "text": [
      "\n",
      "Number of segments: 3\n",
      "\n",
      "\n",
      "Number of segments: 3\n",
      "\n",
      "\n",
      "Number of segments: 4\n",
      "\n",
      "\n",
      "Number of segments: 2\n",
      "\n",
      "\n",
      "Number of segments: 2\n",
      "\n",
      "\n",
      "Number of segments: 2\n",
      "\n",
      "\n",
      "Number of segments: 1\n",
      "\n",
      "\n",
      "Number of segments: 4\n",
      "\n",
      "\n",
      "Number of segments: 3\n",
      "\n",
      "\n",
      "Number of segments: 2\n",
      "\n",
      "\n",
      "Number of segments: 2\n",
      "\n",
      "\n",
      "Number of segments: 2\n",
      "\n",
      "\n",
      "Number of segments: 3\n",
      "\n",
      "\n",
      "Number of segments: 4\n",
      "\n",
      "\n",
      "Number of segments: 4\n",
      "\n",
      "\n",
      "Number of segments: 1\n",
      "\n",
      "\n",
      "Number of segments: 1\n",
      "\n",
      "\n",
      "Number of segments: 2\n",
      "\n",
      "\n",
      "Number of segments: 1\n",
      "\n",
      "\n",
      "Number of segments: 1\n",
      "\n",
      "\n",
      "Number of segments: 1\n",
      "\n",
      "\n",
      "Number of segments: 4\n",
      "\n",
      "\n",
      "Number of segments: 3\n",
      "\n",
      "\n",
      "Number of segments: 3\n",
      "\n",
      "\n",
      "Number of segments: 2\n",
      "\n",
      "\n",
      "Number of segments: 2\n",
      "\n",
      "\n",
      "Number of segments: 2\n",
      "\n",
      "\n",
      "Number of segments: 2\n",
      "\n",
      "\n",
      "Number of segments: 2\n",
      "\n",
      "\n",
      "Number of segments: 2\n",
      "\n",
      "\n",
      "Number of segments: 3\n",
      "\n",
      "\n",
      "Number of segments: 3\n",
      "\n",
      "\n",
      "Number of segments: 3\n",
      "\n",
      "\n",
      "Number of segments: 2\n",
      "\n",
      "\n",
      "Number of segments: 2\n",
      "\n",
      "\n",
      "Number of segments: 2\n",
      "\n",
      "\n",
      "Number of segments: 3\n",
      "\n",
      "\n",
      "Number of segments: 4\n",
      "\n",
      "\n",
      "Number of segments: 2\n",
      "\n",
      "\n",
      "Number of segments: 1\n",
      "\n",
      "\n",
      "Number of segments: 1\n",
      "\n",
      "\n",
      "Number of segments: 1\n",
      "\n",
      "\n",
      "Number of segments: 1\n",
      "\n",
      "\n",
      "Number of segments: 1\n",
      "\n",
      "\n",
      "Number of segments: 1\n",
      "\n",
      "\n",
      "Number of segments: 2\n",
      "\n",
      "\n",
      "Number of segments: 2\n",
      "\n",
      "\n",
      "Number of segments: 2\n",
      "\n",
      "\n",
      "Number of segments: 2\n",
      "\n",
      "\n",
      "Number of segments: 2\n",
      "\n",
      "\n",
      "Number of segments: 3\n",
      "\n",
      "\n",
      "Number of segments: 1\n",
      "\n",
      "\n",
      "Number of segments: 1\n",
      "\n",
      "\n",
      "Number of segments: 1\n",
      "\n",
      "\n",
      "Number of segments: 1\n",
      "\n",
      "\n",
      "Number of segments: 1\n",
      "\n",
      "\n",
      "Number of segments: 1\n",
      "\n",
      "\n",
      "Number of segments: 1\n",
      "\n",
      "\n",
      "Number of segments: 3\n",
      "\n",
      "\n",
      "Number of segments: 4\n",
      "\n",
      "\n",
      "Number of segments: 2\n",
      "\n",
      "\n",
      "Number of segments: 2\n",
      "\n",
      "\n",
      "Number of segments: 2\n",
      "\n",
      "\n",
      "Number of segments: 2\n",
      "\n",
      "\n",
      "Number of segments: 2\n",
      "\n",
      "\n",
      "Number of segments: 2\n",
      "\n",
      "\n",
      "Number of segments: 2\n",
      "\n",
      "\n",
      "Number of segments: 2\n",
      "\n",
      "\n",
      "Number of segments: 3\n",
      "\n",
      "\n",
      "Number of segments: 3\n",
      "\n",
      "\n",
      "Number of segments: 1\n",
      "\n",
      "\n",
      "Number of segments: 3\n",
      "\n",
      "\n",
      "Number of segments: 2\n",
      "\n",
      "\n",
      "Number of segments: 2\n",
      "\n",
      "\n",
      "Number of segments: 2\n",
      "\n",
      "\n",
      "Number of segments: 1\n",
      "\n",
      "\n",
      "Number of segments: 2\n",
      "\n",
      "\n",
      "Number of segments: 2\n",
      "\n",
      "\n",
      "Number of segments: 2\n",
      "\n",
      "\n",
      "Number of segments: 2\n",
      "\n",
      "\n",
      "Number of segments: 2\n",
      "\n",
      "\n",
      "Number of segments: 1\n",
      "\n",
      "\n",
      "Number of segments: 1\n",
      "\n",
      "\n",
      "Number of segments: 1\n",
      "\n",
      "\n",
      "Number of segments: 2\n",
      "\n",
      "\n",
      "Number of segments: 2\n",
      "\n",
      "\n",
      "Number of segments: 3\n",
      "\n",
      "\n",
      "Number of segments: 1\n",
      "\n",
      "\n",
      "Number of segments: 1\n",
      "\n",
      "\n",
      "Number of segments: 1\n",
      "\n",
      "\n",
      "Number of segments: 4\n",
      "\n",
      "\n",
      "Number of segments: 5\n",
      "\n",
      "\n",
      "Number of segments: 5\n",
      "\n",
      "\n",
      "Number of segments: 1\n",
      "\n",
      "\n",
      "Number of segments: 2\n",
      "\n",
      "\n",
      "Number of segments: 3\n",
      "\n",
      "\n",
      "Number of segments: 1\n",
      "\n",
      "\n",
      "Number of segments: 1\n",
      "\n",
      "\n",
      "Number of segments: 3\n",
      "\n",
      "\n",
      "Number of segments: 3\n",
      "\n",
      "\n",
      "Number of segments: 5\n",
      "\n",
      "\n",
      "Number of segments: 5\n",
      "\n",
      "\n",
      "Number of segments: 1\n",
      "\n",
      "\n",
      "Number of segments: 1\n",
      "\n",
      "\n",
      "Number of segments: 1\n",
      "\n",
      "\n",
      "Number of segments: 2\n",
      "\n",
      "\n",
      "Number of segments: 2\n",
      "\n",
      "\n",
      "Number of segments: 2\n",
      "\n",
      "\n",
      "Number of segments: 1\n",
      "\n",
      "\n",
      "Number of segments: 2\n",
      "\n",
      "\n",
      "Number of segments: 1\n",
      "\n",
      "\n",
      "Number of segments: 2\n",
      "\n",
      "\n",
      "Number of segments: 2\n",
      "\n",
      "\n",
      "Number of segments: 3\n",
      "\n",
      "\n",
      "Number of segments: 4\n",
      "\n",
      "\n",
      "Number of segments: 4\n",
      "\n",
      "\n",
      "Number of segments: 4\n",
      "\n",
      "\n",
      "Number of segments: 1\n",
      "\n",
      "\n",
      "Number of segments: 1\n",
      "\n",
      "\n",
      "Number of segments: 1\n",
      "\n",
      "\n",
      "Number of segments: 2\n",
      "\n",
      "\n",
      "Number of segments: 3\n",
      "\n",
      "\n",
      "Number of segments: 3\n",
      "\n",
      "\n",
      "Number of segments: 2\n",
      "\n",
      "\n",
      "Number of segments: 2\n",
      "\n",
      "\n",
      "Number of segments: 5\n",
      "\n",
      "\n",
      "Number of segments: 3\n",
      "\n",
      "\n",
      "Number of segments: 2\n",
      "\n",
      "\n",
      "Number of segments: 5\n",
      "\n",
      "\n",
      "Number of segments: 1\n",
      "\n",
      "\n",
      "Number of segments: 1\n",
      "\n",
      "\n",
      "Number of segments: 1\n",
      "\n",
      "\n",
      "Number of segments: 2\n",
      "\n",
      "\n",
      "Number of segments: 2\n",
      "\n",
      "\n",
      "Number of segments: 2\n",
      "\n",
      "\n",
      "Number of segments: 2\n",
      "\n",
      "\n",
      "Number of segments: 3\n",
      "\n",
      "\n",
      "Number of segments: 4\n",
      "\n",
      "\n",
      "Number of segments: 2\n",
      "\n",
      "\n",
      "Number of segments: 2\n",
      "\n",
      "\n",
      "Number of segments: 2\n",
      "\n",
      "\n",
      "Number of segments: 2\n",
      "\n",
      "\n",
      "Number of segments: 1\n",
      "\n",
      "\n",
      "Number of segments: 2\n",
      "\n",
      "\n",
      "Number of segments: 3\n",
      "\n",
      "\n",
      "Number of segments: 3\n",
      "\n",
      "\n",
      "Number of segments: 3\n",
      "\n",
      "\n",
      "Number of segments: 2\n",
      "\n",
      "\n",
      "Number of segments: 2\n",
      "\n",
      "\n",
      "Number of segments: 2\n",
      "\n",
      "\n",
      "Number of segments: 2\n",
      "\n",
      "\n",
      "Number of segments: 2\n",
      "\n",
      "\n",
      "Number of segments: 2\n",
      "\n",
      "\n",
      "Number of segments: 1\n",
      "\n",
      "\n",
      "Number of segments: 1\n",
      "\n",
      "\n",
      "Number of segments: 1\n",
      "\n",
      "\n",
      "Number of segments: 1\n",
      "\n",
      "\n",
      "Number of segments: 1\n",
      "\n",
      "\n",
      "Number of segments: 1\n",
      "\n",
      "\n",
      "Number of segments: 2\n",
      "\n",
      "\n",
      "Number of segments: 2\n",
      "\n",
      "\n",
      "Number of segments: 2\n",
      "\n",
      "\n",
      "Number of segments: 2\n",
      "\n",
      "\n",
      "Number of segments: 2\n",
      "\n",
      "\n",
      "Number of segments: 2\n",
      "\n",
      "\n",
      "Number of segments: 2\n",
      "\n",
      "\n",
      "Number of segments: 2\n",
      "\n",
      "\n",
      "Number of segments: 2\n",
      "\n",
      "\n",
      "Number of segments: 1\n",
      "\n",
      "\n",
      "Number of segments: 1\n",
      "\n",
      "\n",
      "Number of segments: 1\n",
      "\n",
      "\n",
      "Number of segments: 2\n",
      "\n",
      "\n",
      "Number of segments: 2\n",
      "\n",
      "\n",
      "Number of segments: 2\n",
      "\n",
      "\n",
      "Number of segments: 1\n",
      "\n",
      "\n",
      "Number of segments: 1\n",
      "\n",
      "\n",
      "Number of segments: 3\n",
      "\n",
      "\n",
      "Number of segments: 1\n",
      "\n",
      "\n",
      "Number of segments: 3\n",
      "\n",
      "\n",
      "Number of segments: 3\n",
      "\n",
      "\n",
      "Number of segments: 2\n",
      "\n",
      "\n",
      "Number of segments: 2\n",
      "\n",
      "\n",
      "Number of segments: 2\n",
      "\n",
      "\n",
      "Number of segments: 3\n",
      "\n",
      "\n",
      "Number of segments: 3\n",
      "\n",
      "\n",
      "Number of segments: 2\n",
      "\n",
      "\n",
      "Number of segments: 2\n",
      "\n",
      "\n",
      "Number of segments: 2\n",
      "\n",
      "\n",
      "Number of segments: 2\n",
      "\n",
      "\n",
      "Number of segments: 1\n",
      "\n",
      "\n",
      "Number of segments: 1\n",
      "\n",
      "\n",
      "Number of segments: 1\n",
      "\n",
      "\n",
      "Number of segments: 2\n",
      "\n",
      "\n",
      "Number of segments: 2\n",
      "\n",
      "\n",
      "Number of segments: 2\n",
      "\n",
      "\n",
      "Number of segments: 2\n",
      "\n",
      "\n",
      "Number of segments: 1\n",
      "\n",
      "\n",
      "Number of segments: 3\n",
      "\n",
      "\n",
      "Number of segments: 2\n",
      "\n",
      "\n",
      "Number of segments: 2\n",
      "\n",
      "\n",
      "Number of segments: 2\n",
      "\n",
      "\n",
      "Number of segments: 2\n",
      "\n",
      "\n",
      "Number of segments: 3\n",
      "\n",
      "\n",
      "Number of segments: 2\n",
      "\n",
      "\n",
      "Number of segments: 2\n",
      "\n",
      "\n",
      "Number of segments: 2\n",
      "\n",
      "\n",
      "Number of segments: 2\n",
      "\n",
      "\n",
      "Number of segments: 1\n",
      "\n",
      "\n",
      "Number of segments: 2\n",
      "\n",
      "\n",
      "Number of segments: 2\n",
      "\n",
      "\n",
      "Number of segments: 1\n",
      "\n",
      "\n",
      "Number of segments: 2\n",
      "\n",
      "\n",
      "Number of segments: 2\n",
      "\n",
      "\n",
      "Number of segments: 2\n",
      "\n",
      "\n",
      "Number of segments: 2\n",
      "\n",
      "\n",
      "Number of segments: 3\n",
      "\n",
      "\n",
      "Number of segments: 2\n",
      "\n",
      "\n",
      "Number of segments: 2\n",
      "\n",
      "\n",
      "Number of segments: 2\n",
      "\n",
      "\n",
      "Number of segments: 1\n",
      "\n",
      "\n",
      "Number of segments: 1\n",
      "\n",
      "\n",
      "Number of segments: 1\n",
      "\n",
      "\n",
      "Number of segments: 2\n",
      "\n",
      "\n",
      "Number of segments: 2\n",
      "\n",
      "\n",
      "Number of segments: 2\n",
      "\n",
      "\n",
      "Number of segments: 1\n",
      "\n",
      "\n",
      "Number of segments: 1\n",
      "\n",
      "\n",
      "Number of segments: 1\n",
      "\n",
      "\n",
      "Number of segments: 2\n",
      "\n",
      "\n",
      "Number of segments: 2\n",
      "\n",
      "\n",
      "Number of segments: 3\n",
      "\n",
      "\n",
      "Number of segments: 2\n",
      "\n",
      "\n",
      "Number of segments: 2\n",
      "\n",
      "\n",
      "Number of segments: 2\n",
      "\n",
      "\n",
      "Number of segments: 2\n",
      "\n",
      "\n",
      "Number of segments: 2\n",
      "\n",
      "\n",
      "Number of segments: 2\n",
      "\n",
      "\n",
      "Number of segments: 2\n",
      "\n",
      "\n",
      "Number of segments: 2\n",
      "\n",
      "\n",
      "Number of segments: 2\n",
      "\n",
      "\n",
      "Number of segments: 2\n",
      "\n",
      "\n",
      "Number of segments: 3\n",
      "\n",
      "\n",
      "Number of segments: 3\n",
      "\n",
      "\n",
      "Number of segments: 2\n",
      "\n",
      "\n",
      "Number of segments: 2\n",
      "\n",
      "\n",
      "Number of segments: 2\n",
      "\n",
      "\n",
      "Number of segments: 2\n",
      "\n",
      "\n",
      "Number of segments: 2\n",
      "\n",
      "\n",
      "Number of segments: 2\n",
      "\n",
      "\n",
      "Number of segments: 1\n",
      "\n",
      "\n",
      "Number of segments: 1\n",
      "\n",
      "\n",
      "Number of segments: 1\n",
      "\n",
      "\n",
      "Number of segments: 1\n",
      "\n",
      "\n",
      "Number of segments: 1\n",
      "\n",
      "\n",
      "Number of segments: 1\n",
      "\n",
      "\n",
      "Number of segments: 2\n",
      "\n",
      "\n",
      "Number of segments: 2\n",
      "\n",
      "\n",
      "Number of segments: 5\n",
      "\n",
      "\n",
      "Number of segments: 1\n",
      "\n",
      "\n",
      "Number of segments: 2\n",
      "\n",
      "\n",
      "Number of segments: 3\n",
      "\n",
      "\n",
      "Number of segments: 2\n",
      "\n",
      "\n",
      "Number of segments: 4\n",
      "\n",
      "\n",
      "Number of segments: 4\n",
      "\n",
      "\n",
      "Number of segments: 1\n",
      "\n",
      "\n",
      "Number of segments: 3\n",
      "\n",
      "\n",
      "Number of segments: 3\n",
      "\n",
      "\n",
      "Number of segments: 1\n",
      "\n",
      "\n",
      "Number of segments: 2\n",
      "\n",
      "\n",
      "Number of segments: 3\n",
      "\n",
      "\n",
      "Number of segments: 1\n",
      "\n",
      "\n",
      "Number of segments: 1\n",
      "\n",
      "\n",
      "Number of segments: 2\n",
      "\n",
      "\n",
      "Number of segments: 1\n",
      "\n",
      "\n",
      "Number of segments: 1\n",
      "\n",
      "\n",
      "Number of segments: 2\n",
      "\n",
      "\n",
      "Number of segments: 2\n",
      "\n",
      "\n",
      "Number of segments: 1\n",
      "\n",
      "\n",
      "Number of segments: 3\n",
      "\n",
      "\n",
      "Number of segments: 1\n",
      "\n",
      "\n",
      "Number of segments: 1\n",
      "\n",
      "\n",
      "Number of segments: 1\n",
      "\n",
      "\n",
      "Number of segments: 2\n",
      "\n",
      "\n",
      "Number of segments: 2\n",
      "\n",
      "\n",
      "Number of segments: 2\n",
      "\n",
      "\n",
      "Number of segments: 1\n",
      "\n",
      "\n",
      "Number of segments: 2\n",
      "\n",
      "\n",
      "Number of segments: 2\n",
      "\n",
      "\n",
      "Number of segments: 1\n",
      "\n",
      "\n",
      "Number of segments: 2\n",
      "\n",
      "\n",
      "Number of segments: 3\n",
      "\n",
      "\n",
      "Number of segments: 1\n",
      "\n",
      "\n",
      "Number of segments: 1\n",
      "\n",
      "\n",
      "Number of segments: 1\n",
      "\n",
      "\n",
      "Number of segments: 2\n",
      "\n",
      "\n",
      "Number of segments: 2\n",
      "\n",
      "\n",
      "Number of segments: 2\n",
      "\n",
      "\n",
      "Number of segments: 1\n",
      "\n",
      "\n",
      "Number of segments: 2\n",
      "\n",
      "\n",
      "Number of segments: 1\n",
      "\n",
      "\n",
      "Number of segments: 1\n",
      "\n",
      "\n",
      "Number of segments: 1\n",
      "\n",
      "\n",
      "Number of segments: 1\n",
      "\n",
      "\n",
      "Number of segments: 2\n",
      "\n",
      "\n",
      "Number of segments: 2\n",
      "\n",
      "\n",
      "Number of segments: 2\n",
      "\n",
      "\n",
      "Number of segments: 2\n",
      "\n",
      "\n",
      "Number of segments: 2\n",
      "\n",
      "\n",
      "Number of segments: 2\n",
      "\n",
      "\n",
      "Number of segments: 2\n",
      "\n",
      "\n",
      "Number of segments: 2\n",
      "\n",
      "\n",
      "Number of segments: 2\n",
      "\n",
      "\n",
      "Number of segments: 2\n",
      "\n",
      "\n",
      "Number of segments: 1\n",
      "\n",
      "\n",
      "Number of segments: 2\n",
      "\n",
      "\n",
      "Number of segments: 1\n",
      "\n",
      "\n",
      "Number of segments: 1\n",
      "\n",
      "\n",
      "Number of segments: 1\n",
      "\n",
      "\n",
      "Number of segments: 1\n",
      "\n",
      "\n",
      "Number of segments: 1\n",
      "\n",
      "\n",
      "Number of segments: 1\n",
      "\n",
      "\n",
      "Number of segments: 1\n",
      "\n",
      "\n",
      "Number of segments: 1\n",
      "\n",
      "\n",
      "Number of segments: 2\n",
      "\n",
      "\n",
      "Number of segments: 2\n",
      "\n",
      "\n",
      "Number of segments: 2\n",
      "\n",
      "\n",
      "Number of segments: 2\n",
      "\n",
      "\n",
      "Number of segments: 1\n",
      "\n",
      "\n",
      "Number of segments: 1\n",
      "\n",
      "\n",
      "Number of segments: 2\n",
      "\n",
      "\n",
      "Number of segments: 2\n",
      "\n",
      "\n",
      "Number of segments: 2\n",
      "\n",
      "\n",
      "Number of segments: 2\n",
      "\n",
      "\n",
      "Number of segments: 1\n",
      "\n",
      "\n",
      "Number of segments: 2\n",
      "\n",
      "\n",
      "Number of segments: 4\n",
      "\n",
      "\n",
      "Number of segments: 3\n",
      "\n",
      "\n",
      "Number of segments: 3\n",
      "\n",
      "\n",
      "Number of segments: 3\n",
      "\n",
      "\n",
      "Number of segments: 1\n",
      "\n",
      "\n",
      "Number of segments: 2\n",
      "\n",
      "\n",
      "Number of segments: 2\n",
      "\n",
      "\n",
      "Number of segments: 1\n",
      "\n",
      "\n",
      "Number of segments: 1\n",
      "\n",
      "\n",
      "Number of segments: 4\n",
      "\n",
      "\n",
      "Number of segments: 1\n",
      "\n",
      "\n",
      "Number of segments: 1\n",
      "\n",
      "\n",
      "Number of segments: 1\n",
      "\n",
      "\n",
      "Number of segments: 1\n",
      "\n",
      "\n",
      "Number of segments: 1\n",
      "\n",
      "\n",
      "Number of segments: 3\n",
      "\n",
      "\n",
      "Number of segments: 1\n",
      "\n",
      "\n",
      "Number of segments: 1\n",
      "\n",
      "\n",
      "Number of segments: 2\n",
      "\n",
      "\n",
      "Number of segments: 2\n",
      "\n",
      "\n",
      "Number of segments: 3\n",
      "\n",
      "\n",
      "Number of segments: 3\n",
      "\n",
      "\n",
      "Number of segments: 2\n",
      "\n",
      "\n",
      "Number of segments: 2\n",
      "\n",
      "\n",
      "Number of segments: 2\n",
      "\n",
      "\n",
      "Number of segments: 1\n",
      "\n",
      "\n",
      "Number of segments: 1\n",
      "\n",
      "\n",
      "Number of segments: 1\n",
      "\n",
      "\n",
      "Number of segments: 1\n",
      "\n",
      "\n",
      "Number of segments: 1\n",
      "\n",
      "\n",
      "Number of segments: 1\n",
      "\n",
      "\n",
      "Number of segments: 1\n",
      "\n",
      "\n",
      "Number of segments: 1\n",
      "\n",
      "\n",
      "Number of segments: 1\n",
      "\n",
      "\n",
      "Number of segments: 1\n",
      "\n",
      "\n",
      "Number of segments: 2\n",
      "\n",
      "\n",
      "Number of segments: 2\n",
      "\n",
      "\n",
      "Number of segments: 3\n",
      "\n",
      "\n",
      "Number of segments: 5\n",
      "\n",
      "\n",
      "Number of segments: 3\n",
      "\n",
      "\n",
      "Number of segments: 1\n",
      "\n",
      "\n",
      "Number of segments: 2\n",
      "\n",
      "\n",
      "Number of segments: 2\n",
      "\n",
      "\n",
      "Number of segments: 1\n",
      "\n",
      "\n",
      "Number of segments: 3\n",
      "\n",
      "\n",
      "Number of segments: 3\n",
      "\n",
      "\n",
      "Number of segments: 3\n",
      "\n",
      "\n",
      "Number of segments: 3\n",
      "\n",
      "\n",
      "Number of segments: 2\n",
      "\n",
      "\n",
      "Number of segments: 1\n",
      "\n",
      "\n",
      "Number of segments: 2\n",
      "\n",
      "\n",
      "Number of segments: 1\n",
      "\n",
      "\n",
      "Number of segments: 1\n",
      "\n",
      "\n",
      "Number of segments: 1\n",
      "\n",
      "\n",
      "Number of segments: 1\n",
      "\n",
      "\n",
      "Number of segments: 2\n",
      "\n",
      "\n",
      "Number of segments: 2\n",
      "\n",
      "\n",
      "Number of segments: 2\n",
      "\n",
      "\n",
      "Number of segments: 1\n",
      "\n",
      "\n",
      "Number of segments: 1\n",
      "\n",
      "\n",
      "Number of segments: 2\n",
      "\n",
      "\n",
      "Number of segments: 2\n",
      "\n",
      "\n",
      "Number of segments: 3\n",
      "\n",
      "\n",
      "Number of segments: 3\n",
      "\n",
      "\n",
      "Number of segments: 2\n",
      "\n",
      "\n",
      "Number of segments: 1\n",
      "\n",
      "\n",
      "Number of segments: 2\n",
      "\n",
      "\n",
      "Number of segments: 1\n",
      "\n",
      "\n",
      "Number of segments: 1\n",
      "\n",
      "\n",
      "Number of segments: 1\n",
      "\n",
      "\n",
      "Number of segments: 1\n",
      "\n",
      "\n",
      "Number of segments: 1\n",
      "\n",
      "\n",
      "Number of segments: 1\n",
      "\n",
      "\n",
      "Number of segments: 2\n",
      "\n",
      "\n",
      "Number of segments: 2\n",
      "\n",
      "\n",
      "Number of segments: 2\n",
      "\n",
      "\n",
      "Number of segments: 2\n",
      "\n",
      "\n",
      "Number of segments: 2\n",
      "\n",
      "\n",
      "Number of segments: 3\n",
      "\n",
      "\n",
      "Number of segments: 2\n",
      "\n",
      "\n",
      "Number of segments: 2\n",
      "\n",
      "\n",
      "Number of segments: 2\n",
      "\n",
      "\n",
      "Number of segments: 1\n",
      "\n",
      "\n",
      "Number of segments: 2\n",
      "\n",
      "\n",
      "Number of segments: 2\n",
      "\n",
      "\n",
      "Number of segments: 1\n",
      "\n",
      "\n",
      "Number of segments: 1\n",
      "\n",
      "\n",
      "Number of segments: 2\n",
      "\n",
      "\n",
      "Number of segments: 1\n",
      "\n",
      "\n",
      "Number of segments: 2\n",
      "\n",
      "\n",
      "Number of segments: 2\n",
      "\n",
      "\n",
      "Number of segments: 1\n",
      "\n",
      "\n",
      "Number of segments: 2\n",
      "\n",
      "\n",
      "Number of segments: 2\n",
      "\n",
      "\n",
      "Number of segments: 1\n",
      "\n",
      "\n",
      "Number of segments: 1\n",
      "\n",
      "\n",
      "Number of segments: 1\n",
      "\n",
      "\n",
      "Number of segments: 2\n",
      "\n",
      "\n",
      "Number of segments: 1\n",
      "\n",
      "\n",
      "Number of segments: 2\n",
      "\n",
      "\n",
      "Number of segments: 2\n",
      "\n",
      "\n",
      "Number of segments: 2\n",
      "\n",
      "\n",
      "Number of segments: 5\n",
      "\n",
      "\n",
      "Number of segments: 1\n",
      "\n",
      "\n",
      "Number of segments: 2\n",
      "\n",
      "\n",
      "Number of segments: 1\n",
      "\n",
      "\n",
      "Number of segments: 1\n",
      "\n",
      "\n",
      "Number of segments: 1\n",
      "\n",
      "\n",
      "Number of segments: 1\n",
      "\n",
      "\n",
      "Number of segments: 2\n",
      "\n",
      "\n",
      "Number of segments: 2\n",
      "\n",
      "\n",
      "Number of segments: 3\n",
      "\n",
      "\n",
      "Number of segments: 1\n",
      "\n",
      "\n",
      "Number of segments: 1\n",
      "\n",
      "\n",
      "Number of segments: 1\n",
      "\n",
      "\n",
      "Number of segments: 2\n",
      "\n",
      "\n",
      "Number of segments: 2\n",
      "\n",
      "\n",
      "Number of segments: 2\n",
      "\n",
      "\n",
      "Number of segments: 1\n",
      "\n",
      "\n",
      "Number of segments: 1\n",
      "\n",
      "\n",
      "Number of segments: 1\n",
      "\n",
      "\n",
      "Number of segments: 1\n",
      "\n",
      "\n",
      "Number of segments: 1\n",
      "\n",
      "\n",
      "Number of segments: 1\n",
      "\n",
      "\n",
      "Number of segments: 2\n",
      "\n",
      "\n",
      "Number of segments: 2\n",
      "\n",
      "\n",
      "Number of segments: 2\n",
      "\n",
      "\n",
      "Number of segments: 1\n",
      "\n",
      "\n",
      "Number of segments: 1\n",
      "\n",
      "\n",
      "Number of segments: 1\n",
      "\n",
      "\n",
      "Number of segments: 1\n",
      "\n",
      "\n",
      "Number of segments: 1\n",
      "\n",
      "\n",
      "Number of segments: 1\n",
      "\n",
      "\n",
      "Number of segments: 3\n",
      "\n",
      "\n",
      "Number of segments: 3\n",
      "\n",
      "\n",
      "Number of segments: 3\n",
      "\n",
      "\n",
      "Number of segments: 2\n",
      "\n",
      "\n",
      "Number of segments: 2\n",
      "\n",
      "\n",
      "Number of segments: 1\n",
      "\n",
      "\n",
      "Number of segments: 1\n",
      "\n",
      "\n",
      "Number of segments: 1\n",
      "\n",
      "\n",
      "Number of segments: 1\n",
      "\n",
      "\n",
      "Number of segments: 1\n",
      "\n",
      "\n",
      "Number of segments: 2\n",
      "\n",
      "\n",
      "Number of segments: 2\n",
      "\n",
      "\n",
      "Number of segments: 2\n",
      "\n",
      "\n",
      "Number of segments: 2\n",
      "\n",
      "\n",
      "Number of segments: 2\n",
      "\n",
      "\n",
      "Number of segments: 2\n",
      "\n",
      "\n",
      "Number of segments: 1\n",
      "\n",
      "\n",
      "Number of segments: 2\n",
      "\n",
      "\n",
      "Number of segments: 2\n",
      "\n",
      "\n",
      "Number of segments: 2\n",
      "\n",
      "\n",
      "Number of segments: 2\n",
      "\n",
      "\n",
      "Number of segments: 2\n",
      "\n",
      "\n",
      "Number of segments: 2\n",
      "\n",
      "\n",
      "Number of segments: 1\n",
      "\n",
      "\n",
      "Number of segments: 3\n",
      "\n",
      "\n",
      "Number of segments: 3\n",
      "\n",
      "\n",
      "Number of segments: 2\n",
      "\n",
      "\n",
      "Number of segments: 2\n",
      "\n",
      "\n",
      "Number of segments: 2\n",
      "\n",
      "\n",
      "Number of segments: 2\n",
      "\n",
      "\n",
      "Number of segments: 2\n",
      "\n",
      "\n",
      "Number of segments: 2\n",
      "\n",
      "\n",
      "Number of segments: 3\n",
      "\n",
      "\n",
      "Number of segments: 1\n",
      "\n",
      "\n",
      "Number of segments: 1\n",
      "\n",
      "\n",
      "Number of segments: 1\n",
      "\n",
      "\n",
      "Number of segments: 1\n",
      "\n",
      "\n",
      "Number of segments: 2\n",
      "\n",
      "\n",
      "Number of segments: 2\n",
      "\n",
      "\n",
      "Number of segments: 2\n",
      "\n",
      "\n",
      "Number of segments: 3\n",
      "\n",
      "\n",
      "Number of segments: 3\n",
      "\n",
      "\n",
      "Number of segments: 2\n",
      "\n",
      "\n",
      "Number of segments: 3\n",
      "\n",
      "\n",
      "Number of segments: 3\n",
      "\n",
      "\n",
      "Number of segments: 2\n",
      "\n",
      "\n",
      "Number of segments: 2\n",
      "\n",
      "\n",
      "Number of segments: 2\n",
      "\n",
      "\n",
      "Number of segments: 1\n",
      "\n",
      "\n",
      "Number of segments: 2\n",
      "\n",
      "\n",
      "Number of segments: 2\n",
      "\n",
      "\n",
      "Number of segments: 1\n",
      "\n",
      "\n",
      "Number of segments: 2\n",
      "\n",
      "\n",
      "Number of segments: 2\n",
      "\n",
      "\n",
      "Number of segments: 1\n",
      "\n",
      "\n",
      "Number of segments: 1\n",
      "\n",
      "\n",
      "Number of segments: 2\n",
      "\n",
      "\n",
      "Number of segments: 1\n",
      "\n",
      "\n",
      "Number of segments: 1\n",
      "\n",
      "\n",
      "Number of segments: 2\n",
      "\n",
      "\n",
      "Number of segments: 1\n",
      "\n",
      "\n",
      "Number of segments: 1\n",
      "\n",
      "\n",
      "Number of segments: 1\n",
      "\n",
      "\n",
      "Number of segments: 2\n",
      "\n",
      "\n",
      "Number of segments: 2\n",
      "\n",
      "\n",
      "Number of segments: 4\n",
      "\n",
      "\n",
      "Number of segments: 1\n",
      "\n",
      "\n",
      "Number of segments: 1\n",
      "\n",
      "\n",
      "Number of segments: 2\n",
      "\n",
      "\n",
      "Number of segments: 1\n",
      "\n",
      "\n",
      "Number of segments: 3\n",
      "\n",
      "\n",
      "Number of segments: 3\n",
      "\n",
      "\n",
      "Number of segments: 2\n",
      "\n",
      "\n",
      "Number of segments: 1\n",
      "\n",
      "\n",
      "Number of segments: 4\n",
      "\n",
      "\n",
      "Number of segments: 1\n",
      "\n",
      "\n",
      "Number of segments: 2\n",
      "\n",
      "\n",
      "Number of segments: 2\n",
      "\n",
      "\n",
      "Number of segments: 1\n",
      "\n",
      "\n",
      "Number of segments: 1\n",
      "\n",
      "\n",
      "Number of segments: 3\n",
      "\n",
      "\n",
      "Number of segments: 1\n",
      "\n",
      "\n",
      "Number of segments: 3\n",
      "\n",
      "\n",
      "Number of segments: 3\n",
      "\n",
      "\n",
      "Number of segments: 2\n",
      "\n",
      "\n",
      "Number of segments: 2\n",
      "\n",
      "\n",
      "Number of segments: 2\n",
      "\n",
      "\n",
      "Number of segments: 2\n",
      "\n",
      "\n",
      "Number of segments: 2\n",
      "\n",
      "\n",
      "Number of segments: 1\n",
      "\n",
      "\n",
      "Number of segments: 2\n",
      "\n",
      "\n",
      "Number of segments: 3\n",
      "\n",
      "\n",
      "Number of segments: 4\n",
      "\n",
      "\n",
      "Number of segments: 1\n",
      "\n",
      "\n",
      "Number of segments: 1\n",
      "\n",
      "\n",
      "Number of segments: 2\n",
      "\n",
      "\n",
      "Number of segments: 2\n",
      "\n",
      "\n",
      "Number of segments: 2\n",
      "\n",
      "\n",
      "Number of segments: 2\n",
      "\n",
      "\n",
      "Number of segments: 1\n",
      "\n",
      "\n",
      "Number of segments: 1\n",
      "\n",
      "\n",
      "Number of segments: 1\n",
      "\n",
      "\n",
      "Number of segments: 2\n",
      "\n",
      "\n",
      "Number of segments: 2\n",
      "\n",
      "\n",
      "Number of segments: 2\n",
      "\n",
      "\n",
      "Number of segments: 3\n",
      "\n",
      "\n",
      "Number of segments: 3\n",
      "\n",
      "\n",
      "Number of segments: 4\n",
      "\n",
      "\n",
      "Number of segments: 1\n",
      "\n",
      "\n",
      "Number of segments: 1\n",
      "\n",
      "\n",
      "Number of segments: 1\n",
      "\n",
      "\n",
      "Number of segments: 2\n",
      "\n",
      "\n",
      "Number of segments: 3\n",
      "\n",
      "\n",
      "Number of segments: 3\n",
      "\n",
      "\n",
      "Number of segments: 4\n",
      "\n",
      "\n",
      "Number of segments: 4\n",
      "\n",
      "\n",
      "Number of segments: 4\n",
      "\n",
      "\n",
      "Number of segments: 1\n",
      "\n",
      "\n",
      "Number of segments: 4\n",
      "\n",
      "\n",
      "Number of segments: 4\n",
      "\n",
      "\n",
      "Number of segments: 1\n",
      "\n",
      "\n",
      "Number of segments: 1\n",
      "\n",
      "\n",
      "Number of segments: 1\n",
      "\n",
      "\n",
      "Number of segments: 1\n",
      "\n",
      "\n",
      "Number of segments: 1\n",
      "\n",
      "\n",
      "Number of segments: 2\n",
      "\n",
      "\n",
      "Number of segments: 2\n",
      "\n",
      "\n",
      "Number of segments: 2\n",
      "\n",
      "\n",
      "Number of segments: 2\n",
      "\n",
      "\n",
      "Number of segments: 1\n",
      "\n",
      "\n",
      "Number of segments: 1\n",
      "\n",
      "\n",
      "Number of segments: 1\n",
      "\n",
      "\n",
      "Number of segments: 1\n",
      "\n",
      "\n",
      "Number of segments: 1\n",
      "\n",
      "\n",
      "Number of segments: 1\n",
      "\n",
      "\n",
      "Number of segments: 2\n",
      "\n",
      "\n",
      "Number of segments: 2\n",
      "\n",
      "\n",
      "Number of segments: 2\n",
      "\n",
      "\n",
      "Number of segments: 2\n",
      "\n",
      "\n",
      "Number of segments: 2\n",
      "\n",
      "\n",
      "Number of segments: 2\n",
      "\n",
      "\n",
      "Number of segments: 3\n",
      "\n",
      "\n",
      "Number of segments: 3\n",
      "\n",
      "\n",
      "Number of segments: 3\n",
      "\n",
      "\n",
      "Number of segments: 1\n",
      "\n",
      "\n",
      "Number of segments: 1\n",
      "\n",
      "\n",
      "Number of segments: 1\n",
      "\n",
      "\n",
      "Number of segments: 1\n",
      "\n",
      "\n",
      "Number of segments: 1\n",
      "\n",
      "\n",
      "Number of segments: 1\n",
      "\n",
      "\n",
      "Number of segments: 1\n",
      "\n",
      "\n",
      "Number of segments: 1\n",
      "\n",
      "\n",
      "Number of segments: 2\n",
      "\n",
      "\n",
      "Number of segments: 1\n",
      "\n",
      "\n",
      "Number of segments: 1\n",
      "\n",
      "\n",
      "Number of segments: 2\n",
      "\n",
      "\n",
      "Number of segments: 4\n",
      "\n",
      "\n",
      "Number of segments: 3\n",
      "\n",
      "\n",
      "Number of segments: 4\n",
      "\n",
      "\n",
      "Number of segments: 2\n",
      "\n",
      "\n",
      "Number of segments: 2\n",
      "\n",
      "\n",
      "Number of segments: 2\n",
      "\n",
      "\n",
      "Number of segments: 2\n",
      "\n",
      "\n",
      "Number of segments: 2\n",
      "\n",
      "\n",
      "Number of segments: 2\n",
      "\n",
      "\n",
      "Number of segments: 2\n",
      "\n",
      "\n",
      "Number of segments: 2\n",
      "\n",
      "\n",
      "Number of segments: 2\n",
      "\n",
      "\n",
      "Number of segments: 1\n",
      "\n",
      "\n",
      "Number of segments: 2\n",
      "\n",
      "\n",
      "Number of segments: 2\n",
      "\n",
      "\n",
      "Number of segments: 1\n",
      "\n",
      "\n",
      "Number of segments: 1\n",
      "\n",
      "\n",
      "Number of segments: 1\n",
      "\n",
      "\n",
      "Number of segments: 1\n",
      "\n",
      "\n",
      "Number of segments: 1\n",
      "\n",
      "\n",
      "Number of segments: 1\n",
      "\n",
      "\n",
      "Number of segments: 1\n",
      "\n",
      "\n",
      "Number of segments: 1\n",
      "\n",
      "\n",
      "Number of segments: 1\n",
      "\n",
      "\n",
      "Number of segments: 2\n",
      "\n",
      "\n",
      "Number of segments: 2\n",
      "\n",
      "\n",
      "Number of segments: 2\n",
      "\n",
      "\n",
      "Number of segments: 2\n",
      "\n",
      "\n",
      "Number of segments: 4\n",
      "\n",
      "\n",
      "Number of segments: 5\n",
      "\n",
      "\n",
      "Number of segments: 4\n",
      "\n",
      "\n",
      "Number of segments: 5\n",
      "\n",
      "\n",
      "Number of segments: 5\n",
      "\n",
      "\n",
      "Number of segments: 2\n",
      "\n",
      "\n",
      "Number of segments: 2\n",
      "\n",
      "\n",
      "Number of segments: 2\n",
      "\n",
      "\n",
      "Number of segments: 2\n",
      "\n",
      "\n",
      "Number of segments: 2\n",
      "\n",
      "\n",
      "Number of segments: 2\n",
      "\n",
      "\n",
      "Number of segments: 2\n",
      "\n",
      "\n",
      "Number of segments: 2\n",
      "\n",
      "\n",
      "Number of segments: 2\n",
      "\n",
      "\n",
      "Number of segments: 1\n",
      "\n",
      "\n",
      "Number of segments: 1\n",
      "\n",
      "\n",
      "Number of segments: 1\n",
      "\n",
      "\n",
      "Number of segments: 1\n",
      "\n",
      "\n",
      "Number of segments: 1\n",
      "\n",
      "\n",
      "Number of segments: 1\n",
      "\n",
      "\n",
      "Number of segments: 2\n",
      "\n",
      "\n",
      "Number of segments: 2\n",
      "\n",
      "\n",
      "Number of segments: 2\n",
      "\n",
      "\n",
      "Number of segments: 1\n",
      "\n",
      "\n",
      "Number of segments: 2\n",
      "\n",
      "\n",
      "Number of segments: 2\n",
      "\n",
      "\n",
      "Number of segments: 1\n",
      "\n",
      "\n",
      "Number of segments: 1\n",
      "\n",
      "\n",
      "Number of segments: 2\n",
      "\n",
      "\n",
      "Number of segments: 2\n",
      "\n",
      "\n",
      "Number of segments: 2\n",
      "\n",
      "\n",
      "Number of segments: 2\n",
      "\n",
      "\n",
      "Number of segments: 1\n",
      "\n",
      "\n",
      "Number of segments: 1\n",
      "\n",
      "\n",
      "Number of segments: 1\n",
      "\n",
      "\n",
      "Number of segments: 1\n",
      "\n",
      "\n",
      "Number of segments: 2\n",
      "\n",
      "\n",
      "Number of segments: 1\n",
      "\n",
      "\n",
      "Number of segments: 2\n",
      "\n",
      "\n",
      "Number of segments: 2\n",
      "\n",
      "\n",
      "Number of segments: 3\n",
      "\n",
      "\n",
      "Number of segments: 2\n",
      "\n",
      "\n",
      "Number of segments: 5\n",
      "\n",
      "\n",
      "Number of segments: 4\n",
      "\n",
      "\n",
      "Number of segments: 1\n",
      "\n",
      "\n",
      "Number of segments: 1\n",
      "\n",
      "\n",
      "Number of segments: 2\n",
      "\n",
      "\n",
      "Number of segments: 1\n",
      "\n",
      "\n",
      "Number of segments: 3\n",
      "\n",
      "\n",
      "Number of segments: 3\n",
      "\n",
      "\n",
      "Number of segments: 2\n",
      "\n",
      "\n",
      "Number of segments: 2\n",
      "\n",
      "\n",
      "Number of segments: 2\n",
      "\n",
      "\n",
      "Number of segments: 1\n",
      "\n",
      "\n",
      "Number of segments: 1\n",
      "\n",
      "\n",
      "Number of segments: 1\n",
      "\n",
      "\n",
      "Number of segments: 1\n",
      "\n",
      "\n",
      "Number of segments: 1\n",
      "\n",
      "\n",
      "Number of segments: 1\n",
      "\n",
      "\n",
      "Number of segments: 2\n",
      "\n",
      "\n",
      "Number of segments: 2\n",
      "\n",
      "\n",
      "Number of segments: 2\n",
      "\n",
      "\n",
      "Number of segments: 2\n",
      "\n",
      "\n",
      "Number of segments: 2\n",
      "\n",
      "\n",
      "Number of segments: 3\n",
      "\n",
      "\n",
      "Number of segments: 2\n",
      "\n",
      "\n",
      "Number of segments: 2\n",
      "\n",
      "\n",
      "Number of segments: 2\n",
      "\n",
      "\n",
      "Number of segments: 1\n",
      "\n",
      "\n",
      "Number of segments: 1\n",
      "\n",
      "\n",
      "Number of segments: 1\n",
      "\n",
      "\n",
      "Number of segments: 2\n",
      "\n",
      "\n",
      "Number of segments: 2\n",
      "\n",
      "\n",
      "Number of segments: 2\n",
      "\n",
      "\n",
      "Number of segments: 2\n",
      "\n",
      "\n",
      "Number of segments: 2\n",
      "\n",
      "\n",
      "Number of segments: 2\n",
      "\n",
      "\n",
      "Number of segments: 2\n",
      "\n",
      "\n",
      "Number of segments: 2\n",
      "\n",
      "\n",
      "Number of segments: 2\n",
      "\n",
      "\n",
      "Number of segments: 1\n",
      "\n",
      "\n",
      "Number of segments: 1\n",
      "\n",
      "\n",
      "Number of segments: 1\n",
      "\n",
      "\n",
      "Number of segments: 2\n",
      "\n",
      "\n",
      "Number of segments: 2\n",
      "\n",
      "\n",
      "Number of segments: 2\n",
      "\n",
      "\n",
      "Number of segments: 2\n",
      "\n",
      "\n",
      "Number of segments: 2\n",
      "\n",
      "\n",
      "Number of segments: 2\n",
      "\n",
      "\n",
      "Number of segments: 1\n",
      "\n",
      "\n",
      "Number of segments: 1\n",
      "\n",
      "\n",
      "Number of segments: 1\n",
      "\n",
      "\n",
      "Number of segments: 2\n",
      "\n",
      "\n",
      "Number of segments: 1\n",
      "\n",
      "\n",
      "Number of segments: 2\n",
      "\n",
      "\n",
      "Number of segments: 3\n",
      "\n",
      "\n",
      "Number of segments: 3\n",
      "\n",
      "\n",
      "Number of segments: 3\n",
      "\n",
      "\n",
      "Number of segments: 2\n",
      "\n",
      "\n",
      "Number of segments: 2\n",
      "\n",
      "\n",
      "Number of segments: 3\n",
      "\n",
      "\n",
      "Number of segments: 2\n",
      "\n",
      "\n",
      "Number of segments: 2\n",
      "\n",
      "\n",
      "Number of segments: 2\n",
      "\n",
      "\n",
      "Number of segments: 2\n",
      "\n",
      "\n",
      "Number of segments: 2\n",
      "\n",
      "\n",
      "Number of segments: 2\n",
      "\n",
      "\n",
      "Number of segments: 1\n",
      "\n",
      "\n",
      "Number of segments: 1\n",
      "\n",
      "\n",
      "Number of segments: 1\n",
      "\n",
      "\n",
      "Number of segments: 2\n",
      "\n",
      "\n",
      "Number of segments: 2\n",
      "\n",
      "\n",
      "Number of segments: 2\n",
      "\n",
      "\n",
      "Number of segments: 2\n",
      "\n",
      "\n",
      "Number of segments: 2\n",
      "\n",
      "\n",
      "Number of segments: 2\n",
      "\n",
      "\n",
      "Number of segments: 1\n",
      "\n",
      "\n",
      "Number of segments: 1\n",
      "\n",
      "\n",
      "Number of segments: 1\n",
      "\n",
      "\n",
      "Number of segments: 2\n",
      "\n",
      "\n",
      "Number of segments: 1\n",
      "\n",
      "\n",
      "Number of segments: 1\n",
      "\n",
      "\n",
      "Number of segments: 1\n",
      "\n",
      "\n",
      "Number of segments: 2\n",
      "\n",
      "\n",
      "Number of segments: 2\n",
      "\n",
      "\n",
      "Number of segments: 2\n",
      "\n",
      "\n",
      "Number of segments: 2\n",
      "\n",
      "\n",
      "Number of segments: 1\n",
      "\n",
      "\n",
      "Number of segments: 1\n",
      "\n",
      "\n",
      "Number of segments: 1\n",
      "\n",
      "\n",
      "Number of segments: 1\n",
      "\n",
      "\n",
      "Number of segments: 1\n",
      "\n",
      "\n",
      "Number of segments: 1\n",
      "\n",
      "\n",
      "Number of segments: 1\n",
      "\n",
      "\n",
      "Number of segments: 1\n",
      "\n",
      "\n",
      "Number of segments: 1\n",
      "\n",
      "\n",
      "Number of segments: 1\n",
      "\n",
      "\n",
      "Number of segments: 2\n",
      "\n",
      "\n",
      "Number of segments: 4\n",
      "\n",
      "\n",
      "Number of segments: 4\n",
      "\n",
      "\n",
      "Number of segments: 2\n",
      "\n",
      "\n",
      "Number of segments: 2\n",
      "\n",
      "\n",
      "Number of segments: 2\n",
      "\n",
      "\n",
      "Number of segments: 2\n",
      "\n",
      "\n",
      "Number of segments: 2\n",
      "\n",
      "\n",
      "Number of segments: 2\n",
      "\n",
      "\n",
      "Number of segments: 3\n",
      "\n",
      "\n",
      "Number of segments: 3\n",
      "\n",
      "\n",
      "Number of segments: 3\n",
      "\n",
      "\n",
      "Number of segments: 2\n",
      "\n",
      "\n",
      "Number of segments: 2\n",
      "\n",
      "\n",
      "Number of segments: 2\n",
      "\n",
      "\n",
      "Number of segments: 1\n",
      "\n",
      "\n",
      "Number of segments: 2\n",
      "\n",
      "\n",
      "Number of segments: 3\n",
      "\n",
      "\n",
      "Number of segments: 3\n",
      "\n",
      "\n",
      "Number of segments: 2\n",
      "\n",
      "\n",
      "Number of segments: 3\n",
      "\n",
      "\n",
      "Number of segments: 2\n",
      "\n",
      "\n",
      "Number of segments: 2\n",
      "\n",
      "\n",
      "Number of segments: 2\n",
      "\n",
      "\n",
      "Number of segments: 1\n",
      "\n",
      "\n",
      "Number of segments: 1\n",
      "\n",
      "\n",
      "Number of segments: 1\n",
      "\n",
      "\n",
      "Number of segments: 1\n",
      "\n",
      "\n",
      "Number of segments: 3\n",
      "\n",
      "\n",
      "Number of segments: 3\n",
      "\n",
      "\n",
      "Number of segments: 1\n",
      "\n",
      "\n",
      "Number of segments: 2\n",
      "\n",
      "\n",
      "Number of segments: 2\n",
      "\n",
      "\n",
      "Number of segments: 2\n",
      "\n",
      "\n",
      "Number of segments: 1\n",
      "\n",
      "\n",
      "Number of segments: 1\n",
      "\n",
      "\n",
      "Number of segments: 3\n",
      "\n",
      "\n",
      "Number of segments: 2\n",
      "\n",
      "\n",
      "Number of segments: 5\n",
      "\n",
      "\n",
      "Number of segments: 2\n",
      "\n",
      "\n",
      "Number of segments: 2\n",
      "\n",
      "\n",
      "Number of segments: 2\n",
      "\n",
      "\n",
      "Number of segments: 3\n",
      "\n",
      "\n",
      "Number of segments: 3\n",
      "\n",
      "\n",
      "Number of segments: 2\n",
      "\n",
      "\n",
      "Number of segments: 2\n",
      "\n",
      "\n",
      "Number of segments: 3\n",
      "\n",
      "\n",
      "Number of segments: 3\n",
      "\n",
      "\n",
      "Number of segments: 2\n",
      "\n",
      "\n",
      "Number of segments: 3\n",
      "\n",
      "\n",
      "Number of segments: 3\n",
      "\n",
      "\n",
      "Number of segments: 2\n",
      "\n",
      "\n",
      "Number of segments: 2\n",
      "\n",
      "\n",
      "Number of segments: 2\n",
      "\n",
      "\n",
      "Number of segments: 1\n",
      "\n",
      "\n",
      "Number of segments: 1\n",
      "\n",
      "\n",
      "Number of segments: 2\n",
      "\n",
      "\n",
      "Number of segments: 1\n",
      "\n",
      "\n",
      "Number of segments: 2\n",
      "\n",
      "\n",
      "Number of segments: 2\n",
      "\n",
      "\n",
      "Number of segments: 1\n",
      "\n",
      "\n",
      "Number of segments: 1\n",
      "\n",
      "\n",
      "Number of segments: 1\n",
      "\n",
      "\n",
      "Number of segments: 2\n",
      "\n",
      "\n",
      "Number of segments: 2\n",
      "\n",
      "\n",
      "Number of segments: 2\n",
      "\n",
      "\n",
      "Number of segments: 2\n",
      "\n",
      "\n",
      "Number of segments: 2\n",
      "\n",
      "\n",
      "Number of segments: 2\n",
      "\n",
      "\n",
      "Number of segments: 1\n",
      "\n",
      "\n",
      "Number of segments: 1\n",
      "\n",
      "\n",
      "Number of segments: 1\n",
      "\n",
      "\n",
      "Number of segments: 3\n",
      "\n",
      "\n",
      "Number of segments: 2\n",
      "\n",
      "\n",
      "Number of segments: 3\n",
      "\n",
      "\n",
      "Number of segments: 1\n",
      "\n",
      "\n",
      "Number of segments: 2\n",
      "\n",
      "\n",
      "Number of segments: 2\n",
      "\n",
      "\n",
      "Number of segments: 2\n",
      "\n",
      "\n",
      "Number of segments: 1\n",
      "\n",
      "\n",
      "Number of segments: 2\n",
      "\n",
      "\n",
      "Number of segments: 1\n",
      "\n",
      "\n",
      "Number of segments: 1\n",
      "\n",
      "\n",
      "Number of segments: 1\n",
      "\n",
      "\n",
      "Number of segments: 2\n",
      "\n",
      "\n",
      "Number of segments: 2\n",
      "\n",
      "\n",
      "Number of segments: 2\n",
      "\n",
      "\n",
      "Number of segments: 2\n",
      "\n",
      "\n",
      "Number of segments: 3\n",
      "\n",
      "\n",
      "Number of segments: 2\n",
      "\n",
      "\n",
      "Number of segments: 1\n",
      "\n",
      "\n",
      "Number of segments: 2\n",
      "\n",
      "\n",
      "Number of segments: 2\n",
      "\n",
      "\n",
      "Number of segments: 1\n",
      "\n",
      "\n",
      "Number of segments: 1\n",
      "\n",
      "\n",
      "Number of segments: 2\n",
      "\n",
      "\n",
      "Number of segments: 1\n",
      "\n",
      "\n",
      "Number of segments: 2\n",
      "\n",
      "\n",
      "Number of segments: 2\n",
      "\n",
      "\n",
      "Number of segments: 1\n",
      "\n",
      "\n",
      "Number of segments: 2\n",
      "\n",
      "\n",
      "Number of segments: 1\n",
      "\n",
      "\n",
      "Number of segments: 2\n",
      "\n",
      "\n",
      "Number of segments: 2\n",
      "\n",
      "\n",
      "Number of segments: 2\n",
      "\n",
      "\n",
      "Number of segments: 2\n",
      "\n",
      "\n",
      "Number of segments: 2\n",
      "\n",
      "\n",
      "Number of segments: 2\n",
      "\n",
      "\n",
      "Number of segments: 1\n",
      "\n",
      "\n",
      "Number of segments: 3\n",
      "\n",
      "\n",
      "Number of segments: 2\n",
      "\n",
      "\n",
      "Number of segments: 2\n",
      "\n",
      "\n",
      "Number of segments: 3\n",
      "\n",
      "\n",
      "Number of segments: 3\n",
      "\n",
      "\n",
      "Number of segments: 2\n",
      "\n",
      "\n",
      "Number of segments: 2\n",
      "\n",
      "\n",
      "Number of segments: 3\n",
      "\n",
      "\n",
      "Number of segments: 2\n",
      "\n",
      "\n",
      "Number of segments: 2\n",
      "\n",
      "\n",
      "Number of segments: 4\n",
      "\n",
      "\n",
      "Number of segments: 2\n",
      "\n",
      "\n",
      "Number of segments: 3\n",
      "\n",
      "\n",
      "Number of segments: 3\n",
      "\n",
      "\n",
      "Number of segments: 1\n",
      "\n",
      "\n",
      "Number of segments: 1\n",
      "\n",
      "\n",
      "Number of segments: 1\n",
      "\n",
      "\n",
      "Number of segments: 1\n",
      "\n",
      "\n",
      "Number of segments: 1\n",
      "\n",
      "\n",
      "Number of segments: 1\n",
      "\n",
      "\n",
      "Number of segments: 2\n",
      "\n",
      "\n",
      "Number of segments: 1\n",
      "\n",
      "\n",
      "Number of segments: 3\n",
      "\n",
      "\n",
      "Number of segments: 2\n",
      "\n",
      "\n",
      "Number of segments: 2\n",
      "\n",
      "\n",
      "Number of segments: 2\n",
      "\n",
      "\n",
      "Number of segments: 2\n",
      "\n",
      "\n",
      "Number of segments: 2\n",
      "\n",
      "\n",
      "Number of segments: 1\n",
      "\n",
      "\n",
      "Number of segments: 2\n",
      "\n",
      "\n",
      "Number of segments: 2\n",
      "\n",
      "\n",
      "Number of segments: 1\n",
      "\n",
      "\n",
      "Number of segments: 2\n",
      "\n",
      "\n",
      "Number of segments: 1\n",
      "\n",
      "\n",
      "Number of segments: 1\n",
      "\n",
      "\n",
      "Number of segments: 1\n",
      "\n",
      "\n",
      "Number of segments: 1\n",
      "\n",
      "\n",
      "Number of segments: 1\n",
      "\n",
      "\n",
      "Number of segments: 1\n",
      "\n",
      "\n",
      "Number of segments: 1\n",
      "\n",
      "\n",
      "Number of segments: 1\n",
      "\n",
      "\n",
      "Number of segments: 1\n",
      "\n",
      "\n",
      "Number of segments: 1\n",
      "\n",
      "\n",
      "Number of segments: 1\n",
      "\n",
      "\n",
      "Number of segments: 1\n",
      "\n",
      "\n",
      "Number of segments: 1\n",
      "\n",
      "\n",
      "Number of segments: 1\n",
      "\n",
      "\n",
      "Number of segments: 1\n",
      "\n",
      "\n",
      "Number of segments: 1\n",
      "\n",
      "\n",
      "Number of segments: 1\n",
      "\n",
      "\n",
      "Number of segments: 1\n",
      "\n",
      "\n",
      "Number of segments: 1\n",
      "\n",
      "\n",
      "Number of segments: 1\n",
      "\n",
      "\n",
      "Number of segments: 1\n",
      "\n",
      "\n",
      "Number of segments: 2\n",
      "\n",
      "\n",
      "Number of segments: 2\n",
      "\n",
      "\n",
      "Number of segments: 2\n",
      "\n",
      "\n",
      "Number of segments: 1\n",
      "\n",
      "\n",
      "Number of segments: 3\n",
      "\n",
      "\n",
      "Number of segments: 2\n",
      "\n",
      "\n",
      "Number of segments: 3\n",
      "\n",
      "\n",
      "Number of segments: 3\n",
      "\n",
      "\n",
      "Number of segments: 1\n",
      "\n",
      "\n",
      "Number of segments: 3\n",
      "\n",
      "\n",
      "Number of segments: 3\n",
      "\n",
      "\n",
      "Number of segments: 1\n",
      "\n",
      "\n",
      "Number of segments: 2\n",
      "\n",
      "\n",
      "Number of segments: 2\n",
      "\n",
      "\n",
      "Number of segments: 2\n",
      "\n",
      "\n",
      "Number of segments: 2\n",
      "\n",
      "\n",
      "Number of segments: 2\n",
      "\n",
      "\n",
      "Number of segments: 1\n",
      "\n",
      "\n",
      "Number of segments: 3\n",
      "\n",
      "\n",
      "Number of segments: 3\n",
      "\n",
      "\n",
      "Number of segments: 1\n",
      "\n",
      "\n",
      "Number of segments: 1\n",
      "\n",
      "\n",
      "Number of segments: 1\n",
      "\n",
      "\n",
      "Number of segments: 2\n",
      "\n",
      "\n",
      "Number of segments: 1\n",
      "\n",
      "\n",
      "Number of segments: 2\n",
      "\n",
      "\n",
      "Number of segments: 1\n",
      "\n",
      "\n",
      "Number of segments: 1\n",
      "\n",
      "\n",
      "Number of segments: 1\n",
      "\n",
      "\n",
      "Number of segments: 2\n",
      "\n",
      "\n",
      "Number of segments: 3\n",
      "\n",
      "\n",
      "Number of segments: 3\n",
      "\n",
      "\n",
      "Number of segments: 1\n",
      "\n",
      "\n",
      "Number of segments: 1\n",
      "\n",
      "\n",
      "Number of segments: 2\n",
      "\n",
      "\n",
      "Number of segments: 1\n",
      "\n",
      "\n",
      "Number of segments: 1\n",
      "\n",
      "\n",
      "Number of segments: 1\n",
      "\n",
      "\n",
      "Number of segments: 1\n",
      "\n",
      "\n",
      "Number of segments: 2\n",
      "\n",
      "\n",
      "Number of segments: 2\n",
      "\n",
      "\n",
      "Number of segments: 3\n",
      "\n",
      "\n",
      "Number of segments: 1\n",
      "\n",
      "\n",
      "Number of segments: 3\n",
      "\n",
      "\n",
      "Number of segments: 1\n",
      "\n",
      "\n",
      "Number of segments: 2\n",
      "\n",
      "\n",
      "Number of segments: 2\n",
      "\n",
      "\n",
      "Number of segments: 1\n",
      "\n",
      "\n",
      "Number of segments: 3\n",
      "\n",
      "\n",
      "Number of segments: 3\n",
      "\n",
      "\n",
      "Number of segments: 2\n",
      "\n",
      "\n",
      "Number of segments: 2\n",
      "\n",
      "\n",
      "Number of segments: 3\n",
      "\n",
      "\n",
      "Number of segments: 1\n",
      "\n",
      "\n",
      "Number of segments: 3\n",
      "\n",
      "\n",
      "Number of segments: 3\n",
      "\n",
      "\n",
      "Number of segments: 1\n",
      "\n",
      "\n",
      "Number of segments: 1\n",
      "\n",
      "\n",
      "Number of segments: 1\n",
      "\n",
      "\n",
      "Number of segments: 2\n",
      "\n",
      "\n",
      "Number of segments: 2\n",
      "\n",
      "\n",
      "Number of segments: 2\n",
      "\n",
      "\n",
      "Number of segments: 2\n",
      "\n",
      "\n",
      "Number of segments: 2\n",
      "\n",
      "\n",
      "Number of segments: 2\n",
      "\n",
      "\n",
      "Number of segments: 2\n",
      "\n",
      "\n",
      "Number of segments: 2\n",
      "\n",
      "\n",
      "Number of segments: 2\n",
      "\n",
      "\n",
      "Number of segments: 1\n",
      "\n",
      "\n",
      "Number of segments: 1\n",
      "\n",
      "\n",
      "Number of segments: 2\n",
      "\n",
      "\n",
      "Number of segments: 2\n",
      "\n",
      "\n",
      "Number of segments: 2\n",
      "\n",
      "\n",
      "Number of segments: 1\n",
      "\n",
      "\n",
      "Number of segments: 1\n",
      "\n",
      "\n",
      "Number of segments: 2\n",
      "\n",
      "\n",
      "Number of segments: 2\n",
      "\n",
      "\n",
      "Number of segments: 1\n",
      "\n",
      "\n",
      "Number of segments: 1\n",
      "\n",
      "\n",
      "Number of segments: 1\n",
      "\n",
      "\n",
      "Number of segments: 1\n",
      "\n",
      "\n",
      "Number of segments: 1\n",
      "\n",
      "\n",
      "Number of segments: 1\n",
      "\n",
      "\n",
      "Number of segments: 1\n",
      "\n",
      "\n",
      "Number of segments: 1\n",
      "\n",
      "\n",
      "Number of segments: 1\n",
      "\n",
      "\n",
      "Number of segments: 1\n",
      "\n",
      "\n",
      "Number of segments: 1\n",
      "\n",
      "\n",
      "Number of segments: 1\n",
      "\n",
      "\n",
      "Number of segments: 1\n",
      "\n",
      "\n",
      "Number of segments: 1\n",
      "\n",
      "\n",
      "Number of segments: 1\n",
      "\n",
      "branches_without_postsyn_req query = \n",
      "skeletal_length > 10000  and ((synapse_density_offset_endpoint_upstream < 0.00015) or (n_synapses_offset_endpoint_upstream <= 2)) and (n_synapses_pre_offset_endpoint_upstream <= 1) and (width_new > 95) and (width_new < 650) and (n_synapses_spine_offset_endpoint_upstream < 3)\n",
      "No limb branch to plot\n",
      "Starting axon branch was the starting node so using border vertices and NOT computing upstream branch\n",
      "upstream_node_to_axon_starting_branch = None\n",
      "More than 1 seperated mesh (taking the top one): [<trimesh.Trimesh(vertices.shape=(166760, 3), faces.shape=(332472, 3))>\n",
      " <trimesh.Trimesh(vertices.shape=(63, 3), faces.shape=(120, 3))>]\n",
      "invalidation_d = 1500\n",
      "use_adaptive_invalidation_d= False\n",
      "axon_width_preprocess_limb_max = 200\n",
      "filter_end_node_length= 1150\n",
      "filter_end_node_length_meshparty = 1150\n",
      "invalidation_d = 1500\n",
      "root_curr = [606217.5 761733.  911841. ]\n",
      "Time for preparing soma vertices and root: 0.0002541542053222656\n",
      "invalidation_d = 1500\n",
      "smooth_neighborhood = 0\n",
      "cc_vertex_thresh = 10\n"
     ]
    },
    {
     "name": "stderr",
     "output_type": "stream",
     "text": [
      "100%|██████████████████████████████████████████████████████████████████████████████████████████████████████████████████████████████████████████████████████████████████████████████████████████████████████████████████| 1/1 [00:20<00:00, 20.67s/it]\n"
     ]
    },
    {
     "name": "stdout",
     "output_type": "stream",
     "text": [
      "meshparty_segment_size = 100\n",
      "Time for 1st pass MP skeletonization: 22.199188232421875\n",
      "branches_touching_root = [15]\n",
      "combining close nodes\n",
      "combine_threshold = 1300\n",
      "length of Graph = 47118\n",
      "After combining close endpoints max(kept_branches_idx) = 490, len(kept_branches_idx) = 449\n",
      "empty_indices % = 0.0\n",
      " conflict_indices % = 0.028083451415478307\n",
      "Decomposing first pass: 80.3332929611206\n",
      "Only Using MeshParty Skeletonization and Mesh Correspondence\n",
      "Another print\n",
      "Divinding into MP and MAP pieces: 1.5020370483398438e-05\n",
      "Total time for MAP sublimb processing 3.5762786865234375e-06\n",
      "---- Working on MP Decomposition #0 ----\n",
      "Using Quicker soma_to_piece_touching_vertices because no MAP and only one sublimb_mesh piece \n",
      "MP filtering soma verts: 3.552436828613281e-05\n",
      "Fixing Possible Soma Extension Branch for Sublimb 0\n",
      "Total time for mesh KDTree = 0.003998994827270508\n",
      "sbv[0].reshape(-1,3) = [[606217.5 761733.  911841. ]]\n",
      "closest_sk_pt_coord BEFORE = [607085.45171222 761489.43217667 911789.29988978]\n",
      "current_skeleton.shape = (31, 2, 3)\n",
      "node_for_stitch = 28: [607085.45171222 761489.43217667 911789.29988978]\n",
      "node_for_stitch AFTER = 28: [607085.45171222 761489.43217667 911789.29988978]\n",
      "possible_node_loc = [ 7 31]\n",
      "possible_node_loc AFTER = [ 7 31]\n",
      "curr_shortest_path = [28, 29.0, 30.0, 31]\n",
      "Current stitch point was not a branch or endpoint, shortest_path_length to one = 276.6427372191156\n",
      "Changing the stitch point becasue the distance to end or branch node was 276.6427372191156\n",
      "New stitch point has degree 1\n",
      "change_status for create soma extending pieces = True\n",
      "closest_sk_pt_coord AFTER = [607212.4 761727.8 911846.2]\n",
      "skipping soma 0 because closest skeleton node was already end node\n",
      "endpoints_must_keep = {0: array([[607212.4, 761727.8, 911846.2]])}\n",
      "match_sk_branches = [56]\n",
      "The new branch info was none so skipping \n",
      "\n",
      "No soma extending branch was added for this sublimb even though it had a soma border (means they already existed)\n",
      "MP (because soma touching verts) soma extension add: 0.6823544502258301\n",
      "There were not both MAP and MP pieces so skipping the stitch resolving phase\n",
      "Time for decomp of Limb = 104.80859422683716\n",
      "Number of matching vertices = 19\n",
      "Only one endpoint after filtering away the endpoints that are not on the skeleton\n",
      "Removed 0 skeletal branches\n",
      "332471 332472\n",
      "For marked faces: None\n",
      "empty_indices % = 0.0\n",
      " conflict_indices % = 0.0\n",
      "Limb Correspondence before stitching = 449\n",
      "Filtering away non soma floating pieces near the soma\n",
      "Before filter # of pieces = 0\n",
      "AFTER filter # of pieces = 0\n",
      "Starting the floating pieces preprocessing\n",
      "Floating 0: <trimesh.Trimesh(vertices.shape=(63, 3), faces.shape=(120, 3))>\n",
      "invalidation_d = 1500\n",
      "use_adaptive_invalidation_d= False\n",
      "axon_width_preprocess_limb_max = 200\n",
      "filter_end_node_length= 1150\n",
      "filter_end_node_length_meshparty = 1150\n",
      "invalidation_d = 1500\n",
      "root_curr = None\n",
      "Time for preparing soma vertices and root: 5.7220458984375e-06\n",
      "invalidation_d = 1500\n",
      "smooth_neighborhood = 0\n",
      "cc_vertex_thresh = 10\n"
     ]
    },
    {
     "name": "stderr",
     "output_type": "stream",
     "text": [
      "100%|█████████████████████████████████████████████████████████████████████████████████████████████████████████████████████████████████████████████████████████████████████████████████████████████████████████████████| 1/1 [00:00<00:00, 382.03it/s]"
     ]
    },
    {
     "name": "stdout",
     "output_type": "stream",
     "text": [
      "meshparty_segment_size = 100\n",
      "Time for 1st pass MP skeletonization: 0.013643980026245117\n",
      "branches_touching_root = [0]\n",
      "combining close nodes\n",
      "combine_threshold = 1300\n",
      "length of Graph = 21\n",
      "After combining close endpoints max(kept_branches_idx) = 0, len(kept_branches_idx) = 1\n",
      "empty_indices % = 0.0\n",
      " conflict_indices % = 0.0\n",
      "Decomposing first pass: 0.022297143936157227\n",
      "Only Using MeshParty Skeletonization and Mesh Correspondence\n",
      "Another print\n",
      "Divinding into MP and MAP pieces: 6.198883056640625e-05\n",
      "Total time for MAP sublimb processing 1.9073486328125e-06\n",
      "---- Working on MP Decomposition #0 ----\n",
      "Using Quicker soma_to_piece_touching_vertices because no MAP and only one sublimb_mesh piece \n",
      "MP filtering soma verts: 1.9311904907226562e-05\n",
      "Do Not Need to Fix MP Decomposition 0 so just continuing\n",
      "There were not both MAP and MP pieces so skipping the stitch resolving phase\n",
      "Time for decomp of Limb = 0.03715634346008301\n",
      "Removed 0 skeletal branches\n",
      "119 120\n",
      "For marked faces: None\n",
      "empty_indices % = 0.0\n",
      " conflict_indices % = 0.0\n"
     ]
    },
    {
     "name": "stderr",
     "output_type": "stream",
     "text": [
      "\n"
     ]
    },
    {
     "data": {
      "application/vnd.jupyter.widget-view+json": {
       "model_id": "8b3ee683a14d4b3f8ea364a2fb995b91",
       "version_major": 2,
       "version_minor": 0
      },
      "text/plain": [
       "Container(figure=Figure(box_center=[0.5, 0.5, 0.5], box_size=[1.0, 1.0, 1.0], camera=PerspectiveCamera(fov=45.…"
      ]
     },
     "metadata": {},
     "output_type": "display_data"
    },
    {
     "name": "stdout",
     "output_type": "stream",
     "text": [
      "--> time = 0.10214853286743164\n",
      "concept_network_dict = {0: [<datasci_tools.networkx_utils.GraphOrderedEdges object at 0x7f5613c61730>]}\n",
      "\n",
      "\n",
      "----Working on seperate_graph 0----\n",
      "\n",
      "\n",
      "---------Working on soma_idx = 0, soma_group_idx 0, endpt = [607212.4 761727.8 911846.2]---------\n",
      "Starting_edge inside branches_to_conept = [[606459.1 760534.7 912002.4]\n",
      " [607212.4 761727.8 911846.2]]\n",
      "At the start, starting_node (in terms of the skeleton, that shouldn't match the starting edge) = [435]\n",
      "printing out current edge:\n",
      "[[607212.4 761727.8 911846.2]\n",
      " [606459.1 760534.7 912002.4]]\n",
      "edge_endpoints_to_process was empty so exiting loop after 450 iterations\n",
      "starting_node in concept map (that should match the starting edge) = 440\n",
      "Total time for branches to concept conversion = 3.9834787845611572\n",
      "\n",
      "Done generating concept network \n",
      "\n",
      "\n",
      "\n",
      "Number of segments: 5\n",
      "\n",
      "\n",
      "Number of segments: 6\n",
      "\n",
      "\n",
      "Number of segments: 17\n",
      "\n",
      "\n",
      "Number of segments: 1\n",
      "\n",
      "\n",
      "Number of segments: 2\n",
      "\n",
      "\n",
      "Number of segments: 4\n",
      "\n",
      "\n",
      "Number of segments: 5\n",
      "\n",
      "\n",
      "Number of segments: 3\n",
      "\n",
      "\n",
      "Number of segments: 3\n",
      "\n",
      "\n",
      "Number of segments: 7\n",
      "\n",
      "\n",
      "Number of segments: 10\n",
      "\n",
      "\n",
      "Number of segments: 8\n",
      "\n",
      "\n",
      "Number of segments: 11\n",
      "\n",
      "\n",
      "Number of segments: 4\n",
      "\n",
      "\n",
      "Number of segments: 12\n",
      "\n",
      "\n",
      "Number of segments: 7\n",
      "\n",
      "\n",
      "Number of segments: 19\n",
      "\n",
      "\n",
      "Number of segments: 10\n",
      "\n",
      "\n",
      "Number of segments: 6\n",
      "\n",
      "\n",
      "Number of segments: 5\n",
      "\n",
      "\n",
      "Number of segments: 8\n",
      "\n",
      "\n",
      "Number of segments: 8\n",
      "\n",
      "\n",
      "Number of segments: 7\n",
      "\n",
      "\n",
      "Number of segments: 10\n",
      "\n",
      "\n",
      "Number of segments: 6\n",
      "\n",
      "\n",
      "Number of segments: 17\n",
      "\n",
      "\n",
      "Number of segments: 23\n",
      "\n",
      "\n",
      "Number of segments: 7\n",
      "\n",
      "\n",
      "Number of segments: 2\n",
      "\n",
      "\n",
      "Number of segments: 3\n",
      "\n",
      "\n",
      "Number of segments: 5\n",
      "\n",
      "\n",
      "Number of segments: 5\n",
      "\n",
      "\n",
      "Number of segments: 9\n",
      "\n",
      "\n",
      "Number of segments: 32\n",
      "\n",
      "\n",
      "Number of segments: 8\n",
      "\n",
      "\n",
      "Number of segments: 6\n",
      "\n",
      "\n",
      "Number of segments: 4\n",
      "\n",
      "\n",
      "Number of segments: 2\n",
      "\n",
      "\n",
      "Number of segments: 12\n",
      "\n",
      "\n",
      "Number of segments: 5\n",
      "\n",
      "\n",
      "Number of segments: 3\n",
      "\n",
      "\n",
      "Number of segments: 39\n",
      "\n",
      "\n",
      "Number of segments: 12\n",
      "\n",
      "\n",
      "Number of segments: 7\n",
      "\n",
      "\n",
      "Number of segments: 32\n",
      "\n",
      "\n",
      "Number of segments: 9\n",
      "\n",
      "\n",
      "Number of segments: 41\n",
      "\n",
      "\n",
      "Number of segments: 5\n",
      "\n",
      "\n",
      "Number of segments: 21\n",
      "\n",
      "\n",
      "Number of segments: 15\n",
      "\n",
      "\n",
      "Number of segments: 11\n",
      "\n",
      "\n",
      "Number of segments: 11\n",
      "\n",
      "\n",
      "Number of segments: 6\n",
      "\n",
      "\n",
      "Number of segments: 16\n",
      "\n",
      "\n",
      "Number of segments: 5\n",
      "\n",
      "\n",
      "Number of segments: 6\n",
      "\n",
      "\n",
      "Number of segments: 3\n",
      "\n",
      "\n",
      "Number of segments: 6\n",
      "\n",
      "\n",
      "Number of segments: 9\n",
      "\n",
      "\n",
      "Number of segments: 4\n",
      "\n",
      "\n",
      "Number of segments: 10\n",
      "\n",
      "\n",
      "Number of segments: 12\n",
      "\n",
      "\n",
      "Number of segments: 10\n",
      "\n",
      "\n",
      "Number of segments: 7\n",
      "\n",
      "\n",
      "Number of segments: 8\n",
      "\n",
      "\n",
      "Number of segments: 10\n",
      "\n",
      "\n",
      "Number of segments: 3\n",
      "\n",
      "\n",
      "Number of segments: 12\n",
      "\n",
      "\n",
      "Number of segments: 9\n",
      "\n",
      "\n",
      "Number of segments: 6\n",
      "\n",
      "\n",
      "Number of segments: 14\n",
      "\n",
      "\n",
      "Number of segments: 8\n",
      "\n",
      "\n",
      "Number of segments: 38\n",
      "\n",
      "\n",
      "Number of segments: 8\n",
      "\n",
      "\n",
      "Number of segments: 6\n",
      "\n",
      "\n",
      "Number of segments: 5\n",
      "\n",
      "\n",
      "Number of segments: 5\n",
      "\n",
      "\n",
      "Number of segments: 12\n",
      "\n",
      "\n",
      "Number of segments: 2\n",
      "\n",
      "\n",
      "Number of segments: 19\n",
      "\n",
      "\n",
      "Number of segments: 4\n",
      "\n",
      "\n",
      "Number of segments: 7\n",
      "\n",
      "\n",
      "Number of segments: 4\n",
      "\n",
      "\n",
      "Number of segments: 7\n",
      "\n",
      "\n",
      "Number of segments: 13\n",
      "\n",
      "\n",
      "Number of segments: 3\n",
      "\n",
      "\n",
      "Number of segments: 4\n",
      "\n",
      "\n",
      "Number of segments: 12\n",
      "\n",
      "\n",
      "Number of segments: 10\n",
      "\n",
      "\n",
      "Number of segments: 6\n",
      "\n",
      "\n",
      "Number of segments: 4\n",
      "\n",
      "\n",
      "Number of segments: 5\n",
      "\n",
      "\n",
      "Number of segments: 7\n",
      "\n",
      "\n",
      "Number of segments: 6\n",
      "\n",
      "\n",
      "Number of segments: 10\n",
      "\n",
      "\n",
      "Number of segments: 8\n",
      "\n",
      "\n",
      "Number of segments: 3\n",
      "\n",
      "\n",
      "Number of segments: 16\n",
      "\n",
      "\n",
      "Number of segments: 8\n",
      "\n",
      "\n",
      "Number of segments: 10\n",
      "\n",
      "\n",
      "Number of segments: 3\n",
      "\n",
      "\n",
      "Number of segments: 5\n",
      "\n",
      "\n",
      "Number of segments: 3\n",
      "\n",
      "\n",
      "Number of segments: 4\n",
      "\n",
      "\n",
      "Number of segments: 28\n",
      "\n",
      "\n",
      "Number of segments: 5\n",
      "\n",
      "\n",
      "Number of segments: 6\n",
      "\n",
      "\n",
      "Number of segments: 22\n",
      "\n",
      "\n",
      "Number of segments: 7\n",
      "\n",
      "\n",
      "Number of segments: 4\n",
      "\n",
      "\n",
      "Number of segments: 5\n",
      "\n",
      "\n",
      "Number of segments: 4\n",
      "\n",
      "\n",
      "Number of segments: 16\n",
      "\n",
      "\n",
      "Number of segments: 2\n",
      "\n",
      "\n",
      "Number of segments: 2\n",
      "\n",
      "\n",
      "Number of segments: 10\n",
      "\n",
      "\n",
      "Number of segments: 7\n",
      "\n",
      "\n",
      "Number of segments: 13\n",
      "\n",
      "\n",
      "Number of segments: 5\n",
      "\n",
      "\n",
      "Number of segments: 4\n",
      "\n",
      "\n",
      "Number of segments: 17\n",
      "\n",
      "\n",
      "Number of segments: 4\n",
      "\n",
      "\n",
      "Number of segments: 3\n",
      "\n",
      "\n",
      "Number of segments: 3\n",
      "\n",
      "\n",
      "Number of segments: 2\n",
      "\n",
      "\n",
      "Number of segments: 3\n",
      "\n",
      "\n",
      "Number of segments: 6\n",
      "\n",
      "\n",
      "Number of segments: 36\n",
      "\n",
      "\n",
      "Number of segments: 11\n",
      "\n",
      "\n",
      "Number of segments: 5\n",
      "\n",
      "\n",
      "Number of segments: 6\n",
      "\n",
      "\n",
      "Number of segments: 7\n",
      "\n",
      "\n",
      "Number of segments: 14\n",
      "\n",
      "\n",
      "Number of segments: 2\n",
      "\n",
      "\n",
      "Number of segments: 18\n",
      "\n",
      "\n",
      "Number of segments: 5\n",
      "\n",
      "\n",
      "Number of segments: 5\n",
      "\n",
      "\n",
      "Number of segments: 3\n",
      "\n",
      "\n",
      "Number of segments: 12\n",
      "\n",
      "\n",
      "Number of segments: 4\n",
      "\n",
      "\n",
      "Number of segments: 3\n",
      "\n",
      "\n",
      "Number of segments: 9\n",
      "\n",
      "\n",
      "Number of segments: 43\n",
      "\n",
      "\n",
      "Number of segments: 7\n",
      "\n",
      "\n",
      "Number of segments: 7\n",
      "\n",
      "\n",
      "Number of segments: 12\n",
      "\n",
      "\n",
      "Number of segments: 2\n",
      "\n",
      "\n",
      "Number of segments: 25\n",
      "\n",
      "\n",
      "Number of segments: 6\n",
      "\n",
      "\n",
      "Number of segments: 4\n",
      "\n",
      "\n",
      "Number of segments: 14\n",
      "\n",
      "\n",
      "Number of segments: 5\n",
      "\n",
      "\n",
      "Number of segments: 12\n",
      "\n",
      "\n",
      "Number of segments: 14\n",
      "\n",
      "\n",
      "Number of segments: 2\n",
      "\n",
      "\n",
      "Number of segments: 12\n",
      "\n",
      "\n",
      "Number of segments: 9\n",
      "\n",
      "\n",
      "Number of segments: 4\n",
      "\n",
      "\n",
      "Number of segments: 5\n",
      "\n",
      "\n",
      "Number of segments: 9\n",
      "\n",
      "\n",
      "Number of segments: 21\n",
      "\n",
      "\n",
      "Number of segments: 4\n",
      "\n",
      "\n",
      "Number of segments: 21\n",
      "\n",
      "\n",
      "Number of segments: 5\n",
      "\n",
      "\n",
      "Number of segments: 5\n",
      "\n",
      "\n",
      "Number of segments: 6\n",
      "\n",
      "\n",
      "Number of segments: 8\n",
      "\n",
      "\n",
      "Number of segments: 6\n",
      "\n",
      "\n",
      "Number of segments: 12\n",
      "\n",
      "\n",
      "Number of segments: 31\n",
      "\n",
      "\n",
      "Number of segments: 20\n",
      "\n",
      "\n",
      "Number of segments: 28\n",
      "\n",
      "\n",
      "Number of segments: 15\n",
      "\n",
      "\n",
      "Number of segments: 24\n",
      "\n",
      "\n",
      "Number of segments: 37\n",
      "\n",
      "\n",
      "Number of segments: 9\n",
      "\n",
      "\n",
      "Number of segments: 10\n",
      "\n",
      "\n",
      "Number of segments: 9\n",
      "\n",
      "\n",
      "Number of segments: 12\n",
      "\n",
      "\n",
      "Number of segments: 19\n",
      "\n",
      "\n",
      "Number of segments: 11\n",
      "\n",
      "\n",
      "Number of segments: 15\n",
      "\n",
      "\n",
      "Number of segments: 19\n",
      "\n",
      "\n",
      "Number of segments: 5\n",
      "\n",
      "\n",
      "Number of segments: 12\n",
      "\n",
      "\n",
      "Number of segments: 17\n",
      "\n",
      "\n",
      "Number of segments: 9\n",
      "\n",
      "\n",
      "Number of segments: 13\n",
      "\n",
      "\n",
      "Number of segments: 11\n",
      "\n",
      "\n",
      "Number of segments: 14\n",
      "\n",
      "\n",
      "Number of segments: 45\n",
      "\n",
      "\n",
      "Number of segments: 15\n",
      "\n",
      "\n",
      "Number of segments: 13\n",
      "\n",
      "\n",
      "Number of segments: 10\n",
      "\n",
      "\n",
      "Number of segments: 14\n",
      "\n",
      "\n",
      "Number of segments: 27\n",
      "\n",
      "\n",
      "Number of segments: 8\n",
      "\n",
      "\n",
      "Number of segments: 18\n",
      "\n",
      "\n",
      "Number of segments: 22\n",
      "\n",
      "\n",
      "Number of segments: 20\n",
      "\n",
      "\n",
      "Number of segments: 13\n",
      "\n",
      "\n",
      "Number of segments: 18\n",
      "\n",
      "\n",
      "Number of segments: 17\n",
      "\n",
      "\n",
      "Number of segments: 19\n",
      "\n",
      "\n",
      "Number of segments: 15\n",
      "\n",
      "\n",
      "Number of segments: 23\n",
      "\n",
      "\n",
      "Number of segments: 10\n",
      "\n",
      "\n",
      "Number of segments: 11\n",
      "\n",
      "\n",
      "Number of segments: 25\n",
      "\n",
      "\n",
      "Number of segments: 10\n",
      "\n",
      "\n",
      "Number of segments: 32\n",
      "\n",
      "\n",
      "Number of segments: 37\n",
      "\n",
      "\n",
      "Number of segments: 25\n",
      "\n",
      "\n",
      "Number of segments: 47\n",
      "\n",
      "\n",
      "Number of segments: 40\n",
      "\n",
      "\n",
      "Number of segments: 25\n",
      "\n",
      "\n",
      "Number of segments: 9\n",
      "\n",
      "\n",
      "Number of segments: 53\n",
      "\n",
      "\n",
      "Number of segments: 28\n",
      "\n",
      "\n",
      "Number of segments: 12\n",
      "\n",
      "\n",
      "Number of segments: 6\n",
      "\n",
      "\n",
      "Number of segments: 17\n",
      "\n",
      "\n",
      "Number of segments: 57\n",
      "\n",
      "\n",
      "Number of segments: 56\n",
      "\n",
      "\n",
      "Number of segments: 12\n",
      "\n",
      "\n",
      "Number of segments: 31\n",
      "\n",
      "\n",
      "Number of segments: 12\n",
      "\n",
      "\n",
      "Number of segments: 68\n",
      "\n",
      "\n",
      "Number of segments: 71\n",
      "\n",
      "\n",
      "Number of segments: 45\n",
      "\n",
      "\n",
      "Number of segments: 26\n",
      "\n",
      "\n",
      "Number of segments: 35\n",
      "\n",
      "\n",
      "Number of segments: 13\n",
      "\n",
      "\n",
      "Number of segments: 6\n",
      "\n",
      "\n",
      "Number of segments: 27\n",
      "\n",
      "\n",
      "Number of segments: 11\n",
      "\n",
      "\n",
      "Number of segments: 12\n",
      "\n",
      "\n",
      "Number of segments: 15\n",
      "\n",
      "\n",
      "Number of segments: 10\n",
      "\n",
      "\n",
      "Number of segments: 15\n",
      "\n",
      "\n",
      "Number of segments: 21\n",
      "\n",
      "\n",
      "Number of segments: 24\n",
      "\n",
      "\n",
      "Number of segments: 9\n",
      "\n",
      "\n",
      "Number of segments: 13\n",
      "\n",
      "\n",
      "Number of segments: 34\n",
      "\n",
      "\n",
      "Number of segments: 16\n",
      "\n",
      "\n",
      "Number of segments: 62\n",
      "\n",
      "\n",
      "Number of segments: 12\n",
      "\n",
      "\n",
      "Number of segments: 16\n",
      "\n",
      "\n",
      "Number of segments: 13\n",
      "\n",
      "\n",
      "Number of segments: 13\n",
      "\n",
      "\n",
      "Number of segments: 78\n",
      "\n",
      "\n",
      "Number of segments: 7\n",
      "\n",
      "\n",
      "Number of segments: 68\n",
      "\n",
      "\n",
      "Number of segments: 39\n",
      "\n",
      "\n",
      "Number of segments: 21\n",
      "\n",
      "\n",
      "Number of segments: 53\n",
      "\n",
      "\n",
      "Number of segments: 21\n",
      "\n",
      "\n",
      "Number of segments: 27\n",
      "\n",
      "\n",
      "Number of segments: 34\n",
      "\n",
      "\n",
      "Number of segments: 24\n",
      "\n",
      "\n",
      "Number of segments: 25\n",
      "\n",
      "\n",
      "Number of segments: 22\n",
      "\n",
      "\n",
      "Number of segments: 41\n",
      "\n",
      "\n",
      "Number of segments: 10\n",
      "\n",
      "\n",
      "Number of segments: 15\n",
      "\n",
      "\n",
      "Number of segments: 18\n",
      "\n",
      "\n",
      "Number of segments: 11\n",
      "\n",
      "\n",
      "Number of segments: 51\n",
      "\n",
      "\n",
      "Number of segments: 16\n",
      "\n",
      "\n",
      "Number of segments: 9\n",
      "\n",
      "\n",
      "Number of segments: 12\n",
      "\n",
      "\n",
      "Number of segments: 43\n",
      "\n",
      "\n",
      "Number of segments: 15\n",
      "\n",
      "\n",
      "Number of segments: 9\n",
      "\n",
      "\n",
      "Number of segments: 62\n",
      "\n",
      "\n",
      "Number of segments: 80\n",
      "\n",
      "\n",
      "Number of segments: 15\n",
      "\n",
      "\n",
      "Number of segments: 51\n",
      "\n",
      "\n",
      "Number of segments: 21\n",
      "\n",
      "\n",
      "Number of segments: 21\n",
      "\n",
      "\n",
      "Number of segments: 52\n",
      "\n",
      "\n",
      "Number of segments: 44\n",
      "\n",
      "\n",
      "Number of segments: 32\n",
      "\n",
      "\n",
      "Number of segments: 52\n",
      "\n",
      "\n",
      "Number of segments: 33\n",
      "\n",
      "\n",
      "Number of segments: 11\n",
      "\n",
      "\n",
      "Number of segments: 15\n",
      "\n",
      "\n",
      "Number of segments: 17\n",
      "\n",
      "\n",
      "Number of segments: 24\n",
      "\n",
      "\n",
      "Number of segments: 63\n",
      "\n",
      "\n",
      "Number of segments: 45\n",
      "\n",
      "\n",
      "Number of segments: 54\n",
      "\n",
      "\n",
      "Number of segments: 40\n",
      "\n",
      "\n",
      "Number of segments: 87\n",
      "\n",
      "\n",
      "Number of segments: 33\n",
      "\n",
      "\n",
      "Number of segments: 30\n",
      "\n",
      "\n",
      "Number of segments: 11\n",
      "\n",
      "\n",
      "Number of segments: 20\n",
      "\n",
      "\n",
      "Number of segments: 7\n",
      "\n",
      "\n",
      "Number of segments: 14\n",
      "\n",
      "\n",
      "Number of segments: 27\n",
      "\n",
      "\n",
      "Number of segments: 16\n",
      "\n",
      "\n",
      "Number of segments: 50\n",
      "\n",
      "\n",
      "Number of segments: 25\n",
      "\n",
      "\n",
      "Number of segments: 11\n",
      "\n",
      "\n",
      "Number of segments: 49\n",
      "\n",
      "\n",
      "Number of segments: 71\n",
      "\n",
      "\n",
      "Number of segments: 41\n",
      "\n",
      "\n",
      "Number of segments: 45\n",
      "\n",
      "\n",
      "Number of segments: 70\n",
      "\n",
      "\n",
      "Number of segments: 23\n",
      "\n",
      "\n",
      "Number of segments: 24\n",
      "\n",
      "\n",
      "Number of segments: 13\n",
      "\n",
      "\n",
      "Number of segments: 11\n",
      "\n",
      "\n",
      "Number of segments: 15\n",
      "\n",
      "\n",
      "Number of segments: 26\n",
      "\n",
      "\n",
      "Number of segments: 8\n",
      "\n",
      "\n",
      "Number of segments: 22\n",
      "\n",
      "\n",
      "Number of segments: 47\n",
      "\n",
      "\n",
      "Number of segments: 39\n",
      "\n",
      "\n",
      "Number of segments: 90\n",
      "\n",
      "\n",
      "Number of segments: 8\n",
      "\n",
      "\n",
      "Number of segments: 8\n",
      "\n",
      "\n",
      "Number of segments: 43\n",
      "\n",
      "\n",
      "Number of segments: 35\n",
      "\n",
      "\n",
      "Number of segments: 35\n",
      "\n",
      "\n",
      "Number of segments: 24\n",
      "\n",
      "\n",
      "Number of segments: 46\n",
      "\n",
      "\n",
      "Number of segments: 31\n",
      "\n",
      "\n",
      "Number of segments: 23\n",
      "\n",
      "\n",
      "Number of segments: 30\n",
      "\n",
      "\n",
      "Number of segments: 28\n",
      "\n",
      "\n",
      "Number of segments: 24\n",
      "\n",
      "\n",
      "Number of segments: 71\n",
      "\n",
      "\n",
      "Number of segments: 54\n",
      "\n",
      "\n",
      "Number of segments: 16\n",
      "\n",
      "\n",
      "Number of segments: 23\n",
      "\n",
      "\n",
      "Number of segments: 13\n",
      "\n",
      "\n",
      "Number of segments: 16\n",
      "\n",
      "\n",
      "Number of segments: 64\n",
      "\n",
      "\n",
      "Number of segments: 35\n",
      "\n",
      "\n",
      "Number of segments: 22\n",
      "\n",
      "\n",
      "Number of segments: 48\n",
      "\n",
      "\n",
      "Number of segments: 22\n",
      "\n",
      "\n",
      "Number of segments: 31\n",
      "\n",
      "\n",
      "Number of segments: 15\n",
      "\n",
      "\n",
      "Number of segments: 10\n",
      "\n",
      "\n",
      "Number of segments: 38\n",
      "\n",
      "\n",
      "Number of segments: 48\n",
      "\n",
      "\n",
      "Number of segments: 14\n",
      "\n",
      "\n",
      "Number of segments: 25\n",
      "\n",
      "\n",
      "Number of segments: 10\n",
      "\n",
      "\n",
      "Number of segments: 23\n",
      "\n",
      "\n",
      "Number of segments: 29\n",
      "\n",
      "\n",
      "Number of segments: 11\n",
      "\n",
      "\n",
      "Number of segments: 24\n",
      "\n",
      "\n",
      "Number of segments: 21\n",
      "\n",
      "\n",
      "Number of segments: 17\n",
      "\n",
      "\n",
      "Number of segments: 19\n",
      "\n",
      "\n",
      "Number of segments: 22\n",
      "\n",
      "\n",
      "Number of segments: 14\n",
      "\n",
      "\n",
      "Number of segments: 21\n",
      "\n",
      "\n",
      "Number of segments: 23\n",
      "\n",
      "\n",
      "Number of segments: 21\n",
      "\n",
      "\n",
      "Number of segments: 26\n",
      "\n",
      "\n",
      "Number of segments: 26\n",
      "\n",
      "\n",
      "Number of segments: 14\n",
      "\n",
      "\n",
      "Number of segments: 22\n",
      "\n",
      "\n",
      "Number of segments: 20\n",
      "\n",
      "\n",
      "Number of segments: 37\n",
      "\n"
     ]
    }
   ],
   "source": [
    "neuron_obj_axon = npu.cell_type_ax_dendr_stage(\n",
    "    n1,\n",
    "    mesh_decimated = mesh_decimated,\n",
    "    plot_axon = False,\n",
    ")"
   ]
  },
  {
   "cell_type": "code",
   "execution_count": null,
   "id": "ef29fb5b",
   "metadata": {},
   "outputs": [
    {
     "name": "stdout",
     "output_type": "stream",
     "text": [
      "\n",
      " Working on visualization type: mesh\n"
     ]
    }
   ],
   "source": [
    "nviz.plot_axon(\n",
    "    neuron_obj_axon\n",
    ")"
   ]
  },
  {
   "cell_type": "markdown",
   "id": "e4359d09",
   "metadata": {},
   "source": [
    "# Autoproofreading Stage"
   ]
  },
  {
   "cell_type": "code",
   "execution_count": null,
   "id": "458fa42f",
   "metadata": {
    "scrolled": true
   },
   "outputs": [
    {
     "name": "stdout",
     "output_type": "stream",
     "text": [
      "Current node skip distance was 1413.9980035990218 but max skip distance was 1413.9980035990218\n",
      "Current node skip distance was 1433.1561119629346 but max skip distance was 1433.1561119629346\n",
      "Current node skip distance was 1450.6088010079347 but max skip distance was 2278.595950719559\n",
      "Current node skip distance was 1827.2255127315534 but max skip distance was 1827.2255127315534\n",
      "Current node skip distance was 1682.1335310612171 but max skip distance was 1716.5195349280298\n",
      "branch_match_query = :\n",
      "(((width_diff < 75) or (width_diff_percentage < 0.6)) and (sk_angle < 65))and ((synapse_density_diff<0.00015) or (n_synapses_diff < 6))\n",
      "Done with edge_df: 0.0020034313201904297\n",
      "Performing Edge Query\n",
      "After edge filter, # of rows = 4\n",
      "Exporting the edges\n",
      "Deleteing edges only\n",
      "\n",
      "--- Before Local Query ---\n",
      "    u   v  sk_angle  width_diff  width_diff_percentage  synapse_density_diff  \\\n",
      "0   9  11     49.54   26.087316               0.263101              0.000228   \n",
      "1   9  13    102.78    1.883702               0.018998              0.000000   \n",
      "2   9  14    126.75   22.359119               0.225501              0.000146   \n",
      "3   9   5     62.37   24.558780               0.198516              0.000000   \n",
      "4  11  13     27.84   24.203613               0.331257              0.000228   \n",
      "5  11  14     56.20    3.728196               0.051025              0.000082   \n",
      "6  11   5    161.30   50.646096               0.409387              0.000228   \n",
      "7  13  14    113.05   20.475417               0.210502              0.000146   \n",
      "8  13   5     19.26   26.442483               0.213742              0.000000   \n",
      "9  14   5     48.78   46.917900               0.379251              0.000146   \n",
      "\n",
      "   n_synapses_diff  \n",
      "0                1  \n",
      "1                0  \n",
      "2                1  \n",
      "3                0  \n",
      "4                1  \n",
      "5                0  \n",
      "6                1  \n",
      "7                1  \n",
      "8                0  \n",
      "9                1  \n",
      "Afer Local query: \n",
      "    u   v  sk_angle  width_diff  width_diff_percentage  synapse_density_diff  \\\n",
      "0   9  11     49.54   26.087316               0.263101              0.000228   \n",
      "1   9   5     62.37   24.558780               0.198516              0.000000   \n",
      "2  11  13     27.84   24.203613               0.331257              0.000228   \n",
      "3  11  14     56.20    3.728196               0.051025              0.000082   \n",
      "4  13   5     19.26   26.442483               0.213742              0.000000   \n",
      "5  14   5     48.78   46.917900               0.379251              0.000146   \n",
      "\n",
      "   n_synapses_diff  \n",
      "0                1  \n",
      "1                0  \n",
      "2                1  \n",
      "3                0  \n",
      "4                0  \n",
      "5                1  \n"
     ]
    },
    {
     "data": {
      "image/png": "[encoded data removed]",
      "text/plain": [
       "<Figure size 640x480 with 1 Axes>"
      ]
     },
     "metadata": {},
     "output_type": "display_data"
    },
    {
     "name": "stdout",
     "output_type": "stream",
     "text": [
      "Performing global features query\n",
      "Done with edge_df: 0.00087738037109375\n",
      "Performing Edge Query\n",
      "After edge filter, # of rows = 0\n",
      "Exporting the edges\n",
      "Deleteing edges only\n",
      "\n",
      "--- Before Global Query ---\n",
      "    u   v  sk_angle  width_diff  width_diff_percentage  synapse_density_diff  \\\n",
      "0   9  11     49.54   26.087316               0.263101              0.000228   \n",
      "1   9   5     62.37   24.558780               0.198516              0.000000   \n",
      "2  11  13     27.84   24.203613               0.331257              0.000228   \n",
      "3  11  14     56.20    3.728196               0.051025              0.000082   \n",
      "4  13   5     19.26   26.442483               0.213742              0.000000   \n",
      "5  14   5     48.78   46.917900               0.379251              0.000146   \n",
      "\n",
      "   n_synapses_diff definite_partner_sk_delete definite_partner_width_delete  \n",
      "0                1                       None                          None  \n",
      "1                0                       None                          None  \n",
      "2                1                       None                          None  \n",
      "3                0                       None                          None  \n",
      "4                0                       None                          None  \n",
      "5                1                       None                          None  \n",
      "Afer Global query: \n",
      "    u   v  sk_angle  width_diff  width_diff_percentage  synapse_density_diff  \\\n",
      "0   9  11     49.54   26.087316               0.263101              0.000228   \n",
      "1   9   5     62.37   24.558780               0.198516              0.000000   \n",
      "2  11  13     27.84   24.203613               0.331257              0.000228   \n",
      "3  11  14     56.20    3.728196               0.051025              0.000082   \n",
      "4  13   5     19.26   26.442483               0.213742              0.000000   \n",
      "5  14   5     48.78   46.917900               0.379251              0.000146   \n",
      "\n",
      "   n_synapses_diff definite_partner_sk_delete definite_partner_width_delete  \n",
      "0                1                       None                          None  \n",
      "1                0                       None                          None  \n",
      "2                1                       None                          None  \n",
      "3                0                       None                          None  \n",
      "4                0                       None                          None  \n",
      "5                1                       None                          None  \n"
     ]
    },
    {
     "data": {
      "image/png": "[encoded data removed]",
      "text/plain": [
       "<Figure size 640x480 with 1 Axes>"
      ]
     },
     "metadata": {},
     "output_type": "display_data"
    },
    {
     "name": "stdout",
     "output_type": "stream",
     "text": [
      "Performing node features query\n",
      "Done with edge_df: 0.0009274482727050781\n",
      "Performing Edge Query\n",
      "After edge filter, # of rows = 4\n",
      "Exporting the edges\n",
      "Deleteing edges only\n",
      "\n",
      "--- Before Node Query ---\n",
      "    u   v  sk_angle  width_diff  width_diff_percentage  synapse_density_diff  \\\n",
      "0   9  11     49.54   26.087316               0.263101              0.000228   \n",
      "1   9   5     62.37   24.558780               0.198516              0.000000   \n",
      "2  11  13     27.84   24.203613               0.331257              0.000228   \n",
      "3  11  14     56.20    3.728196               0.051025              0.000082   \n",
      "4  13   5     19.26   26.442483               0.213742              0.000000   \n",
      "5  14   5     48.78   46.917900               0.379251              0.000146   \n",
      "\n",
      "   n_synapses_diff definite_partner_sk_delete definite_partner_width_delete  \\\n",
      "0                1                       None                          None   \n",
      "1                0                       None                          None   \n",
      "2                1                       None                          None   \n",
      "3                0                       None                          None   \n",
      "4                0                       None                          None   \n",
      "5                1                       None                          None   \n",
      "\n",
      "  above_threshold_delete  \n",
      "0                   True  \n",
      "1                   True  \n",
      "2                   None  \n",
      "3                   True  \n",
      "4                   None  \n",
      "5                   True  \n",
      "Afer Node query: \n",
      "    u   v  sk_angle  width_diff  width_diff_percentage  synapse_density_diff  \\\n",
      "0  11  13     27.84   24.203613               0.331257              0.000228   \n",
      "1  13   5     19.26   26.442483               0.213742              0.000000   \n",
      "\n",
      "   n_synapses_diff definite_partner_sk_delete definite_partner_width_delete  \\\n",
      "0                1                       None                          None   \n",
      "1                0                       None                          None   \n",
      "\n",
      "  above_threshold_delete  \n",
      "0                   None  \n",
      "1                   None  \n"
     ]
    },
    {
     "data": {
      "image/png": "[encoded data removed]",
      "text/plain": [
       "<Figure size 640x480 with 1 Axes>"
      ]
     },
     "metadata": {},
     "output_type": "display_data"
    },
    {
     "name": "stdout",
     "output_type": "stream",
     "text": [
      "for upstream node 5, winning_node = None, error_branches = [ 9 11 13 14]\n",
      "Inside high_degree_false_positive_low_sibling_filter ****\n",
      "No winning branch so returning\n",
      "Current node skip distance was 2295.817206442129 but max skip distance was 2295.817206442129\n",
      "Current node skip distance was 1402.1861648657755 but max skip distance was 1402.1861648657755\n",
      "Current node skip distance was 1579.8052800640987 but max skip distance was 1579.8052800640987\n",
      "Current node skip distance was 1546.9734240260361 but max skip distance was 1546.9734240260361\n",
      "Current node skip distance was 1471.108130620547 but max skip distance was 1658.6592923019962\n",
      "Current node skip distance was 1571.9565201568016 but max skip distance was 1571.9565201568016\n",
      "Current node skip distance was 1486.6422825420861 but max skip distance was 1486.6422825420861\n",
      "Current node skip distance was 1817.724537011968 but max skip distance was 2295.817206442129\n",
      "Current node skip distance was 1501.0959360356467 but max skip distance was 1501.0959360356467\n",
      "Current node skip distance was 1532.6241781145318 but max skip distance was 1532.6241781145318\n",
      "Current node skip distance was 1470.3947189438913 but max skip distance was 1470.3947189438913\n",
      "Current node skip distance was 2016.3691093054942 but max skip distance was 2300.0\n",
      "Current node skip distance was 1487.1109745809501 but max skip distance was 1673.5616082273255\n",
      "Current node skip distance was 1493.592603470891 but max skip distance was 2016.5594496548729\n",
      "Current node skip distance was 1501.1612024244707 but max skip distance was 1501.1612024244707\n",
      "Current node skip distance was 1481.6446934816165 but max skip distance was 1975.8866308013487\n",
      "Current node skip distance was 1511.1677246315146 but max skip distance was 1511.1677246315146\n",
      "Current node skip distance was 1559.7704972120341 but max skip distance was 1559.7704972120341\n",
      "Current node skip distance was 1471.901235392725 but max skip distance was 1558.6637972680107\n",
      "Current node skip distance was 1558.6637972680107 but max skip distance was 1558.6637972680107\n",
      "Current node skip distance was 1708.2748680049654 but max skip distance was 1708.2748680049654\n",
      "Current node skip distance was 1514.8028197723795 but max skip distance was 1708.2748680049654\n",
      "Current node skip distance was 1571.5503443807513 but max skip distance was 1713.6382366204675\n",
      "branch_match_query = :\n",
      "(((width_diff < 75) or (width_diff_percentage < 0.6)) and (sk_angle < 65))and ((synapse_density_diff<0.00015) or (n_synapses_diff < 6))\n",
      "Done with edge_df: 0.0018455982208251953\n",
      "Performing Edge Query\n",
      "After edge filter, # of rows = 3\n",
      "Exporting the edges\n",
      "Deleteing edges only\n",
      "\n",
      "--- Before Local Query ---\n",
      "    u   v  sk_angle  width_diff  width_diff_percentage  synapse_density_diff  \\\n",
      "0  26  30     90.09   15.882694               0.202425              0.000000   \n",
      "1  26  34     59.64    5.090452               0.064878              0.000351   \n",
      "2  26  35     25.87   27.839748               0.261893              0.000099   \n",
      "3  30  34     52.20   10.792243               0.114391              0.000351   \n",
      "4  30  35    115.33   11.957053               0.112482              0.000099   \n",
      "5  34  35     98.31   22.749296               0.214006              0.000252   \n",
      "\n",
      "   n_synapses_diff  \n",
      "0                0  \n",
      "1                1  \n",
      "2                2  \n",
      "3                1  \n",
      "4                2  \n",
      "5                1  \n",
      "Afer Local query: \n",
      "    u   v  sk_angle  width_diff  width_diff_percentage  synapse_density_diff  \\\n",
      "0  26  34     59.64    5.090452               0.064878              0.000351   \n",
      "1  26  35     25.87   27.839748               0.261893              0.000099   \n",
      "2  30  34     52.20   10.792243               0.114391              0.000351   \n",
      "\n",
      "   n_synapses_diff  \n",
      "0                1  \n",
      "1                2  \n",
      "2                1  \n"
     ]
    },
    {
     "data": {
      "image/png": "[encoded data removed]",
      "text/plain": [
       "<Figure size 640x480 with 1 Axes>"
      ]
     },
     "metadata": {},
     "output_type": "display_data"
    },
    {
     "name": "stdout",
     "output_type": "stream",
     "text": [
      "Performing global features query\n",
      "Done with edge_df: 0.00099945068359375\n",
      "Performing Edge Query\n",
      "After edge filter, # of rows = 1\n",
      "Exporting the edges\n",
      "Deleteing edges only\n",
      "\n",
      "--- Before Global Query ---\n",
      "    u   v  sk_angle  width_diff  width_diff_percentage  synapse_density_diff  \\\n",
      "0  26  34     59.64    5.090452               0.064878              0.000351   \n",
      "1  26  35     25.87   27.839748               0.261893              0.000099   \n",
      "2  30  34     52.20   10.792243               0.114391              0.000351   \n",
      "\n",
      "   n_synapses_diff definite_partner_sk_delete definite_partner_width_delete  \n",
      "0                1                       True                          None  \n",
      "1                2                      False                          None  \n",
      "2                1                       None                          None  \n",
      "Afer Global query: \n",
      "    u   v  sk_angle  width_diff  width_diff_percentage  synapse_density_diff  \\\n",
      "0  26  35     25.87   27.839748               0.261893              0.000099   \n",
      "1  30  34     52.20   10.792243               0.114391              0.000351   \n",
      "\n",
      "   n_synapses_diff definite_partner_sk_delete definite_partner_width_delete  \n",
      "0                2                      False                          None  \n",
      "1                1                       None                          None  \n"
     ]
    },
    {
     "data": {
      "image/png": "[encoded data removed]",
      "text/plain": [
       "<Figure size 640x480 with 1 Axes>"
      ]
     },
     "metadata": {},
     "output_type": "display_data"
    },
    {
     "name": "stdout",
     "output_type": "stream",
     "text": [
      "Performing node features query\n",
      "Done with edge_df: 0.0008623600006103516\n",
      "Performing Edge Query\n",
      "After edge filter, # of rows = 0\n",
      "Exporting the edges\n",
      "Deleteing edges only\n",
      "\n",
      "--- Before Node Query ---\n",
      "    u   v  sk_angle  width_diff  width_diff_percentage  synapse_density_diff  \\\n",
      "0  26  35     25.87   27.839748               0.261893              0.000099   \n",
      "1  30  34     52.20   10.792243               0.114391              0.000351   \n",
      "\n",
      "   n_synapses_diff definite_partner_sk_delete definite_partner_width_delete  \\\n",
      "0                2                      False                          None   \n",
      "1                1                       None                          None   \n",
      "\n",
      "  above_threshold_delete  \n",
      "0                   None  \n",
      "1                   None  \n",
      "Afer Node query: \n",
      "    u   v  sk_angle  width_diff  width_diff_percentage  synapse_density_diff  \\\n",
      "0  26  35     25.87   27.839748               0.261893              0.000099   \n",
      "1  30  34     52.20   10.792243               0.114391              0.000351   \n",
      "\n",
      "   n_synapses_diff definite_partner_sk_delete definite_partner_width_delete  \\\n",
      "0                2                      False                          None   \n",
      "1                1                       None                          None   \n",
      "\n",
      "  above_threshold_delete  \n",
      "0                   None  \n",
      "1                   None  \n"
     ]
    },
    {
     "data": {
      "image/png": "[encoded data removed]",
      "text/plain": [
       "<Figure size 640x480 with 1 Axes>"
      ]
     },
     "metadata": {},
     "output_type": "display_data"
    },
    {
     "name": "stdout",
     "output_type": "stream",
     "text": [
      "for upstream node 35, winning_node = 26, error_branches = [30 34]\n"
     ]
    }
   ],
   "source": [
    "neuron_obj_proof = npu.auto_proof_stage(\n",
    "    neuron_obj_axon,\n",
    "    mesh_decimated = mesh_decimated,\n",
    "    calculate_after_proof_stats = False,\n",
    ")"
   ]
  },
  {
   "cell_type": "code",
   "execution_count": null,
   "id": "c7e31a9e",
   "metadata": {},
   "outputs": [],
   "source": [
    "_ = npu.after_auto_proof_stats(\n",
    "    neuron_obj_proof,\n",
    "    store_in_obj = True,\n",
    ")"
   ]
  },
  {
   "cell_type": "markdown",
   "id": "86446328",
   "metadata": {},
   "source": [
    "# Saving off the autoproofread neuron"
   ]
  },
  {
   "cell_type": "code",
   "execution_count": null,
   "id": "713c5d29",
   "metadata": {},
   "outputs": [],
   "source": [
    "neuron_obj_proof.neuron_graph_after_proof"
   ]
  },
  {
   "cell_type": "code",
   "execution_count": null,
   "id": "fb8c945e",
   "metadata": {},
   "outputs": [],
   "source": [
    "vdi.save_neuron_obj_auto_proof(\n",
    "    neuron_obj_proof,\n",
    ")"
   ]
  },
  {
   "cell_type": "markdown",
   "id": "788253a7",
   "metadata": {},
   "source": [
    "# Plotting the final neuron"
   ]
  },
  {
   "cell_type": "code",
   "execution_count": null,
   "id": "96df2c4e",
   "metadata": {},
   "outputs": [],
   "source": [
    "from neurd import synapse_utils as syu"
   ]
  },
  {
   "cell_type": "code",
   "execution_count": null,
   "id": "6eb2997d",
   "metadata": {},
   "outputs": [],
   "source": [
    "from datasci_tools import ipyvolume_utils as ipvu\n",
    "ipvu.plot_objects(\n",
    "    neuron_obj_axon.mesh,\n",
    "    meshes = [neuron_obj_proof.mesh],\n",
    "    meshes_colors=\"red\"\n",
    ")"
   ]
  },
  {
   "cell_type": "code",
   "execution_count": null,
   "id": "60c5c168",
   "metadata": {},
   "outputs": [],
   "source": [
    "syu.plot_synapses(neuron_obj_proof)"
   ]
  },
  {
   "cell_type": "code",
   "execution_count": null,
   "id": "4069451e",
   "metadata": {},
   "outputs": [],
   "source": [
    "syu.plot_synapses_error_from_neuron_obj(neuron_obj_proof)    "
   ]
  },
  {
   "cell_type": "code",
   "execution_count": null,
   "id": "c3ba8212",
   "metadata": {},
   "outputs": [],
   "source": [
    "syu.plot_synapses_valid_from_neuron_obj(neuron_obj_proof)  "
   ]
  },
  {
   "cell_type": "code",
   "execution_count": null,
   "id": "a1174825",
   "metadata": {},
   "outputs": [],
   "source": [
    "nviz.plot_compartments(neuron_obj_proof)"
   ]
  },
  {
   "cell_type": "code",
   "execution_count": null,
   "id": "a7eb4315",
   "metadata": {},
   "outputs": [],
   "source": []
  },
  {
   "cell_type": "code",
   "execution_count": null,
   "id": "f25b355e-af78-4c9a-afaa-c5094b33a927",
   "metadata": {},
   "outputs": [],
   "source": []
  },
  {
   "cell_type": "code",
   "execution_count": null,
   "id": "c9c686e3-660c-475f-ad18-2ea10831c1b3",
   "metadata": {},
   "outputs": [],
   "source": []
  }
 ],
 "metadata": {
  "kernelspec": {
   "display_name": "Python 3 (ipykernel)",
   "language": "python",
   "name": "python3"
  },
  "language_info": {
   "codemirror_mode": {
    "name": "ipython",
    "version": 3
   },
   "file_extension": ".py",
   "mimetype": "text/x-python",
   "name": "python",
   "nbconvert_exporter": "python",
   "pygments_lexer": "ipython3",
   "version": "3.8.0"
  }
 },
 "nbformat": 4,
 "nbformat_minor": 5
}
